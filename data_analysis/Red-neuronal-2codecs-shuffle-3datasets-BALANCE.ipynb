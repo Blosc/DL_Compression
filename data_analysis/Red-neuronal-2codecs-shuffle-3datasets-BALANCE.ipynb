{
 "cells": [
  {
   "cell_type": "markdown",
   "id": "b22aa0d6",
   "metadata": {},
   "source": [
    "BALANCE\n",
    "\n",
    "Categories: blosclz-split i zstd-nosplit"
   ]
  },
  {
   "cell_type": "code",
   "execution_count": 1,
   "id": "462b1dcb",
   "metadata": {},
   "outputs": [],
   "source": [
    "import pandas as pd\n",
    "import matplotlib.pyplot as plt\n",
    "import numpy as np\n",
    "import aux_funcs\n",
    "from pathlib import Path"
   ]
  },
  {
   "cell_type": "markdown",
   "source": [
    "## Collect data from 3 different containers\n",
    "\n",
    "30: entropy shuffle (split)\n",
    "\n",
    "0: blosclz shuffle split\n",
    "\n",
    "1: zstd shuffle no-split"
   ],
   "metadata": {
    "collapsed": false
   }
  },
  {
   "cell_type": "code",
   "execution_count": 2,
   "id": "ef2ae94b",
   "metadata": {},
   "outputs": [],
   "source": [
    "paths = [Path('../data_inputs_temp/'),\n",
    "         Path('../data_inputs'),\n",
    "         Path('../data_inputs_wind/')]\n",
    "\n",
    "files = ['entropy-shuffle', 'blosclz-shuffle-split', 'zstd-shuffle-nosplit']\n",
    "categories = [\"30\", \"0\", \"1\"]\n",
    "df_entropy = aux_funcs.get_df_by_category(paths, files[0], categories[0])\n",
    "df_blosclz = aux_funcs.get_df_by_category(paths, files[1], categories[1])\n",
    "df_zstd = aux_funcs.get_df_by_category(paths, files[2], categories[2])"
   ]
  },
  {
   "cell_type": "code",
   "execution_count": 3,
   "outputs": [],
   "source": [
    "df_zstd = df_zstd.loc[np.repeat(df_zstd.index.values, len(df_blosclz) // len(df_zstd))]\n",
    "df_zstd = df_zstd.reset_index(drop=True)"
   ],
   "metadata": {
    "collapsed": false,
    "pycharm": {
     "name": "#%%\n"
    }
   }
  },
  {
   "cell_type": "markdown",
   "id": "f0f404d0",
   "metadata": {},
   "source": [
    "# Filter data\n",
    "\n",
    "Delete data corresponding to special values chunks."
   ]
  },
  {
   "cell_type": "code",
   "execution_count": 4,
   "id": "0b8b373c",
   "metadata": {},
   "outputs": [],
   "source": [
    "df_shuffle = pd.concat([df_blosclz, df_zstd, df_entropy], axis=1)\n",
    "df_shuffle = aux_funcs.delete_special_vals(df_shuffle, [\"special_vals0\", \"special_vals1\", \"special_vals30\"])\n",
    "df_input_x = df_shuffle.iloc[:, [6, 7]]"
   ]
  },
  {
   "cell_type": "markdown",
   "id": "ee6ad9b6",
   "metadata": {},
   "source": [
    "## Compute best category"
   ]
  },
  {
   "cell_type": "code",
   "execution_count": 6,
   "id": "81b1017f",
   "metadata": {},
   "outputs": [],
   "source": [
    "df_codecs = df_shuffle.drop(['cratio30', 'speed30', 'special_vals30', 'special_vals0', 'special_vals1'], axis = 1)"
   ]
  },
  {
   "cell_type": "markdown",
   "source": [
    "### Normalize cratio and speed"
   ],
   "metadata": {
    "collapsed": false
   }
  },
  {
   "cell_type": "code",
   "execution_count": 7,
   "id": "1e811d4d",
   "metadata": {},
   "outputs": [],
   "source": [
    "dfcratios = pd.concat([df_codecs.iloc[:, 0], df_codecs.iloc[:, 2]], axis=0)\n",
    "mean_cratio = dfcratios.mean()\n",
    "\n",
    "cratio0 = df_codecs[\"cratio0\"]\n",
    "cratio1 = df_codecs[\"cratio1\"]\n",
    "\n",
    "ncratio0 = cratio0 - mean_cratio\n",
    "ncratio1 = cratio1 - mean_cratio\n",
    "all_cratios = np.concatenate((ncratio0, ncratio1), axis=0)\n",
    "\n",
    "std_cratio = all_cratios.std()\n",
    "ncratio0 /= std_cratio\n",
    "ncratio1 /= std_cratio"
   ]
  },
  {
   "cell_type": "code",
   "execution_count": 8,
   "id": "00d4e437",
   "metadata": {},
   "outputs": [],
   "source": [
    "dfspeeds = pd.concat([df_codecs.iloc[:, 1], df_codecs.iloc[:, 3]], axis =0)\n",
    "mean_speed = dfspeeds.mean()\n",
    "\n",
    "speed0 = df_codecs[\"speed0\"]\n",
    "speed1 = df_codecs[\"speed1\"]\n",
    "\n",
    "nspeed0 = speed0 - mean_speed\n",
    "nspeed1 = speed1 - mean_speed\n",
    "all_speeds = np.concatenate((nspeed0, nspeed1), axis=0)\n",
    "\n",
    "dsv_speed = all_speeds.std()\n",
    "nspeed0 /= dsv_speed\n",
    "nspeed1 /= dsv_speed"
   ]
  },
  {
   "cell_type": "markdown",
   "source": [
    "### Compute score to determine which category is the best one"
   ],
   "metadata": {
    "collapsed": false
   }
  },
  {
   "cell_type": "code",
   "execution_count": 9,
   "id": "9bc36fa0",
   "metadata": {},
   "outputs": [],
   "source": [
    "theta_balance = 0.5\n",
    "\n",
    "df_score_balance = pd.DataFrame()\n",
    "df_score_balance.insert(0, 0, theta_balance*ncratio0 + (1-theta_balance)*nspeed0)\n",
    "df_score_balance.insert(1, 1, theta_balance*ncratio1 + (1-theta_balance)*nspeed1)"
   ]
  },
  {
   "cell_type": "code",
   "execution_count": 10,
   "id": "39685db0",
   "metadata": {},
   "outputs": [],
   "source": [
    "best_categ_shuffle = pd.DataFrame(df_score_balance.idxmax(axis=1), columns=['best_categ'])"
   ]
  },
  {
   "cell_type": "code",
   "execution_count": 11,
   "id": "70913890",
   "metadata": {},
   "outputs": [],
   "source": [
    "categories = best_categ_shuffle['best_categ'].unique()\n",
    "if len(categories) <= 1:\n",
    "    raise ValueError(\"To train the data at least two possible categories must be provided\")"
   ]
  },
  {
   "cell_type": "code",
   "execution_count": 12,
   "id": "75a5c286",
   "metadata": {},
   "outputs": [
    {
     "data": {
      "text/plain": "        cratio30       speed30  best_categ\n1           2.02  2.340000e+09           0\n2           5.73  5.700000e+09           0\n5           2.11  2.700000e+09           0\n6           6.10  6.340000e+09           0\n9           2.23  2.710000e+09           0\n...          ...           ...         ...\n165795     21.80  1.440000e+10           0\n165798      3.70  4.770000e+09           0\n165799     19.00  1.380000e+10           0\n165802      3.99  5.190000e+09           0\n165803     41.30  1.890000e+10           0\n\n[77925 rows x 3 columns]",
      "text/html": "<div>\n<style scoped>\n    .dataframe tbody tr th:only-of-type {\n        vertical-align: middle;\n    }\n\n    .dataframe tbody tr th {\n        vertical-align: top;\n    }\n\n    .dataframe thead th {\n        text-align: right;\n    }\n</style>\n<table border=\"1\" class=\"dataframe\">\n  <thead>\n    <tr style=\"text-align: right;\">\n      <th></th>\n      <th>cratio30</th>\n      <th>speed30</th>\n      <th>best_categ</th>\n    </tr>\n  </thead>\n  <tbody>\n    <tr>\n      <th>1</th>\n      <td>2.02</td>\n      <td>2.340000e+09</td>\n      <td>0</td>\n    </tr>\n    <tr>\n      <th>2</th>\n      <td>5.73</td>\n      <td>5.700000e+09</td>\n      <td>0</td>\n    </tr>\n    <tr>\n      <th>5</th>\n      <td>2.11</td>\n      <td>2.700000e+09</td>\n      <td>0</td>\n    </tr>\n    <tr>\n      <th>6</th>\n      <td>6.10</td>\n      <td>6.340000e+09</td>\n      <td>0</td>\n    </tr>\n    <tr>\n      <th>9</th>\n      <td>2.23</td>\n      <td>2.710000e+09</td>\n      <td>0</td>\n    </tr>\n    <tr>\n      <th>...</th>\n      <td>...</td>\n      <td>...</td>\n      <td>...</td>\n    </tr>\n    <tr>\n      <th>165795</th>\n      <td>21.80</td>\n      <td>1.440000e+10</td>\n      <td>0</td>\n    </tr>\n    <tr>\n      <th>165798</th>\n      <td>3.70</td>\n      <td>4.770000e+09</td>\n      <td>0</td>\n    </tr>\n    <tr>\n      <th>165799</th>\n      <td>19.00</td>\n      <td>1.380000e+10</td>\n      <td>0</td>\n    </tr>\n    <tr>\n      <th>165802</th>\n      <td>3.99</td>\n      <td>5.190000e+09</td>\n      <td>0</td>\n    </tr>\n    <tr>\n      <th>165803</th>\n      <td>41.30</td>\n      <td>1.890000e+10</td>\n      <td>0</td>\n    </tr>\n  </tbody>\n</table>\n<p>77925 rows × 3 columns</p>\n</div>"
     },
     "execution_count": 12,
     "metadata": {},
     "output_type": "execute_result"
    }
   ],
   "source": [
    "df_t = pd.DataFrame()\n",
    "df_t = pd.concat([df_t, df_input_x['cratio30']], axis=1)\n",
    "df_t = pd.concat([df_t, df_input_x['speed30']], axis=1)\n",
    "df_t = pd.concat([df_t, best_categ_shuffle], axis=1)"
   ]
  },
  {
   "cell_type": "markdown",
   "id": "441f1a92",
   "metadata": {},
   "source": [
    "## Split data into training and test\n",
    "\n",
    "Create a balanced training data with same amount of samples for each (best) category"
   ]
  },
  {
   "cell_type": "code",
   "execution_count": 16,
   "id": "836d2b39",
   "metadata": {},
   "outputs": [],
   "source": [
    "df_blc = pd.DataFrame()\n",
    "df_test = pd.DataFrame()\n",
    "nsamples = min(len(df_t[df_t['best_categ'] == categories[0]]),\n",
    "               len(df_t[df_t['best_categ'] == categories[1]])) - 500\n",
    "if nsamples <= 0:\n",
    "    raise RuntimeError(\"not enough data\")\n",
    "for i in categories:\n",
    "    df_i = df_t[df_t['best_categ'] == i]\n",
    "    df_blc = pd.concat([df_blc, df_i.head(n=nsamples)], axis = 0)\n",
    "    df_test = pd.concat([df_test, df_i.iloc[nsamples:, :]], axis = 0)"
   ]
  },
  {
   "cell_type": "code",
   "execution_count": 17,
   "id": "f2c0690b",
   "metadata": {},
   "outputs": [],
   "source": [
    "dftrain_y = df_blc['best_categ']\n",
    "dftrain_x = df_blc.drop(['best_categ'], axis=1)"
   ]
  },
  {
   "cell_type": "code",
   "execution_count": 18,
   "id": "2b4f8bc4",
   "metadata": {},
   "outputs": [],
   "source": [
    "dftest_y = df_test['best_categ']\n",
    "dftest_x = df_test.drop(['best_categ'], axis=1)"
   ]
  },
  {
   "cell_type": "markdown",
   "id": "2f24f3ff",
   "metadata": {},
   "source": [
    "## Normalize entropy data"
   ]
  },
  {
   "cell_type": "code",
   "execution_count": 19,
   "id": "a09e4d68",
   "metadata": {},
   "outputs": [],
   "source": [
    "dfcratios = dftrain_x.iloc[:, 0]\n",
    "mean_cratio = dfcratios.mean()\n",
    "\n",
    "cratio = dftrain_x[\"cratio30\"]\n",
    "cratio_mean = cratio.mean()\n",
    "ncratio = cratio - cratio_mean\n",
    "dsv_cratio = ncratio.std()\n",
    "ncratio /= dsv_cratio"
   ]
  },
  {
   "cell_type": "code",
   "execution_count": 20,
   "id": "54fc643b",
   "metadata": {},
   "outputs": [],
   "source": [
    "dfspeeds = dftrain_x.iloc[:, 1]\n",
    "mean_speed = dfspeeds.mean()\n",
    "\n",
    "speed = dftrain_x[\"speed30\"]\n",
    "speed_mean = speed.mean()\n",
    "nspeed = speed - speed_mean\n",
    "dvs_speed = nspeed.std()\n",
    "nspeed /= dvs_speed"
   ]
  },
  {
   "cell_type": "code",
   "execution_count": 21,
   "id": "c7ebadfb",
   "metadata": {},
   "outputs": [],
   "source": [
    "dftrain_x_norm = pd.DataFrame()\n",
    "dftrain_x_norm.insert(0, \"ncratio\", ncratio)\n",
    "dftrain_x_norm.insert(1, \"nspeed\", nspeed)\n",
    "dftrain_x = dftrain_x_norm\n",
    "\n",
    "# Normalize test data with train statistics\n",
    "cratio_test = dftest_x[\"cratio30\"]\n",
    "speed_test = dftest_x[\"speed30\"]\n",
    "ncratio_test = cratio_test - cratio_mean\n",
    "ncratio_test /= dsv_cratio\n",
    "nspeed_test = speed_test - speed_mean\n",
    "nspeed_test /= dvs_speed\n",
    "\n",
    "dftest_x_norm = pd.DataFrame()\n",
    "dftest_x_norm.insert(0, \"ncratio\", ncratio_test)\n",
    "dftest_x_norm.insert(1, \"nspeed\", nspeed_test)"
   ]
  },
  {
   "cell_type": "markdown",
   "id": "20eaad34",
   "metadata": {},
   "source": [
    "# Neural Network with 2 categories\n",
    "\n",
    "## Build model"
   ]
  },
  {
   "cell_type": "code",
   "execution_count": 22,
   "id": "bc7f217f",
   "metadata": {},
   "outputs": [
    {
     "name": "stderr",
     "output_type": "stream",
     "text": [
      "2023-01-02 09:58:26.506347: I tensorflow/core/platform/cpu_feature_guard.cc:193] This TensorFlow binary is optimized with oneAPI Deep Neural Network Library (oneDNN) to use the following CPU instructions in performance-critical operations:  AVX2 FMA\n",
      "To enable them in other operations, rebuild TensorFlow with the appropriate compiler flags.\n"
     ]
    }
   ],
   "source": [
    "from keras.utils import to_categorical\n",
    "dftrain_y = to_categorical(dftrain_y)\n",
    "dftest_y = to_categorical(dftest_y)"
   ]
  },
  {
   "cell_type": "code",
   "execution_count": 23,
   "id": "92bc56e7",
   "metadata": {},
   "outputs": [
    {
     "name": "stderr",
     "output_type": "stream",
     "text": [
      "2023-01-02 09:58:34.302183: I tensorflow/core/platform/cpu_feature_guard.cc:193] This TensorFlow binary is optimized with oneAPI Deep Neural Network Library (oneDNN) to use the following CPU instructions in performance-critical operations:  AVX2 FMA\n",
      "To enable them in other operations, rebuild TensorFlow with the appropriate compiler flags.\n"
     ]
    }
   ],
   "source": [
    "from keras import models, layers\n",
    "import tensorflow\n",
    "\n",
    "tensorflow.random.set_seed(100)\n",
    "\n",
    "model = models.Sequential()\n",
    "model.add(layers.Dense(2, activation='relu', input_shape=(2,)))\n",
    "model.add(layers.Dense(20, activation='relu'))\n",
    "model.add(layers.Dense(2, activation='softmax'))"
   ]
  },
  {
   "cell_type": "code",
   "execution_count": 24,
   "id": "c3eb12e1",
   "metadata": {},
   "outputs": [],
   "source": [
    "model.compile(optimizer='adam',\n",
    "              loss='categorical_crossentropy',\n",
    "              metrics=['acc'])"
   ]
  },
  {
   "cell_type": "markdown",
   "source": [
    "## Train it with data"
   ],
   "metadata": {
    "collapsed": false
   }
  },
  {
   "cell_type": "code",
   "execution_count": 25,
   "id": "26b636bc",
   "metadata": {},
   "outputs": [
    {
     "name": "stdout",
     "output_type": "stream",
     "text": [
      "Epoch 1/30\n",
      "28/28 [==============================] - 1s 8ms/step - loss: 0.6502 - acc: 0.9909 - val_loss: 0.5336 - val_acc: 0.9592\b\b\b\b\b\b\b\b\b\b\b\b\b\b\b\b\b\b\b\b\b\b\b\b\b\b\b\b\b\b\b\b\b\b\b\b\b\b\n",
      "Epoch 2/30\n",
      "28/28 [==============================] - 0s 2ms/step - loss: 0.5858 - acc: 0.9932 - val_loss: 0.4318 - val_acc: 0.9592\b\b\b\b\b\b\b\b\b\b\b\b\b\b\b\b\b\b\b\b\b\b\b\b\b\b\b\b\b\b\b\b\b\b\b\b\n",
      "Epoch 3/30\n",
      "28/28 [==============================] - 0s 2ms/step - loss: 0.5332 - acc: 0.9932 - val_loss: 0.3509 - val_acc: 0.9592\b\b\b\b\b\b\b\b\b\b\b\b\b\b\b\b\b\b\b\b\b\b\b\b\b\b\b\b\b\b\b\b\b\b\b\b\n",
      "Epoch 4/30\n",
      "28/28 [==============================] - 0s 2ms/step - loss: 0.4857 - acc: 0.9932 - val_loss: 0.2835 - val_acc: 0.9592\b\b\b\b\b\b\b\b\b\b\b\b\b\b\b\b\b\b\b\b\b\b\b\b\b\b\b\b\b\b\b\b\b\b\b\b\n",
      "Epoch 5/30\n",
      "28/28 [==============================] - 0s 3ms/step - loss: 0.4433 - acc: 0.9932 - val_loss: 0.2301 - val_acc: 0.9592\b\b\b\b\b\b\b\b\b\b\b\b\b\b\b\b\b\b\b\b\b\b\b\b\b\b\b\b\b\b\b\b\b\b\b\b\n",
      "Epoch 6/30\n",
      "28/28 [==============================] - 0s 2ms/step - loss: 0.4065 - acc: 0.9932 - val_loss: 0.1882 - val_acc: 0.9592\b\b\b\b\b\b\b\b\b\b\b\b\b\b\b\b\b\b\b\b\b\b\b\b\b\b\b\b\b\b\b\b\b\b\b\b\n",
      "Epoch 7/30\n",
      "28/28 [==============================] - 0s 2ms/step - loss: 0.3747 - acc: 0.9932 - val_loss: 0.1567 - val_acc: 0.9592\b\b\b\b\b\b\b\b\b\b\b\b\b\b\b\b\b\b\b\b\b\b\b\b\b\b\b\b\b\b\b\b\b\b\b\b\n",
      "Epoch 8/30\n",
      "28/28 [==============================] - 0s 2ms/step - loss: 0.3474 - acc: 0.9932 - val_loss: 0.1321 - val_acc: 0.9592\b\b\b\b\b\b\b\b\b\b\b\b\b\b\b\b\b\b\b\b\b\b\b\b\b\b\b\b\b\b\b\b\b\b\b\b\n",
      "Epoch 9/30\n",
      "28/28 [==============================] - 0s 3ms/step - loss: 0.3237 - acc: 0.9932 - val_loss: 0.1131 - val_acc: 0.9592\b\b\b\b\b\b\b\b\b\b\b\b\b\b\b\b\b\b\b\b\b\b\b\b\b\b\b\b\b\b\b\b\b\b\b\b\n",
      "Epoch 10/30\n",
      "28/28 [==============================] - 0s 3ms/step - loss: 0.3029 - acc: 0.9932 - val_loss: 0.0989 - val_acc: 0.9592\b\b\b\b\b\b\b\b\b\b\b\b\b\b\b\b\b\b\b\b\b\b\b\b\b\b\b\b\b\b\b\b\b\b\b\b\n",
      "Epoch 11/30\n",
      "28/28 [==============================] - 0s 4ms/step - loss: 0.2847 - acc: 0.9932 - val_loss: 0.0878 - val_acc: 0.9592\b\b\b\b\b\b\b\b\b\b\b\b\b\b\b\b\b\b\b\b\b\b\b\b\b\b\b\b\b\b\b\b\b\b\b\b\n",
      "Epoch 12/30\n",
      "28/28 [==============================] - 0s 5ms/step - loss: 0.2684 - acc: 0.9932 - val_loss: 0.0785 - val_acc: 0.9592\b\b\b\b\b\b\b\b\b\b\b\b\b\b\b\b\b\b\b\b\b\b\b\b\b\b\b\b\b\b\b\b\b\b\b\b\b\b\b\b\b\b\b\b\b\b\b\b\b\b\b\b\b\b\b\b\b\b\b\b\b\b\b\b\b\b\b\b\b\b\b\b\b\b\b\b\b\b\b\b\b\b\b\b\b\b\b\b\b\b\b\b\b\b\b\b\b\b\b\b\b\b\b\b\b\b\b\b\b\b\b\b\b\n",
      "Epoch 13/30\n",
      "28/28 [==============================] - 0s 3ms/step - loss: 0.2538 - acc: 0.9932 - val_loss: 0.0719 - val_acc: 0.9592\b\b\b\b\b\b\b\b\b\b\b\b\b\b\b\b\b\b\b\b\b\b\b\b\b\b\b\b\b\b\b\b\b\b\b\b\n",
      "Epoch 14/30\n",
      "28/28 [==============================] - 0s 3ms/step - loss: 0.2407 - acc: 0.9932 - val_loss: 0.0663 - val_acc: 0.9592\b\b\b\b\b\b\b\b\b\b\b\b\b\b\b\b\b\b\b\b\b\b\b\b\b\b\b\b\b\b\b\b\b\b\b\b\n",
      "Epoch 15/30\n",
      "28/28 [==============================] - 0s 2ms/step - loss: 0.2288 - acc: 0.9932 - val_loss: 0.0616 - val_acc: 0.9592\b\b\b\b\b\b\b\b\b\b\b\b\b\b\b\b\b\b\b\b\b\b\b\b\b\b\b\b\b\b\b\b\b\b\b\b\n",
      "Epoch 16/30\n",
      "28/28 [==============================] - 0s 2ms/step - loss: 0.2180 - acc: 0.9932 - val_loss: 0.0582 - val_acc: 0.9592\b\b\b\b\b\b\b\b\b\b\b\b\b\b\b\b\b\b\b\b\b\b\b\b\b\b\b\b\b\b\b\b\b\b\b\b\n",
      "Epoch 17/30\n",
      "28/28 [==============================] - 0s 2ms/step - loss: 0.2080 - acc: 0.9932 - val_loss: 0.0553 - val_acc: 0.9592\b\b\b\b\b\b\b\b\b\b\b\b\b\b\b\b\b\b\b\b\b\b\b\b\b\b\b\b\b\b\b\b\b\b\b\b\n",
      "Epoch 18/30\n",
      "28/28 [==============================] - 0s 3ms/step - loss: 0.1988 - acc: 0.9932 - val_loss: 0.0530 - val_acc: 0.9592\b\b\b\b\b\b\b\b\b\b\b\b\b\b\b\b\b\b\b\b\b\b\b\b\b\b\b\b\b\b\b\b\b\b\b\b\n",
      "Epoch 19/30\n",
      "28/28 [==============================] - 0s 2ms/step - loss: 0.1904 - acc: 0.9943 - val_loss: 0.0512 - val_acc: 0.9592\b\b\b\b\b\b\b\b\b\b\b\b\b\b\b\b\b\b\b\b\b\b\b\b\b\b\b\b\b\b\b\b\b\b\b\b\n",
      "Epoch 20/30\n",
      "28/28 [==============================] - 0s 3ms/step - loss: 0.1825 - acc: 0.9943 - val_loss: 0.0498 - val_acc: 0.9694\b\b\b\b\b\b\b\b\b\b\b\b\b\b\b\b\b\b\b\b\b\b\b\b\b\b\b\b\b\b\b\b\b\b\b\b\n",
      "Epoch 21/30\n",
      "28/28 [==============================] - 0s 3ms/step - loss: 0.1752 - acc: 0.9943 - val_loss: 0.0486 - val_acc: 0.9694\b\b\b\b\b\b\b\b\b\b\b\b\b\b\b\b\b\b\b\b\b\b\b\b\b\b\b\b\b\b\b\b\b\b\b\b\b\b\b\b\b\b\b\b\b\b\b\b\b\b\b\b\b\b\b\b\b\b\b\b\b\b\b\b\b\b\b\b\b\b\b\b\b\b\b\b\b\b\b\b\b\b\b\b\b\b\b\b\b\b\b\b\b\b\b\b\b\b\b\b\b\b\b\b\b\b\b\b\b\b\b\b\b\n",
      "Epoch 22/30\n",
      "28/28 [==============================] - 0s 3ms/step - loss: 0.1684 - acc: 0.9932 - val_loss: 0.0478 - val_acc: 0.9694\b\b\b\b\b\b\b\b\b\b\b\b\b\b\b\b\b\b\b\b\b\b\b\b\b\b\b\b\b\b\b\b\b\b\b\b\n",
      "Epoch 23/30\n",
      "28/28 [==============================] - 0s 3ms/step - loss: 0.1620 - acc: 0.9932 - val_loss: 0.0468 - val_acc: 0.9796\b\b\b\b\b\b\b\b\b\b\b\b\b\b\b\b\b\b\b\b\b\b\b\b\b\b\b\b\b\b\b\b\b\b\b\b\b\b\b\b\b\b\b\b\b\b\b\b\b\b\b\b\b\b\b\b\b\b\b\b\b\b\b\b\b\b\b\b\b\b\b\b\b\b\b\b\b\b\b\b\b\b\b\b\b\b\b\b\b\b\b\b\b\b\b\b\b\b\b\b\b\b\b\b\b\b\b\b\b\b\b\b\b\n",
      "Epoch 24/30\n",
      "28/28 [==============================] - 0s 3ms/step - loss: 0.1561 - acc: 0.9932 - val_loss: 0.0462 - val_acc: 0.9796\b\b\b\b\b\b\b\b\b\b\b\b\b\b\b\b\b\b\b\b\b\b\b\b\b\b\b\b\b\b\b\b\b\b\b\b\n",
      "Epoch 25/30\n",
      "28/28 [==============================] - 0s 2ms/step - loss: 0.1505 - acc: 0.9932 - val_loss: 0.0457 - val_acc: 0.9796\b\b\b\b\b\b\b\b\b\b\b\b\b\b\b\b\b\b\b\b\b\b\b\b\b\b\b\b\b\b\b\b\b\b\b\b\n",
      "Epoch 26/30\n",
      "28/28 [==============================] - 0s 3ms/step - loss: 0.1452 - acc: 0.9932 - val_loss: 0.0452 - val_acc: 0.9796\b\b\b\b\b\b\b\b\b\b\b\b\b\b\b\b\b\b\b\b\b\b\b\b\b\b\b\b\b\b\b\b\b\b\b\b\n",
      "Epoch 27/30\n",
      "28/28 [==============================] - 0s 2ms/step - loss: 0.1402 - acc: 0.9932 - val_loss: 0.0449 - val_acc: 0.9796\b\b\b\b\b\b\b\b\b\b\b\b\b\b\b\b\b\b\b\b\b\b\b\b\b\b\b\b\b\b\b\b\b\b\b\b\n",
      "Epoch 28/30\n",
      "28/28 [==============================] - 0s 2ms/step - loss: 0.1356 - acc: 0.9932 - val_loss: 0.0446 - val_acc: 0.9796\b\b\b\b\b\b\b\b\b\b\b\b\b\b\b\b\b\b\b\b\b\b\b\b\b\b\b\b\b\b\b\b\b\b\b\b\n",
      "Epoch 29/30\n",
      "28/28 [==============================] - 0s 2ms/step - loss: 0.1311 - acc: 0.9932 - val_loss: 0.0443 - val_acc: 0.9796\b\b\b\b\b\b\b\b\b\b\b\b\b\b\b\b\b\b\b\b\b\b\b\b\b\b\b\b\b\b\b\b\b\b\b\b\n",
      "Epoch 30/30\n",
      "28/28 [==============================] - 0s 2ms/step - loss: 0.1269 - acc: 0.9932 - val_loss: 0.0443 - val_acc: 0.9796\b\b\b\b\b\b\b\b\b\b\b\b\b\b\b\b\b\b\b\b\b\b\b\b\b\b\b\b\b\b\b\b\b\b\b\b\n"
     ]
    }
   ],
   "source": [
    "history = model.fit(dftrain_x, dftrain_y, epochs=30, validation_split=0.1)"
   ]
  },
  {
   "cell_type": "code",
   "execution_count": 26,
   "id": "ae885965",
   "metadata": {},
   "outputs": [
    {
     "data": {
      "text/plain": "<Figure size 1000x500 with 2 Axes>",
      "image/png": "[encoded data removed]"
     },
     "metadata": {},
     "output_type": "display_data"
    }
   ],
   "source": [
    "_, ax = plt.subplots(1, 2, figsize=(10, 5), dpi=100)\n",
    "ax[0].plot(history.history['acc'], 'r')\n",
    "ax[0].plot(history.history['val_acc'], 'g')\n",
    "ax[0].set_xlabel(\"Num of Epochs\")\n",
    "ax[0].set_ylabel(\"Accuracy\")\n",
    "ax[0].set_title(\"Training Accuracy vs Validation Accuracy\")\n",
    "ax[0].legend(['train', 'validation'])\n",
    "\n",
    "ax[1].plot(history.history['loss'], 'r')\n",
    "ax[1].plot(history.history['val_loss'], 'g')\n",
    "ax[1].set_xlabel(\"Num of Epochs\")\n",
    "ax[1].set_ylabel(\"Loss\")\n",
    "ax[1].set_title(\"Training Loss vs Validation Loss\")\n",
    "ax[1].legend(['train', 'validation'])\n",
    "\n",
    "plt.tight_layout()"
   ]
  },
  {
   "cell_type": "markdown",
   "source": [
    "## Test it\n",
    "\n",
    "### Predict train data\n",
    "\n",
    "Rebuild model until epoch x."
   ],
   "metadata": {
    "collapsed": false
   }
  },
  {
   "cell_type": "code",
   "execution_count": 27,
   "id": "0e093c9b",
   "metadata": {},
   "outputs": [
    {
     "name": "stdout",
     "output_type": "stream",
     "text": [
      "Epoch 1/7\n",
      "28/28 [==============================] - 1s 7ms/step - loss: 0.6759 - acc: 0.6837 - val_loss: 0.7059 - val_acc: 0.5102\b\b\b\b\b\b\b\b\b\b\b\b\b\b\b\b\b\b\b\b\b\b\b\b\b\b\b\b\b\b\b\b\b\b\b\b\b\b\n",
      "Epoch 2/7\n",
      "28/28 [==============================] - 0s 3ms/step - loss: 0.6339 - acc: 0.7868 - val_loss: 0.7072 - val_acc: 0.5102\b\b\b\b\b\b\b\b\b\b\b\b\b\b\b\b\b\b\b\b\b\b\b\b\b\b\b\b\b\b\b\b\b\b\b\b\n",
      "Epoch 3/7\n",
      "28/28 [==============================] - 0s 2ms/step - loss: 0.5837 - acc: 0.8107 - val_loss: 0.6840 - val_acc: 0.6735\b\b\b\b\b\b\b\b\b\b\b\b\b\b\b\b\b\b\b\b\b\b\b\b\b\b\b\b\b\b\b\b\b\b\b\b\n",
      "Epoch 4/7\n",
      "28/28 [==============================] - 0s 2ms/step - loss: 0.5244 - acc: 0.8639 - val_loss: 0.6325 - val_acc: 0.7041\b\b\b\b\b\b\b\b\b\b\b\b\b\b\b\b\b\b\b\b\b\b\b\b\b\b\b\b\b\b\b\b\b\b\b\b\n",
      "Epoch 5/7\n",
      "28/28 [==============================] - 0s 3ms/step - loss: 0.4599 - acc: 0.8764 - val_loss: 0.5741 - val_acc: 0.7347\b\b\b\b\b\b\b\b\b\b\b\b\b\b\b\b\b\b\b\b\b\b\b\b\b\b\b\b\b\b\b\b\b\b\b\b\n",
      "Epoch 6/7\n",
      "28/28 [==============================] - 0s 3ms/step - loss: 0.3984 - acc: 0.8844 - val_loss: 0.5101 - val_acc: 0.7755\b\b\b\b\b\b\b\b\b\b\b\b\b\b\b\b\b\b\b\b\b\b\b\b\b\b\b\b\b\b\b\b\b\b\b\b\n",
      "Epoch 7/7\n",
      "28/28 [==============================] - 0s 3ms/step - loss: 0.3433 - acc: 0.8946 - val_loss: 0.4449 - val_acc: 0.8061\b\b\b\b\b\b\b\b\b\b\b\b\b\b\b\b\b\b\b\b\b\b\b\b\b\b\b\b\b\b\b\b\b\b\b\b\n"
     ]
    }
   ],
   "source": [
    "model = models.Sequential()\n",
    "model.add(layers.Dense(2, activation='relu', input_shape=(2,)))\n",
    "model.add(layers.Dense(20, activation='relu'))\n",
    "model.add(layers.Dense(2, activation='softmax'))\n",
    "model.compile(optimizer='adam',\n",
    "              loss='categorical_crossentropy',\n",
    "              metrics=['acc'])\n",
    "history = model.fit(dftrain_x, dftrain_y, epochs=7, validation_split=0.1)"
   ]
  },
  {
   "cell_type": "code",
   "execution_count": 28,
   "id": "30c5c59f",
   "metadata": {},
   "outputs": [
    {
     "name": "stdout",
     "output_type": "stream",
     "text": [
      "31/31 [==============================] - 0s 1ms/step\b\b\b\b\b\b\b\b\b\b\b\b\b\b\b\b\b\b\b\b\b\b\b\b\b\b\b\b\b\b\b\b\b\b\b\b\b\b\b\b\b\b\b\b\n"
     ]
    }
   ],
   "source": [
    "y_hat = model.predict(x=dftrain_x)\n",
    "y_pred_label = np.argmax(y_hat, axis=1)\n",
    "y_true_label = np.argmax(dftrain_y, axis=1)"
   ]
  },
  {
   "cell_type": "code",
   "execution_count": 29,
   "id": "40de7886",
   "metadata": {},
   "outputs": [
    {
     "data": {
      "text/plain": "col_0    0    1\nrow_0          \n0      490  104\n1        0  386",
      "text/html": "<div>\n<style scoped>\n    .dataframe tbody tr th:only-of-type {\n        vertical-align: middle;\n    }\n\n    .dataframe tbody tr th {\n        vertical-align: top;\n    }\n\n    .dataframe thead th {\n        text-align: right;\n    }\n</style>\n<table border=\"1\" class=\"dataframe\">\n  <thead>\n    <tr style=\"text-align: right;\">\n      <th>col_0</th>\n      <th>0</th>\n      <th>1</th>\n    </tr>\n    <tr>\n      <th>row_0</th>\n      <th></th>\n      <th></th>\n    </tr>\n  </thead>\n  <tbody>\n    <tr>\n      <th>0</th>\n      <td>490</td>\n      <td>104</td>\n    </tr>\n    <tr>\n      <th>1</th>\n      <td>0</td>\n      <td>386</td>\n    </tr>\n  </tbody>\n</table>\n</div>"
     },
     "execution_count": 29,
     "metadata": {},
     "output_type": "execute_result"
    }
   ],
   "source": [
    "table = pd.crosstab(y_pred_label, y_true_label)\n",
    "table"
   ]
  },
  {
   "cell_type": "code",
   "execution_count": 30,
   "id": "bd9bdf3f",
   "metadata": {},
   "outputs": [
    {
     "data": {
      "text/plain": "0.8938775510204081"
     },
     "execution_count": 30,
     "metadata": {},
     "output_type": "execute_result"
    }
   ],
   "source": [
    "(table[0][0] + table[1][1]) / np.sum(table.sum())"
   ]
  },
  {
   "cell_type": "markdown",
   "id": "ac31b496",
   "metadata": {
    "pycharm": {
     "name": "#%% md\n"
    }
   },
   "source": [
    "### Predict test data"
   ]
  },
  {
   "cell_type": "code",
   "execution_count": 31,
   "id": "62504e14",
   "metadata": {
    "pycharm": {
     "name": "#%%\n"
    }
   },
   "outputs": [
    {
     "name": "stdout",
     "output_type": "stream",
     "text": [
      "2405/2405 [==============================] - 3s 1ms/step\b\b\b\b\b\b\b\b\b\b\b\b\b\b\b\b\b\b\b\b\b\b\b\b\b\b\b\b\b\b\b\b\b\b\b\b\b\b\b\b\b\b\b\b\b\b\b\b\b\b\b\b\b\b\b\b\b\b\b\b\b\b\b\b\b\b\b\b\b\b\b\b\b\b\b\b\b\b\b\b\b\b\b\b\b\b\b\b\b\b\b\b\b\b\b\b\b\b\b\b\b\b\b\b\b\b\b\b\b\b\b\b\b\b\b\b\b\b\b\b\b\b\b\b\b\b\b\b\b\b\b\b\b\b\b\b\b\b\b\b\b\b\b\b\b\b\b\b\b\b\b\b\b\b\b\b\b\b\b\b\b\b\b\b\b\b\b\b\b\b\b\b\b\b\b\b\b\b\b\b\b\b\b\b\b\b\b\b\b\b\b\b\b\b\b\b\b\b\b\b\b\b\b\b\b\b\b\b\b\b\b\b\b\b\b\b\b\b\b\b\b\b\b\b\b\b\b\b\b\b\b\b\b\b\b\b\b\b\b\b\b\b\b\b\b\b\b\b\b\b\b\b\b\b\b\b\b\b\b\b\b\b\b\b\b\b\b\b\b\b\b\b\b\b\b\b\b\b\b\b\b\b\b\b\b\b\b\b\b\b\b\b\b\b\b\b\b\b\b\b\b\b\b\b\b\b\b\b\b\b\b\b\b\b\b\b\b\b\b\b\b\b\b\b\b\b\b\b\b\b\b\b\b\b\b\b\b\b\b\b\b\b\b\b\b\b\b\b\b\b\b\b\b\b\b\b\b\b\b\b\b\b\b\b\b\b\b\b\b\b\b\b\b\b\b\b\b\b\b\b\b\b\b\b\b\b\b\b\b\b\b\b\b\b\b\b\b\b\b\b\b\b\b\b\b\b\b\b\b\b\b\b\b\b\b\b\b\b\b\b\b\b\b\b\b\b\b\b\b\b\b\b\b\b\b\b\b\b\b\b\b\b\b\b\b\b\b\b\b\b\b\b\b\b\b\b\b\b\b\b\b\b\b\b\b\b\b\b\b\b\b\b\b\b\b\b\b\b\b\b\b\b\b\b\b\b\b\b\b\b\b\b\b\b\b\b\b\b\b\b\b\b\b\b\b\b\b\b\b\b\b\b\b\b\b\b\b\b\b\b\b\b\b\b\b\b\b\b\b\b\b\b\b\b\b\b\b\b\b\b\b\b\b\b\b\b\b\b\b\b\b\b\b\b\b\b\b\b\b\b\b\b\b\b\b\b\b\b\b\b\b\b\b\b\b\b\b\b\b\b\b\b\b\b\b\b\b\b\b\b\b\b\b\b\b\b\b\b\b\b\b\b\b\b\b\b\b\b\b\b\b\b\b\b\b\b\b\b\b\b\b\b\b\b\b\b\b\b\b\b\b\b\b\b\b\b\b\b\b\b\b\b\b\b\b\b\b\b\b\b\b\b\b\b\b\b\b\b\b\b\b\b\b\b\b\b\b\b\b\b\b\b\b\b\b\b\b\b\b\b\b\b\b\b\b\b\b\b\b\b\b\b\b\b\b\b\b\b\b\b\b\b\b\b\b\b\b\b\b\b\b\b\b\b\b\b\b\b\b\b\b\b\b\b\b\b\b\b\b\b\b\b\b\b\b\b\b\b\b\b\b\b\b\b\b\b\b\b\b\b\b\b\b\b\b\b\b\b\b\b\b\b\b\b\b\b\b\b\b\b\b\b\b\b\b\b\b\b\b\b\b\b\b\b\b\b\b\b\b\b\b\b\b\b\b\b\b\b\b\b\b\b\b\b\b\b\b\b\b\b\b\b\b\b\b\b\b\b\b\b\b\b\b\b\b\b\b\b\b\b\b\b\b\b\b\b\b\b\b\b\b\b\b\b\b\b\b\b\b\b\b\b\b\b\b\b\b\b\b\b\b\b\b\b\b\b\b\b\b\b\b\b\b\b\b\b\b\b\b\b\b\b\b\b\b\b\b\b\b\b\b\b\b\b\b\b\b\b\b\b\b\b\b\b\b\b\b\b\b\b\b\b\b\b\b\b\b\b\b\b\b\b\b\b\b\b\b\b\b\b\b\b\b\b\b\b\b\b\b\b\b\b\b\b\b\b\b\b\b\b\b\b\b\b\b\b\b\b\b\b\b\b\b\b\b\b\b\b\b\b\b\b\b\b\b\b\b\b\b\b\b\b\b\b\b\b\b\b\b\b\b\b\b\b\b\b\b\b\b\b\b\b\b\b\b\b\b\b\b\b\b\b\b\b\b\b\b\b\b\b\b\b\b\b\b\b\b\b\b\b\b\b\b\b\b\b\b\b\b\b\b\b\b\b\b\b\b\b\b\b\b\b\b\b\b\b\b\b\b\b\b\b\b\b\b\b\b\b\b\b\b\b\b\b\b\b\b\b\b\b\b\b\b\b\b\b\b\b\b\b\b\b\b\b\b\b\b\b\b\b\b\b\b\b\b\b\b\b\b\b\b\b\b\b\b\b\b\b\b\b\b\b\b\b\b\b\b\b\b\b\b\b\b\b\b\b\b\b\b\b\b\b\b\b\b\b\b\b\b\b\b\b\b\b\b\b\b\b\b\b\b\b\b\b\b\b\b\b\b\b\b\b\b\b\b\b\b\b\b\b\b\b\b\b\b\b\b\b\b\b\b\b\b\b\b\b\b\b\b\b\b\b\b\b\b\b\b\b\b\b\b\b\b\b\b\b\b\b\b\b\b\b\b\b\b\b\b\b\b\b\b\b\b\b\b\b\b\b\b\b\b\b\b\b\b\b\b\b\b\b\b\b\b\b\b\b\b\b\b\b\b\b\b\b\b\b\b\b\b\b\b\b\b\b\b\b\b\b\b\b\b\b\b\b\b\b\b\b\b\b\b\b\b\b\b\b\b\b\b\b\b\b\b\b\b\b\b\b\b\b\b\b\b\b\b\b\b\b\b\b\b\b\b\b\b\b\b\b\b\b\b\b\b\b\b\b\b\b\b\b\b\b\b\b\b\b\b\b\b\b\b\b\b\b\b\b\b\b\b\b\b\b\b\b\b\b\b\b\b\b\b\b\b\b\b\b\b\b\b\b\b\b\b\b\b\b\b\b\b\b\b\b\b\b\b\b\b\b\b\b\b\b\b\b\b\b\b\b\b\b\b\b\b\b\b\b\b\b\b\b\b\b\b\b\b\b\b\b\b\b\b\b\b\b\b\b\b\b\b\b\b\b\b\b\b\b\b\b\b\b\b\b\b\b\b\b\b\b\b\b\b\b\b\b\b\b\b\b\b\b\b\b\b\b\b\b\b\b\b\b\b\b\b\b\b\b\b\b\b\b\b\b\b\b\b\b\b\b\b\b\b\b\b\b\b\b\b\b\b\b\b\b\b\b\b\b\b\b\b\b\b\b\b\b\b\b\b\b\b\b\b\b\b\b\b\b\b\b\b\b\b\b\b\b\b\b\b\b\b\b\b\b\b\b\b\b\b\b\b\b\b\b\b\b\b\b\b\b\b\b\b\b\b\b\b\b\b\b\b\b\b\b\b\b\b\b\b\b\b\b\b\b\b\b\b\b\b\b\b\b\b\b\b\b\b\b\b\b\b\b\b\b\b\b\b\b\b\b\b\b\b\b\b\b\b\b\b\b\b\b\b\b\b\b\b\b\b\b\b\b\b\b\b\b\b\b\b\b\b\b\b\b\b\b\b\b\b\b\b\b\b\b\b\b\b\b\b\b\b\b\b\b\b\b\b\b\b\b\b\b\b\b\b\b\b\b\b\b\b\b\b\b\b\b\b\b\b\b\b\b\b\b\b\b\b\b\b\b\b\b\b\b\b\b\b\b\b\b\b\b\b\b\b\b\b\b\b\b\b\b\b\b\b\b\b\b\b\b\b\b\b\b\b\b\b\b\b\b\b\b\b\b\b\b\b\b\b\b\b\b\b\b\b\b\b\b\b\b\b\b\b\b\b\b\b\b\b\b\b\b\b\b\b\b\b\b\b\b\b\b\b\b\b\b\b\b\b\b\b\b\b\b\b\b\b\b\b\b\b\b\b\b\b\b\b\b\b\b\b\b\b\b\b\b\b\b\b\b\b\b\b\b\b\b\b\b\b\b\b\b\b\b\b\b\b\b\b\b\b\b\b\b\b\b\b\b\b\b\b\b\b\b\b\b\b\b\b\b\b\b\b\b\b\b\b\b\b\b\b\b\b\b\b\b\b\b\b\b\b\b\b\b\b\b\b\b\b\b\b\b\b\b\b\b\b\b\b\b\b\b\b\b\b\b\b\b\b\b\b\b\b\b\b\b\b\b\b\b\b\b\b\b\b\b\b\b\b\b\b\b\b\b\b\b\b\b\b\b\b\b\b\b\b\b\b\b\b\b\b\b\b\b\b\b\b\b\b\b\b\b\b\b\b\b\b\b\b\b\b\b\b\b\b\b\b\b\b\b\b\b\b\b\b\b\b\b\b\b\b\b\b\b\b\b\b\b\b\b\b\b\b\b\b\b\b\b\b\b\b\b\b\b\b\b\b\b\b\b\b\b\b\b\b\b\b\b\b\b\b\b\b\b\b\b\b\b\b\b\b\b\b\b\b\b\b\b\b\b\b\b\b\b\b\b\b\b\b\b\b\b\b\b\b\b\b\b\b\b\b\b\b\b\b\b\b\b\b\b\b\b\b\b\b\b\b\b\b\b\b\b\b\b\b\b\b\b\b\b\b\b\b\b\b\b\b\b\b\b\b\b\b\b\b\b\b\b\b\b\b\b\b\b\b\b\b\b\b\b\b\b\b\b\b\b\b\b\b\b\b\b\b\b\b\b\b\b\b\b\b\b\b\b\b\b\b\b\b\b\b\b\b\b\b\b\b\b\b\b\b\b\b\b\b\b\b\b\b\b\b\b\b\b\b\b\b\b\b\b\b\b\b\b\b\b\b\b\b\b\b\b\b\b\b\b\b\b\b\b\b\b\b\b\b\b\b\b\b\b\b\b\b\b\b\b\b\b\b\b\b\b\b\b\b\b\b\b\b\b\b\b\b\b\b\b\b\b\b\b\b\b\b\b\b\b\b\b\b\b\b\b\b\b\b\b\b\b\b\b\b\b\b\b\b\b\b\b\b\b\b\b\b\b\b\b\b\b\b\b\b\b\b\b\b\b\b\b\b\b\b\b\b\b\b\b\b\b\b\b\b\b\b\b\b\b\b\b\b\b\b\b\b\b\b\b\b\b\b\b\b\b\b\b\b\b\b\b\b\b\b\b\b\b\b\b\b\b\b\b\b\b\b\b\b\b\b\b\b\b\b\b\b\b\b\b\b\b\b\b\b\b\b\b\b\b\b\b\b\b\b\b\b\b\b\b\b\b\b\b\b\b\b\b\b\b\b\b\b\b\b\b\b\b\b\b\b\b\b\b\b\b\b\b\b\b\b\b\b\b\b\b\b\b\b\b\b\b\b\b\b\b\b\b\b\b\b\b\b\b\b\b\b\b\b\b\b\b\b\b\b\b\b\b\b\b\b\b\b\b\b\b\b\b\b\b\b\b\b\b\b\b\b\b\b\b\b\b\b\b\b\b\b\b\b\b\b\b\b\b\b\b\b\b\b\b\b\b\b\b\b\b\b\b\b\b\b\b\b\b\b\b\b\b\b\b\b\b\b\b\b\b\b\b\b\b\b\b\b\b\b\b\b\b\b\b\b\b\b\b\b\b\b\b\b\b\b\b\b\b\b\b\b\b\b\b\b\b\b\b\b\b\b\b\b\b\b\b\b\b\b\b\b\b\b\b\b\b\b\b\b\b\b\b\b\b\b\b\b\b\b\b\b\b\b\b\b\b\b\b\b\b\b\b\b\b\b\b\b\b\b\b\b\b\b\b\b\b\b\b\b\b\b\b\b\b\b\b\b\b\b\b\b\b\b\b\b\b\b\b\b\b\b\b\b\b\b\b\b\b\b\b\b\b\b\b\b\b\b\b\b\b\b\b\b\b\b\b\b\b\b\b\b\b\b\b\b\b\b\b\b\b\b\b\b\b\b\b\b\b\b\b\b\b\b\b\b\b\b\b\b\b\b\b\b\b\b\b\b\b\b\b\b\b\b\b\b\b\b\b\b\b\b\b\b\b\b\b\b\b\b\b\b\b\b\b\b\b\b\b\b\b\b\b\b\b\b\b\b\b\b\b\b\b\b\b\b\b\b\b\b\b\b\b\b\b\b\b\b\b\b\b\b\b\b\b\b\b\b\b\b\b\b\b\b\b\b\b\b\b\b\b\b\b\b\b\b\b\b\b\b\b\b\b\b\b\b\b\b\b\b\b\b\b\b\b\b\b\b\b\b\b\b\b\b\b\b\b\b\b\b\b\b\b\b\b\b\b\b\b\b\b\b\b\b\b\b\b\b\b\b\b\b\b\b\b\b\b\b\b\b\b\b\b\b\b\b\b\b\b\b\b\b\b\b\b\b\b\b\b\b\b\b\b\b\b\b\b\b\b\b\b\b\b\b\b\b\b\b\b\b\b\b\b\b\b\b\b\b\b\b\b\b\b\b\b\b\b\b\b\b\b\b\b\b\b\b\b\b\b\b\b\b\b\b\b\b\b\b\b\b\b\b\b\b\b\b\b\b\b\b\b\b\b\b\b\b\b\b\b\b\b\b\b\b\b\b\b\b\b\b\b\b\b\b\b\b\b\b\b\b\b\b\b\b\b\b\b\b\b\b\b\b\b\b\b\b\b\b\b\b\b\b\b\b\b\b\b\n"
     ]
    }
   ],
   "source": [
    "predictions = model.predict(x=dftest_x)\n",
    "pred_label = np.argmax(predictions, axis=1)\n",
    "true_label = np.argmax(dftest_y, axis=1)"
   ]
  },
  {
   "cell_type": "code",
   "execution_count": 32,
   "outputs": [
    {
     "data": {
      "text/plain": "col_0      0    1\nrow_0            \n0      76445  500",
      "text/html": "<div>\n<style scoped>\n    .dataframe tbody tr th:only-of-type {\n        vertical-align: middle;\n    }\n\n    .dataframe tbody tr th {\n        vertical-align: top;\n    }\n\n    .dataframe thead th {\n        text-align: right;\n    }\n</style>\n<table border=\"1\" class=\"dataframe\">\n  <thead>\n    <tr style=\"text-align: right;\">\n      <th>col_0</th>\n      <th>0</th>\n      <th>1</th>\n    </tr>\n    <tr>\n      <th>row_0</th>\n      <th></th>\n      <th></th>\n    </tr>\n  </thead>\n  <tbody>\n    <tr>\n      <th>0</th>\n      <td>76445</td>\n      <td>500</td>\n    </tr>\n  </tbody>\n</table>\n</div>"
     },
     "execution_count": 32,
     "metadata": {},
     "output_type": "execute_result"
    }
   ],
   "source": [
    "table = pd.crosstab(pred_label, true_label)\n",
    "table"
   ],
   "metadata": {
    "collapsed": false,
    "pycharm": {
     "name": "#%%\n"
    }
   }
  },
  {
   "cell_type": "code",
   "execution_count": 33,
   "outputs": [
    {
     "data": {
      "text/plain": "0.9935018519721879"
     },
     "execution_count": 33,
     "metadata": {},
     "output_type": "execute_result"
    }
   ],
   "source": [
    "aux = np.abs(pred_label - true_label)\n",
    "fails = np.count_nonzero(aux)\n",
    "\n",
    "score_balance = (len(aux) - fails) / len(aux)\n",
    "score_balance\n"
   ],
   "metadata": {
    "collapsed": false,
    "pycharm": {
     "name": "#%%\n"
    }
   }
  }
 ],
 "metadata": {
  "kernelspec": {
   "display_name": "Python 3 (ipykernel)",
   "language": "python",
   "name": "python3"
  },
  "language_info": {
   "codemirror_mode": {
    "name": "ipython",
    "version": 3
   },
   "file_extension": ".py",
   "mimetype": "text/x-python",
   "name": "python",
   "nbconvert_exporter": "python",
   "pygments_lexer": "ipython3",
   "version": "3.9.6"
  }
 },
 "nbformat": 4,
 "nbformat_minor": 5
}