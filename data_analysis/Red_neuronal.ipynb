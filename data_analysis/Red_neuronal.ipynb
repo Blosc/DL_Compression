{
 "cells": [
  {
   "cell_type": "code",
   "execution_count": 1,
   "id": "b807026c",
   "metadata": {},
   "outputs": [],
   "source": [
    "import pandas as pd\n",
    "import matplotlib.pyplot as plt\n",
    "import plotly.graph_objects as go\n",
    "import plotly.express as px\n",
    "import numpy as np"
   ]
  },
  {
   "cell_type": "markdown",
   "id": "efe34fa0",
   "metadata": {},
   "source": [
    "Archivos entropy (siempre split)"
   ]
  },
  {
   "cell_type": "code",
   "execution_count": 2,
   "id": "28dfedb7",
   "metadata": {},
   "outputs": [],
   "source": [
    "from pathlib import Path\n",
    "path = Path('../data_inputs')"
   ]
  },
  {
   "cell_type": "code",
   "execution_count": 3,
   "id": "a4199983",
   "metadata": {},
   "outputs": [],
   "source": [
    "#ficheros = ['entropy-nofilter', 'entropy-shuffle', 'entropy-bitshuffle', \n",
    "#                'blosclz-nofilter-split', 'blosclz-shuffle-split', 'blosclz-bitshuffle-split', \n",
    " #               'lz4-nofilter-split', 'lz4-shuffle-split', 'lz4-bitshuffle-split', \n",
    "  #              'lz4hc-nofilter-split', 'lz4hc-bitshuffle-spli', 'lz4hc-shuffle-split', \n",
    "   #             'zlib-nofilter-split', 'zlib-shuffle-split', 'zlib-bitshuffle-split', \n",
    "    #            'zstd-nofilter-split', 'zstd-shuffle-split', 'zstd-bitshuffle-split']\n",
    "\n",
    "#dataframes = ['df_entropy_nofilters']\n",
    "\n",
    "#for i in range(0, 1):\n",
    "#    dataframes[i] = pd.read_csv(path/'entropy-nofilter.csv.gz', delimiter=',')\n",
    "\n",
    "#dataframes[i]\n",
    "#df_entropy_nofilters"
   ]
  },
  {
   "cell_type": "markdown",
   "id": "21264bbc",
   "metadata": {},
   "source": [
    "Cada dataframe de cada combinación tiene una columna que indica si el split es special value o no"
   ]
  },
  {
   "cell_type": "code",
   "execution_count": 4,
   "id": "c497fe00",
   "metadata": {},
   "outputs": [],
   "source": [
    "def delete(special_vals):\n",
    "    return 1 if special_vals == 1 else 0"
   ]
  },
  {
   "cell_type": "code",
   "execution_count": 5,
   "id": "8b92f6b9",
   "metadata": {},
   "outputs": [
    {
     "data": {
      "text/plain": [
       "(42991, 7)"
      ]
     },
     "execution_count": 5,
     "metadata": {},
     "output_type": "execute_result"
    }
   ],
   "source": [
    "df_entropy_nofilter = pd.read_csv(path/'entropy-nofilter.csv.gz', delimiter=',')\n",
    "codec_filter = np.repeat('entropy-nofilter', 55296)\n",
    "df_entropy_nofilter['codec_filter'] = codec_filter\n",
    "df_entropy_nofilter.rename(columns = {'cratio':'cratio', ' speed':'speed', ' special_vals':'special_vals', ' nchunk':'nchunk', ' category':'category'}, inplace = True)\n",
    "\n",
    "df_entropy_nofilter[\"delete\"] = df_entropy_nofilter.apply(lambda x: delete(x[2]), axis=1)\n",
    "filtered_df_entropy_nofitler = df_entropy_nofilter\n",
    "filtered_df_entropy_nofitler[filtered_df_entropy_nofitler['special_vals'] == 0].shape"
   ]
  },
  {
   "cell_type": "code",
   "execution_count": 6,
   "id": "c3a18873",
   "metadata": {},
   "outputs": [
    {
     "data": {
      "text/plain": [
       "(31575, 7)"
      ]
     },
     "execution_count": 6,
     "metadata": {},
     "output_type": "execute_result"
    }
   ],
   "source": [
    "df_entropy_shuffle = pd.read_csv(path/'entropy-shuffle.csv.gz', delimiter=',')\n",
    "codec_filter = np.repeat('entropy-shuffle', 55296)\n",
    "df_entropy_shuffle['codec_filter'] = codec_filter\n",
    "df_entropy_shuffle.rename(columns = {'cratio':'cratio', ' speed':'speed', ' special_vals':'special_vals', ' nchunk':'nchunk', ' category':'category'}, inplace = True)\n",
    "\n",
    "df_entropy_shuffle[\"delete\"] = df_entropy_shuffle.apply(lambda x: delete(x[2]), axis=1)\n",
    "filtered_df_entropy_shuffle = df_entropy_shuffle\n",
    "filtered_df_entropy_shuffle[filtered_df_entropy_shuffle['special_vals'] == 1].shape"
   ]
  },
  {
   "cell_type": "code",
   "execution_count": 7,
   "id": "b807a9ac",
   "metadata": {},
   "outputs": [
    {
     "data": {
      "text/plain": [
       "(31575, 7)"
      ]
     },
     "execution_count": 7,
     "metadata": {},
     "output_type": "execute_result"
    }
   ],
   "source": [
    "df_entropy_bitshuffle = pd.read_csv(path/'entropy-bitshuffle.csv.gz', delimiter=',')\n",
    "codec_filter = np.repeat('entropy-bitshuffle', 55296)\n",
    "df_entropy_bitshuffle['codec_filter'] = codec_filter\n",
    "df_entropy_bitshuffle.rename(columns = {'cratio':'cratio', ' speed':'speed', ' special_vals':'special_vals', ' nchunk':'nchunk', ' category':'category'}, inplace = True)\n",
    "\n",
    "df_entropy_bitshuffle[\"delete\"] = df_entropy_bitshuffle.apply(lambda x: delete(x[2]), axis=1)\n",
    "filtered_df_entropy_bitshuffle = df_entropy_bitshuffle\n",
    "filtered_df_entropy_bitshuffle[filtered_df_entropy_bitshuffle['special_vals'] == 1].shape"
   ]
  },
  {
   "cell_type": "markdown",
   "id": "3818a427",
   "metadata": {},
   "source": [
    "Archivos códecs-split"
   ]
  },
  {
   "cell_type": "code",
   "execution_count": 8,
   "id": "5756e3b4",
   "metadata": {},
   "outputs": [
    {
     "data": {
      "text/plain": [
       "(12305, 7)"
      ]
     },
     "execution_count": 8,
     "metadata": {},
     "output_type": "execute_result"
    }
   ],
   "source": [
    "df_blosclz_nofilter_split = pd.read_csv(path/'blosclz-nofilter-split.csv.gz', delimiter=',')\n",
    "codec_filter = np.repeat('blosclz-nofilter-split', 55296)\n",
    "df_blosclz_nofilter_split['codec_filter'] = codec_filter\n",
    "df_blosclz_nofilter_split.rename(columns = {'cratio':'cratio', ' speed':'speed', ' special_vals':'special_vals', ' nchunk':'nchunk', ' category':'category'}, inplace = True)\n",
    "\n",
    "df_blosclz_nofilter_split[\"delete\"] = df_blosclz_nofilter_split.apply(lambda x: delete(x[2]), axis=1)\n",
    "filtered_df_blosclz_nofilter_split = df_blosclz_nofilter_split\n",
    "filtered_df_blosclz_nofilter_split[filtered_df_blosclz_nofilter_split['special_vals'] == 1].shape"
   ]
  },
  {
   "cell_type": "code",
   "execution_count": 9,
   "id": "c6221909",
   "metadata": {},
   "outputs": [
    {
     "data": {
      "text/plain": [
       "(31575, 7)"
      ]
     },
     "execution_count": 9,
     "metadata": {},
     "output_type": "execute_result"
    }
   ],
   "source": [
    "df_blosclz_shuffle_split = pd.read_csv(path/'blosclz-shuffle-split.csv.gz', delimiter=',')\n",
    "codec_filter = np.repeat('blosclz-shuffle-split', 55296)\n",
    "df_blosclz_shuffle_split['codec_filter'] = codec_filter\n",
    "df_blosclz_shuffle_split.rename(columns = {'cratio':'cratio', ' speed':'speed', ' special_vals':'special_vals', ' nchunk':'nchunk', ' category':'category'}, inplace = True)\n",
    "\n",
    "df_blosclz_shuffle_split[\"delete\"] = df_blosclz_shuffle_split.apply(lambda x: delete(x[2]), axis=1)\n",
    "filtered_df_blosclz_shuffle_split = df_blosclz_shuffle_split\n",
    "filtered_df_blosclz_shuffle_split[filtered_df_blosclz_shuffle_split['special_vals'] == 1].shape"
   ]
  },
  {
   "cell_type": "code",
   "execution_count": 10,
   "id": "b0ffaa42",
   "metadata": {},
   "outputs": [
    {
     "data": {
      "text/plain": [
       "(31575, 7)"
      ]
     },
     "execution_count": 10,
     "metadata": {},
     "output_type": "execute_result"
    }
   ],
   "source": [
    "df_blosclz_bitshuffle_split = pd.read_csv(path/'blosclz-bitshuffle-split.csv.gz', delimiter=',')\n",
    "codec_filter = np.repeat('blosclz-bitshuffle-split', 55296)\n",
    "df_blosclz_bitshuffle_split['codec_filter'] = codec_filter\n",
    "df_blosclz_bitshuffle_split.rename(columns = {'cratio':'cratio', ' speed':'speed', ' special_vals':'special_vals', ' nchunk':'nchunk', ' category':'category'}, inplace = True)\n",
    "\n",
    "df_blosclz_bitshuffle_split[\"delete\"] = df_blosclz_bitshuffle_split.apply(lambda x: delete(x[2]), axis=1)\n",
    "filtered_df_blosclz_bitshuffle_split = df_blosclz_bitshuffle_split\n",
    "filtered_df_blosclz_bitshuffle_split[filtered_df_blosclz_bitshuffle_split['special_vals'] == 1].shape"
   ]
  },
  {
   "cell_type": "code",
   "execution_count": 11,
   "id": "00cc2a26",
   "metadata": {},
   "outputs": [
    {
     "data": {
      "text/plain": [
       "(12305, 7)"
      ]
     },
     "execution_count": 11,
     "metadata": {},
     "output_type": "execute_result"
    }
   ],
   "source": [
    "df_lz4_nofilter_split = pd.read_csv(path/'lz4-nofilter-split.csv.gz', delimiter=',')\n",
    "codec_filter = np.repeat('lz4-nofilter-split', 55296)\n",
    "df_lz4_nofilter_split['codec_filter'] = codec_filter\n",
    "df_lz4_nofilter_split.rename(columns = {'cratio':'cratio', ' speed':'speed', ' special_vals':'special_vals', ' nchunk':'nchunk', ' category':'category'}, inplace = True)\n",
    "\n",
    "df_lz4_nofilter_split[\"delete\"] = df_lz4_nofilter_split.apply(lambda x: delete(x[2]), axis=1)\n",
    "filtered_df_lz4_nofilter_split = df_lz4_nofilter_split\n",
    "filtered_df_lz4_nofilter_split[filtered_df_lz4_nofilter_split['special_vals'] == 1].shape"
   ]
  },
  {
   "cell_type": "code",
   "execution_count": 12,
   "id": "b7c2ecfe",
   "metadata": {},
   "outputs": [
    {
     "data": {
      "text/plain": [
       "(31575, 7)"
      ]
     },
     "execution_count": 12,
     "metadata": {},
     "output_type": "execute_result"
    }
   ],
   "source": [
    "df_lz4_shuffle_split = pd.read_csv(path/'lz4-shuffle-split.csv.gz', delimiter=',')\n",
    "codec_filter = np.repeat('lz4-shuffle-split', 55296)\n",
    "df_lz4_shuffle_split['codec_filter'] = codec_filter\n",
    "df_lz4_shuffle_split.rename(columns = {'cratio':'cratio', ' speed':'speed', ' special_vals':'special_vals', ' nchunk':'nchunk', ' category':'category'}, inplace = True)\n",
    "\n",
    "df_lz4_shuffle_split[\"delete\"] = df_lz4_shuffle_split.apply(lambda x: delete(x[2]), axis=1)\n",
    "filtered_df_lz4_shuffle_split = df_lz4_shuffle_split\n",
    "filtered_df_lz4_shuffle_split[filtered_df_lz4_shuffle_split['special_vals'] == 1].shape"
   ]
  },
  {
   "cell_type": "code",
   "execution_count": 13,
   "id": "8c5dff87",
   "metadata": {},
   "outputs": [
    {
     "data": {
      "text/plain": [
       "(31575, 7)"
      ]
     },
     "execution_count": 13,
     "metadata": {},
     "output_type": "execute_result"
    }
   ],
   "source": [
    "df_lz4_bitshuffle_split = pd.read_csv(path/'lz4-bitshuffle-split.csv.gz', delimiter=',')\n",
    "codec_filter = np.repeat('lz4-bitshuffle-split', 55296)\n",
    "df_lz4_bitshuffle_split['codec_filter'] = codec_filter\n",
    "df_lz4_bitshuffle_split.rename(columns = {'cratio':'cratio', ' speed':'speed', ' special_vals':'special_vals', ' nchunk':'nchunk', ' category':'category'}, inplace = True)\n",
    "\n",
    "df_lz4_bitshuffle_split[\"delete\"] = df_lz4_bitshuffle_split.apply(lambda x: delete(x[2]), axis=1)\n",
    "filtered_df_lz4_bitshuffle_split = df_lz4_bitshuffle_split\n",
    "filtered_df_lz4_bitshuffle_split[filtered_df_lz4_bitshuffle_split['special_vals'] == 1].shape\n"
   ]
  },
  {
   "cell_type": "code",
   "execution_count": 14,
   "id": "c20e6a6b",
   "metadata": {},
   "outputs": [
    {
     "data": {
      "text/plain": [
       "(12305, 7)"
      ]
     },
     "execution_count": 14,
     "metadata": {},
     "output_type": "execute_result"
    }
   ],
   "source": [
    "df_lz4hc_nofilter_split = pd.read_csv(path/'lz4hc-nofilter-split.csv.gz', delimiter=',')\n",
    "codec_filter = np.repeat('lz4hc-nofilter-split', 55296)\n",
    "df_lz4hc_nofilter_split['codec_filter'] = codec_filter\n",
    "df_lz4hc_nofilter_split.rename(columns = {'cratio':'cratio', ' speed':'speed', ' special_vals':'special_vals', ' nchunk':'nchunk', ' category':'category'}, inplace = True)\n",
    "\n",
    "df_lz4hc_nofilter_split[\"delete\"] = df_lz4hc_nofilter_split.apply(lambda x: delete(x[2]), axis=1)\n",
    "filtered_df_lz4hc_nofilter_split = df_lz4hc_nofilter_split\n",
    "filtered_df_lz4hc_nofilter_split[filtered_df_lz4hc_nofilter_split['special_vals'] == 1].shape\n"
   ]
  },
  {
   "cell_type": "code",
   "execution_count": 15,
   "id": "a5344a24",
   "metadata": {},
   "outputs": [],
   "source": [
    "df_lz4hc_bitshuffle_split = pd.read_csv(path/'lz4hc-bitshuffle-split.csv.gz', delimiter=',')\n",
    "codec_filter = np.repeat('lz4hc-bitshuffle-split', 55296)\n",
    "df_lz4hc_bitshuffle_split['codec_filter'] = codec_filter\n",
    "df_lz4hc_bitshuffle_split.rename(columns = {'cratio':'cratio', ' speed':'speed', ' special_vals':'special_vals', ' nchunk':'nchunk', ' category':'category'}, inplace = True)\n",
    "\n",
    "df_lz4hc_bitshuffle_split[\"delete\"] = df_lz4hc_bitshuffle_split.apply(lambda x: delete(x[2]), axis=1)\n",
    "filtered_df_lz4hc_bitshuffle_split = df_lz4hc_bitshuffle_split"
   ]
  },
  {
   "cell_type": "code",
   "execution_count": 16,
   "id": "030bbfd9",
   "metadata": {},
   "outputs": [],
   "source": [
    "df_lz4hc_shuffle_split = pd.read_csv(path/'lz4hc-shuffle-split.csv.gz', delimiter=',')\n",
    "codec_filter = np.repeat('lz4hc-shuffle-split', 55296)\n",
    "df_lz4hc_shuffle_split['codec_filter'] = codec_filter\n",
    "df_lz4hc_shuffle_split.rename(columns = {'cratio':'cratio', ' speed':'speed', ' special_vals':'special_vals', ' nchunk':'nchunk', ' category':'category'}, inplace = True)\n",
    "\n",
    "df_lz4hc_shuffle_split[\"delete\"] = df_lz4hc_shuffle_split.apply(lambda x: delete(x[2]), axis=1)\n",
    "filtered_df_lz4hc_shuffle_split = df_lz4hc_shuffle_split"
   ]
  },
  {
   "cell_type": "code",
   "execution_count": 17,
   "id": "12ef92be",
   "metadata": {},
   "outputs": [],
   "source": [
    "df_zlib_nofilter_split = pd.read_csv(path/'zlib-nofilter-split.csv.gz', delimiter=',')\n",
    "codec_filter = np.repeat('zlib-nofilter-split', 55296)\n",
    "df_zlib_nofilter_split['codec_filter'] = codec_filter\n",
    "df_zlib_nofilter_split.rename(columns = {'cratio':'cratio', ' speed':'speed', ' special_vals':'special_vals', ' nchunk':'nchunk', ' category':'category'}, inplace = True)\n",
    "\n",
    "df_zlib_nofilter_split[\"delete\"] = df_zlib_nofilter_split.apply(lambda x: delete(x[2]), axis=1)\n",
    "filtered_df_zlib_nofilter_split = df_zlib_nofilter_split"
   ]
  },
  {
   "cell_type": "code",
   "execution_count": 18,
   "id": "46e7bf46",
   "metadata": {},
   "outputs": [],
   "source": [
    "df_zlib_shuffle_split = pd.read_csv(path/'zlib-shuffle-split.csv.gz', delimiter=',')\n",
    "codec_filter = np.repeat('zlib-shuffle-split', 55296)\n",
    "df_zlib_shuffle_split['codec_filter'] = codec_filter\n",
    "df_zlib_shuffle_split.rename(columns = {'cratio':'cratio', ' speed':'speed', ' special_vals':'special_vals', ' nchunk':'nchunk', ' category':'category'}, inplace = True)\n",
    "\n",
    "df_zlib_shuffle_split[\"delete\"] = df_zlib_shuffle_split.apply(lambda x: delete(x[2]), axis=1)\n",
    "filtered_df_zlib_shuffle_split = df_zlib_shuffle_split"
   ]
  },
  {
   "cell_type": "code",
   "execution_count": 19,
   "id": "72cec673",
   "metadata": {},
   "outputs": [],
   "source": [
    "df_zlib_bitshuffle_split = pd.read_csv(path/'zlib-bitshuffle-split.csv.gz', delimiter=',')\n",
    "codec_filter = np.repeat('zlib-bitshuffle-split', 55296)\n",
    "df_zlib_bitshuffle_split['codec_filter'] = codec_filter\n",
    "df_zlib_bitshuffle_split.rename(columns = {'cratio':'cratio', ' speed':'speed', ' special_vals':'special_vals', ' nchunk':'nchunk', ' category':'category'}, inplace = True)\n",
    "\n",
    "df_zlib_bitshuffle_split[\"delete\"] = df_zlib_bitshuffle_split.apply(lambda x: delete(x[2]), axis=1)\n",
    "filtered_df_zlib_bitshuffle_split = df_zlib_bitshuffle_split"
   ]
  },
  {
   "cell_type": "code",
   "execution_count": 20,
   "id": "3f8489e3",
   "metadata": {},
   "outputs": [],
   "source": [
    "df_zstd_nofilter_split = pd.read_csv(path/'zstd-nofilter-split.csv.gz', delimiter=',')\n",
    "codec_filter = np.repeat('zstd-nofilter-split', 55296)\n",
    "df_zstd_nofilter_split['codec_filter'] = codec_filter\n",
    "df_zstd_nofilter_split.rename(columns = {'cratio':'cratio', ' speed':'speed', ' special_vals':'special_vals', ' nchunk':'nchunk', ' category':'category'}, inplace = True)\n",
    "\n",
    "df_zstd_nofilter_split[\"delete\"] = df_zstd_nofilter_split.apply(lambda x: delete(x[2]), axis=1)\n",
    "filtered_df_zstd_nofilter_split = df_zstd_nofilter_split"
   ]
  },
  {
   "cell_type": "code",
   "execution_count": 21,
   "id": "2b5a4e23",
   "metadata": {},
   "outputs": [],
   "source": [
    "df_zstd_shuffle_split = pd.read_csv(path/'zstd-shuffle-split.csv.gz', delimiter=',')\n",
    "codec_filter = np.repeat('zstd-shuffle-split', 55296)\n",
    "df_zstd_shuffle_split['codec_filter'] = codec_filter\n",
    "df_zstd_shuffle_split.rename(columns = {'cratio':'cratio', ' speed':'speed', ' special_vals':'special_vals', ' nchunk':'nchunk', ' category':'category'}, inplace = True)\n",
    "\n",
    "df_zstd_shuffle_split[\"delete\"] = df_zstd_shuffle_split.apply(lambda x: delete(x[2]), axis=1)\n",
    "filtered_df_zstd_shuffle_split = df_zstd_shuffle_split"
   ]
  },
  {
   "cell_type": "code",
   "execution_count": 22,
   "id": "dd24e4d3",
   "metadata": {},
   "outputs": [],
   "source": [
    "df_zstd_bitshuffle_split = pd.read_csv(path/'zstd-bitshuffle-split.csv.gz', delimiter=',')\n",
    "codec_filter = np.repeat('zstd-bitshuffle-split', 55296)\n",
    "df_zstd_bitshuffle_split['codec_filter'] = codec_filter\n",
    "df_zstd_bitshuffle_split.rename(columns = {'cratio':'cratio', ' speed':'speed', ' special_vals':'special_vals', ' nchunk':'nchunk', ' category':'category'}, inplace = True)\n",
    "\n",
    "df_zstd_bitshuffle_split[\"delete\"] = df_zstd_bitshuffle_split.apply(lambda x: delete(x[2]), axis=1)\n",
    "filtered_df_zstd_bitshuffle_split = df_zstd_bitshuffle_split"
   ]
  },
  {
   "cell_type": "markdown",
   "id": "141a07ea",
   "metadata": {},
   "source": [
    "Archivos códecs-nosplit"
   ]
  },
  {
   "cell_type": "code",
   "execution_count": 23,
   "id": "38a044ec",
   "metadata": {},
   "outputs": [
    {
     "data": {
      "text/plain": [
       "(2264, 7)"
      ]
     },
     "execution_count": 23,
     "metadata": {},
     "output_type": "execute_result"
    }
   ],
   "source": [
    "df_blosclz_nofilter_nosplit = pd.read_csv(path/'blosclz-nofilter-nosplit.csv.gz', delimiter=',')\n",
    "codec_filter = np.repeat('blosclz-nofilter-nosplit', 13824)\n",
    "df_blosclz_nofilter_nosplit['codec_filter'] = codec_filter\n",
    "df_blosclz_nofilter_nosplit.rename(columns = {'cratio':'cratio', ' speed':'speed', ' special_vals':'special_vals', ' nchunk':'nchunk', ' category':'category'}, inplace = True)\n",
    "\n",
    "df_blosclz_nofilter_nosplit[\"delete\"] = df_blosclz_nofilter_nosplit.apply(lambda x: delete(x[2]), axis=1)\n",
    "filtered_df_blosclz_nofilter_nosplit = df_blosclz_nofilter_nosplit\n",
    "filtered_df_blosclz_nofilter_nosplit[filtered_df_blosclz_nofilter_nosplit['special_vals'] == 1].shape"
   ]
  },
  {
   "cell_type": "code",
   "execution_count": 24,
   "id": "28935fe9",
   "metadata": {},
   "outputs": [
    {
     "data": {
      "text/plain": [
       "(2264, 7)"
      ]
     },
     "execution_count": 24,
     "metadata": {},
     "output_type": "execute_result"
    }
   ],
   "source": [
    "df_blosclz_shuffle_nosplit = pd.read_csv(path/'blosclz-shuffle-nosplit.csv.gz', delimiter=',')\n",
    "codec_filter = np.repeat('blosclz-shuffle-nosplit', 13824)\n",
    "df_blosclz_shuffle_nosplit['codec_filter'] = codec_filter\n",
    "df_blosclz_shuffle_nosplit.rename(columns = {'cratio':'cratio', ' speed':'speed', ' special_vals':'special_vals', ' nchunk':'nchunk', ' category':'category'}, inplace = True)\n",
    "\n",
    "df_blosclz_shuffle_nosplit[\"delete\"] = df_blosclz_shuffle_nosplit.apply(lambda x: delete(x[2]), axis=1)\n",
    "filtered_df_blosclz_shuffle_nosplit = df_blosclz_shuffle_nosplit\n",
    "filtered_df_blosclz_shuffle_nosplit[filtered_df_blosclz_shuffle_nosplit['special_vals'] == 1].shape\n"
   ]
  },
  {
   "cell_type": "code",
   "execution_count": 25,
   "id": "c7e741b2",
   "metadata": {},
   "outputs": [],
   "source": [
    "df_blosclz_bitshuffle_nosplit = pd.read_csv(path/'blosclz-bitshuffle-nosplit.csv.gz', delimiter=',')\n",
    "codec_filter = np.repeat('blosclz-bitshuffle-nosplit', 13824)\n",
    "df_blosclz_bitshuffle_nosplit['codec_filter'] = codec_filter\n",
    "df_blosclz_bitshuffle_nosplit.rename(columns = {'cratio':'cratio', ' speed':'speed', ' special_vals':'special_vals', ' nchunk':'nchunk', ' category':'category'}, inplace = True)\n",
    "\n",
    "df_blosclz_bitshuffle_nosplit[\"delete\"] = df_blosclz_bitshuffle_nosplit.apply(lambda x: delete(x[2]), axis=1)\n",
    "filtered_df_blosclz_bitshuffle_nosplit = df_blosclz_bitshuffle_nosplit"
   ]
  },
  {
   "cell_type": "code",
   "execution_count": 26,
   "id": "eeea65db",
   "metadata": {},
   "outputs": [],
   "source": [
    "df_lz4_nofilter_nosplit = pd.read_csv(path/'lz4-nofilter-nosplit.csv.gz', delimiter=',')\n",
    "codec_filter = np.repeat('lz4-nofilter-nosplit', 13824)\n",
    "df_lz4_nofilter_nosplit['codec_filter'] = codec_filter\n",
    "df_lz4_nofilter_nosplit.rename(columns = {'cratio':'cratio', ' speed':'speed', ' special_vals':'special_vals', ' nchunk':'nchunk', ' category':'category'}, inplace = True)\n",
    "\n",
    "df_lz4_nofilter_nosplit[\"delete\"] = df_lz4_nofilter_nosplit.apply(lambda x: delete(x[2]), axis=1)\n",
    "filtered_df_lz4_nofilter_nosplit = df_lz4_nofilter_nosplit"
   ]
  },
  {
   "cell_type": "code",
   "execution_count": 27,
   "id": "cfe246d1",
   "metadata": {},
   "outputs": [],
   "source": [
    "df_lz4_shuffle_nosplit = pd.read_csv(path/'lz4-shuffle-nosplit.csv.gz', delimiter=',')\n",
    "codec_filter = np.repeat('lz4-shuffle-nosplit', 13824)\n",
    "df_lz4_shuffle_nosplit['codec_filter'] = codec_filter\n",
    "df_lz4_shuffle_nosplit.rename(columns = {'cratio':'cratio', ' speed':'speed', ' special_vals':'special_vals', ' nchunk':'nchunk', ' category':'category'}, inplace = True)\n",
    "\n",
    "df_lz4_shuffle_nosplit[\"delete\"] = df_lz4_shuffle_nosplit.apply(lambda x: delete(x[2]), axis=1)\n",
    "filtered_df_lz4_shuffle_nosplit = df_lz4_shuffle_nosplit"
   ]
  },
  {
   "cell_type": "code",
   "execution_count": 28,
   "id": "b4c59f32",
   "metadata": {},
   "outputs": [],
   "source": [
    "df_lz4_bitshuffle_nosplit = pd.read_csv(path/'lz4-bitshuffle-nosplit.csv.gz', delimiter=',')\n",
    "codec_filter = np.repeat('lz4-bitshuffle-nosplit', 13824)\n",
    "df_lz4_bitshuffle_nosplit['codec_filter'] = codec_filter\n",
    "df_lz4_bitshuffle_nosplit.rename(columns = {'cratio':'cratio', ' speed':'speed', ' special_vals':'special_vals', ' nchunk':'nchunk', ' category':'category'}, inplace = True)\n",
    "\n",
    "df_lz4_bitshuffle_nosplit[\"delete\"] = df_lz4_bitshuffle_nosplit.apply(lambda x: delete(x[2]), axis=1)\n",
    "filtered_df_lz4_bitshuffle_nosplit = df_lz4_bitshuffle_nosplit"
   ]
  },
  {
   "cell_type": "code",
   "execution_count": 29,
   "id": "cb21e326",
   "metadata": {},
   "outputs": [],
   "source": [
    "df_lz4hc_nofilter_nosplit = pd.read_csv(path/'lz4hc-nofilter-nosplit.csv.gz', delimiter=',')\n",
    "codec_filter = np.repeat('lz4hc-nofilter-nosplit', 13824)\n",
    "df_lz4hc_nofilter_nosplit['codec_filter'] = codec_filter\n",
    "df_lz4hc_nofilter_nosplit.rename(columns = {'cratio':'cratio', ' speed':'speed', ' special_vals':'special_vals', ' nchunk':'nchunk', ' category':'category'}, inplace = True)\n",
    "\n",
    "df_lz4hc_nofilter_nosplit[\"delete\"] = df_lz4hc_nofilter_nosplit.apply(lambda x: delete(x[2]), axis=1)\n",
    "filtered_df_lz4hc_nofilter_nosplit = df_lz4hc_nofilter_nosplit"
   ]
  },
  {
   "cell_type": "code",
   "execution_count": 30,
   "id": "dae665e8",
   "metadata": {},
   "outputs": [],
   "source": [
    "df_lz4hc_shuffle_nosplit = pd.read_csv(path/'lz4hc-shuffle-nosplit.csv.gz', delimiter=',')\n",
    "codec_filter = np.repeat('lz4hc-shuffle-nosplit', 13824)\n",
    "df_lz4hc_shuffle_nosplit['codec_filter'] = codec_filter\n",
    "df_lz4hc_shuffle_nosplit.rename(columns = {'cratio':'cratio', ' speed':'speed', ' special_vals':'special_vals', ' nchunk':'nchunk', ' category':'category'}, inplace = True)\n",
    "\n",
    "df_lz4hc_shuffle_nosplit[\"delete\"] = df_lz4hc_shuffle_nosplit.apply(lambda x: delete(x[2]), axis=1)\n",
    "filtered_df_lz4hc_shuffle_nosplit = df_lz4hc_shuffle_nosplit"
   ]
  },
  {
   "cell_type": "code",
   "execution_count": 31,
   "id": "2d3f14c5",
   "metadata": {},
   "outputs": [],
   "source": [
    "df_lz4hc_bitshuffle_nosplit = pd.read_csv(path/'lz4hc-bitshuffle-nosplit.csv.gz', delimiter=',')\n",
    "codec_filter = np.repeat('lz4hc-bitshuffle-nosplit', 13824)\n",
    "df_lz4hc_bitshuffle_nosplit['codec_filter'] = codec_filter\n",
    "df_lz4hc_bitshuffle_nosplit.rename(columns = {'cratio':'cratio', ' speed':'speed', ' special_vals':'special_vals', ' nchunk':'nchunk', ' category':'category'}, inplace = True)\n",
    "\n",
    "df_lz4hc_bitshuffle_nosplit[\"delete\"] = df_lz4hc_bitshuffle_nosplit.apply(lambda x: delete(x[2]), axis=1)\n",
    "filtered_df_lz4hc_bitshuffle_nosplit = df_lz4hc_bitshuffle_nosplit"
   ]
  },
  {
   "cell_type": "code",
   "execution_count": 32,
   "id": "ebd12efb",
   "metadata": {},
   "outputs": [],
   "source": [
    "df_zlib_nofilter_nosplit = pd.read_csv(path/'zlib-nofilter-nosplit.csv.gz', delimiter=',')\n",
    "codec_filter = np.repeat('zlib-nofilter-nosplit', 13824)\n",
    "df_zlib_nofilter_nosplit['codec_filter'] = codec_filter\n",
    "df_zlib_nofilter_nosplit.rename(columns = {'cratio':'cratio', ' speed':'speed', ' special_vals':'special_vals', ' nchunk':'nchunk', ' category':'category'}, inplace = True)\n",
    "\n",
    "df_zlib_nofilter_nosplit[\"delete\"] = df_zlib_nofilter_nosplit.apply(lambda x: delete(x[2]), axis=1)\n",
    "filtered_df_zlib_nofilter_nosplit = df_zlib_nofilter_nosplit"
   ]
  },
  {
   "cell_type": "code",
   "execution_count": 33,
   "id": "3165057d",
   "metadata": {},
   "outputs": [],
   "source": [
    "df_zlib_shuffle_nosplit = pd.read_csv(path/'zlib-shuffle-nosplit.csv.gz', delimiter=',')\n",
    "codec_filter = np.repeat('zlib-shuffle-nosplit', 13824)\n",
    "df_zlib_shuffle_nosplit['codec_filter'] = codec_filter\n",
    "df_zlib_shuffle_nosplit.rename(columns = {'cratio':'cratio', ' speed':'speed', ' special_vals':'special_vals', ' nchunk':'nchunk', ' category':'category'}, inplace = True)\n",
    "\n",
    "df_zlib_shuffle_nosplit[\"delete\"] = df_zlib_shuffle_nosplit.apply(lambda x: delete(x[2]), axis=1)\n",
    "filtered_df_zlib_shuffle_nosplit = df_zlib_shuffle_nosplit"
   ]
  },
  {
   "cell_type": "code",
   "execution_count": 34,
   "id": "f6651fb5",
   "metadata": {},
   "outputs": [],
   "source": [
    "df_zlib_bitshuffle_nosplit = pd.read_csv(path/'zlib-bitshuffle-nosplit.csv.gz', delimiter=',')\n",
    "codec_filter = np.repeat('zlib-bitshuffle-nosplit', 13824)\n",
    "df_zlib_bitshuffle_nosplit['codec_filter'] = codec_filter\n",
    "df_zlib_bitshuffle_nosplit.rename(columns = {'cratio':'cratio', ' speed':'speed', ' special_vals':'special_vals', ' nchunk':'nchunk', ' category':'category'}, inplace = True)\n",
    "\n",
    "df_zlib_bitshuffle_nosplit[\"delete\"] = df_zlib_bitshuffle_nosplit.apply(lambda x: delete(x[2]), axis=1)\n",
    "filtered_df_zlib_bitshuffle_nosplit = df_zlib_bitshuffle_nosplit"
   ]
  },
  {
   "cell_type": "code",
   "execution_count": 35,
   "id": "65c3504e",
   "metadata": {},
   "outputs": [],
   "source": [
    "df_zstd_nofilter_nosplit = pd.read_csv(path/'zstd-nofilter-nosplit.csv.gz', delimiter=',')\n",
    "codec_filter = np.repeat('zstd-nofilter-nosplit', 13824)\n",
    "df_zstd_nofilter_nosplit['codec_filter'] = codec_filter\n",
    "df_zstd_nofilter_nosplit.rename(columns = {'cratio':'cratio', ' speed':'speed', ' special_vals':'special_vals', ' nchunk':'nchunk', ' category':'category'}, inplace = True)\n",
    "\n",
    "df_zstd_nofilter_nosplit[\"delete\"] = df_zstd_nofilter_nosplit.apply(lambda x: delete(x[2]), axis=1)\n",
    "filtered_df_zstd_nofilter_nosplit = df_zstd_nofilter_nosplit"
   ]
  },
  {
   "cell_type": "code",
   "execution_count": 36,
   "id": "e19dafcb",
   "metadata": {},
   "outputs": [],
   "source": [
    "df_zstd_shuffle_nosplit = pd.read_csv(path/'zstd-shuffle-nosplit.csv.gz', delimiter=',')\n",
    "codec_filter = np.repeat('zstd-shuffle-nosplit', 13824)\n",
    "df_zstd_shuffle_nosplit['codec_filter'] = codec_filter\n",
    "df_zstd_shuffle_nosplit.rename(columns = {'cratio':'cratio', ' speed':'speed', ' special_vals':'special_vals', ' nchunk':'nchunk', ' category':'category'}, inplace = True)\n",
    "\n",
    "df_zstd_shuffle_nosplit[\"delete\"] = df_zstd_shuffle_nosplit.apply(lambda x: delete(x[2]), axis=1)\n",
    "filtered_df_zstd_shuffle_nosplit = df_zstd_shuffle_nosplit"
   ]
  },
  {
   "cell_type": "code",
   "execution_count": 37,
   "id": "6f7e0b12",
   "metadata": {},
   "outputs": [],
   "source": [
    "df_zstd_bitshuffle_nosplit = pd.read_csv(path/'zstd-bitshuffle-nosplit.csv.gz', delimiter=',')\n",
    "codec_filter = np.repeat('zstd-bitshuffle-nosplit', 13824)\n",
    "df_zstd_bitshuffle_nosplit['codec_filter'] = codec_filter\n",
    "df_zstd_bitshuffle_nosplit.rename(columns = {'cratio':'cratio', ' speed':'speed', ' special_vals':'special_vals', ' nchunk':'nchunk', ' category':'category'}, inplace = True)\n",
    "\n",
    "df_zstd_bitshuffle_nosplit[\"delete\"] = df_zstd_bitshuffle_nosplit.apply(lambda x: delete(x[2]), axis=1)\n",
    "filtered_df_zstd_bitshuffle_nosplit = df_zstd_bitshuffle_nosplit"
   ]
  },
  {
   "cell_type": "markdown",
   "id": "029dbf28",
   "metadata": {},
   "source": [
    "Calculamos cuántos splits tiene cada chunk"
   ]
  },
  {
   "cell_type": "code",
   "execution_count": 38,
   "id": "c24524dd",
   "metadata": {},
   "outputs": [
    {
     "data": {
      "text/plain": [
       "(55296, 7)"
      ]
     },
     "execution_count": 38,
     "metadata": {},
     "output_type": "execute_result"
    }
   ],
   "source": [
    "filtered_df_blosclz_nofilter_split.shape"
   ]
  },
  {
   "cell_type": "code",
   "execution_count": 39,
   "id": "119e88c3",
   "metadata": {},
   "outputs": [
    {
     "data": {
      "text/plain": [
       "(13824, 7)"
      ]
     },
     "execution_count": 39,
     "metadata": {},
     "output_type": "execute_result"
    }
   ],
   "source": [
    "filtered_df_blosclz_nofilter_nosplit.shape"
   ]
  },
  {
   "cell_type": "code",
   "execution_count": 40,
   "id": "367ab45f",
   "metadata": {},
   "outputs": [
    {
     "data": {
      "text/plain": [
       "4.0"
      ]
     },
     "execution_count": 40,
     "metadata": {},
     "output_type": "execute_result"
    }
   ],
   "source": [
    "55296/13824"
   ]
  },
  {
   "cell_type": "markdown",
   "id": "6159e637",
   "metadata": {},
   "source": [
    "Modificamos las combinaciones no split "
   ]
  },
  {
   "cell_type": "code",
   "execution_count": 41,
   "id": "d3ceeb0f",
   "metadata": {},
   "outputs": [],
   "source": [
    "filtered_df_blosclz_nofilter_nosplit = filtered_df_blosclz_nofilter_nosplit.loc[np.repeat(filtered_df_blosclz_nofilter_nosplit.index.values, 4)]\n",
    "filtered_df_lz4_nofilter_nosplit = filtered_df_lz4_nofilter_nosplit.loc[np.repeat(filtered_df_lz4_nofilter_nosplit.index.values, 4)]\n",
    "filtered_df_lz4hc_nofilter_nosplit = filtered_df_lz4hc_nofilter_nosplit.loc[np.repeat(filtered_df_lz4hc_nofilter_nosplit.index.values, 4)]\n",
    "filtered_df_zlib_nofilter_nosplit = filtered_df_zlib_nofilter_nosplit.loc[np.repeat(filtered_df_zlib_nofilter_nosplit.index.values, 4)]\n",
    "filtered_df_zstd_nofilter_nosplit = filtered_df_zstd_nofilter_nosplit.loc[np.repeat(filtered_df_zstd_nofilter_nosplit.index.values, 4)]"
   ]
  },
  {
   "cell_type": "code",
   "execution_count": 42,
   "id": "2f7f904c",
   "metadata": {},
   "outputs": [],
   "source": [
    "filtered_df_blosclz_shuffle_nosplit = filtered_df_blosclz_shuffle_nosplit.loc[np.repeat(filtered_df_blosclz_shuffle_nosplit.index.values, 4)]\n",
    "filtered_df_lz4_shuffle_nosplit = filtered_df_lz4_shuffle_nosplit.loc[np.repeat(filtered_df_lz4_shuffle_nosplit.index.values, 4)]\n",
    "filtered_df_lz4hc_shuffle_nosplit = filtered_df_lz4hc_shuffle_nosplit.loc[np.repeat(filtered_df_lz4hc_shuffle_nosplit.index.values, 4)]\n",
    "filtered_df_zlib_shuffle_nosplit = filtered_df_zlib_shuffle_nosplit.loc[np.repeat(filtered_df_zlib_shuffle_nosplit.index.values, 4)]\n",
    "filtered_df_zstd_shuffle_nosplit = filtered_df_zstd_shuffle_nosplit.loc[np.repeat(filtered_df_zstd_shuffle_nosplit.index.values, 4)]"
   ]
  },
  {
   "cell_type": "code",
   "execution_count": 43,
   "id": "33c46145",
   "metadata": {},
   "outputs": [],
   "source": [
    "filtered_df_blosclz_bitshuffle_nosplit = filtered_df_blosclz_bitshuffle_nosplit.loc[np.repeat(filtered_df_blosclz_bitshuffle_nosplit.index.values, 4)]\n",
    "filtered_df_lz4_bitshuffle_nosplit = filtered_df_lz4_bitshuffle_nosplit.loc[np.repeat(filtered_df_lz4_bitshuffle_nosplit.index.values, 4)]\n",
    "filtered_df_lz4hc_bitshuffle_nosplit = filtered_df_lz4hc_bitshuffle_nosplit.loc[np.repeat(filtered_df_lz4hc_bitshuffle_nosplit.index.values, 4)]\n",
    "filtered_df_zlib_bitshuffle_nosplit = filtered_df_zlib_bitshuffle_nosplit.loc[np.repeat(filtered_df_zlib_bitshuffle_nosplit.index.values, 4)]\n",
    "filtered_df_zstd_bitshuffle_nosplit = filtered_df_zstd_bitshuffle_nosplit.loc[np.repeat(filtered_df_zstd_bitshuffle_nosplit.index.values, 4)]"
   ]
  },
  {
   "cell_type": "markdown",
   "id": "d2f6711a",
   "metadata": {},
   "source": [
    "# DEEP LEARNING - RED NEURONAL (con las 30 categorías)"
   ]
  },
  {
   "cell_type": "code",
   "execution_count": 44,
   "id": "3aecca5f",
   "metadata": {},
   "outputs": [],
   "source": [
    "data_real = pd.DataFrame()\n",
    "data_real = pd.concat([data_real, filtered_df_blosclz_nofilter_split, \n",
    "                      filtered_df_lz4_nofilter_split, \n",
    "                      filtered_df_lz4hc_nofilter_split, \n",
    "                      filtered_df_zlib_nofilter_split, \n",
    "                      filtered_df_zstd_nofilter_split, \n",
    "                      \n",
    "                      filtered_df_blosclz_shuffle_split, \n",
    "                      filtered_df_lz4_shuffle_split, \n",
    "                      filtered_df_lz4hc_shuffle_split, \n",
    "                      filtered_df_zlib_shuffle_split, \n",
    "                      filtered_df_zstd_shuffle_split, \n",
    "                      \n",
    "                      filtered_df_blosclz_bitshuffle_split, \n",
    "                      filtered_df_lz4_bitshuffle_split, \n",
    "                      filtered_df_lz4hc_bitshuffle_split, \n",
    "                      filtered_df_zlib_bitshuffle_split, \n",
    "                      filtered_df_zstd_bitshuffle_split,\n",
    "                       \n",
    "                      filtered_df_blosclz_nofilter_nosplit, \n",
    "                      filtered_df_lz4_nofilter_nosplit, \n",
    "                      filtered_df_lz4hc_nofilter_nosplit, \n",
    "                      filtered_df_zlib_nofilter_nosplit, \n",
    "                      filtered_df_zstd_nofilter_nosplit, \n",
    "                      \n",
    "                      filtered_df_blosclz_shuffle_nosplit, \n",
    "                      filtered_df_lz4_shuffle_nosplit, \n",
    "                      filtered_df_lz4hc_shuffle_nosplit, \n",
    "                      filtered_df_zlib_shuffle_nosplit, \n",
    "                      filtered_df_zstd_shuffle_nosplit, \n",
    "                      \n",
    "                      filtered_df_blosclz_bitshuffle_nosplit, \n",
    "                      filtered_df_lz4_bitshuffle_nosplit, \n",
    "                      filtered_df_lz4hc_bitshuffle_nosplit, \n",
    "                      filtered_df_zlib_bitshuffle_nosplit, \n",
    "                      filtered_df_zstd_bitshuffle_nosplit\n",
    "                      ], axis = 0)\n",
    "\n",
    "labels_real = pd.Series(data_real['category'])\n",
    "data_real = data_real.drop(['special_vals', 'nchunk', 'codec_filter'], axis = 1)"
   ]
  },
  {
   "cell_type": "code",
   "execution_count": 45,
   "id": "fa53dcb2",
   "metadata": {},
   "outputs": [],
   "source": [
    "data_entropy = pd.DataFrame()\n",
    "data_entropy = pd.concat([data_entropy, filtered_df_entropy_nofitler, \n",
    "                         filtered_df_entropy_shuffle, \n",
    "                          filtered_df_entropy_bitshuffle], axis = 0)"
   ]
  },
  {
   "cell_type": "code",
   "execution_count": 46,
   "id": "3fe2fe81",
   "metadata": {},
   "outputs": [],
   "source": [
    "mean_speed = data_real['speed'].mean()\n",
    "mean_cratio = data_real['cratio'].mean()"
   ]
  },
  {
   "cell_type": "markdown",
   "id": "1c552ec8",
   "metadata": {},
   "source": [
    "De las categorias entropy quiero su cratio y speed, no la función de puntuación a maximizar"
   ]
  },
  {
   "cell_type": "code",
   "execution_count": 47,
   "id": "a2491ab0",
   "metadata": {},
   "outputs": [],
   "source": [
    "dfentropy_nofilter = pd.DataFrame()\n",
    "dfentropy_nofilter = pd.concat([dfentropy_nofilter, filtered_df_entropy_nofitler], axis = 0)\n",
    "dfentropy_nofilter = dfentropy_nofilter.drop(['special_vals', 'nchunk', 'category', 'codec_filter'], axis = 1)\n",
    "\n",
    "dfentropy_nofilter.rename(columns = {'delete':'delete31'}, inplace = True)"
   ]
  },
  {
   "cell_type": "code",
   "execution_count": 48,
   "id": "0e9288f3",
   "metadata": {},
   "outputs": [],
   "source": [
    "dfentropy_shuffle = pd.DataFrame()\n",
    "dfentropy_shuffle = pd.concat([dfentropy_shuffle, filtered_df_entropy_shuffle], axis = 0)\n",
    "dfentropy_shuffle = dfentropy_shuffle.drop(['special_vals', 'nchunk', 'category', 'codec_filter'], axis = 1)\n",
    "\n",
    "dfentropy_shuffle.rename(columns = {'delete':'delete32'}, inplace = True)"
   ]
  },
  {
   "cell_type": "code",
   "execution_count": 49,
   "id": "d6cd9bea",
   "metadata": {},
   "outputs": [],
   "source": [
    "dfentropy_bitshuffle = pd.DataFrame()\n",
    "dfentropy_bitshuffle = pd.concat([dfentropy_bitshuffle, filtered_df_entropy_bitshuffle], axis = 0)\n",
    "dfentropy_bitshuffle = dfentropy_bitshuffle.drop(['special_vals', 'nchunk', 'category', 'codec_filter'], axis = 1)\n",
    "\n",
    "dfentropy_bitshuffle.rename(columns = {'delete':'delete33'}, inplace = True)"
   ]
  },
  {
   "cell_type": "code",
   "execution_count": 50,
   "id": "cfa86288",
   "metadata": {},
   "outputs": [],
   "source": [
    "df0 = pd.DataFrame()\n",
    "df0 = pd.concat([df0, filtered_df_blosclz_nofilter_split], axis = 0)\n",
    "df0 = df0.drop(['special_vals', 'nchunk', 'category', 'codec_filter'], axis = 1)\n",
    "\n",
    "df0.insert(2, \"0\", df0['cratio']/mean_cratio + df0['speed']/mean_speed)\n",
    "df0 = df0.drop(['cratio', 'speed'], axis = 1)\n",
    "df0.rename(columns = {'delete':'delete0'}, inplace = True)"
   ]
  },
  {
   "cell_type": "code",
   "execution_count": 51,
   "id": "0884296f",
   "metadata": {},
   "outputs": [],
   "source": [
    "df1 = pd.DataFrame()\n",
    "df1 = pd.concat([df1, filtered_df_lz4_nofilter_split], axis = 0)\n",
    "df1 = df1.drop(['special_vals', 'nchunk', 'category', 'codec_filter'], axis = 1)\n",
    "\n",
    "df1.insert(2, \"1\", df1['cratio']/mean_cratio + df1['speed']/mean_speed)\n",
    "df1 = df1.drop(['cratio', 'speed'], axis = 1)\n",
    "df1.rename(columns = {'delete':'delete1'}, inplace = True)"
   ]
  },
  {
   "cell_type": "code",
   "execution_count": 52,
   "id": "96d36e33",
   "metadata": {},
   "outputs": [],
   "source": [
    "df2 = pd.DataFrame()\n",
    "df2 = pd.concat([df2, filtered_df_lz4hc_nofilter_split], axis = 0)\n",
    "df2 = df2.drop(['special_vals', 'nchunk', 'category', 'codec_filter'], axis = 1)\n",
    "\n",
    "df2.insert(2, \"2\", df2['cratio']/mean_cratio + df2['speed']/mean_speed)\n",
    "df2 = df2.drop(['cratio', 'speed'], axis = 1)\n",
    "df2.rename(columns = {'delete':'delete2'}, inplace = True)"
   ]
  },
  {
   "cell_type": "code",
   "execution_count": 53,
   "id": "e90b08e8",
   "metadata": {},
   "outputs": [],
   "source": [
    "df3 = pd.DataFrame()\n",
    "df3 = pd.concat([df3, filtered_df_zlib_nofilter_split], axis = 0)\n",
    "df3 = df3.drop(['special_vals', 'nchunk', 'category', 'codec_filter'], axis = 1)\n",
    "\n",
    "df3.insert(2, \"3\", df3['cratio']/mean_cratio + df3['speed']/mean_speed)\n",
    "df3 = df3.drop(['cratio', 'speed'], axis = 1)\n",
    "df3.rename(columns = {'delete':'delete3'}, inplace = True)"
   ]
  },
  {
   "cell_type": "code",
   "execution_count": 54,
   "id": "2db91995",
   "metadata": {},
   "outputs": [],
   "source": [
    "df4 = pd.DataFrame()\n",
    "df4 = pd.concat([df4, filtered_df_zstd_nofilter_split], axis = 0)\n",
    "df4 = df4.drop(['special_vals', 'nchunk', 'category', 'codec_filter'], axis = 1)\n",
    "\n",
    "df4.insert(2, \"4\", df4['cratio']/mean_cratio + df4['speed']/mean_speed)\n",
    "df4 = df4.drop(['cratio', 'speed'], axis = 1)\n",
    "df4.rename(columns = {'delete':'delete4'}, inplace = True)"
   ]
  },
  {
   "cell_type": "code",
   "execution_count": 55,
   "id": "e60d3bd3",
   "metadata": {},
   "outputs": [],
   "source": [
    "df5 = pd.DataFrame()\n",
    "df5 = pd.concat([df5, filtered_df_blosclz_shuffle_split], axis = 0)\n",
    "df5 = df5.drop(['special_vals', 'nchunk', 'category', 'codec_filter'], axis = 1)\n",
    "\n",
    "df5.insert(2, \"5\", df5['cratio']/mean_cratio + df5['speed']/mean_speed)\n",
    "df5 = df5.drop(['cratio', 'speed'], axis = 1)\n",
    "df5.rename(columns = {'delete':'delete5'}, inplace = True)"
   ]
  },
  {
   "cell_type": "code",
   "execution_count": 56,
   "id": "d4814e6a",
   "metadata": {},
   "outputs": [],
   "source": [
    "df6 = pd.DataFrame()\n",
    "df6 = pd.concat([df6, filtered_df_lz4_shuffle_split], axis = 0)\n",
    "df6 = df6.drop(['special_vals', 'nchunk', 'category', 'codec_filter'], axis = 1)\n",
    "\n",
    "df6.insert(2, \"6\", df6['cratio']/mean_cratio + df6['speed']/mean_speed)\n",
    "df6 = df6.drop(['cratio', 'speed'], axis = 1)\n",
    "df6.rename(columns = {'delete':'delete6'}, inplace = True)"
   ]
  },
  {
   "cell_type": "code",
   "execution_count": 57,
   "id": "be51f193",
   "metadata": {},
   "outputs": [],
   "source": [
    "df7 = pd.DataFrame()\n",
    "df7 = pd.concat([df7, filtered_df_lz4hc_shuffle_split], axis = 0)\n",
    "df7 = df7.drop(['special_vals', 'nchunk', 'category', 'codec_filter'], axis = 1)\n",
    "\n",
    "df7.insert(2, \"7\", df7['cratio']/mean_cratio + df7['speed']/mean_speed)\n",
    "df7 = df7.drop(['cratio', 'speed'], axis = 1)\n",
    "df7.rename(columns = {'delete':'delete7'}, inplace = True)"
   ]
  },
  {
   "cell_type": "code",
   "execution_count": 58,
   "id": "b06d302f",
   "metadata": {},
   "outputs": [],
   "source": [
    "df8 = pd.DataFrame()\n",
    "df8 = pd.concat([df8, filtered_df_zlib_shuffle_split], axis = 0)\n",
    "df8 = df8.drop(['special_vals', 'nchunk', 'category', 'codec_filter'], axis = 1)\n",
    "\n",
    "df8.insert(2, \"8\", df8['cratio']/mean_cratio + df8['speed']/mean_speed)\n",
    "df8 = df8.drop(['cratio', 'speed'], axis = 1)\n",
    "df8.rename(columns = {'delete':'delete8'}, inplace = True)"
   ]
  },
  {
   "cell_type": "code",
   "execution_count": 59,
   "id": "540279fd",
   "metadata": {},
   "outputs": [],
   "source": [
    "df9 = pd.DataFrame()\n",
    "df9 = pd.concat([df9, filtered_df_zstd_shuffle_split], axis = 0)\n",
    "df9 = df9.drop(['special_vals', 'nchunk', 'category', 'codec_filter'], axis = 1)\n",
    "\n",
    "df9.insert(2, \"9\", df9['cratio']/mean_cratio + df9['speed']/mean_speed)\n",
    "df9 = df9.drop(['cratio', 'speed'], axis = 1)\n",
    "df9.rename(columns = {'delete':'delete9'}, inplace = True)"
   ]
  },
  {
   "cell_type": "code",
   "execution_count": 60,
   "id": "69e3321a",
   "metadata": {},
   "outputs": [],
   "source": [
    "df10 = pd.DataFrame()\n",
    "df10 = pd.concat([df10, filtered_df_blosclz_bitshuffle_split], axis = 0)\n",
    "df10 = df10.drop(['special_vals', 'nchunk', 'category', 'codec_filter'], axis = 1)\n",
    "\n",
    "df10.insert(2, \"10\", df10['cratio']/mean_cratio + df10['speed']/mean_speed)\n",
    "df10 = df10.drop(['cratio', 'speed'], axis = 1)\n",
    "df10.rename(columns = {'delete':'delete10'}, inplace = True)"
   ]
  },
  {
   "cell_type": "code",
   "execution_count": 61,
   "id": "ef82a129",
   "metadata": {},
   "outputs": [],
   "source": [
    "df11 = pd.DataFrame()\n",
    "df11 = pd.concat([df11, filtered_df_lz4_bitshuffle_split], axis = 0)\n",
    "df11 = df11.drop(['special_vals', 'nchunk', 'category', 'codec_filter'], axis = 1)\n",
    "\n",
    "df11.insert(2, \"11\", df11['cratio']/mean_cratio + df11['speed']/mean_speed)\n",
    "df11 = df11.drop(['cratio', 'speed'], axis = 1)\n",
    "df11.rename(columns = {'delete':'delete11'}, inplace = True)"
   ]
  },
  {
   "cell_type": "code",
   "execution_count": 62,
   "id": "52faf965",
   "metadata": {},
   "outputs": [],
   "source": [
    "df12 = pd.DataFrame()\n",
    "df12 = pd.concat([df12, filtered_df_lz4_bitshuffle_split], axis = 0)\n",
    "df12 = df12.drop(['special_vals', 'nchunk', 'category', 'codec_filter'], axis = 1)\n",
    "\n",
    "df12.insert(2, \"12\", df12['cratio']/mean_cratio + df12['speed']/mean_speed)\n",
    "df12 = df12.drop(['cratio', 'speed'], axis = 1)\n",
    "df12.rename(columns = {'delete':'delete12'}, inplace = True)"
   ]
  },
  {
   "cell_type": "code",
   "execution_count": 63,
   "id": "96e2be3c",
   "metadata": {},
   "outputs": [],
   "source": [
    "df13 = pd.DataFrame()\n",
    "df13 = pd.concat([df13, filtered_df_zlib_bitshuffle_split], axis = 0)\n",
    "df13 = df13.drop(['special_vals', 'nchunk', 'category', 'codec_filter'], axis = 1)\n",
    "\n",
    "df13.insert(2, \"13\", df13['cratio']/mean_cratio + df13['speed']/mean_speed)\n",
    "df13 = df13.drop(['cratio', 'speed'], axis = 1)\n",
    "df13.rename(columns = {'delete':'delete13'}, inplace = True)"
   ]
  },
  {
   "cell_type": "code",
   "execution_count": 64,
   "id": "ca2d122a",
   "metadata": {},
   "outputs": [],
   "source": [
    "df14 = pd.DataFrame()\n",
    "df14 = pd.concat([df14, filtered_df_zstd_bitshuffle_split], axis = 0)\n",
    "df14 = df14.drop(['special_vals', 'nchunk', 'category', 'codec_filter'], axis = 1)\n",
    "\n",
    "df14.insert(2, \"14\", df14['cratio']/mean_cratio + df14['speed']/mean_speed)\n",
    "df14 = df14.drop(['cratio', 'speed'], axis = 1)\n",
    "df14.rename(columns = {'delete':'delete14'}, inplace = True)"
   ]
  },
  {
   "cell_type": "code",
   "execution_count": 65,
   "id": "272dbe64",
   "metadata": {},
   "outputs": [],
   "source": [
    "df15 = pd.DataFrame()\n",
    "df15 = pd.concat([df15, filtered_df_blosclz_nofilter_nosplit], axis = 0)\n",
    "df15 = df15.drop(['special_vals', 'nchunk', 'category', 'codec_filter'], axis = 1)\n",
    "\n",
    "df15.insert(2, \"15\", df15['cratio']/mean_cratio + df15['speed']/mean_speed)\n",
    "df15 = df15.drop(['cratio', 'speed'], axis = 1)\n",
    "df15 = df15.reset_index()\n",
    "df15 = df15.drop(['index'], axis = 1)\n",
    "df15.rename(columns = {'delete':'delete15'}, inplace = True)"
   ]
  },
  {
   "cell_type": "code",
   "execution_count": 66,
   "id": "30768746",
   "metadata": {},
   "outputs": [],
   "source": [
    "df16 = pd.DataFrame()\n",
    "df16 = pd.concat([df16, filtered_df_lz4_nofilter_nosplit], axis = 0)\n",
    "df16 = df16.drop(['special_vals', 'nchunk', 'category', 'codec_filter'], axis = 1)\n",
    "\n",
    "df16.insert(2, \"16\", df16['cratio']/mean_cratio + df16['speed']/mean_speed)\n",
    "df16 = df16.drop(['cratio', 'speed'], axis = 1)\n",
    "df16 = df16.reset_index()\n",
    "df16 = df16.drop(['index'], axis = 1)\n",
    "df16.rename(columns = {'delete':'delete16'}, inplace = True)"
   ]
  },
  {
   "cell_type": "code",
   "execution_count": 67,
   "id": "e83f3a0e",
   "metadata": {},
   "outputs": [],
   "source": [
    "df17 = pd.DataFrame()\n",
    "df17 = pd.concat([df17, filtered_df_lz4hc_nofilter_nosplit], axis = 0)\n",
    "df17 = df17.drop(['special_vals', 'nchunk', 'category', 'codec_filter'], axis = 1)\n",
    "\n",
    "df17.insert(2, \"17\", df17['cratio']/mean_cratio + df17['speed']/mean_speed)\n",
    "df17 = df17.drop(['cratio', 'speed'], axis = 1)\n",
    "df17 = df17.reset_index()\n",
    "df17 = df17.drop(['index'], axis = 1)\n",
    "df17.rename(columns = {'delete':'delete17'}, inplace = True)"
   ]
  },
  {
   "cell_type": "code",
   "execution_count": 68,
   "id": "110c8ed8",
   "metadata": {},
   "outputs": [],
   "source": [
    "df18 = pd.DataFrame()\n",
    "df18 = pd.concat([df18, filtered_df_zlib_nofilter_nosplit], axis = 0)\n",
    "df18 = df18.drop(['special_vals', 'nchunk', 'category', 'codec_filter'], axis = 1)\n",
    "\n",
    "df18.insert(2, \"18\", df18['cratio']/mean_cratio + df18['speed']/mean_speed)\n",
    "df18 = df18.drop(['cratio', 'speed'], axis = 1)\n",
    "df18 = df18.reset_index()\n",
    "df18 = df18.drop(['index'], axis = 1)\n",
    "df18.rename(columns = {'delete':'delete18'}, inplace = True)"
   ]
  },
  {
   "cell_type": "code",
   "execution_count": 69,
   "id": "bf27d019",
   "metadata": {},
   "outputs": [],
   "source": [
    "df19 = pd.DataFrame()\n",
    "df19 = pd.concat([df19, filtered_df_zstd_nofilter_nosplit], axis = 0)\n",
    "df19 = df19.drop(['special_vals', 'nchunk', 'category', 'codec_filter'], axis = 1)\n",
    "\n",
    "df19.insert(2, \"19\", df19['cratio']/mean_cratio + df19['speed']/mean_speed)\n",
    "df19 = df19.drop(['cratio', 'speed'], axis = 1)\n",
    "df19 = df19.reset_index()\n",
    "df19 = df19.drop(['index'], axis = 1)\n",
    "df19.rename(columns = {'delete':'delete19'}, inplace = True)"
   ]
  },
  {
   "cell_type": "code",
   "execution_count": 70,
   "id": "60ecf864",
   "metadata": {},
   "outputs": [],
   "source": [
    "df20 = pd.DataFrame()\n",
    "df20 = pd.concat([df20, filtered_df_blosclz_shuffle_nosplit], axis = 0)\n",
    "df20 = df20.drop(['special_vals', 'nchunk', 'category', 'codec_filter'], axis = 1)\n",
    "\n",
    "df20.insert(2, \"20\", df20['cratio']/mean_cratio + df20['speed']/mean_speed)\n",
    "df20 = df20.drop(['cratio', 'speed'], axis = 1)\n",
    "df20 = df20.reset_index()\n",
    "df20 = df20.drop(['index'], axis = 1)\n",
    "df20.rename(columns = {'delete':'delete20'}, inplace = True)"
   ]
  },
  {
   "cell_type": "code",
   "execution_count": 71,
   "id": "cd20520e",
   "metadata": {},
   "outputs": [],
   "source": [
    "df21 = pd.DataFrame()\n",
    "df21 = pd.concat([df21, filtered_df_lz4_shuffle_nosplit], axis = 0)\n",
    "df21 = df21.drop(['special_vals', 'nchunk', 'category', 'codec_filter'], axis = 1)\n",
    "\n",
    "df21.insert(2, \"21\", df21['cratio']/mean_cratio + df21['speed']/mean_speed)\n",
    "df21 = df21.drop(['cratio', 'speed'], axis = 1)\n",
    "df21 = df21.reset_index()\n",
    "df21 = df21.drop(['index'], axis = 1)\n",
    "df21.rename(columns = {'delete':'delete21'}, inplace = True)"
   ]
  },
  {
   "cell_type": "code",
   "execution_count": 72,
   "id": "36ea24b6",
   "metadata": {},
   "outputs": [],
   "source": [
    "df22 = pd.DataFrame()\n",
    "df22 = pd.concat([df22, filtered_df_lz4hc_shuffle_nosplit], axis = 0)\n",
    "df22 = df22.drop(['special_vals', 'nchunk', 'category', 'codec_filter'], axis = 1)\n",
    "\n",
    "df22.insert(2, \"22\", df22['cratio']/mean_cratio + df22['speed']/mean_speed)\n",
    "df22 = df22.drop(['cratio', 'speed'], axis = 1)\n",
    "df22 = df22.reset_index()\n",
    "df22 = df22.drop(['index'], axis = 1)\n",
    "df22.rename(columns = {'delete':'delete22'}, inplace = True)"
   ]
  },
  {
   "cell_type": "code",
   "execution_count": 73,
   "id": "ac0e17e5",
   "metadata": {},
   "outputs": [],
   "source": [
    "df23 = pd.DataFrame()\n",
    "df23 = pd.concat([df23, filtered_df_zlib_shuffle_nosplit], axis = 0)\n",
    "df23 = df23.drop(['special_vals', 'nchunk', 'category', 'codec_filter'], axis = 1)\n",
    "\n",
    "df23.insert(2, \"23\", df23['cratio']/mean_cratio + df23['speed']/mean_speed)\n",
    "df23 = df23.drop(['cratio', 'speed'], axis = 1)\n",
    "df23 = df23.reset_index()\n",
    "df23 = df23.drop(['index'], axis = 1)\n",
    "df23.rename(columns = {'delete':'delete23'}, inplace = True)"
   ]
  },
  {
   "cell_type": "code",
   "execution_count": 74,
   "id": "502cb1c2",
   "metadata": {},
   "outputs": [],
   "source": [
    "df24 = pd.DataFrame()\n",
    "df24 = pd.concat([df24, filtered_df_zstd_shuffle_nosplit], axis = 0)\n",
    "df24 = df24.drop(['special_vals', 'nchunk', 'category', 'codec_filter'], axis = 1)\n",
    "\n",
    "df24.insert(2, \"24\", df24['cratio']/mean_cratio + df24['speed']/mean_speed)\n",
    "df24 = df24.drop(['cratio', 'speed'], axis = 1)\n",
    "df24 = df24.reset_index()\n",
    "df24 = df24.drop(['index'], axis = 1)\n",
    "df24.rename(columns = {'delete':'delete24'}, inplace = True)"
   ]
  },
  {
   "cell_type": "code",
   "execution_count": 75,
   "id": "ed8ab06f",
   "metadata": {},
   "outputs": [],
   "source": [
    "df25 = pd.DataFrame()\n",
    "df25 = pd.concat([df25, filtered_df_blosclz_bitshuffle_nosplit], axis = 0)\n",
    "df25 = df25.drop(['special_vals', 'nchunk', 'category', 'codec_filter'], axis = 1)\n",
    "\n",
    "df25.insert(2, \"25\", df25['cratio']/mean_cratio + df25['speed']/mean_speed)\n",
    "df25 = df25.drop(['cratio', 'speed'], axis = 1)\n",
    "df25 = df25.reset_index()\n",
    "df25 = df25.drop(['index'], axis = 1)\n",
    "df25.rename(columns = {'delete':'delete25'}, inplace = True)"
   ]
  },
  {
   "cell_type": "code",
   "execution_count": 76,
   "id": "28a5713a",
   "metadata": {},
   "outputs": [],
   "source": [
    "df26 = pd.DataFrame()\n",
    "df26 = pd.concat([df26, filtered_df_lz4_bitshuffle_nosplit], axis = 0)\n",
    "df26 = df26.drop(['special_vals', 'nchunk', 'category', 'codec_filter'], axis = 1)\n",
    "\n",
    "df26.insert(2, \"26\", df26['cratio']/mean_cratio + df26['speed']/mean_speed)\n",
    "df26 = df26.drop(['cratio', 'speed'], axis = 1)\n",
    "df26 = df26.reset_index()\n",
    "df26 = df26.drop(['index'], axis = 1)\n",
    "df26.rename(columns = {'delete':'delete26'}, inplace = True)"
   ]
  },
  {
   "cell_type": "code",
   "execution_count": 77,
   "id": "92a65495",
   "metadata": {},
   "outputs": [],
   "source": [
    "df27 = pd.DataFrame()\n",
    "df27 = pd.concat([df27, filtered_df_lz4hc_bitshuffle_nosplit], axis = 0)\n",
    "df27 = df27.drop(['special_vals', 'nchunk', 'category', 'codec_filter'], axis = 1)\n",
    "\n",
    "df27.insert(2, \"27\", df27['cratio']/mean_cratio + df27['speed']/mean_speed)\n",
    "df27 = df27.drop(['cratio', 'speed'], axis = 1)\n",
    "df27 = df27.reset_index()\n",
    "df27 = df27.drop(['index'], axis = 1)\n",
    "df27.rename(columns = {'delete':'delete27'}, inplace = True)"
   ]
  },
  {
   "cell_type": "code",
   "execution_count": 78,
   "id": "3b53ad36",
   "metadata": {},
   "outputs": [],
   "source": [
    "df28 = pd.DataFrame()\n",
    "df28 = pd.concat([df28, filtered_df_zlib_bitshuffle_nosplit], axis = 0)\n",
    "df28 = df28.drop(['special_vals', 'nchunk', 'category', 'codec_filter'], axis = 1)\n",
    "\n",
    "df28.insert(2, \"28\", df28['cratio']/mean_cratio + df28['speed']/mean_speed)\n",
    "df28 = df28.drop(['cratio', 'speed'], axis = 1)\n",
    "df28 = df28.reset_index()\n",
    "df28 = df28.drop(['index'], axis = 1)\n",
    "df28.rename(columns = {'delete':'delete28'}, inplace = True)"
   ]
  },
  {
   "cell_type": "code",
   "execution_count": 79,
   "id": "69a26c8b",
   "metadata": {},
   "outputs": [],
   "source": [
    "df29 = pd.DataFrame()\n",
    "df29 = pd.concat([df29, filtered_df_zstd_bitshuffle_nosplit], axis = 0)\n",
    "df29 = df29.drop(['special_vals', 'nchunk', 'category', 'codec_filter'], axis = 1)\n",
    "\n",
    "df29.insert(2, \"29\", df29['cratio']/mean_cratio + df29['speed']/mean_speed)\n",
    "df29 = df29.drop(['cratio', 'speed'], axis = 1)\n",
    "df29 = df29.reset_index()\n",
    "df29 = df29.drop(['index'], axis = 1)\n",
    "df29.rename(columns = {'delete':'delete29'}, inplace = True)"
   ]
  },
  {
   "cell_type": "markdown",
   "id": "b4902334",
   "metadata": {},
   "source": [
    "# PREPARACIÓN PARA NN NOFILTER"
   ]
  },
  {
   "cell_type": "code",
   "execution_count": 120,
   "id": "9a676917",
   "metadata": {},
   "outputs": [],
   "source": [
    "dfNOFILTER = pd.DataFrame()\n",
    "dfNOFILTER = pd.concat([df0, df1, df2, df3, df4, df5, df6, df7, df8, df9, df10, df11, df12, df13, df14, df15, df16, df17, \n",
    "                df18, df19, df20, df21, df22, df23, df24, df25, df26, df27, df28, df29,\n",
    "               dfentropy_nofilter], axis=1)"
   ]
  },
  {
   "cell_type": "markdown",
   "id": "9081e701",
   "metadata": {},
   "source": [
    "Si el chunk es special value en alguna de las combinaciones, se elimina."
   ]
  },
  {
   "cell_type": "code",
   "execution_count": 121,
   "id": "3a2e99ca",
   "metadata": {},
   "outputs": [],
   "source": [
    "def delete_final(delete0, delete1, delete2, delete3, delete4, delete5, delete6, delete7, delete8, delete9, \n",
    "                delete10, delete11, delete12, delete13, delete14, delete15, delete16, delete17, delete18,\n",
    "                delete19, delete20, delete21, delete22, delete23, delete24, delete25, delete26, delete27,\n",
    "                 delete28, delete29, delete31):\n",
    "    return 1 if delete0 == 1 or delete1 == 1 or delete2 == 1 or delete3 == 1 or delete4 == 1 or delete5 == 1 or delete6 == 1 or delete7 == 1 or delete8 == 1 or delete9 == 1 or delete10 == 1 or delete11 == 1 or delete12 == 1 or delete13 == 1 or delete14 == 1 or delete15 == 1 or delete16 == 1 or delete17 == 1 or delete18 == 1 or delete19 == 1 or delete20 == 1 or delete21 == 1 or delete22 == 1 or delete23 == 1 or delete24 == 1 or delete25 == 1 or delete26 == 1 or delete27 == 1 or delete28 == 1 or delete29 == 1 or delete31 == 1 else 0"
   ]
  },
  {
   "cell_type": "code",
   "execution_count": 122,
   "id": "16622e55",
   "metadata": {},
   "outputs": [],
   "source": [
    "dfNOFILTER[\"delete_f\"] = dfNOFILTER.apply(lambda x: delete_final(x[1], x[3], x[5], x[7], x[9], x[11], x[13], x[15], x[17], \n",
    "                                                     x[19], x[21], x[23], x[25], x[27], x[29], x[31], x[33], x[35], \n",
    "                                                     x[37], x[39], x[41], x[43], x[45], x[47], x[49], x[51], x[53], \n",
    "                                                     x[55], x[57], x[59], x[62]), axis=1)"
   ]
  },
  {
   "cell_type": "markdown",
   "id": "37cdde78",
   "metadata": {},
   "source": [
    "Elimino los splits en los que alguna de las 31 combinaciones (nofilter y no entropy) sea un special_val"
   ]
  },
  {
   "cell_type": "code",
   "execution_count": 123,
   "id": "1d3ff0c8",
   "metadata": {},
   "outputs": [],
   "source": [
    "dfNOFILTER = dfNOFILTER[dfNOFILTER['delete_f'] == 0]"
   ]
  },
  {
   "cell_type": "code",
   "execution_count": 124,
   "id": "2718491b",
   "metadata": {},
   "outputs": [],
   "source": [
    "dfNOFILTER = dfNOFILTER.drop(['delete0', 'delete1', 'delete2', 'delete3', 'delete4', 'delete5', 'delete6', 'delete7', 'delete8', \n",
    "              'delete9', 'delete10', 'delete11', 'delete12', 'delete13', 'delete14', 'delete15', 'delete16', \n",
    "              'delete17', 'delete18', 'delete19', 'delete20', 'delete21', 'delete22', 'delete23', 'delete24', \n",
    "              'delete25', 'delete26', 'delete27', 'delete28', 'delete29', 'delete_f', 'delete31'], axis = 1)"
   ]
  },
  {
   "cell_type": "markdown",
   "id": "39fb8ef9",
   "metadata": {},
   "source": [
    "Para calcular la mejor categoría, no tengo en cuenta los datos de la combinación de entropy-nofilter, por lo que los separo"
   ]
  },
  {
   "cell_type": "code",
   "execution_count": 125,
   "id": "93a2bf57",
   "metadata": {},
   "outputs": [],
   "source": [
    "dfinput_nofilter_x = dfNOFILTER[['cratio', 'speed']]"
   ]
  },
  {
   "cell_type": "code",
   "execution_count": 126,
   "id": "e8e1e073",
   "metadata": {},
   "outputs": [],
   "source": [
    "dfNOFILTER = dfNOFILTER.drop(['cratio', 'speed'], axis = 1)"
   ]
  },
  {
   "cell_type": "code",
   "execution_count": 127,
   "id": "13188704",
   "metadata": {},
   "outputs": [],
   "source": [
    "pos_min = dfNOFILTER.idxmin(axis=1)\n",
    "pos_min = pd.DataFrame(pos_min, columns=['pos_min'])"
   ]
  },
  {
   "cell_type": "code",
   "execution_count": 128,
   "id": "9fca9fd0",
   "metadata": {},
   "outputs": [
    {
     "data": {
      "text/plain": [
       "array(['9', '14', '7', '4', '2', '19', '17', '24', '22', '27'],\n",
       "      dtype=object)"
      ]
     },
     "execution_count": 128,
     "metadata": {},
     "output_type": "execute_result"
    }
   ],
   "source": [
    "pos_min['pos_min'].unique()"
   ]
  },
  {
   "cell_type": "code",
   "execution_count": 129,
   "id": "9ad8e022",
   "metadata": {},
   "outputs": [],
   "source": [
    "dfinput_nofilter_y = pos_min"
   ]
  },
  {
   "cell_type": "markdown",
   "id": "d18741c7",
   "metadata": {},
   "source": [
    "Inputs"
   ]
  },
  {
   "cell_type": "code",
   "execution_count": 130,
   "id": "37a5a4ba",
   "metadata": {},
   "outputs": [
    {
     "data": {
      "text/plain": [
       "(21168, 2)"
      ]
     },
     "execution_count": 130,
     "metadata": {},
     "output_type": "execute_result"
    }
   ],
   "source": [
    "dfinput_nofilter_x.shape"
   ]
  },
  {
   "cell_type": "code",
   "execution_count": 131,
   "id": "75a2c486",
   "metadata": {},
   "outputs": [
    {
     "data": {
      "text/plain": [
       "(21168, 1)"
      ]
     },
     "execution_count": 131,
     "metadata": {},
     "output_type": "execute_result"
    }
   ],
   "source": [
    "dfinput_nofilter_y.shape"
   ]
  },
  {
   "cell_type": "code",
   "execution_count": 132,
   "id": "c4a0bfdd",
   "metadata": {},
   "outputs": [],
   "source": [
    "from keras.utils import to_categorical\n",
    "dfinput_nofilter_y = to_categorical(dfinput_nofilter_y)"
   ]
  },
  {
   "cell_type": "markdown",
   "id": "c307682b",
   "metadata": {},
   "source": [
    "PROBLEMA: \n",
    "Hay 30 categorías (0-29). Al calcular las mejores en cada caso, la categoría con índice más elevado ha sido la 27.\n",
    "Por lo tanto, cuando hago to_categorical de estos resultados, solo me salen 28 de las 30 categorías.\n",
    "Es decir, la red nunca podrá predecir que en algun caso la mejor categoría es la número 28 o 29."
   ]
  },
  {
   "cell_type": "code",
   "execution_count": 133,
   "id": "8c333ab9",
   "metadata": {},
   "outputs": [],
   "source": [
    "from keras import models, layers\n",
    "\n",
    "model = models.Sequential()\n",
    "model.add(layers.Dense(2, activation='relu', input_shape=(1,2)))\n",
    "model.add(layers.Dense(15, activation='relu'))\n",
    "model.add(layers.Dense(20, activation='relu'))\n",
    "model.add(layers.Dense(22, activation='relu'))\n",
    "model.add(layers.Dense(28, activation='softmax'))"
   ]
  },
  {
   "cell_type": "code",
   "execution_count": 134,
   "id": "b430ebaa",
   "metadata": {},
   "outputs": [],
   "source": [
    "model.compile(optimizer='adam',\n",
    "              loss='categorical_crossentropy',\n",
    "              metrics=['acc'])"
   ]
  },
  {
   "cell_type": "code",
   "execution_count": 135,
   "id": "ff376996",
   "metadata": {},
   "outputs": [
    {
     "name": "stdout",
     "output_type": "stream",
     "text": [
      "Epoch 1/150\n",
      "WARNING:tensorflow:Model was constructed with shape (None, 1, 2) for input KerasTensor(type_spec=TensorSpec(shape=(None, 1, 2), dtype=tf.float32, name='dense_10_input'), name='dense_10_input', description=\"created by layer 'dense_10_input'\"), but it was called on an input with incompatible shape (None, 2).\n",
      "WARNING:tensorflow:Model was constructed with shape (None, 1, 2) for input KerasTensor(type_spec=TensorSpec(shape=(None, 1, 2), dtype=tf.float32, name='dense_10_input'), name='dense_10_input', description=\"created by layer 'dense_10_input'\"), but it was called on an input with incompatible shape (None, 2).\n",
      "528/596 [=========================>....] - ETA: 0s - loss: 132650476.2803 - acc: 0.5911  WARNING:tensorflow:Model was constructed with shape (None, 1, 2) for input KerasTensor(type_spec=TensorSpec(shape=(None, 1, 2), dtype=tf.float32, name='dense_10_input'), name='dense_10_input', description=\"created by layer 'dense_10_input'\"), but it was called on an input with incompatible shape (None, 2).\n",
      "596/596 [==============================] - 1s 705us/step - loss: 121519283.2898 - acc: 0.6036 - val_loss: 2546907.5000 - val_acc: 0.0458\n",
      "Epoch 2/150\n",
      "596/596 [==============================] - 0s 563us/step - loss: 1919461.3689 - acc: 0.7303 - val_loss: 2239646.2500 - val_acc: 0.8781\n",
      "Epoch 3/150\n",
      "596/596 [==============================] - 0s 537us/step - loss: 1487316.5076 - acc: 0.7296 - val_loss: 1122079.0000 - val_acc: 0.8781\n",
      "Epoch 4/150\n",
      "596/596 [==============================] - 0s 535us/step - loss: 1062149.4273 - acc: 0.7245 - val_loss: 741587.1875 - val_acc: 0.0458\n",
      "Epoch 5/150\n",
      "596/596 [==============================] - 0s 534us/step - loss: 665487.1994 - acc: 0.7174 - val_loss: 377274.2812 - val_acc: 0.8781\n",
      "Epoch 6/150\n",
      "596/596 [==============================] - 0s 535us/step - loss: 474715.7553 - acc: 0.7298 - val_loss: 444088.3750 - val_acc: 0.0279\n",
      "Epoch 7/150\n",
      "596/596 [==============================] - 0s 544us/step - loss: 268532.3852 - acc: 0.7136 - val_loss: 202402.2812 - val_acc: 0.8781\n",
      "Epoch 8/150\n",
      "596/596 [==============================] - 0s 544us/step - loss: 145732.8980 - acc: 0.7332 - val_loss: 45104.0781 - val_acc: 0.8781\n",
      "Epoch 9/150\n",
      "596/596 [==============================] - 0s 532us/step - loss: 58479.0592 - acc: 0.7304 - val_loss: 22564.7031 - val_acc: 0.0279\n",
      "Epoch 10/150\n",
      "596/596 [==============================] - 0s 534us/step - loss: 12617.4464 - acc: 0.7297 - val_loss: 625.1764 - val_acc: 0.8781\n",
      "Epoch 11/150\n",
      "596/596 [==============================] - 0s 535us/step - loss: 259.8149 - acc: 0.7592 - val_loss: 0.5766 - val_acc: 0.8781\n",
      "Epoch 12/150\n",
      "596/596 [==============================] - 0s 537us/step - loss: 0.6288 - acc: 0.8598 - val_loss: 0.5695 - val_acc: 0.8781\n",
      "Epoch 13/150\n",
      "596/596 [==============================] - 0s 536us/step - loss: 0.6012 - acc: 0.8672 - val_loss: 0.5699 - val_acc: 0.8781\n",
      "Epoch 14/150\n",
      "596/596 [==============================] - 0s 533us/step - loss: 0.5895 - acc: 0.8701 - val_loss: 0.5710 - val_acc: 0.8781\n",
      "Epoch 15/150\n",
      "596/596 [==============================] - 0s 537us/step - loss: 0.5922 - acc: 0.8698 - val_loss: 0.5709 - val_acc: 0.8781\n",
      "Epoch 16/150\n",
      "596/596 [==============================] - 0s 536us/step - loss: 0.5983 - acc: 0.8671 - val_loss: 0.5704 - val_acc: 0.8781\n",
      "Epoch 17/150\n",
      "596/596 [==============================] - 0s 523us/step - loss: 0.6153 - acc: 0.8617 - val_loss: 0.5698 - val_acc: 0.8781\n",
      "Epoch 18/150\n",
      "596/596 [==============================] - 0s 537us/step - loss: 0.6198 - acc: 0.8616 - val_loss: 0.5700 - val_acc: 0.8781\n",
      "Epoch 19/150\n",
      "596/596 [==============================] - 0s 546us/step - loss: 0.6115 - acc: 0.8635 - val_loss: 0.5719 - val_acc: 0.8781\n",
      "Epoch 20/150\n",
      "596/596 [==============================] - 0s 536us/step - loss: 0.6123 - acc: 0.8636 - val_loss: 0.5705 - val_acc: 0.8781\n",
      "Epoch 21/150\n",
      "596/596 [==============================] - 0s 542us/step - loss: 0.6108 - acc: 0.8635 - val_loss: 0.5711 - val_acc: 0.8781\n",
      "Epoch 22/150\n",
      "596/596 [==============================] - 0s 536us/step - loss: 0.5905 - acc: 0.8691 - val_loss: 0.5699 - val_acc: 0.8781\n",
      "Epoch 23/150\n",
      "596/596 [==============================] - 0s 535us/step - loss: 0.6258 - acc: 0.8596 - val_loss: 0.5686 - val_acc: 0.8781\n",
      "Epoch 24/150\n",
      "596/596 [==============================] - 0s 536us/step - loss: 0.6143 - acc: 0.8632 - val_loss: 0.5691 - val_acc: 0.8781\n",
      "Epoch 25/150\n",
      "596/596 [==============================] - 0s 540us/step - loss: 0.5953 - acc: 0.8682 - val_loss: 0.5713 - val_acc: 0.8781\n",
      "Epoch 26/150\n",
      "596/596 [==============================] - 0s 536us/step - loss: 0.6039 - acc: 0.8664 - val_loss: 0.5692 - val_acc: 0.8781\n",
      "Epoch 27/150\n",
      "596/596 [==============================] - 0s 539us/step - loss: 0.6069 - acc: 0.8652 - val_loss: 0.5715 - val_acc: 0.8781\n",
      "Epoch 28/150\n",
      "596/596 [==============================] - 0s 533us/step - loss: 0.5999 - acc: 0.8662 - val_loss: 0.5687 - val_acc: 0.8781\n",
      "Epoch 29/150\n",
      "596/596 [==============================] - 0s 560us/step - loss: 0.6070 - acc: 0.8643 - val_loss: 0.5699 - val_acc: 0.8781\n",
      "Epoch 30/150\n",
      "596/596 [==============================] - 0s 561us/step - loss: 0.5920 - acc: 0.8689 - val_loss: 0.5697 - val_acc: 0.8781\n",
      "Epoch 31/150\n",
      "596/596 [==============================] - 0s 537us/step - loss: 0.6069 - acc: 0.8649 - val_loss: 0.5703 - val_acc: 0.8781\n",
      "Epoch 32/150\n",
      "596/596 [==============================] - 0s 595us/step - loss: 0.6005 - acc: 0.8673 - val_loss: 0.5700 - val_acc: 0.8781\n",
      "Epoch 33/150\n",
      "596/596 [==============================] - 0s 616us/step - loss: 0.6079 - acc: 0.8647 - val_loss: 0.5707 - val_acc: 0.8781\n",
      "Epoch 34/150\n",
      "596/596 [==============================] - 0s 585us/step - loss: 0.6300 - acc: 0.8584 - val_loss: 0.5690 - val_acc: 0.8781\n",
      "Epoch 35/150\n",
      "596/596 [==============================] - 0s 542us/step - loss: 0.6053 - acc: 0.8670 - val_loss: 0.5728 - val_acc: 0.8781\n",
      "Epoch 36/150\n",
      "596/596 [==============================] - 0s 540us/step - loss: 0.6021 - acc: 0.8662 - val_loss: 0.5698 - val_acc: 0.8781\n",
      "Epoch 37/150\n",
      "596/596 [==============================] - 0s 606us/step - loss: 0.6034 - acc: 0.8672 - val_loss: 0.5696 - val_acc: 0.8781\n",
      "Epoch 38/150\n",
      "596/596 [==============================] - 0s 606us/step - loss: 0.6026 - acc: 0.8669 - val_loss: 0.5702 - val_acc: 0.8781\n",
      "Epoch 39/150\n",
      "596/596 [==============================] - 0s 549us/step - loss: 0.6150 - acc: 0.8624 - val_loss: 0.5708 - val_acc: 0.8781\n",
      "Epoch 40/150\n",
      "596/596 [==============================] - 0s 584us/step - loss: 0.6021 - acc: 0.8666 - val_loss: 0.5705 - val_acc: 0.8781\n",
      "Epoch 41/150\n",
      "596/596 [==============================] - 0s 592us/step - loss: 0.6041 - acc: 0.8656 - val_loss: 0.5717 - val_acc: 0.8781\n",
      "Epoch 42/150\n",
      "596/596 [==============================] - 0s 581us/step - loss: 0.6065 - acc: 0.8651 - val_loss: 0.5715 - val_acc: 0.8781\n",
      "Epoch 43/150\n",
      "596/596 [==============================] - 0s 591us/step - loss: 0.6052 - acc: 0.8647 - val_loss: 0.5715 - val_acc: 0.8781\n",
      "Epoch 44/150\n",
      "596/596 [==============================] - 0s 537us/step - loss: 0.6026 - acc: 0.8661 - val_loss: 0.5707 - val_acc: 0.8781\n",
      "Epoch 45/150\n",
      "596/596 [==============================] - 0s 541us/step - loss: 0.6123 - acc: 0.8629 - val_loss: 0.5703 - val_acc: 0.8781\n",
      "Epoch 46/150\n",
      "596/596 [==============================] - 0s 548us/step - loss: 0.6021 - acc: 0.8659 - val_loss: 0.5710 - val_acc: 0.8781\n",
      "Epoch 47/150\n",
      "596/596 [==============================] - 0s 537us/step - loss: 0.6083 - acc: 0.8643 - val_loss: 0.5710 - val_acc: 0.8781\n",
      "Epoch 48/150\n",
      "596/596 [==============================] - 0s 534us/step - loss: 0.6058 - acc: 0.8650 - val_loss: 0.5735 - val_acc: 0.8781\n",
      "Epoch 49/150\n",
      "596/596 [==============================] - 0s 536us/step - loss: 0.6151 - acc: 0.8615 - val_loss: 0.5696 - val_acc: 0.8781\n",
      "Epoch 50/150\n",
      "596/596 [==============================] - 0s 534us/step - loss: 0.6009 - acc: 0.8670 - val_loss: 0.5698 - val_acc: 0.8781\n",
      "Epoch 51/150\n",
      "596/596 [==============================] - 0s 536us/step - loss: 0.6026 - acc: 0.8671 - val_loss: 0.5716 - val_acc: 0.8781\n",
      "Epoch 52/150\n",
      "596/596 [==============================] - 0s 536us/step - loss: 0.6183 - acc: 0.8617 - val_loss: 0.5707 - val_acc: 0.8781\n",
      "Epoch 53/150\n"
     ]
    },
    {
     "name": "stdout",
     "output_type": "stream",
     "text": [
      "596/596 [==============================] - 0s 536us/step - loss: 0.6218 - acc: 0.8605 - val_loss: 0.5704 - val_acc: 0.8781\n",
      "Epoch 54/150\n",
      "596/596 [==============================] - 0s 533us/step - loss: 0.6060 - acc: 0.8650 - val_loss: 0.5702 - val_acc: 0.8781\n",
      "Epoch 55/150\n",
      "596/596 [==============================] - 0s 531us/step - loss: 0.6193 - acc: 0.8609 - val_loss: 0.5694 - val_acc: 0.8781\n",
      "Epoch 56/150\n",
      "596/596 [==============================] - 0s 534us/step - loss: 0.6037 - acc: 0.8659 - val_loss: 0.5699 - val_acc: 0.8781\n",
      "Epoch 57/150\n",
      "596/596 [==============================] - 0s 535us/step - loss: 0.5962 - acc: 0.8670 - val_loss: 0.5710 - val_acc: 0.8781\n",
      "Epoch 58/150\n",
      "596/596 [==============================] - 0s 528us/step - loss: 0.5927 - acc: 0.8677 - val_loss: 0.5735 - val_acc: 0.8781\n",
      "Epoch 59/150\n",
      "596/596 [==============================] - 0s 534us/step - loss: 0.6106 - acc: 0.8642 - val_loss: 0.5676 - val_acc: 0.8781\n",
      "Epoch 60/150\n",
      "596/596 [==============================] - 0s 530us/step - loss: 0.6119 - acc: 0.8638 - val_loss: 0.5701 - val_acc: 0.8781\n",
      "Epoch 61/150\n",
      "596/596 [==============================] - 0s 526us/step - loss: 0.5992 - acc: 0.8677 - val_loss: 0.5711 - val_acc: 0.8781\n",
      "Epoch 62/150\n",
      "596/596 [==============================] - 0s 536us/step - loss: 0.6161 - acc: 0.8624 - val_loss: 0.5686 - val_acc: 0.8781\n",
      "Epoch 63/150\n",
      "596/596 [==============================] - 0s 531us/step - loss: 0.5904 - acc: 0.8693 - val_loss: 0.5696 - val_acc: 0.8781\n",
      "Epoch 64/150\n",
      "596/596 [==============================] - 0s 529us/step - loss: 0.6135 - acc: 0.8632 - val_loss: 0.5704 - val_acc: 0.8781\n",
      "Epoch 65/150\n",
      "596/596 [==============================] - 0s 568us/step - loss: 0.5989 - acc: 0.8676 - val_loss: 0.5701 - val_acc: 0.8781\n",
      "Epoch 66/150\n",
      "596/596 [==============================] - 0s 596us/step - loss: 0.6107 - acc: 0.8633 - val_loss: 0.5703 - val_acc: 0.8781\n",
      "Epoch 67/150\n",
      "596/596 [==============================] - 0s 590us/step - loss: 0.6047 - acc: 0.8664 - val_loss: 0.5709 - val_acc: 0.8781\n",
      "Epoch 68/150\n",
      "596/596 [==============================] - 0s 540us/step - loss: 0.6008 - acc: 0.8665 - val_loss: 0.5682 - val_acc: 0.8781\n",
      "Epoch 69/150\n",
      "596/596 [==============================] - 0s 537us/step - loss: 0.6040 - acc: 0.8658 - val_loss: 0.5725 - val_acc: 0.8781\n",
      "Epoch 70/150\n",
      "596/596 [==============================] - 0s 554us/step - loss: 0.6094 - acc: 0.8647 - val_loss: 0.5701 - val_acc: 0.8781\n",
      "Epoch 71/150\n",
      "596/596 [==============================] - 0s 605us/step - loss: 0.6102 - acc: 0.8648 - val_loss: 0.5700 - val_acc: 0.8781\n",
      "Epoch 72/150\n",
      "596/596 [==============================] - 0s 591us/step - loss: 0.6220 - acc: 0.8618 - val_loss: 0.5701 - val_acc: 0.8781\n",
      "Epoch 73/150\n",
      "596/596 [==============================] - 0s 553us/step - loss: 0.5881 - acc: 0.8698 - val_loss: 0.5711 - val_acc: 0.8781\n",
      "Epoch 74/150\n",
      "596/596 [==============================] - 0s 546us/step - loss: 0.6052 - acc: 0.8655 - val_loss: 0.5706 - val_acc: 0.8781\n",
      "Epoch 75/150\n",
      "596/596 [==============================] - 0s 544us/step - loss: 0.5936 - acc: 0.8691 - val_loss: 0.5752 - val_acc: 0.8781\n",
      "Epoch 76/150\n",
      "596/596 [==============================] - 0s 533us/step - loss: 0.5991 - acc: 0.8666 - val_loss: 0.5706 - val_acc: 0.8781\n",
      "Epoch 77/150\n",
      "596/596 [==============================] - 0s 537us/step - loss: 0.6075 - acc: 0.8650 - val_loss: 0.5718 - val_acc: 0.8781\n",
      "Epoch 78/150\n",
      "596/596 [==============================] - 0s 531us/step - loss: 0.5978 - acc: 0.8676 - val_loss: 0.5698 - val_acc: 0.8781\n",
      "Epoch 79/150\n",
      "596/596 [==============================] - 0s 557us/step - loss: 0.6083 - acc: 0.8647 - val_loss: 0.5703 - val_acc: 0.8781\n",
      "Epoch 80/150\n",
      "596/596 [==============================] - 0s 598us/step - loss: 0.6018 - acc: 0.8665 - val_loss: 0.5760 - val_acc: 0.8781\n",
      "Epoch 81/150\n",
      "596/596 [==============================] - 0s 585us/step - loss: 0.6022 - acc: 0.8661 - val_loss: 0.5704 - val_acc: 0.8781\n",
      "Epoch 82/150\n",
      "596/596 [==============================] - 0s 541us/step - loss: 0.6029 - acc: 0.8659 - val_loss: 0.5732 - val_acc: 0.8781\n",
      "Epoch 83/150\n",
      "596/596 [==============================] - 0s 533us/step - loss: 0.6112 - acc: 0.8643 - val_loss: 0.5702 - val_acc: 0.8781\n",
      "Epoch 84/150\n",
      "596/596 [==============================] - 0s 548us/step - loss: 0.6040 - acc: 0.8654 - val_loss: 0.5687 - val_acc: 0.8781\n",
      "Epoch 85/150\n",
      "596/596 [==============================] - 0s 535us/step - loss: 0.5959 - acc: 0.8686 - val_loss: 0.5695 - val_acc: 0.8781\n",
      "Epoch 86/150\n",
      "596/596 [==============================] - 0s 547us/step - loss: 0.6064 - acc: 0.8657 - val_loss: 0.5700 - val_acc: 0.8781\n",
      "Epoch 87/150\n",
      "596/596 [==============================] - 0s 551us/step - loss: 0.6037 - acc: 0.8654 - val_loss: 0.5717 - val_acc: 0.8781\n",
      "Epoch 88/150\n",
      "596/596 [==============================] - 0s 537us/step - loss: 0.6132 - acc: 0.8633 - val_loss: 0.5676 - val_acc: 0.8781\n",
      "Epoch 89/150\n",
      "596/596 [==============================] - 0s 544us/step - loss: 0.6029 - acc: 0.8668 - val_loss: 0.5707 - val_acc: 0.8781\n",
      "Epoch 90/150\n",
      "596/596 [==============================] - 0s 561us/step - loss: 0.6066 - acc: 0.8658 - val_loss: 0.5696 - val_acc: 0.8781\n",
      "Epoch 91/150\n",
      "596/596 [==============================] - 0s 593us/step - loss: 0.6246 - acc: 0.8592 - val_loss: 0.5705 - val_acc: 0.8781\n",
      "Epoch 92/150\n",
      "596/596 [==============================] - 0s 578us/step - loss: 0.6283 - acc: 0.8590 - val_loss: 0.5702 - val_acc: 0.8781\n",
      "Epoch 93/150\n",
      "596/596 [==============================] - 0s 538us/step - loss: 0.6112 - acc: 0.8640 - val_loss: 0.5700 - val_acc: 0.8781\n",
      "Epoch 94/150\n",
      "596/596 [==============================] - 0s 588us/step - loss: 0.6112 - acc: 0.8638 - val_loss: 0.5683 - val_acc: 0.8781\n",
      "Epoch 95/150\n",
      "596/596 [==============================] - 0s 583us/step - loss: 0.5997 - acc: 0.8667 - val_loss: 0.5683 - val_acc: 0.8781\n",
      "Epoch 96/150\n",
      "596/596 [==============================] - 0s 553us/step - loss: 0.5965 - acc: 0.8676 - val_loss: 0.5712 - val_acc: 0.8781\n",
      "Epoch 97/150\n",
      "596/596 [==============================] - 0s 541us/step - loss: 0.6090 - acc: 0.8643 - val_loss: 0.5684 - val_acc: 0.8781\n",
      "Epoch 98/150\n",
      "596/596 [==============================] - 0s 539us/step - loss: 0.6028 - acc: 0.8663 - val_loss: 0.5706 - val_acc: 0.8781\n",
      "Epoch 99/150\n",
      "596/596 [==============================] - 0s 537us/step - loss: 0.6116 - acc: 0.8645 - val_loss: 0.5718 - val_acc: 0.8781\n",
      "Epoch 100/150\n",
      "596/596 [==============================] - 0s 536us/step - loss: 0.6082 - acc: 0.8643 - val_loss: 0.5707 - val_acc: 0.8781\n",
      "Epoch 101/150\n",
      "596/596 [==============================] - 0s 541us/step - loss: 0.6159 - acc: 0.8624 - val_loss: 0.5687 - val_acc: 0.8781\n",
      "Epoch 102/150\n",
      "596/596 [==============================] - 0s 589us/step - loss: 0.6118 - acc: 0.8647 - val_loss: 0.5696 - val_acc: 0.8781\n",
      "Epoch 103/150\n",
      "596/596 [==============================] - 0s 590us/step - loss: 0.6084 - acc: 0.8642 - val_loss: 0.5698 - val_acc: 0.8781\n",
      "Epoch 104/150\n",
      "596/596 [==============================] - 0s 555us/step - loss: 0.6041 - acc: 0.8673 - val_loss: 0.5711 - val_acc: 0.8781\n",
      "Epoch 105/150\n",
      "596/596 [==============================] - 0s 539us/step - loss: 0.6174 - acc: 0.8628 - val_loss: 0.5726 - val_acc: 0.8781\n",
      "Epoch 106/150\n",
      "596/596 [==============================] - 0s 570us/step - loss: 0.6136 - acc: 0.8633 - val_loss: 0.5703 - val_acc: 0.8781\n",
      "Epoch 107/150\n",
      "596/596 [==============================] - 0s 583us/step - loss: 0.6091 - acc: 0.8647 - val_loss: 0.5713 - val_acc: 0.8781\n",
      "Epoch 108/150\n",
      "596/596 [==============================] - 0s 585us/step - loss: 0.6129 - acc: 0.8636 - val_loss: 0.5719 - val_acc: 0.8781\n",
      "Epoch 109/150\n",
      "596/596 [==============================] - 0s 543us/step - loss: 0.6096 - acc: 0.8644 - val_loss: 0.5706 - val_acc: 0.8781\n",
      "Epoch 110/150\n",
      "596/596 [==============================] - 0s 563us/step - loss: 0.6189 - acc: 0.8621 - val_loss: 0.5729 - val_acc: 0.8781\n",
      "Epoch 111/150\n",
      "596/596 [==============================] - 0s 563us/step - loss: 0.5993 - acc: 0.8665 - val_loss: 0.5691 - val_acc: 0.8781\n",
      "Epoch 112/150\n",
      "596/596 [==============================] - 0s 547us/step - loss: 0.6036 - acc: 0.8664 - val_loss: 0.5707 - val_acc: 0.8781\n",
      "Epoch 113/150\n",
      "596/596 [==============================] - 0s 582us/step - loss: 0.6127 - acc: 0.8637 - val_loss: 0.5712 - val_acc: 0.8781\n",
      "Epoch 114/150\n",
      "596/596 [==============================] - 0s 597us/step - loss: 0.6037 - acc: 0.8658 - val_loss: 0.5748 - val_acc: 0.8781\n",
      "Epoch 115/150\n",
      "596/596 [==============================] - 0s 575us/step - loss: 0.5999 - acc: 0.8666 - val_loss: 0.5717 - val_acc: 0.8781\n",
      "Epoch 116/150\n",
      "596/596 [==============================] - 0s 552us/step - loss: 0.6111 - acc: 0.8637 - val_loss: 0.5700 - val_acc: 0.8781\n",
      "Epoch 117/150\n",
      "596/596 [==============================] - 0s 604us/step - loss: 0.6011 - acc: 0.8671 - val_loss: 0.5706 - val_acc: 0.8781\n",
      "Epoch 118/150\n",
      "596/596 [==============================] - 0s 561us/step - loss: 0.5886 - acc: 0.8695 - val_loss: 0.5730 - val_acc: 0.8781\n",
      "Epoch 119/150\n",
      "596/596 [==============================] - 0s 550us/step - loss: 0.6106 - acc: 0.8645 - val_loss: 0.5694 - val_acc: 0.8781\n",
      "Epoch 120/150\n",
      "596/596 [==============================] - 0s 593us/step - loss: 0.6020 - acc: 0.8659 - val_loss: 0.5715 - val_acc: 0.8781\n",
      "Epoch 121/150\n",
      "596/596 [==============================] - 0s 598us/step - loss: 0.6113 - acc: 0.8635 - val_loss: 0.5722 - val_acc: 0.8781\n",
      "Epoch 122/150\n",
      "596/596 [==============================] - 0s 555us/step - loss: 0.6076 - acc: 0.8649 - val_loss: 0.5689 - val_acc: 0.8781\n",
      "Epoch 123/150\n",
      "596/596 [==============================] - 0s 592us/step - loss: 0.5949 - acc: 0.8683 - val_loss: 0.5708 - val_acc: 0.8781\n",
      "Epoch 124/150\n",
      "596/596 [==============================] - 0s 567us/step - loss: 0.6130 - acc: 0.8631 - val_loss: 0.5708 - val_acc: 0.8781\n",
      "Epoch 125/150\n",
      "596/596 [==============================] - 0s 564us/step - loss: 0.5942 - acc: 0.8672 - val_loss: 0.5685 - val_acc: 0.8781\n",
      "Epoch 126/150\n",
      "596/596 [==============================] - 0s 577us/step - loss: 0.6073 - acc: 0.8651 - val_loss: 0.5706 - val_acc: 0.8781\n",
      "Epoch 127/150\n",
      "596/596 [==============================] - 0s 553us/step - loss: 0.5974 - acc: 0.8670 - val_loss: 0.5710 - val_acc: 0.8781\n",
      "Epoch 128/150\n",
      "596/596 [==============================] - 0s 557us/step - loss: 0.6131 - acc: 0.8633 - val_loss: 0.5704 - val_acc: 0.8781\n",
      "Epoch 129/150\n",
      "596/596 [==============================] - 0s 588us/step - loss: 0.6144 - acc: 0.8621 - val_loss: 0.5686 - val_acc: 0.8781\n",
      "Epoch 130/150\n",
      "596/596 [==============================] - 0s 550us/step - loss: 0.6157 - acc: 0.8629 - val_loss: 0.5719 - val_acc: 0.8781\n",
      "Epoch 131/150\n",
      "596/596 [==============================] - 0s 577us/step - loss: 0.5980 - acc: 0.8667 - val_loss: 0.5705 - val_acc: 0.8781\n",
      "Epoch 132/150\n",
      "596/596 [==============================] - 0s 555us/step - loss: 0.6089 - acc: 0.8643 - val_loss: 0.5705 - val_acc: 0.8781\n",
      "Epoch 133/150\n",
      "596/596 [==============================] - 0s 566us/step - loss: 0.6142 - acc: 0.8632 - val_loss: 0.5692 - val_acc: 0.8781\n",
      "Epoch 134/150\n",
      "596/596 [==============================] - 0s 560us/step - loss: 0.6095 - acc: 0.8648 - val_loss: 0.5697 - val_acc: 0.8781\n",
      "Epoch 135/150\n",
      "596/596 [==============================] - 0s 563us/step - loss: 0.6200 - acc: 0.8620 - val_loss: 0.5710 - val_acc: 0.8781\n",
      "Epoch 136/150\n",
      "596/596 [==============================] - 0s 584us/step - loss: 0.6006 - acc: 0.8653 - val_loss: 0.5702 - val_acc: 0.8781\n",
      "Epoch 137/150\n",
      "596/596 [==============================] - 0s 560us/step - loss: 0.6116 - acc: 0.8630 - val_loss: 0.5689 - val_acc: 0.8781\n",
      "Epoch 138/150\n",
      "596/596 [==============================] - 0s 565us/step - loss: 0.5996 - acc: 0.8677 - val_loss: 0.5701 - val_acc: 0.8781\n",
      "Epoch 139/150\n",
      "596/596 [==============================] - 0s 579us/step - loss: 0.5988 - acc: 0.8672 - val_loss: 0.5719 - val_acc: 0.8781\n",
      "Epoch 140/150\n",
      "596/596 [==============================] - 0s 549us/step - loss: 0.6058 - acc: 0.8659 - val_loss: 0.5698 - val_acc: 0.8781\n",
      "Epoch 141/150\n",
      "596/596 [==============================] - 0s 543us/step - loss: 0.6259 - acc: 0.8591 - val_loss: 0.5690 - val_acc: 0.8781\n",
      "Epoch 142/150\n",
      "596/596 [==============================] - 0s 535us/step - loss: 0.5967 - acc: 0.8679 - val_loss: 0.5709 - val_acc: 0.8781\n",
      "Epoch 143/150\n",
      "596/596 [==============================] - 0s 540us/step - loss: 0.6198 - acc: 0.8610 - val_loss: 0.5695 - val_acc: 0.8781\n",
      "Epoch 144/150\n",
      "596/596 [==============================] - 0s 535us/step - loss: 0.6102 - acc: 0.8633 - val_loss: 0.5697 - val_acc: 0.8781\n",
      "Epoch 145/150\n",
      "596/596 [==============================] - 0s 538us/step - loss: 0.5988 - acc: 0.8667 - val_loss: 0.5691 - val_acc: 0.8781\n",
      "Epoch 146/150\n",
      "596/596 [==============================] - 0s 582us/step - loss: 0.6174 - acc: 0.8620 - val_loss: 0.5689 - val_acc: 0.8781\n",
      "Epoch 147/150\n",
      "596/596 [==============================] - 0s 589us/step - loss: 0.6188 - acc: 0.8617 - val_loss: 0.5723 - val_acc: 0.8781\n",
      "Epoch 148/150\n",
      "596/596 [==============================] - 0s 559us/step - loss: 0.6130 - acc: 0.8625 - val_loss: 0.5706 - val_acc: 0.8781\n",
      "Epoch 149/150\n",
      "596/596 [==============================] - 0s 535us/step - loss: 0.6070 - acc: 0.8647 - val_loss: 0.5710 - val_acc: 0.8781\n",
      "Epoch 150/150\n",
      "596/596 [==============================] - 0s 549us/step - loss: 0.6062 - acc: 0.8642 - val_loss: 0.5700 - val_acc: 0.8781\n"
     ]
    }
   ],
   "source": [
    "history = model.fit(dfinput_nofilter_x, dfinput_nofilter_y, epochs=150, validation_split=0.1)"
   ]
  },
  {
   "cell_type": "code",
   "execution_count": 136,
   "id": "52cbb85a",
   "metadata": {},
   "outputs": [
    {
     "data": {
      "image/png": "[encoded data removed]",
      "text/plain": [
       "<Figure size 1000x500 with 2 Axes>"
      ]
     },
     "metadata": {
      "needs_background": "light"
     },
     "output_type": "display_data"
    }
   ],
   "source": [
    "_, ax = plt.subplots(1, 2, figsize=(10, 5), dpi=100)\n",
    "ax[0].plot(history.history['acc'], 'r')\n",
    "ax[0].plot(history.history['val_acc'], 'g')\n",
    "ax[0].set_xlabel(\"Num of Epochs\")\n",
    "ax[0].set_ylabel(\"Accuracy\")\n",
    "ax[0].set_title(\"Training Accuracy vs Validation Accuracy\")\n",
    "ax[0].legend(['train', 'validation'])\n",
    "\n",
    "ax[1].plot(history.history['loss'], 'r')\n",
    "ax[1].plot(history.history['val_loss'], 'g')\n",
    "ax[1].set_xlabel(\"Num of Epochs\")\n",
    "ax[1].set_ylabel(\"Loss\")\n",
    "ax[1].set_title(\"Training Loss vs Validation Loss\")\n",
    "ax[1].legend(['train', 'validation'])\n",
    "\n",
    "plt.tight_layout()"
   ]
  },
  {
   "cell_type": "markdown",
   "id": "5b11c9fe",
   "metadata": {},
   "source": [
    "Vector con las probabilidades predecidas por la red de cada categoría en cada chunk"
   ]
  },
  {
   "cell_type": "code",
   "execution_count": 137,
   "id": "9ad349fa",
   "metadata": {},
   "outputs": [
    {
     "name": "stdout",
     "output_type": "stream",
     "text": [
      "WARNING:tensorflow:Model was constructed with shape (None, 1, 2) for input KerasTensor(type_spec=TensorSpec(shape=(None, 1, 2), dtype=tf.float32, name='dense_10_input'), name='dense_10_input', description=\"created by layer 'dense_10_input'\"), but it was called on an input with incompatible shape (None, 2).\n"
     ]
    },
    {
     "data": {
      "text/plain": [
       "array([[1.7856993e-09, 1.7271514e-09, 4.6650176e-03, ..., 1.1748666e-09,\n",
       "        1.7427539e-09, 6.4610317e-04],\n",
       "       [1.7856993e-09, 1.7271514e-09, 4.6650176e-03, ..., 1.1748666e-09,\n",
       "        1.7427539e-09, 6.4610317e-04],\n",
       "       [1.7856993e-09, 1.7271514e-09, 4.6650176e-03, ..., 1.1748666e-09,\n",
       "        1.7427539e-09, 6.4610317e-04],\n",
       "       ...,\n",
       "       [1.7856993e-09, 1.7271514e-09, 4.6650176e-03, ..., 1.1748666e-09,\n",
       "        1.7427539e-09, 6.4610317e-04],\n",
       "       [1.7856993e-09, 1.7271514e-09, 4.6650176e-03, ..., 1.1748666e-09,\n",
       "        1.7427539e-09, 6.4610317e-04],\n",
       "       [1.7856993e-09, 1.7271514e-09, 4.6650176e-03, ..., 1.1748666e-09,\n",
       "        1.7427539e-09, 6.4610317e-04]], dtype=float32)"
      ]
     },
     "execution_count": 137,
     "metadata": {},
     "output_type": "execute_result"
    }
   ],
   "source": [
    "y_hat = model.predict(x=dfinput_nofilter_x)\n",
    "y_hat"
   ]
  },
  {
   "cell_type": "code",
   "execution_count": 138,
   "id": "260ab1f8",
   "metadata": {},
   "outputs": [],
   "source": [
    "y_pred_label = np.argmax(y_hat, axis = 1)\n",
    "y_true_label = np.argmax(dfinput_nofilter_y, axis = 1)"
   ]
  },
  {
   "cell_type": "markdown",
   "id": "755a00e8",
   "metadata": {},
   "source": [
    "Vector de predicciones"
   ]
  },
  {
   "cell_type": "code",
   "execution_count": 143,
   "id": "8b0f8d46",
   "metadata": {},
   "outputs": [
    {
     "data": {
      "text/plain": [
       "array([9, 9, 9, ..., 9, 9, 9])"
      ]
     },
     "execution_count": 143,
     "metadata": {},
     "output_type": "execute_result"
    }
   ],
   "source": [
    "y_pred_label"
   ]
  },
  {
   "cell_type": "markdown",
   "id": "5c437ff8",
   "metadata": {},
   "source": [
    "Categorías que se han predicho.\n",
    "(En este caso se repite siempre la misma, la número 9)"
   ]
  },
  {
   "cell_type": "code",
   "execution_count": 146,
   "id": "5004e85e",
   "metadata": {},
   "outputs": [
    {
     "data": {
      "text/plain": [
       "array([[    9, 21168]])"
      ]
     },
     "execution_count": 146,
     "metadata": {},
     "output_type": "execute_result"
    }
   ],
   "source": [
    "unique, counts = np.unique(y_pred_label, return_counts=True)\n",
    "result = np.column_stack((unique, counts))\n",
    "result"
   ]
  },
  {
   "cell_type": "markdown",
   "id": "9828e9ec",
   "metadata": {},
   "source": [
    "Vector de resultados reales"
   ]
  },
  {
   "cell_type": "code",
   "execution_count": 140,
   "id": "5c77c23d",
   "metadata": {},
   "outputs": [
    {
     "data": {
      "text/plain": [
       "array([9, 9, 9, ..., 9, 7, 7])"
      ]
     },
     "execution_count": 140,
     "metadata": {},
     "output_type": "execute_result"
    }
   ],
   "source": [
    "y_true_label"
   ]
  },
  {
   "cell_type": "markdown",
   "id": "a9ea9521",
   "metadata": {},
   "source": [
    "Mejores categorías reales y en cuantos splits lo son."
   ]
  },
  {
   "cell_type": "code",
   "execution_count": 147,
   "id": "0e77e580",
   "metadata": {},
   "outputs": [
    {
     "data": {
      "text/plain": [
       "array([[    2,   108],\n",
       "       [    4,   876],\n",
       "       [    7,   858],\n",
       "       [    9, 18337],\n",
       "       [   14,   571],\n",
       "       [   17,     6],\n",
       "       [   19,   335],\n",
       "       [   22,    22],\n",
       "       [   24,    41],\n",
       "       [   27,    14]])"
      ]
     },
     "execution_count": 147,
     "metadata": {},
     "output_type": "execute_result"
    }
   ],
   "source": [
    "unique, counts = np.unique(y_true_label, return_counts=True)\n",
    "result = np.column_stack((unique, counts))\n",
    "result"
   ]
  },
  {
   "cell_type": "code",
   "execution_count": 141,
   "id": "7dc982fc",
   "metadata": {},
   "outputs": [
    {
     "data": {
      "text/html": [
       "<div>\n",
       "<style scoped>\n",
       "    .dataframe tbody tr th:only-of-type {\n",
       "        vertical-align: middle;\n",
       "    }\n",
       "\n",
       "    .dataframe tbody tr th {\n",
       "        vertical-align: top;\n",
       "    }\n",
       "\n",
       "    .dataframe thead th {\n",
       "        text-align: right;\n",
       "    }\n",
       "</style>\n",
       "<table border=\"1\" class=\"dataframe\">\n",
       "  <thead>\n",
       "    <tr style=\"text-align: right;\">\n",
       "      <th>col_0</th>\n",
       "      <th>2</th>\n",
       "      <th>4</th>\n",
       "      <th>7</th>\n",
       "      <th>9</th>\n",
       "      <th>14</th>\n",
       "      <th>17</th>\n",
       "      <th>19</th>\n",
       "      <th>22</th>\n",
       "      <th>24</th>\n",
       "      <th>27</th>\n",
       "    </tr>\n",
       "    <tr>\n",
       "      <th>row_0</th>\n",
       "      <th></th>\n",
       "      <th></th>\n",
       "      <th></th>\n",
       "      <th></th>\n",
       "      <th></th>\n",
       "      <th></th>\n",
       "      <th></th>\n",
       "      <th></th>\n",
       "      <th></th>\n",
       "      <th></th>\n",
       "    </tr>\n",
       "  </thead>\n",
       "  <tbody>\n",
       "    <tr>\n",
       "      <th>9</th>\n",
       "      <td>108</td>\n",
       "      <td>876</td>\n",
       "      <td>858</td>\n",
       "      <td>18337</td>\n",
       "      <td>571</td>\n",
       "      <td>6</td>\n",
       "      <td>335</td>\n",
       "      <td>22</td>\n",
       "      <td>41</td>\n",
       "      <td>14</td>\n",
       "    </tr>\n",
       "  </tbody>\n",
       "</table>\n",
       "</div>"
      ],
      "text/plain": [
       "col_0   2    4    7      9    14  17   19  22  24  27\n",
       "row_0                                                \n",
       "9      108  876  858  18337  571   6  335  22  41  14"
      ]
     },
     "execution_count": 141,
     "metadata": {},
     "output_type": "execute_result"
    }
   ],
   "source": [
    "tabla = pd.crosstab(y_pred_label, y_true_label)\n",
    "tabla"
   ]
  },
  {
   "cell_type": "markdown",
   "id": "b4bbec8a",
   "metadata": {},
   "source": [
    "CONCLUSIÓN:\n",
    "    \n",
    "Al añadir todos los datos del dataset, la precisión (87.8%) y la pérdida (5.7%) han mejorado mucho. El problema está en que\n",
    "al ver las predicciones que ha hecho la red, observamos que predice SIEMPRE la misma categoría (9), y aunque\n",
    "en las mejores categorías reales observamos que la categoría 9 es la mejor un 86.6% de las veces, me resulta\n",
    "extraño que siempre prediga la misma."
   ]
  },
  {
   "cell_type": "markdown",
   "id": "6182b016",
   "metadata": {},
   "source": [
    "# PREPARACIÓN PARA NN SHUFFLE"
   ]
  },
  {
   "cell_type": "code",
   "execution_count": 163,
   "id": "83c28bce",
   "metadata": {},
   "outputs": [],
   "source": [
    "dfSHUFFLE = pd.DataFrame()\n",
    "dfSHUFFLE = pd.concat([df0, df1, df2, df3, df4, df5, df6, df7, df8, df9, df10, df11, df12, df13, df14, df15, df16, df17, \n",
    "                df18, df19, df20, df21, df22, df23, df24, df25, df26, df27, df28, df29,\n",
    "               dfentropy_shuffle], axis=1)"
   ]
  },
  {
   "cell_type": "code",
   "execution_count": 164,
   "id": "bfe71b9f",
   "metadata": {},
   "outputs": [],
   "source": [
    "def delete_final(delete0, delete1, delete2, delete3, delete4, delete5, delete6, delete7, delete8, delete9, \n",
    "                delete10, delete11, delete12, delete13, delete14, delete15, delete16, delete17, delete18,\n",
    "                delete19, delete20, delete21, delete22, delete23, delete24, delete25, delete26, delete27,\n",
    "                 delete28, delete29, delete32):\n",
    "    return 1 if delete0 == 1 or delete1 == 1 or delete2 == 1 or delete3 == 1 or delete4 == 1 or delete5 == 1 or delete6 == 1 or delete7 == 1 or delete8 == 1 or delete9 == 1 or delete10 == 1 or delete11 == 1 or delete12 == 1 or delete13 == 1 or delete14 == 1 or delete15 == 1 or delete16 == 1 or delete17 == 1 or delete18 == 1 or delete19 == 1 or delete20 == 1 or delete21 == 1 or delete22 == 1 or delete23 == 1 or delete24 == 1 or delete25 == 1 or delete26 == 1 or delete27 == 1 or delete28 == 1 or delete29 == 1 or delete32 == 1 else 0"
   ]
  },
  {
   "cell_type": "code",
   "execution_count": 166,
   "id": "9211d536",
   "metadata": {},
   "outputs": [],
   "source": [
    "dfSHUFFLE[\"delete_f\"] = dfSHUFFLE.apply(lambda x: delete_final(x[1], x[3], x[5], x[7], x[9], x[11], x[13], x[15], x[17], \n",
    "                                                     x[19], x[21], x[23], x[25], x[27], x[29], x[31], x[33], x[35], \n",
    "                                                     x[37], x[39], x[41], x[43], x[45], x[47], x[49], x[51], x[53], \n",
    "                                                     x[55], x[57], x[59], x[62]), axis=1)"
   ]
  },
  {
   "cell_type": "markdown",
   "id": "2a337330",
   "metadata": {},
   "source": [
    "Elimino los splits en los que alguna de las 31 combinaciones (shuffle y no entropy) sea un special_val"
   ]
  },
  {
   "cell_type": "code",
   "execution_count": 167,
   "id": "43e9538d",
   "metadata": {},
   "outputs": [],
   "source": [
    "dfSHUFFLE = dfSHUFFLE[dfSHUFFLE['delete_f'] == 0]"
   ]
  },
  {
   "cell_type": "code",
   "execution_count": 168,
   "id": "c914285c",
   "metadata": {},
   "outputs": [],
   "source": [
    "dfSHUFFLE = dfSHUFFLE.drop(['delete0', 'delete1', 'delete2', 'delete3', 'delete4', 'delete5', 'delete6', 'delete7', 'delete8', \n",
    "              'delete9', 'delete10', 'delete11', 'delete12', 'delete13', 'delete14', 'delete15', 'delete16', \n",
    "              'delete17', 'delete18', 'delete19', 'delete20', 'delete21', 'delete22', 'delete23', 'delete24', \n",
    "              'delete25', 'delete26', 'delete27', 'delete28', 'delete29', 'delete_f', 'delete32'], axis = 1)"
   ]
  },
  {
   "cell_type": "markdown",
   "id": "2566d623",
   "metadata": {},
   "source": [
    "Para calcular la mejor categoría, no tengo en cuenta los datos de la combinación de entropy-shuffle, por lo que los separo"
   ]
  },
  {
   "cell_type": "code",
   "execution_count": 169,
   "id": "5dbb33d5",
   "metadata": {},
   "outputs": [],
   "source": [
    "dfinput_shuffle_x = dfSHUFFLE[['cratio', 'speed']]"
   ]
  },
  {
   "cell_type": "code",
   "execution_count": 170,
   "id": "2ee4b660",
   "metadata": {},
   "outputs": [],
   "source": [
    "dfSHUFFLE = dfSHUFFLE.drop(['cratio', 'speed'], axis = 1)"
   ]
  },
  {
   "cell_type": "code",
   "execution_count": 171,
   "id": "028f1868",
   "metadata": {},
   "outputs": [],
   "source": [
    "pos_min = dfSHUFFLE.idxmin(axis=1)\n",
    "pos_min = pd.DataFrame(pos_min, columns=['pos_min'])"
   ]
  },
  {
   "cell_type": "code",
   "execution_count": 172,
   "id": "cb4ae7d6",
   "metadata": {},
   "outputs": [
    {
     "data": {
      "text/plain": [
       "array(['9', '14', '7', '4', '2', '19', '17', '24', '22', '27'],\n",
       "      dtype=object)"
      ]
     },
     "execution_count": 172,
     "metadata": {},
     "output_type": "execute_result"
    }
   ],
   "source": [
    "pos_min['pos_min'].unique()"
   ]
  },
  {
   "cell_type": "code",
   "execution_count": 173,
   "id": "a4787f84",
   "metadata": {},
   "outputs": [],
   "source": [
    "dfinput_nofilter_y = pos_min"
   ]
  },
  {
   "cell_type": "code",
   "execution_count": 174,
   "id": "a4618d94",
   "metadata": {},
   "outputs": [
    {
     "data": {
      "text/plain": [
       "(21168, 2)"
      ]
     },
     "execution_count": 174,
     "metadata": {},
     "output_type": "execute_result"
    }
   ],
   "source": [
    "dfinput_nofilter_x.shape"
   ]
  },
  {
   "cell_type": "code",
   "execution_count": 175,
   "id": "1e07aad7",
   "metadata": {},
   "outputs": [
    {
     "data": {
      "text/plain": [
       "(21168, 1)"
      ]
     },
     "execution_count": 175,
     "metadata": {},
     "output_type": "execute_result"
    }
   ],
   "source": [
    "dfinput_nofilter_y.shape"
   ]
  },
  {
   "cell_type": "code",
   "execution_count": 176,
   "id": "1e2b3d33",
   "metadata": {},
   "outputs": [],
   "source": [
    "from keras.utils import to_categorical\n",
    "dfinput_nofilter_y = to_categorical(dfinput_nofilter_y)"
   ]
  },
  {
   "cell_type": "code",
   "execution_count": 177,
   "id": "d818eec8",
   "metadata": {},
   "outputs": [],
   "source": [
    "from keras import models, layers\n",
    "\n",
    "model = models.Sequential()\n",
    "model.add(layers.Dense(2, activation='relu', input_shape=(1,2)))\n",
    "model.add(layers.Dense(15, activation='relu'))\n",
    "model.add(layers.Dense(20, activation='relu'))\n",
    "model.add(layers.Dense(22, activation='relu'))\n",
    "model.add(layers.Dense(28, activation='softmax'))"
   ]
  },
  {
   "cell_type": "code",
   "execution_count": 178,
   "id": "61621bbf",
   "metadata": {},
   "outputs": [],
   "source": [
    "model.compile(optimizer='adam',\n",
    "              loss='categorical_crossentropy',\n",
    "              metrics=['acc'])"
   ]
  },
  {
   "cell_type": "code",
   "execution_count": 179,
   "id": "7d8cae88",
   "metadata": {},
   "outputs": [
    {
     "name": "stdout",
     "output_type": "stream",
     "text": [
      "Epoch 1/150\n",
      "WARNING:tensorflow:Model was constructed with shape (None, 1, 2) for input KerasTensor(type_spec=TensorSpec(shape=(None, 1, 2), dtype=tf.float32, name='dense_15_input'), name='dense_15_input', description=\"created by layer 'dense_15_input'\"), but it was called on an input with incompatible shape (None, 2).\n",
      "WARNING:tensorflow:Model was constructed with shape (None, 1, 2) for input KerasTensor(type_spec=TensorSpec(shape=(None, 1, 2), dtype=tf.float32, name='dense_15_input'), name='dense_15_input', description=\"created by layer 'dense_15_input'\"), but it was called on an input with incompatible shape (None, 2).\n",
      "516/596 [========================>.....] - ETA: 0s - loss: 399541925.5814 - acc: 0.6197  WARNING:tensorflow:Model was constructed with shape (None, 1, 2) for input KerasTensor(type_spec=TensorSpec(shape=(None, 1, 2), dtype=tf.float32, name='dense_15_input'), name='dense_15_input', description=\"created by layer 'dense_15_input'\"), but it was called on an input with incompatible shape (None, 2).\n",
      "596/596 [==============================] - 1s 686us/step - loss: 359625892.4891 - acc: 0.6317 - val_loss: 12302725.0000 - val_acc: 0.8781\n",
      "Epoch 2/150\n",
      "596/596 [==============================] - 0s 557us/step - loss: 12922779.3459 - acc: 0.7346 - val_loss: 9354532.0000 - val_acc: 0.8781\n",
      "Epoch 3/150\n",
      "596/596 [==============================] - 0s 537us/step - loss: 10500027.2161 - acc: 0.7296 - val_loss: 6719181.0000 - val_acc: 0.8781\n",
      "Epoch 4/150\n",
      "596/596 [==============================] - 0s 530us/step - loss: 9071074.2672 - acc: 0.7316 - val_loss: 5468913.5000 - val_acc: 0.8781\n",
      "Epoch 5/150\n",
      "596/596 [==============================] - 0s 548us/step - loss: 8993209.0972 - acc: 0.7249 - val_loss: 5227242.0000 - val_acc: 0.8781\n",
      "Epoch 6/150\n",
      "596/596 [==============================] - 0s 536us/step - loss: 6104388.7701 - acc: 0.7333 - val_loss: 6131815.5000 - val_acc: 0.8781\n",
      "Epoch 7/150\n",
      "596/596 [==============================] - 0s 540us/step - loss: 4777801.8819 - acc: 0.7511 - val_loss: 2143638.7500 - val_acc: 0.8781\n",
      "Epoch 8/150\n",
      "596/596 [==============================] - 0s 541us/step - loss: 3554807.1311 - acc: 0.7364 - val_loss: 2188582.7500 - val_acc: 0.8781\n",
      "Epoch 9/150\n",
      "596/596 [==============================] - 0s 538us/step - loss: 2049665.0597 - acc: 0.7323 - val_loss: 1137904.3750 - val_acc: 0.0458\n",
      "Epoch 10/150\n",
      "596/596 [==============================] - 0s 536us/step - loss: 1308922.0576 - acc: 0.7098 - val_loss: 376062.3750 - val_acc: 0.8781\n",
      "Epoch 11/150\n",
      "596/596 [==============================] - 0s 540us/step - loss: 574853.7298 - acc: 0.7306 - val_loss: 133325.2656 - val_acc: 0.8781\n",
      "Epoch 12/150\n",
      "596/596 [==============================] - 0s 543us/step - loss: 167680.0346 - acc: 0.7397 - val_loss: 23094.0938 - val_acc: 0.8781\n",
      "Epoch 13/150\n",
      "596/596 [==============================] - 0s 536us/step - loss: 23100.4162 - acc: 0.7344 - val_loss: 794.7105 - val_acc: 0.8781\n",
      "Epoch 14/150\n",
      "596/596 [==============================] - 0s 537us/step - loss: 164.0517 - acc: 0.7894 - val_loss: 0.5734 - val_acc: 0.8781\n",
      "Epoch 15/150\n",
      "596/596 [==============================] - 0s 556us/step - loss: 0.6145 - acc: 0.8634 - val_loss: 0.5701 - val_acc: 0.8781\n",
      "Epoch 16/150\n",
      "596/596 [==============================] - 0s 561us/step - loss: 0.6040 - acc: 0.8652 - val_loss: 0.5711 - val_acc: 0.8781\n",
      "Epoch 17/150\n",
      "596/596 [==============================] - 0s 560us/step - loss: 0.6105 - acc: 0.8641 - val_loss: 0.5700 - val_acc: 0.8781\n",
      "Epoch 18/150\n",
      "596/596 [==============================] - 0s 538us/step - loss: 0.6043 - acc: 0.8647 - val_loss: 0.5672 - val_acc: 0.8781\n",
      "Epoch 19/150\n",
      "596/596 [==============================] - 0s 537us/step - loss: 0.6009 - acc: 0.8653 - val_loss: 0.5701 - val_acc: 0.8781\n",
      "Epoch 20/150\n",
      "596/596 [==============================] - 0s 577us/step - loss: 0.6030 - acc: 0.8665 - val_loss: 0.5710 - val_acc: 0.8781\n",
      "Epoch 21/150\n",
      "596/596 [==============================] - 0s 601us/step - loss: 0.5906 - acc: 0.8698 - val_loss: 0.5690 - val_acc: 0.8781\n",
      "Epoch 22/150\n",
      "596/596 [==============================] - 0s 544us/step - loss: 0.6088 - acc: 0.8640 - val_loss: 0.5694 - val_acc: 0.8781\n",
      "Epoch 23/150\n",
      "596/596 [==============================] - 0s 566us/step - loss: 0.6002 - acc: 0.8673 - val_loss: 0.5691 - val_acc: 0.8781\n",
      "Epoch 24/150\n",
      "596/596 [==============================] - 0s 629us/step - loss: 0.6056 - acc: 0.8653 - val_loss: 0.5694 - val_acc: 0.8781\n",
      "Epoch 25/150\n",
      "596/596 [==============================] - 0s 618us/step - loss: 0.5935 - acc: 0.8690 - val_loss: 0.5710 - val_acc: 0.8781\n",
      "Epoch 26/150\n",
      "596/596 [==============================] - 0s 606us/step - loss: 0.6047 - acc: 0.8662 - val_loss: 0.5694 - val_acc: 0.8781\n",
      "Epoch 27/150\n",
      "596/596 [==============================] - 0s 602us/step - loss: 0.6096 - acc: 0.8639 - val_loss: 0.5694 - val_acc: 0.8781\n",
      "Epoch 28/150\n",
      "596/596 [==============================] - 0s 584us/step - loss: 0.6026 - acc: 0.8655 - val_loss: 0.5701 - val_acc: 0.8781\n",
      "Epoch 29/150\n",
      "596/596 [==============================] - 0s 534us/step - loss: 0.5985 - acc: 0.8663 - val_loss: 0.5683 - val_acc: 0.8781\n",
      "Epoch 30/150\n",
      "596/596 [==============================] - 0s 544us/step - loss: 0.6066 - acc: 0.8654 - val_loss: 0.5711 - val_acc: 0.8781\n",
      "Epoch 31/150\n",
      "596/596 [==============================] - 0s 542us/step - loss: 0.6190 - acc: 0.8621 - val_loss: 0.5707 - val_acc: 0.8781\n",
      "Epoch 32/150\n",
      "596/596 [==============================] - 0s 535us/step - loss: 0.6086 - acc: 0.8648 - val_loss: 0.5699 - val_acc: 0.8781\n",
      "Epoch 33/150\n",
      "596/596 [==============================] - 0s 543us/step - loss: 0.6207 - acc: 0.8603 - val_loss: 0.5731 - val_acc: 0.8781\n",
      "Epoch 34/150\n",
      "596/596 [==============================] - 0s 531us/step - loss: 0.6096 - acc: 0.8638 - val_loss: 0.5696 - val_acc: 0.8781\n",
      "Epoch 35/150\n",
      "596/596 [==============================] - 0s 540us/step - loss: 0.5988 - acc: 0.8673 - val_loss: 0.5742 - val_acc: 0.8781\n",
      "Epoch 36/150\n",
      "596/596 [==============================] - 0s 555us/step - loss: 0.6087 - acc: 0.8639 - val_loss: 0.5727 - val_acc: 0.8781\n",
      "Epoch 37/150\n",
      "596/596 [==============================] - 0s 562us/step - loss: 0.6026 - acc: 0.8657 - val_loss: 0.5720 - val_acc: 0.8781\n",
      "Epoch 38/150\n",
      "596/596 [==============================] - 0s 595us/step - loss: 0.6099 - acc: 0.8642 - val_loss: 0.5706 - val_acc: 0.8781\n",
      "Epoch 39/150\n",
      "596/596 [==============================] - 0s 540us/step - loss: 0.6065 - acc: 0.8636 - val_loss: 0.5704 - val_acc: 0.8781\n",
      "Epoch 40/150\n",
      "596/596 [==============================] - 0s 576us/step - loss: 0.5983 - acc: 0.8677 - val_loss: 0.5699 - val_acc: 0.8781\n",
      "Epoch 41/150\n",
      "596/596 [==============================] - 0s 612us/step - loss: 0.5919 - acc: 0.8692 - val_loss: 0.5705 - val_acc: 0.8781\n",
      "Epoch 42/150\n",
      "596/596 [==============================] - 0s 603us/step - loss: 0.6027 - acc: 0.8661 - val_loss: 0.5701 - val_acc: 0.8781\n",
      "Epoch 43/150\n",
      "596/596 [==============================] - 0s 589us/step - loss: 0.6085 - acc: 0.8643 - val_loss: 0.5719 - val_acc: 0.8781\n",
      "Epoch 44/150\n",
      "596/596 [==============================] - 0s 555us/step - loss: 0.6144 - acc: 0.8626 - val_loss: 0.5714 - val_acc: 0.8781\n",
      "Epoch 45/150\n",
      "596/596 [==============================] - 0s 572us/step - loss: 0.6229 - acc: 0.8605 - val_loss: 0.5717 - val_acc: 0.8781\n",
      "Epoch 46/150\n",
      "596/596 [==============================] - 0s 595us/step - loss: 0.6036 - acc: 0.8668 - val_loss: 0.5713 - val_acc: 0.8781\n",
      "Epoch 47/150\n",
      "596/596 [==============================] - 0s 599us/step - loss: 0.6065 - acc: 0.8646 - val_loss: 0.5696 - val_acc: 0.8781\n",
      "Epoch 48/150\n",
      "596/596 [==============================] - 0s 614us/step - loss: 0.6048 - acc: 0.8659 - val_loss: 0.5716 - val_acc: 0.8781\n",
      "Epoch 49/150\n",
      "596/596 [==============================] - 0s 617us/step - loss: 0.5987 - acc: 0.8671 - val_loss: 0.5700 - val_acc: 0.8781\n",
      "Epoch 50/150\n",
      "596/596 [==============================] - 0s 576us/step - loss: 0.5854 - acc: 0.8706 - val_loss: 0.5697 - val_acc: 0.8781\n",
      "Epoch 51/150\n",
      "596/596 [==============================] - 0s 581us/step - loss: 0.6099 - acc: 0.8644 - val_loss: 0.5688 - val_acc: 0.8781\n",
      "Epoch 52/150\n",
      "596/596 [==============================] - 0s 546us/step - loss: 0.6199 - acc: 0.8617 - val_loss: 0.5700 - val_acc: 0.8781\n"
     ]
    },
    {
     "name": "stdout",
     "output_type": "stream",
     "text": [
      "Epoch 53/150\n",
      "596/596 [==============================] - 0s 563us/step - loss: 0.6015 - acc: 0.8669 - val_loss: 0.5704 - val_acc: 0.8781\n",
      "Epoch 54/150\n",
      "596/596 [==============================] - 0s 609us/step - loss: 0.6160 - acc: 0.8625 - val_loss: 0.5689 - val_acc: 0.8781\n",
      "Epoch 55/150\n",
      "596/596 [==============================] - 0s 606us/step - loss: 0.6026 - acc: 0.8665 - val_loss: 0.5696 - val_acc: 0.8781\n",
      "Epoch 56/150\n",
      "596/596 [==============================] - 0s 600us/step - loss: 0.6126 - acc: 0.8634 - val_loss: 0.5725 - val_acc: 0.8781\n",
      "Epoch 57/150\n",
      "596/596 [==============================] - 0s 555us/step - loss: 0.6161 - acc: 0.8627 - val_loss: 0.5701 - val_acc: 0.8781\n",
      "Epoch 58/150\n",
      "596/596 [==============================] - 0s 609us/step - loss: 0.6014 - acc: 0.8664 - val_loss: 0.5695 - val_acc: 0.8781\n",
      "Epoch 59/150\n",
      "596/596 [==============================] - 0s 656us/step - loss: 0.5944 - acc: 0.8692 - val_loss: 0.5706 - val_acc: 0.8781\n",
      "Epoch 60/150\n",
      "596/596 [==============================] - 0s 561us/step - loss: 0.6182 - acc: 0.8617 - val_loss: 0.5707 - val_acc: 0.8781\n",
      "Epoch 61/150\n",
      "596/596 [==============================] - 0s 542us/step - loss: 0.6239 - acc: 0.8606 - val_loss: 0.5706 - val_acc: 0.8781\n",
      "Epoch 62/150\n",
      "596/596 [==============================] - 0s 558us/step - loss: 0.6014 - acc: 0.8667 - val_loss: 0.5691 - val_acc: 0.8781\n",
      "Epoch 63/150\n",
      "596/596 [==============================] - 0s 542us/step - loss: 0.6078 - acc: 0.8647 - val_loss: 0.5714 - val_acc: 0.8781\n",
      "Epoch 64/150\n",
      "596/596 [==============================] - 0s 540us/step - loss: 0.6068 - acc: 0.8645 - val_loss: 0.5741 - val_acc: 0.8781\n",
      "Epoch 65/150\n",
      "596/596 [==============================] - 0s 544us/step - loss: 0.6253 - acc: 0.8599 - val_loss: 0.5698 - val_acc: 0.8781\n",
      "Epoch 66/150\n",
      "596/596 [==============================] - 0s 540us/step - loss: 0.6014 - acc: 0.8671 - val_loss: 0.5704 - val_acc: 0.8781\n",
      "Epoch 67/150\n",
      "596/596 [==============================] - 0s 541us/step - loss: 0.6148 - acc: 0.8623 - val_loss: 0.5694 - val_acc: 0.8781\n",
      "Epoch 68/150\n",
      "596/596 [==============================] - 0s 537us/step - loss: 0.6241 - acc: 0.8594 - val_loss: 0.5686 - val_acc: 0.8781\n",
      "Epoch 69/150\n",
      "596/596 [==============================] - 0s 540us/step - loss: 0.6121 - acc: 0.8639 - val_loss: 0.5685 - val_acc: 0.8781\n",
      "Epoch 70/150\n",
      "596/596 [==============================] - 0s 544us/step - loss: 0.6062 - acc: 0.8655 - val_loss: 0.5719 - val_acc: 0.8781\n",
      "Epoch 71/150\n",
      "596/596 [==============================] - 0s 535us/step - loss: 0.6027 - acc: 0.8656 - val_loss: 0.5714 - val_acc: 0.8781\n",
      "Epoch 72/150\n",
      "596/596 [==============================] - 0s 537us/step - loss: 0.6013 - acc: 0.8664 - val_loss: 0.5727 - val_acc: 0.8781\n",
      "Epoch 73/150\n",
      "596/596 [==============================] - 0s 536us/step - loss: 0.6175 - acc: 0.8620 - val_loss: 0.5702 - val_acc: 0.8781\n",
      "Epoch 74/150\n",
      "596/596 [==============================] - 0s 532us/step - loss: 0.6075 - acc: 0.8639 - val_loss: 0.5694 - val_acc: 0.8781\n",
      "Epoch 75/150\n",
      "596/596 [==============================] - 0s 532us/step - loss: 0.6049 - acc: 0.8652 - val_loss: 0.5705 - val_acc: 0.8781\n",
      "Epoch 76/150\n",
      "596/596 [==============================] - 0s 559us/step - loss: 0.5934 - acc: 0.8690 - val_loss: 0.5722 - val_acc: 0.8781\n",
      "Epoch 77/150\n",
      "596/596 [==============================] - 0s 586us/step - loss: 0.6049 - acc: 0.8662 - val_loss: 0.5687 - val_acc: 0.8781\n",
      "Epoch 78/150\n",
      "596/596 [==============================] - 0s 549us/step - loss: 0.6029 - acc: 0.8674 - val_loss: 0.5718 - val_acc: 0.8781\n",
      "Epoch 79/150\n",
      "596/596 [==============================] - 0s 548us/step - loss: 0.6134 - acc: 0.8632 - val_loss: 0.5702 - val_acc: 0.8781\n",
      "Epoch 80/150\n",
      "596/596 [==============================] - 0s 533us/step - loss: 0.6129 - acc: 0.8628 - val_loss: 0.5699 - val_acc: 0.8781\n",
      "Epoch 81/150\n",
      "596/596 [==============================] - 0s 549us/step - loss: 0.6069 - acc: 0.8652 - val_loss: 0.5711 - val_acc: 0.8781\n",
      "Epoch 82/150\n",
      "596/596 [==============================] - 0s 580us/step - loss: 0.6028 - acc: 0.8649 - val_loss: 0.5693 - val_acc: 0.8781\n",
      "Epoch 83/150\n",
      "596/596 [==============================] - 0s 602us/step - loss: 0.6051 - acc: 0.8654 - val_loss: 0.5707 - val_acc: 0.8781\n",
      "Epoch 84/150\n",
      "596/596 [==============================] - 0s 593us/step - loss: 0.6140 - acc: 0.8625 - val_loss: 0.5693 - val_acc: 0.8781\n",
      "Epoch 85/150\n",
      "596/596 [==============================] - 0s 550us/step - loss: 0.5973 - acc: 0.8670 - val_loss: 0.5725 - val_acc: 0.8781\n",
      "Epoch 86/150\n",
      "596/596 [==============================] - 0s 537us/step - loss: 0.6107 - acc: 0.8637 - val_loss: 0.5689 - val_acc: 0.8781\n",
      "Epoch 87/150\n",
      "596/596 [==============================] - 0s 543us/step - loss: 0.6282 - acc: 0.8593 - val_loss: 0.5687 - val_acc: 0.8781\n",
      "Epoch 88/150\n",
      "596/596 [==============================] - 0s 540us/step - loss: 0.6178 - acc: 0.8620 - val_loss: 0.5721 - val_acc: 0.8781\n",
      "Epoch 89/150\n",
      "596/596 [==============================] - 0s 537us/step - loss: 0.6088 - acc: 0.8639 - val_loss: 0.5688 - val_acc: 0.8781\n",
      "Epoch 90/150\n",
      "596/596 [==============================] - 0s 545us/step - loss: 0.6001 - acc: 0.8671 - val_loss: 0.5716 - val_acc: 0.8781\n",
      "Epoch 91/150\n",
      "596/596 [==============================] - 0s 536us/step - loss: 0.6107 - acc: 0.8649 - val_loss: 0.5742 - val_acc: 0.8781\n",
      "Epoch 92/150\n",
      "596/596 [==============================] - 0s 533us/step - loss: 0.6152 - acc: 0.8631 - val_loss: 0.5695 - val_acc: 0.8781\n",
      "Epoch 93/150\n",
      "596/596 [==============================] - 0s 533us/step - loss: 0.5925 - acc: 0.8688 - val_loss: 0.5698 - val_acc: 0.8781\n",
      "Epoch 94/150\n",
      "596/596 [==============================] - 0s 537us/step - loss: 0.6056 - acc: 0.8650 - val_loss: 0.5736 - val_acc: 0.8781\n",
      "Epoch 95/150\n",
      "596/596 [==============================] - 0s 546us/step - loss: 0.6124 - acc: 0.8627 - val_loss: 0.5679 - val_acc: 0.8781\n",
      "Epoch 96/150\n",
      "596/596 [==============================] - 0s 552us/step - loss: 0.6200 - acc: 0.8618 - val_loss: 0.5697 - val_acc: 0.8781\n",
      "Epoch 97/150\n",
      "596/596 [==============================] - 0s 535us/step - loss: 0.5992 - acc: 0.8673 - val_loss: 0.5698 - val_acc: 0.8781\n",
      "Epoch 98/150\n",
      "596/596 [==============================] - 0s 532us/step - loss: 0.5961 - acc: 0.8680 - val_loss: 0.5705 - val_acc: 0.8781\n",
      "Epoch 99/150\n",
      "596/596 [==============================] - 0s 537us/step - loss: 0.5934 - acc: 0.8689 - val_loss: 0.5719 - val_acc: 0.8781\n",
      "Epoch 100/150\n",
      "596/596 [==============================] - 0s 548us/step - loss: 0.5983 - acc: 0.8673 - val_loss: 0.5723 - val_acc: 0.8781\n",
      "Epoch 101/150\n",
      "596/596 [==============================] - 0s 544us/step - loss: 0.6083 - acc: 0.8642 - val_loss: 0.5729 - val_acc: 0.8781\n",
      "Epoch 102/150\n",
      "596/596 [==============================] - 0s 539us/step - loss: 0.6211 - acc: 0.8604 - val_loss: 0.5679 - val_acc: 0.8781\n",
      "Epoch 103/150\n",
      "596/596 [==============================] - 0s 538us/step - loss: 0.5906 - acc: 0.8693 - val_loss: 0.5709 - val_acc: 0.8781\n",
      "Epoch 104/150\n",
      "596/596 [==============================] - 0s 536us/step - loss: 0.6061 - acc: 0.8644 - val_loss: 0.5708 - val_acc: 0.8781\n",
      "Epoch 105/150\n",
      "596/596 [==============================] - 0s 535us/step - loss: 0.6059 - acc: 0.8651 - val_loss: 0.5693 - val_acc: 0.8781\n",
      "Epoch 106/150\n",
      "596/596 [==============================] - 0s 531us/step - loss: 0.6065 - acc: 0.8656 - val_loss: 0.5726 - val_acc: 0.8781\n",
      "Epoch 107/150\n",
      "596/596 [==============================] - 0s 531us/step - loss: 0.5995 - acc: 0.8673 - val_loss: 0.5718 - val_acc: 0.8781\n",
      "Epoch 108/150\n",
      "596/596 [==============================] - 0s 532us/step - loss: 0.6037 - acc: 0.8660 - val_loss: 0.5701 - val_acc: 0.8781\n",
      "Epoch 109/150\n",
      "596/596 [==============================] - 0s 532us/step - loss: 0.6049 - acc: 0.8654 - val_loss: 0.5696 - val_acc: 0.8781\n",
      "Epoch 110/150\n",
      "596/596 [==============================] - 0s 532us/step - loss: 0.6192 - acc: 0.8609 - val_loss: 0.5708 - val_acc: 0.8781\n",
      "Epoch 111/150\n",
      "596/596 [==============================] - 0s 536us/step - loss: 0.6121 - acc: 0.8619 - val_loss: 0.5689 - val_acc: 0.8781\n",
      "Epoch 112/150\n",
      "596/596 [==============================] - 0s 530us/step - loss: 0.5962 - acc: 0.8681 - val_loss: 0.5705 - val_acc: 0.8781\n",
      "Epoch 113/150\n",
      "596/596 [==============================] - 0s 537us/step - loss: 0.5971 - acc: 0.8676 - val_loss: 0.5728 - val_acc: 0.8781\n",
      "Epoch 114/150\n",
      "596/596 [==============================] - 0s 528us/step - loss: 0.6100 - acc: 0.8633 - val_loss: 0.5690 - val_acc: 0.8781\n",
      "Epoch 115/150\n",
      "596/596 [==============================] - 0s 532us/step - loss: 0.6156 - acc: 0.8625 - val_loss: 0.5688 - val_acc: 0.8781\n",
      "Epoch 116/150\n",
      "596/596 [==============================] - 0s 530us/step - loss: 0.6075 - acc: 0.8652 - val_loss: 0.5703 - val_acc: 0.8781\n",
      "Epoch 117/150\n",
      "596/596 [==============================] - 0s 534us/step - loss: 0.6059 - acc: 0.8650 - val_loss: 0.5691 - val_acc: 0.8781\n",
      "Epoch 118/150\n",
      "596/596 [==============================] - 0s 531us/step - loss: 0.6074 - acc: 0.8646 - val_loss: 0.5705 - val_acc: 0.8781\n",
      "Epoch 119/150\n",
      "596/596 [==============================] - 0s 532us/step - loss: 0.6026 - acc: 0.8652 - val_loss: 0.5703 - val_acc: 0.8781\n",
      "Epoch 120/150\n",
      "596/596 [==============================] - 0s 534us/step - loss: 0.6133 - acc: 0.8632 - val_loss: 0.5684 - val_acc: 0.8781\n",
      "Epoch 121/150\n",
      "596/596 [==============================] - 0s 532us/step - loss: 0.5964 - acc: 0.8682 - val_loss: 0.5702 - val_acc: 0.8781\n",
      "Epoch 122/150\n",
      "596/596 [==============================] - 0s 528us/step - loss: 0.5981 - acc: 0.8671 - val_loss: 0.5683 - val_acc: 0.8781\n",
      "Epoch 123/150\n",
      "596/596 [==============================] - 0s 532us/step - loss: 0.5887 - acc: 0.8701 - val_loss: 0.5697 - val_acc: 0.8781\n",
      "Epoch 124/150\n",
      "596/596 [==============================] - 0s 531us/step - loss: 0.6254 - acc: 0.8594 - val_loss: 0.5708 - val_acc: 0.8781\n",
      "Epoch 125/150\n",
      "596/596 [==============================] - 0s 529us/step - loss: 0.6150 - acc: 0.8626 - val_loss: 0.5692 - val_acc: 0.8781\n",
      "Epoch 126/150\n",
      "596/596 [==============================] - 0s 530us/step - loss: 0.6127 - acc: 0.8634 - val_loss: 0.5701 - val_acc: 0.8781\n",
      "Epoch 127/150\n",
      "596/596 [==============================] - 0s 533us/step - loss: 0.6067 - acc: 0.8647 - val_loss: 0.5730 - val_acc: 0.8781\n",
      "Epoch 128/150\n",
      "596/596 [==============================] - 0s 531us/step - loss: 0.6160 - acc: 0.8630 - val_loss: 0.5715 - val_acc: 0.8781\n",
      "Epoch 129/150\n",
      "596/596 [==============================] - 0s 530us/step - loss: 0.6166 - acc: 0.8614 - val_loss: 0.5722 - val_acc: 0.8781\n",
      "Epoch 130/150\n",
      "596/596 [==============================] - 0s 536us/step - loss: 0.6013 - acc: 0.8659 - val_loss: 0.5715 - val_acc: 0.8781\n",
      "Epoch 131/150\n",
      "596/596 [==============================] - 0s 528us/step - loss: 0.6077 - acc: 0.8641 - val_loss: 0.5701 - val_acc: 0.8781\n",
      "Epoch 132/150\n",
      "596/596 [==============================] - 0s 535us/step - loss: 0.6182 - acc: 0.8619 - val_loss: 0.5687 - val_acc: 0.8781\n",
      "Epoch 133/150\n",
      "596/596 [==============================] - 0s 533us/step - loss: 0.5998 - acc: 0.8680 - val_loss: 0.5698 - val_acc: 0.8781\n",
      "Epoch 134/150\n",
      "596/596 [==============================] - 0s 531us/step - loss: 0.5967 - acc: 0.8674 - val_loss: 0.5703 - val_acc: 0.8781\n",
      "Epoch 135/150\n",
      "596/596 [==============================] - 0s 527us/step - loss: 0.6156 - acc: 0.8618 - val_loss: 0.5691 - val_acc: 0.8781\n",
      "Epoch 136/150\n",
      "596/596 [==============================] - 0s 573us/step - loss: 0.6161 - acc: 0.8618 - val_loss: 0.5701 - val_acc: 0.8781\n",
      "Epoch 137/150\n",
      "596/596 [==============================] - 0s 532us/step - loss: 0.5990 - acc: 0.8670 - val_loss: 0.5704 - val_acc: 0.8781\n",
      "Epoch 138/150\n",
      "596/596 [==============================] - 0s 528us/step - loss: 0.5989 - acc: 0.8665 - val_loss: 0.5688 - val_acc: 0.8781\n",
      "Epoch 139/150\n",
      "596/596 [==============================] - 0s 529us/step - loss: 0.6053 - acc: 0.8655 - val_loss: 0.5711 - val_acc: 0.8781\n",
      "Epoch 140/150\n",
      "596/596 [==============================] - 0s 534us/step - loss: 0.5962 - acc: 0.8677 - val_loss: 0.5695 - val_acc: 0.8781\n",
      "Epoch 141/150\n",
      "596/596 [==============================] - 0s 534us/step - loss: 0.6015 - acc: 0.8657 - val_loss: 0.5700 - val_acc: 0.8781\n",
      "Epoch 142/150\n",
      "596/596 [==============================] - 0s 531us/step - loss: 0.6154 - acc: 0.8629 - val_loss: 0.5718 - val_acc: 0.8781\n",
      "Epoch 143/150\n",
      "596/596 [==============================] - 0s 535us/step - loss: 0.6050 - acc: 0.8655 - val_loss: 0.5705 - val_acc: 0.8781\n",
      "Epoch 144/150\n",
      "596/596 [==============================] - 0s 532us/step - loss: 0.6147 - acc: 0.8624 - val_loss: 0.5705 - val_acc: 0.8781\n",
      "Epoch 145/150\n",
      "596/596 [==============================] - 0s 529us/step - loss: 0.6232 - acc: 0.8604 - val_loss: 0.5688 - val_acc: 0.8781\n",
      "Epoch 146/150\n",
      "596/596 [==============================] - 0s 535us/step - loss: 0.6154 - acc: 0.8624 - val_loss: 0.5693 - val_acc: 0.8781\n",
      "Epoch 147/150\n",
      "596/596 [==============================] - 0s 529us/step - loss: 0.6157 - acc: 0.8619 - val_loss: 0.5698 - val_acc: 0.8781\n",
      "Epoch 148/150\n",
      "596/596 [==============================] - 0s 533us/step - loss: 0.6128 - acc: 0.8636 - val_loss: 0.5707 - val_acc: 0.8781\n",
      "Epoch 149/150\n",
      "596/596 [==============================] - 0s 530us/step - loss: 0.6120 - acc: 0.8639 - val_loss: 0.5685 - val_acc: 0.8781\n",
      "Epoch 150/150\n",
      "596/596 [==============================] - 0s 532us/step - loss: 0.6058 - acc: 0.8655 - val_loss: 0.5708 - val_acc: 0.8781\n"
     ]
    }
   ],
   "source": [
    "history = model.fit(dfinput_nofilter_x, dfinput_nofilter_y, epochs=150, validation_split=0.1)"
   ]
  },
  {
   "cell_type": "code",
   "execution_count": 180,
   "id": "7faf4723",
   "metadata": {},
   "outputs": [
    {
     "data": {
      "image/png": "[encoded data removed]",
      "text/plain": [
       "<Figure size 1000x500 with 2 Axes>"
      ]
     },
     "metadata": {
      "needs_background": "light"
     },
     "output_type": "display_data"
    }
   ],
   "source": [
    "_, ax = plt.subplots(1, 2, figsize=(10, 5), dpi=100)\n",
    "ax[0].plot(history.history['acc'], 'r')\n",
    "ax[0].plot(history.history['val_acc'], 'g')\n",
    "ax[0].set_xlabel(\"Num of Epochs\")\n",
    "ax[0].set_ylabel(\"Accuracy\")\n",
    "ax[0].set_title(\"Training Accuracy vs Validation Accuracy\")\n",
    "ax[0].legend(['train', 'validation'])\n",
    "\n",
    "ax[1].plot(history.history['loss'], 'r')\n",
    "ax[1].plot(history.history['val_loss'], 'g')\n",
    "ax[1].set_xlabel(\"Num of Epochs\")\n",
    "ax[1].set_ylabel(\"Loss\")\n",
    "ax[1].set_title(\"Training Loss vs Validation Loss\")\n",
    "ax[1].legend(['train', 'validation'])\n",
    "\n",
    "plt.tight_layout()"
   ]
  },
  {
   "cell_type": "code",
   "execution_count": 181,
   "id": "01eef2d1",
   "metadata": {},
   "outputs": [
    {
     "name": "stdout",
     "output_type": "stream",
     "text": [
      "WARNING:tensorflow:Model was constructed with shape (None, 1, 2) for input KerasTensor(type_spec=TensorSpec(shape=(None, 1, 2), dtype=tf.float32, name='dense_15_input'), name='dense_15_input', description=\"created by layer 'dense_15_input'\"), but it was called on an input with incompatible shape (None, 2).\n"
     ]
    },
    {
     "data": {
      "text/plain": [
       "array([[2.6642235e-09, 2.7175169e-09, 6.1953692e-03, ..., 2.6801050e-09,\n",
       "        2.6291394e-09, 8.1859127e-04],\n",
       "       [2.6642235e-09, 2.7175169e-09, 6.1953692e-03, ..., 2.6801050e-09,\n",
       "        2.6291394e-09, 8.1859127e-04],\n",
       "       [2.6642235e-09, 2.7175169e-09, 6.1953692e-03, ..., 2.6801050e-09,\n",
       "        2.6291394e-09, 8.1859127e-04],\n",
       "       ...,\n",
       "       [2.6642235e-09, 2.7175169e-09, 6.1953692e-03, ..., 2.6801050e-09,\n",
       "        2.6291394e-09, 8.1859127e-04],\n",
       "       [2.6642235e-09, 2.7175169e-09, 6.1953692e-03, ..., 2.6801050e-09,\n",
       "        2.6291394e-09, 8.1859127e-04],\n",
       "       [2.6642235e-09, 2.7175169e-09, 6.1953692e-03, ..., 2.6801050e-09,\n",
       "        2.6291394e-09, 8.1859127e-04]], dtype=float32)"
      ]
     },
     "execution_count": 181,
     "metadata": {},
     "output_type": "execute_result"
    }
   ],
   "source": [
    "y_hat = model.predict(x=dfinput_nofilter_x)\n",
    "y_hat"
   ]
  },
  {
   "cell_type": "code",
   "execution_count": 182,
   "id": "3833bbe2",
   "metadata": {},
   "outputs": [],
   "source": [
    "y_pred_label = np.argmax(y_hat, axis = 1)\n",
    "y_true_label = np.argmax(dfinput_nofilter_y, axis = 1)"
   ]
  },
  {
   "cell_type": "code",
   "execution_count": 183,
   "id": "192e5236",
   "metadata": {},
   "outputs": [
    {
     "data": {
      "text/plain": [
       "array([9, 9, 9, ..., 9, 9, 9])"
      ]
     },
     "execution_count": 183,
     "metadata": {},
     "output_type": "execute_result"
    }
   ],
   "source": [
    "y_pred_label"
   ]
  },
  {
   "cell_type": "code",
   "execution_count": 184,
   "id": "4693fe03",
   "metadata": {},
   "outputs": [
    {
     "data": {
      "text/plain": [
       "array([[    9, 21168]])"
      ]
     },
     "execution_count": 184,
     "metadata": {},
     "output_type": "execute_result"
    }
   ],
   "source": [
    "unique, counts = np.unique(y_pred_label, return_counts=True)\n",
    "result = np.column_stack((unique, counts))\n",
    "result"
   ]
  },
  {
   "cell_type": "code",
   "execution_count": 185,
   "id": "9e17a17a",
   "metadata": {},
   "outputs": [
    {
     "data": {
      "text/plain": [
       "array([9, 9, 9, ..., 9, 7, 7])"
      ]
     },
     "execution_count": 185,
     "metadata": {},
     "output_type": "execute_result"
    }
   ],
   "source": [
    "y_true_label"
   ]
  },
  {
   "cell_type": "code",
   "execution_count": 186,
   "id": "9d0ff108",
   "metadata": {},
   "outputs": [
    {
     "data": {
      "text/plain": [
       "array([[    2,   108],\n",
       "       [    4,   876],\n",
       "       [    7,   858],\n",
       "       [    9, 18337],\n",
       "       [   14,   571],\n",
       "       [   17,     6],\n",
       "       [   19,   335],\n",
       "       [   22,    22],\n",
       "       [   24,    41],\n",
       "       [   27,    14]])"
      ]
     },
     "execution_count": 186,
     "metadata": {},
     "output_type": "execute_result"
    }
   ],
   "source": [
    "unique, counts = np.unique(y_true_label, return_counts=True)\n",
    "result = np.column_stack((unique, counts))\n",
    "result"
   ]
  },
  {
   "cell_type": "code",
   "execution_count": 187,
   "id": "0d02c93c",
   "metadata": {},
   "outputs": [
    {
     "data": {
      "text/html": [
       "<div>\n",
       "<style scoped>\n",
       "    .dataframe tbody tr th:only-of-type {\n",
       "        vertical-align: middle;\n",
       "    }\n",
       "\n",
       "    .dataframe tbody tr th {\n",
       "        vertical-align: top;\n",
       "    }\n",
       "\n",
       "    .dataframe thead th {\n",
       "        text-align: right;\n",
       "    }\n",
       "</style>\n",
       "<table border=\"1\" class=\"dataframe\">\n",
       "  <thead>\n",
       "    <tr style=\"text-align: right;\">\n",
       "      <th>col_0</th>\n",
       "      <th>2</th>\n",
       "      <th>4</th>\n",
       "      <th>7</th>\n",
       "      <th>9</th>\n",
       "      <th>14</th>\n",
       "      <th>17</th>\n",
       "      <th>19</th>\n",
       "      <th>22</th>\n",
       "      <th>24</th>\n",
       "      <th>27</th>\n",
       "    </tr>\n",
       "    <tr>\n",
       "      <th>row_0</th>\n",
       "      <th></th>\n",
       "      <th></th>\n",
       "      <th></th>\n",
       "      <th></th>\n",
       "      <th></th>\n",
       "      <th></th>\n",
       "      <th></th>\n",
       "      <th></th>\n",
       "      <th></th>\n",
       "      <th></th>\n",
       "    </tr>\n",
       "  </thead>\n",
       "  <tbody>\n",
       "    <tr>\n",
       "      <th>9</th>\n",
       "      <td>108</td>\n",
       "      <td>876</td>\n",
       "      <td>858</td>\n",
       "      <td>18337</td>\n",
       "      <td>571</td>\n",
       "      <td>6</td>\n",
       "      <td>335</td>\n",
       "      <td>22</td>\n",
       "      <td>41</td>\n",
       "      <td>14</td>\n",
       "    </tr>\n",
       "  </tbody>\n",
       "</table>\n",
       "</div>"
      ],
      "text/plain": [
       "col_0   2    4    7      9    14  17   19  22  24  27\n",
       "row_0                                                \n",
       "9      108  876  858  18337  571   6  335  22  41  14"
      ]
     },
     "execution_count": 187,
     "metadata": {},
     "output_type": "execute_result"
    }
   ],
   "source": [
    "tabla = pd.crosstab(y_pred_label, y_true_label)\n",
    "tabla"
   ]
  },
  {
   "cell_type": "markdown",
   "id": "e97b3da4",
   "metadata": {},
   "source": []
  },
  {
   "cell_type": "markdown",
   "id": "31f6b350",
   "metadata": {},
   "source": [
    "# PREPARACIÓN PARA NN BITSHUFFLE"
   ]
  },
  {
   "cell_type": "code",
   "execution_count": 192,
   "id": "df44773c",
   "metadata": {},
   "outputs": [],
   "source": [
    "dfBITSHUFFLE = pd.DataFrame()\n",
    "dfBITSHUFFLE = pd.concat([df0, df1, df2, df3, df4, df5, df6, df7, df8, df9, df10, df11, df12, df13, df14, df15, df16, df17, \n",
    "                df18, df19, df20, df21, df22, df23, df24, df25, df26, df27, df28, df29,\n",
    "               dfentropy_bitshuffle], axis=1)"
   ]
  },
  {
   "cell_type": "code",
   "execution_count": 193,
   "id": "4b6a6d60",
   "metadata": {},
   "outputs": [],
   "source": [
    "def delete_final(delete0, delete1, delete2, delete3, delete4, delete5, delete6, delete7, delete8, delete9, \n",
    "                delete10, delete11, delete12, delete13, delete14, delete15, delete16, delete17, delete18,\n",
    "                delete19, delete20, delete21, delete22, delete23, delete24, delete25, delete26, delete27,\n",
    "                 delete28, delete29, delete33):\n",
    "    return 1 if delete0 == 1 or delete1 == 1 or delete2 == 1 or delete3 == 1 or delete4 == 1 or delete5 == 1 or delete6 == 1 or delete7 == 1 or delete8 == 1 or delete9 == 1 or delete10 == 1 or delete11 == 1 or delete12 == 1 or delete13 == 1 or delete14 == 1 or delete15 == 1 or delete16 == 1 or delete17 == 1 or delete18 == 1 or delete19 == 1 or delete20 == 1 or delete21 == 1 or delete22 == 1 or delete23 == 1 or delete24 == 1 or delete25 == 1 or delete26 == 1 or delete27 == 1 or delete28 == 1 or delete29 == 1 or delete33 == 1 else 0"
   ]
  },
  {
   "cell_type": "code",
   "execution_count": 194,
   "id": "ef5cd91d",
   "metadata": {},
   "outputs": [],
   "source": [
    "dfBITSHUFFLE[\"delete_f\"] = dfBITSHUFFLE.apply(lambda x: delete_final(x[1], x[3], x[5], x[7], x[9], x[11], x[13], x[15], x[17], \n",
    "                                                     x[19], x[21], x[23], x[25], x[27], x[29], x[31], x[33], x[35], \n",
    "                                                     x[37], x[39], x[41], x[43], x[45], x[47], x[49], x[51], x[53], \n",
    "                                                     x[55], x[57], x[59], x[62]), axis=1)"
   ]
  },
  {
   "cell_type": "markdown",
   "id": "abe9509f",
   "metadata": {},
   "source": [
    "Elimino los splits en los que alguna de las 31 combinaciones (bitshuffle y no entropy) sea un special_val"
   ]
  },
  {
   "cell_type": "code",
   "execution_count": 195,
   "id": "e5c5f49e",
   "metadata": {},
   "outputs": [],
   "source": [
    "dfBITSHUFFLE = dfBITSHUFFLE[dfBITSHUFFLE['delete_f'] == 0]"
   ]
  },
  {
   "cell_type": "code",
   "execution_count": 196,
   "id": "285a2a70",
   "metadata": {},
   "outputs": [],
   "source": [
    "dfBITSHUFFLE = dfBITSHUFFLE.drop(['delete0', 'delete1', 'delete2', 'delete3', 'delete4', 'delete5', 'delete6', 'delete7', 'delete8', \n",
    "              'delete9', 'delete10', 'delete11', 'delete12', 'delete13', 'delete14', 'delete15', 'delete16', \n",
    "              'delete17', 'delete18', 'delete19', 'delete20', 'delete21', 'delete22', 'delete23', 'delete24', \n",
    "              'delete25', 'delete26', 'delete27', 'delete28', 'delete29', 'delete_f', 'delete33'], axis = 1)"
   ]
  },
  {
   "cell_type": "markdown",
   "id": "83261078",
   "metadata": {},
   "source": [
    "Para calcular la mejor categoría, no tengo en cuenta los datos de la combinación de entropy-bitshuffle, por lo que los separo"
   ]
  },
  {
   "cell_type": "code",
   "execution_count": 197,
   "id": "b132238c",
   "metadata": {},
   "outputs": [],
   "source": [
    "dfinput_bitshuffle_x = dfBITSHUFFLE[['cratio', 'speed']]"
   ]
  },
  {
   "cell_type": "code",
   "execution_count": 198,
   "id": "ea2fdda5",
   "metadata": {},
   "outputs": [],
   "source": [
    "dfBITSHUFFLE = dfBITSHUFFLE.drop(['cratio', 'speed'], axis = 1)"
   ]
  },
  {
   "cell_type": "code",
   "execution_count": 199,
   "id": "0a366c2c",
   "metadata": {},
   "outputs": [],
   "source": [
    "pos_min = dfBITSHUFFLE.idxmin(axis=1)\n",
    "pos_min = pd.DataFrame(pos_min, columns=['pos_min'])"
   ]
  },
  {
   "cell_type": "code",
   "execution_count": 200,
   "id": "f175cb8d",
   "metadata": {},
   "outputs": [
    {
     "data": {
      "text/plain": [
       "array(['9', '14', '7', '4', '2', '19', '17', '24', '22', '27'],\n",
       "      dtype=object)"
      ]
     },
     "execution_count": 200,
     "metadata": {},
     "output_type": "execute_result"
    }
   ],
   "source": [
    "pos_min['pos_min'].unique()"
   ]
  },
  {
   "cell_type": "code",
   "execution_count": 201,
   "id": "ba3b285f",
   "metadata": {},
   "outputs": [],
   "source": [
    "dfinput_nofilter_y = pos_min"
   ]
  },
  {
   "cell_type": "code",
   "execution_count": 202,
   "id": "92122461",
   "metadata": {},
   "outputs": [
    {
     "data": {
      "text/plain": [
       "(21168, 2)"
      ]
     },
     "execution_count": 202,
     "metadata": {},
     "output_type": "execute_result"
    }
   ],
   "source": [
    "dfinput_nofilter_x.shape"
   ]
  },
  {
   "cell_type": "code",
   "execution_count": 203,
   "id": "ae309d59",
   "metadata": {},
   "outputs": [
    {
     "data": {
      "text/plain": [
       "(21168, 1)"
      ]
     },
     "execution_count": 203,
     "metadata": {},
     "output_type": "execute_result"
    }
   ],
   "source": [
    "dfinput_nofilter_y.shape"
   ]
  },
  {
   "cell_type": "code",
   "execution_count": 204,
   "id": "0176e090",
   "metadata": {},
   "outputs": [],
   "source": [
    "from keras.utils import to_categorical\n",
    "dfinput_nofilter_y = to_categorical(dfinput_nofilter_y)"
   ]
  },
  {
   "cell_type": "code",
   "execution_count": 205,
   "id": "cf667ec6",
   "metadata": {},
   "outputs": [],
   "source": [
    "from keras import models, layers\n",
    "\n",
    "model = models.Sequential()\n",
    "model.add(layers.Dense(2, activation='relu', input_shape=(1,2)))\n",
    "model.add(layers.Dense(15, activation='relu'))\n",
    "model.add(layers.Dense(20, activation='relu'))\n",
    "model.add(layers.Dense(22, activation='relu'))\n",
    "model.add(layers.Dense(28, activation='softmax'))"
   ]
  },
  {
   "cell_type": "code",
   "execution_count": 206,
   "id": "7ad7366b",
   "metadata": {},
   "outputs": [],
   "source": [
    "model.compile(optimizer='adam',\n",
    "              loss='categorical_crossentropy',\n",
    "              metrics=['acc'])"
   ]
  },
  {
   "cell_type": "code",
   "execution_count": 207,
   "id": "4a226c5d",
   "metadata": {},
   "outputs": [
    {
     "name": "stdout",
     "output_type": "stream",
     "text": [
      "Epoch 1/150\n",
      "WARNING:tensorflow:Model was constructed with shape (None, 1, 2) for input KerasTensor(type_spec=TensorSpec(shape=(None, 1, 2), dtype=tf.float32, name='dense_20_input'), name='dense_20_input', description=\"created by layer 'dense_20_input'\"), but it was called on an input with incompatible shape (None, 2).\n",
      "WARNING:tensorflow:Model was constructed with shape (None, 1, 2) for input KerasTensor(type_spec=TensorSpec(shape=(None, 1, 2), dtype=tf.float32, name='dense_20_input'), name='dense_20_input', description=\"created by layer 'dense_20_input'\"), but it was called on an input with incompatible shape (None, 2).\n",
      "590/596 [============================>.] - ETA: 0s - loss: 252636808.5695 - acc: 0.5513  WARNING:tensorflow:Model was constructed with shape (None, 1, 2) for input KerasTensor(type_spec=TensorSpec(shape=(None, 1, 2), dtype=tf.float32, name='dense_20_input'), name='dense_20_input', description=\"created by layer 'dense_20_input'\"), but it was called on an input with incompatible shape (None, 2).\n",
      "596/596 [==============================] - 1s 712us/step - loss: 250525087.3568 - acc: 0.5528 - val_loss: 2673043.0000 - val_acc: 0.8781\n",
      "Epoch 2/150\n",
      "596/596 [==============================] - 0s 576us/step - loss: 3298993.7709 - acc: 0.7266 - val_loss: 1638965.8750 - val_acc: 0.0071\n",
      "Epoch 3/150\n",
      "596/596 [==============================] - 0s 547us/step - loss: 2756165.5840 - acc: 0.7196 - val_loss: 3196124.5000 - val_acc: 0.8781\n",
      "Epoch 4/150\n",
      "596/596 [==============================] - 0s 544us/step - loss: 2923318.7617 - acc: 0.7308 - val_loss: 621802.0000 - val_acc: 0.8781\n",
      "Epoch 5/150\n",
      "596/596 [==============================] - 0s 549us/step - loss: 1878744.1001 - acc: 0.7281 - val_loss: 1656460.5000 - val_acc: 0.8781\n",
      "Epoch 6/150\n",
      "596/596 [==============================] - 0s 545us/step - loss: 1747889.0048 - acc: 0.7254 - val_loss: 1256237.1250 - val_acc: 0.8781\n",
      "Epoch 7/150\n",
      "596/596 [==============================] - 0s 536us/step - loss: 1394490.0188 - acc: 0.7215 - val_loss: 1010900.6875 - val_acc: 0.8781\n",
      "Epoch 8/150\n",
      "596/596 [==============================] - 0s 540us/step - loss: 1005066.0942 - acc: 0.7260 - val_loss: 469612.0938 - val_acc: 0.8781\n",
      "Epoch 9/150\n",
      "596/596 [==============================] - 0s 536us/step - loss: 655088.3492 - acc: 0.7270 - val_loss: 438774.3438 - val_acc: 0.8781\n",
      "Epoch 10/150\n",
      "596/596 [==============================] - 0s 538us/step - loss: 496470.8581 - acc: 0.7215 - val_loss: 197392.3750 - val_acc: 0.8781\n",
      "Epoch 11/150\n",
      "596/596 [==============================] - 0s 538us/step - loss: 361147.1759 - acc: 0.7290 - val_loss: 310588.5312 - val_acc: 0.8781\n",
      "Epoch 12/150\n",
      "596/596 [==============================] - 0s 534us/step - loss: 218223.5979 - acc: 0.7263 - val_loss: 69618.3203 - val_acc: 0.8781\n",
      "Epoch 13/150\n",
      "596/596 [==============================] - 0s 538us/step - loss: 101906.0975 - acc: 0.7437 - val_loss: 50319.3281 - val_acc: 0.8781\n",
      "Epoch 14/150\n",
      "596/596 [==============================] - 0s 538us/step - loss: 42876.7508 - acc: 0.7242 - val_loss: 17284.9902 - val_acc: 0.8781\n",
      "Epoch 15/150\n",
      "596/596 [==============================] - 0s 536us/step - loss: 8549.7287 - acc: 0.7543 - val_loss: 1.3586 - val_acc: 0.8781\n",
      "Epoch 16/150\n",
      "596/596 [==============================] - 0s 540us/step - loss: 1.1618 - acc: 0.8693 - val_loss: 0.7655 - val_acc: 0.8781\n",
      "Epoch 17/150\n",
      "596/596 [==============================] - 0s 535us/step - loss: 0.7664 - acc: 0.8700 - val_loss: 0.6488 - val_acc: 0.8781\n",
      "Epoch 18/150\n",
      "596/596 [==============================] - 0s 543us/step - loss: 0.7006 - acc: 0.8629 - val_loss: 0.6111 - val_acc: 0.8781\n",
      "Epoch 19/150\n",
      "596/596 [==============================] - 0s 568us/step - loss: 0.6604 - acc: 0.8651 - val_loss: 0.5938 - val_acc: 0.8781\n",
      "Epoch 20/150\n",
      "596/596 [==============================] - 0s 547us/step - loss: 0.6506 - acc: 0.8628 - val_loss: 0.5843 - val_acc: 0.8781\n",
      "Epoch 21/150\n",
      "596/596 [==============================] - 0s 597us/step - loss: 0.6264 - acc: 0.8663 - val_loss: 0.5793 - val_acc: 0.8781\n",
      "Epoch 22/150\n",
      "596/596 [==============================] - 0s 599us/step - loss: 0.6294 - acc: 0.8629 - val_loss: 0.5769 - val_acc: 0.8781\n",
      "Epoch 23/150\n",
      "596/596 [==============================] - 0s 596us/step - loss: 0.6111 - acc: 0.8672 - val_loss: 0.5755 - val_acc: 0.8781\n",
      "Epoch 24/150\n",
      "596/596 [==============================] - 0s 554us/step - loss: 0.6131 - acc: 0.8641 - val_loss: 0.5743 - val_acc: 0.8781\n",
      "Epoch 25/150\n",
      "596/596 [==============================] - 0s 609us/step - loss: 0.6021 - acc: 0.8674 - val_loss: 0.5733 - val_acc: 0.8781\n",
      "Epoch 26/150\n",
      "596/596 [==============================] - 0s 623us/step - loss: 0.5928 - acc: 0.8705 - val_loss: 0.5729 - val_acc: 0.8781\n",
      "Epoch 27/150\n",
      "596/596 [==============================] - 0s 613us/step - loss: 0.6101 - acc: 0.8638 - val_loss: 0.5718 - val_acc: 0.8781\n",
      "Epoch 28/150\n",
      "596/596 [==============================] - 0s 592us/step - loss: 0.6154 - acc: 0.8627 - val_loss: 0.5711 - val_acc: 0.8781\n",
      "Epoch 29/150\n",
      "596/596 [==============================] - 0s 601us/step - loss: 0.6105 - acc: 0.8637 - val_loss: 0.5712 - val_acc: 0.8781\n",
      "Epoch 30/150\n",
      "596/596 [==============================] - 0s 548us/step - loss: 0.6008 - acc: 0.8666 - val_loss: 0.5712 - val_acc: 0.8781\n",
      "Epoch 31/150\n",
      "596/596 [==============================] - 0s 543us/step - loss: 0.6042 - acc: 0.8650 - val_loss: 0.5709 - val_acc: 0.8781\n",
      "Epoch 32/150\n",
      "596/596 [==============================] - 0s 556us/step - loss: 0.6164 - acc: 0.8613 - val_loss: 0.5708 - val_acc: 0.8781\n",
      "Epoch 33/150\n",
      "596/596 [==============================] - 0s 539us/step - loss: 0.5989 - acc: 0.8672 - val_loss: 0.5709 - val_acc: 0.8781\n",
      "Epoch 34/150\n",
      "596/596 [==============================] - 0s 534us/step - loss: 0.6110 - acc: 0.8640 - val_loss: 0.5702 - val_acc: 0.8781\n",
      "Epoch 35/150\n",
      "596/596 [==============================] - 0s 533us/step - loss: 0.5954 - acc: 0.8670 - val_loss: 0.5710 - val_acc: 0.8781\n",
      "Epoch 36/150\n",
      "596/596 [==============================] - 0s 534us/step - loss: 0.6110 - acc: 0.8642 - val_loss: 0.5701 - val_acc: 0.8781\n",
      "Epoch 37/150\n",
      "596/596 [==============================] - 0s 534us/step - loss: 0.6085 - acc: 0.8636 - val_loss: 0.5701 - val_acc: 0.8781\n",
      "Epoch 38/150\n",
      "596/596 [==============================] - 0s 537us/step - loss: 0.6148 - acc: 0.8618 - val_loss: 0.5701 - val_acc: 0.8781\n",
      "Epoch 39/150\n",
      "596/596 [==============================] - 0s 534us/step - loss: 0.6089 - acc: 0.8642 - val_loss: 0.5702 - val_acc: 0.8781\n",
      "Epoch 40/150\n",
      "596/596 [==============================] - 0s 534us/step - loss: 0.6040 - acc: 0.8664 - val_loss: 0.5698 - val_acc: 0.8781\n",
      "Epoch 41/150\n",
      "596/596 [==============================] - 0s 531us/step - loss: 0.5915 - acc: 0.8700 - val_loss: 0.5709 - val_acc: 0.8781\n",
      "Epoch 42/150\n",
      "596/596 [==============================] - 0s 539us/step - loss: 0.6143 - acc: 0.8626 - val_loss: 0.5705 - val_acc: 0.8781\n",
      "Epoch 43/150\n",
      "596/596 [==============================] - 0s 538us/step - loss: 0.6039 - acc: 0.8661 - val_loss: 0.5703 - val_acc: 0.8781\n",
      "Epoch 44/150\n",
      "596/596 [==============================] - 0s 534us/step - loss: 0.6075 - acc: 0.8639 - val_loss: 0.5704 - val_acc: 0.8781\n",
      "Epoch 45/150\n",
      "596/596 [==============================] - 0s 532us/step - loss: 0.6076 - acc: 0.8653 - val_loss: 0.5700 - val_acc: 0.8781\n",
      "Epoch 46/150\n",
      "596/596 [==============================] - 0s 535us/step - loss: 0.6031 - acc: 0.8659 - val_loss: 0.5699 - val_acc: 0.8781\n",
      "Epoch 47/150\n",
      "596/596 [==============================] - 0s 539us/step - loss: 0.6000 - acc: 0.8660 - val_loss: 0.5699 - val_acc: 0.8781\n",
      "Epoch 48/150\n",
      "596/596 [==============================] - 0s 534us/step - loss: 0.6128 - acc: 0.8635 - val_loss: 0.5697 - val_acc: 0.8781\n",
      "Epoch 49/150\n",
      "596/596 [==============================] - 0s 535us/step - loss: 0.6099 - acc: 0.8647 - val_loss: 0.5703 - val_acc: 0.8781\n",
      "Epoch 50/150\n",
      "596/596 [==============================] - 0s 529us/step - loss: 0.5943 - acc: 0.8685 - val_loss: 0.5704 - val_acc: 0.8781\n",
      "Epoch 51/150\n",
      "596/596 [==============================] - 0s 534us/step - loss: 0.6076 - acc: 0.8646 - val_loss: 0.5700 - val_acc: 0.8781\n",
      "Epoch 52/150\n",
      "596/596 [==============================] - 0s 529us/step - loss: 0.6139 - acc: 0.8628 - val_loss: 0.5702 - val_acc: 0.8781\n"
     ]
    },
    {
     "name": "stdout",
     "output_type": "stream",
     "text": [
      "Epoch 53/150\n",
      "596/596 [==============================] - 0s 531us/step - loss: 0.6078 - acc: 0.8648 - val_loss: 0.5706 - val_acc: 0.8781\n",
      "Epoch 54/150\n",
      "596/596 [==============================] - 0s 535us/step - loss: 0.6070 - acc: 0.8644 - val_loss: 0.5706 - val_acc: 0.8781\n",
      "Epoch 55/150\n",
      "596/596 [==============================] - 0s 532us/step - loss: 0.6063 - acc: 0.8650 - val_loss: 0.5703 - val_acc: 0.8781\n",
      "Epoch 56/150\n",
      "596/596 [==============================] - 0s 531us/step - loss: 0.6146 - acc: 0.8625 - val_loss: 0.5704 - val_acc: 0.8781\n",
      "Epoch 57/150\n",
      "596/596 [==============================] - 0s 531us/step - loss: 0.5932 - acc: 0.8690 - val_loss: 0.5699 - val_acc: 0.8781\n",
      "Epoch 58/150\n",
      "596/596 [==============================] - 0s 532us/step - loss: 0.5958 - acc: 0.8678 - val_loss: 0.5704 - val_acc: 0.8781\n",
      "Epoch 59/150\n",
      "596/596 [==============================] - 0s 531us/step - loss: 0.5901 - acc: 0.8692 - val_loss: 0.5710 - val_acc: 0.8781\n",
      "Epoch 60/150\n",
      "596/596 [==============================] - 0s 531us/step - loss: 0.6065 - acc: 0.8650 - val_loss: 0.5712 - val_acc: 0.8781\n",
      "Epoch 61/150\n",
      "596/596 [==============================] - 0s 529us/step - loss: 0.5917 - acc: 0.8689 - val_loss: 0.5703 - val_acc: 0.8781\n",
      "Epoch 62/150\n",
      "596/596 [==============================] - 0s 528us/step - loss: 0.6047 - acc: 0.8652 - val_loss: 0.5700 - val_acc: 0.8781\n",
      "Epoch 63/150\n",
      "596/596 [==============================] - 0s 531us/step - loss: 0.6039 - acc: 0.8657 - val_loss: 0.5696 - val_acc: 0.8781\n",
      "Epoch 64/150\n",
      "596/596 [==============================] - 0s 530us/step - loss: 0.5958 - acc: 0.8684 - val_loss: 0.5702 - val_acc: 0.8781\n",
      "Epoch 65/150\n",
      "596/596 [==============================] - 0s 530us/step - loss: 0.6089 - acc: 0.8643 - val_loss: 0.5702 - val_acc: 0.8781\n",
      "Epoch 66/150\n",
      "596/596 [==============================] - 0s 531us/step - loss: 0.6184 - acc: 0.8617 - val_loss: 0.5712 - val_acc: 0.8781\n",
      "Epoch 67/150\n",
      "596/596 [==============================] - 0s 530us/step - loss: 0.6061 - acc: 0.8646 - val_loss: 0.5703 - val_acc: 0.8781\n",
      "Epoch 68/150\n",
      "596/596 [==============================] - 0s 537us/step - loss: 0.6060 - acc: 0.8660 - val_loss: 0.5714 - val_acc: 0.8781\n",
      "Epoch 69/150\n",
      "596/596 [==============================] - 0s 549us/step - loss: 0.6100 - acc: 0.8630 - val_loss: 0.5703 - val_acc: 0.8781\n",
      "Epoch 70/150\n",
      "596/596 [==============================] - 0s 534us/step - loss: 0.6048 - acc: 0.8654 - val_loss: 0.5708 - val_acc: 0.8781\n",
      "Epoch 71/150\n",
      "596/596 [==============================] - 0s 535us/step - loss: 0.6097 - acc: 0.8643 - val_loss: 0.5697 - val_acc: 0.8781\n",
      "Epoch 72/150\n",
      "596/596 [==============================] - 0s 534us/step - loss: 0.5973 - acc: 0.8680 - val_loss: 0.5721 - val_acc: 0.8781\n",
      "Epoch 73/150\n",
      "596/596 [==============================] - 0s 530us/step - loss: 0.5962 - acc: 0.8678 - val_loss: 0.5708 - val_acc: 0.8781\n",
      "Epoch 74/150\n",
      "596/596 [==============================] - 0s 526us/step - loss: 0.6059 - acc: 0.8654 - val_loss: 0.5701 - val_acc: 0.8781\n",
      "Epoch 75/150\n",
      "596/596 [==============================] - 0s 532us/step - loss: 0.6086 - acc: 0.8642 - val_loss: 0.5685 - val_acc: 0.8781\n",
      "Epoch 76/150\n",
      "596/596 [==============================] - 0s 531us/step - loss: 0.6085 - acc: 0.8642 - val_loss: 0.5709 - val_acc: 0.8781\n",
      "Epoch 77/150\n",
      "596/596 [==============================] - 0s 535us/step - loss: 0.5967 - acc: 0.8677 - val_loss: 0.5719 - val_acc: 0.8781\n",
      "Epoch 78/150\n",
      "596/596 [==============================] - 0s 531us/step - loss: 0.6151 - acc: 0.8623 - val_loss: 0.5693 - val_acc: 0.8781\n",
      "Epoch 79/150\n",
      "596/596 [==============================] - 0s 533us/step - loss: 0.6126 - acc: 0.8635 - val_loss: 0.5725 - val_acc: 0.8781\n",
      "Epoch 80/150\n",
      "596/596 [==============================] - 0s 532us/step - loss: 0.6004 - acc: 0.8672 - val_loss: 0.5692 - val_acc: 0.8781\n",
      "Epoch 81/150\n",
      "596/596 [==============================] - 0s 536us/step - loss: 0.6066 - acc: 0.8638 - val_loss: 0.5696 - val_acc: 0.8781\n",
      "Epoch 82/150\n",
      "596/596 [==============================] - 0s 533us/step - loss: 0.6124 - acc: 0.8634 - val_loss: 0.5688 - val_acc: 0.8781\n",
      "Epoch 83/150\n",
      "596/596 [==============================] - 0s 533us/step - loss: 0.6046 - acc: 0.8648 - val_loss: 0.5700 - val_acc: 0.8781\n",
      "Epoch 84/150\n",
      "596/596 [==============================] - 0s 521us/step - loss: 0.6111 - acc: 0.8641 - val_loss: 0.5693 - val_acc: 0.8781\n",
      "Epoch 85/150\n",
      "596/596 [==============================] - 0s 540us/step - loss: 0.6047 - acc: 0.8662 - val_loss: 0.5694 - val_acc: 0.8781\n",
      "Epoch 86/150\n",
      "596/596 [==============================] - 0s 532us/step - loss: 0.6313 - acc: 0.8585 - val_loss: 0.5680 - val_acc: 0.8781\n",
      "Epoch 87/150\n",
      "596/596 [==============================] - 0s 536us/step - loss: 0.5885 - acc: 0.8701 - val_loss: 0.5704 - val_acc: 0.8781\n",
      "Epoch 88/150\n",
      "596/596 [==============================] - 0s 534us/step - loss: 0.6047 - acc: 0.8661 - val_loss: 0.5727 - val_acc: 0.8781\n",
      "Epoch 89/150\n",
      "596/596 [==============================] - 0s 533us/step - loss: 0.6190 - acc: 0.8621 - val_loss: 0.5716 - val_acc: 0.8781\n",
      "Epoch 90/150\n",
      "596/596 [==============================] - 0s 532us/step - loss: 0.6118 - acc: 0.8627 - val_loss: 0.5718 - val_acc: 0.8781\n",
      "Epoch 91/150\n",
      "596/596 [==============================] - 0s 525us/step - loss: 0.6193 - acc: 0.8618 - val_loss: 0.5699 - val_acc: 0.8781\n",
      "Epoch 92/150\n",
      "596/596 [==============================] - 0s 539us/step - loss: 0.6009 - acc: 0.8669 - val_loss: 0.5715 - val_acc: 0.8781\n",
      "Epoch 93/150\n",
      "596/596 [==============================] - 0s 531us/step - loss: 0.6076 - acc: 0.8657 - val_loss: 0.5703 - val_acc: 0.8781\n",
      "Epoch 94/150\n",
      "596/596 [==============================] - 0s 533us/step - loss: 0.5980 - acc: 0.8676 - val_loss: 0.5686 - val_acc: 0.8781\n",
      "Epoch 95/150\n",
      "596/596 [==============================] - 0s 531us/step - loss: 0.5969 - acc: 0.8678 - val_loss: 0.5713 - val_acc: 0.8781\n",
      "Epoch 96/150\n",
      "596/596 [==============================] - 0s 534us/step - loss: 0.5953 - acc: 0.8680 - val_loss: 0.5688 - val_acc: 0.8781\n",
      "Epoch 97/150\n",
      "596/596 [==============================] - 0s 537us/step - loss: 0.5854 - acc: 0.8707 - val_loss: 0.5699 - val_acc: 0.8781\n",
      "Epoch 98/150\n",
      "596/596 [==============================] - 0s 534us/step - loss: 0.6017 - acc: 0.8663 - val_loss: 0.5701 - val_acc: 0.8781\n",
      "Epoch 99/150\n",
      "596/596 [==============================] - 0s 532us/step - loss: 0.5978 - acc: 0.8668 - val_loss: 0.5712 - val_acc: 0.8781\n",
      "Epoch 100/150\n",
      "596/596 [==============================] - 0s 536us/step - loss: 0.6215 - acc: 0.8604 - val_loss: 0.5699 - val_acc: 0.8781\n",
      "Epoch 101/150\n",
      "596/596 [==============================] - 0s 534us/step - loss: 0.6109 - acc: 0.8639 - val_loss: 0.5704 - val_acc: 0.8781\n",
      "Epoch 102/150\n",
      "596/596 [==============================] - 0s 530us/step - loss: 0.5945 - acc: 0.8689 - val_loss: 0.5721 - val_acc: 0.8781\n",
      "Epoch 103/150\n",
      "596/596 [==============================] - 0s 535us/step - loss: 0.6006 - acc: 0.8667 - val_loss: 0.5694 - val_acc: 0.8781\n",
      "Epoch 104/150\n",
      "596/596 [==============================] - 0s 533us/step - loss: 0.5992 - acc: 0.8677 - val_loss: 0.5704 - val_acc: 0.8781\n",
      "Epoch 105/150\n",
      "596/596 [==============================] - 0s 533us/step - loss: 0.6030 - acc: 0.8651 - val_loss: 0.5722 - val_acc: 0.8781\n",
      "Epoch 106/150\n",
      "596/596 [==============================] - 0s 538us/step - loss: 0.6162 - acc: 0.8620 - val_loss: 0.5730 - val_acc: 0.8781\n",
      "Epoch 107/150\n",
      "596/596 [==============================] - 0s 535us/step - loss: 0.6104 - acc: 0.8639 - val_loss: 0.5706 - val_acc: 0.8781\n",
      "Epoch 108/150\n",
      "596/596 [==============================] - 0s 530us/step - loss: 0.6086 - acc: 0.8645 - val_loss: 0.5717 - val_acc: 0.8781\n",
      "Epoch 109/150\n",
      "596/596 [==============================] - 0s 530us/step - loss: 0.6112 - acc: 0.8627 - val_loss: 0.5701 - val_acc: 0.8781\n",
      "Epoch 110/150\n",
      "596/596 [==============================] - 0s 530us/step - loss: 0.6088 - acc: 0.8643 - val_loss: 0.5687 - val_acc: 0.8781\n",
      "Epoch 111/150\n",
      "596/596 [==============================] - 0s 534us/step - loss: 0.5958 - acc: 0.8679 - val_loss: 0.5698 - val_acc: 0.8781\n",
      "Epoch 112/150\n",
      "596/596 [==============================] - 0s 535us/step - loss: 0.6073 - acc: 0.8657 - val_loss: 0.5719 - val_acc: 0.8781\n",
      "Epoch 113/150\n",
      "596/596 [==============================] - 0s 535us/step - loss: 0.6090 - acc: 0.8640 - val_loss: 0.5705 - val_acc: 0.8781\n",
      "Epoch 114/150\n",
      "596/596 [==============================] - 0s 533us/step - loss: 0.6175 - acc: 0.8626 - val_loss: 0.5720 - val_acc: 0.8781\n",
      "Epoch 115/150\n",
      "596/596 [==============================] - 0s 534us/step - loss: 0.6183 - acc: 0.8622 - val_loss: 0.5696 - val_acc: 0.8781\n",
      "Epoch 116/150\n",
      "596/596 [==============================] - 0s 532us/step - loss: 0.6116 - acc: 0.8630 - val_loss: 0.5690 - val_acc: 0.8781\n",
      "Epoch 117/150\n",
      "596/596 [==============================] - 0s 535us/step - loss: 0.6141 - acc: 0.8642 - val_loss: 0.5719 - val_acc: 0.8781\n",
      "Epoch 118/150\n",
      "596/596 [==============================] - 0s 529us/step - loss: 0.6013 - acc: 0.8661 - val_loss: 0.5719 - val_acc: 0.8781\n",
      "Epoch 119/150\n",
      "596/596 [==============================] - 0s 528us/step - loss: 0.6113 - acc: 0.8640 - val_loss: 0.5696 - val_acc: 0.8781\n",
      "Epoch 120/150\n",
      "596/596 [==============================] - 0s 529us/step - loss: 0.6105 - acc: 0.8629 - val_loss: 0.5694 - val_acc: 0.8781\n",
      "Epoch 121/150\n",
      "596/596 [==============================] - 0s 529us/step - loss: 0.6026 - acc: 0.8666 - val_loss: 0.5719 - val_acc: 0.8781\n",
      "Epoch 122/150\n",
      "596/596 [==============================] - 0s 532us/step - loss: 0.6163 - acc: 0.8615 - val_loss: 0.5707 - val_acc: 0.8781\n",
      "Epoch 123/150\n",
      "596/596 [==============================] - 0s 532us/step - loss: 0.5969 - acc: 0.8685 - val_loss: 0.5731 - val_acc: 0.8781\n",
      "Epoch 124/150\n",
      "596/596 [==============================] - 0s 533us/step - loss: 0.6132 - acc: 0.8635 - val_loss: 0.5689 - val_acc: 0.8781\n",
      "Epoch 125/150\n",
      "596/596 [==============================] - 0s 529us/step - loss: 0.5955 - acc: 0.8672 - val_loss: 0.5698 - val_acc: 0.8781\n",
      "Epoch 126/150\n",
      "596/596 [==============================] - 0s 530us/step - loss: 0.6159 - acc: 0.8622 - val_loss: 0.5692 - val_acc: 0.8781\n",
      "Epoch 127/150\n",
      "596/596 [==============================] - 0s 533us/step - loss: 0.6059 - acc: 0.8652 - val_loss: 0.5709 - val_acc: 0.8781\n",
      "Epoch 128/150\n",
      "596/596 [==============================] - 0s 533us/step - loss: 0.6122 - acc: 0.8631 - val_loss: 0.5700 - val_acc: 0.8781\n",
      "Epoch 129/150\n",
      "596/596 [==============================] - 0s 532us/step - loss: 0.6035 - acc: 0.8646 - val_loss: 0.5694 - val_acc: 0.8781\n",
      "Epoch 130/150\n",
      "596/596 [==============================] - 0s 535us/step - loss: 0.6138 - acc: 0.8631 - val_loss: 0.5714 - val_acc: 0.8781\n",
      "Epoch 131/150\n",
      "596/596 [==============================] - 0s 536us/step - loss: 0.6134 - acc: 0.8634 - val_loss: 0.5706 - val_acc: 0.8781\n",
      "Epoch 132/150\n",
      "596/596 [==============================] - 0s 540us/step - loss: 0.6079 - acc: 0.8645 - val_loss: 0.5696 - val_acc: 0.8781\n",
      "Epoch 133/150\n",
      "596/596 [==============================] - 0s 531us/step - loss: 0.6094 - acc: 0.8630 - val_loss: 0.5695 - val_acc: 0.8781\n",
      "Epoch 134/150\n",
      "596/596 [==============================] - 0s 535us/step - loss: 0.5988 - acc: 0.8668 - val_loss: 0.5703 - val_acc: 0.8781\n",
      "Epoch 135/150\n",
      "596/596 [==============================] - 0s 531us/step - loss: 0.6114 - acc: 0.8639 - val_loss: 0.5701 - val_acc: 0.8781\n",
      "Epoch 136/150\n",
      "596/596 [==============================] - 0s 533us/step - loss: 0.6035 - acc: 0.8661 - val_loss: 0.5711 - val_acc: 0.8781\n",
      "Epoch 137/150\n",
      "596/596 [==============================] - 0s 533us/step - loss: 0.6048 - acc: 0.8654 - val_loss: 0.5704 - val_acc: 0.8781\n",
      "Epoch 138/150\n",
      "596/596 [==============================] - 0s 539us/step - loss: 0.6165 - acc: 0.8629 - val_loss: 0.5686 - val_acc: 0.8781\n",
      "Epoch 139/150\n",
      "596/596 [==============================] - 0s 536us/step - loss: 0.5874 - acc: 0.8708 - val_loss: 0.5722 - val_acc: 0.8781\n",
      "Epoch 140/150\n",
      "596/596 [==============================] - 0s 536us/step - loss: 0.6075 - acc: 0.8643 - val_loss: 0.5685 - val_acc: 0.8781\n",
      "Epoch 141/150\n",
      "596/596 [==============================] - 0s 530us/step - loss: 0.5991 - acc: 0.8674 - val_loss: 0.5708 - val_acc: 0.8781\n",
      "Epoch 142/150\n",
      "596/596 [==============================] - 0s 542us/step - loss: 0.6088 - acc: 0.8642 - val_loss: 0.5708 - val_acc: 0.8781\n",
      "Epoch 143/150\n",
      "596/596 [==============================] - 0s 531us/step - loss: 0.6034 - acc: 0.8655 - val_loss: 0.5714 - val_acc: 0.8781\n",
      "Epoch 144/150\n",
      "596/596 [==============================] - 0s 538us/step - loss: 0.6061 - acc: 0.8632 - val_loss: 0.5693 - val_acc: 0.8781\n",
      "Epoch 145/150\n",
      "596/596 [==============================] - 0s 538us/step - loss: 0.6080 - acc: 0.8651 - val_loss: 0.5698 - val_acc: 0.8781\n",
      "Epoch 146/150\n",
      "596/596 [==============================] - 0s 536us/step - loss: 0.6005 - acc: 0.8668 - val_loss: 0.5695 - val_acc: 0.8781\n",
      "Epoch 147/150\n",
      "596/596 [==============================] - 0s 533us/step - loss: 0.6016 - acc: 0.8669 - val_loss: 0.5705 - val_acc: 0.8781\n",
      "Epoch 148/150\n",
      "596/596 [==============================] - 0s 545us/step - loss: 0.6046 - acc: 0.8656 - val_loss: 0.5701 - val_acc: 0.8781\n",
      "Epoch 149/150\n",
      "596/596 [==============================] - 0s 533us/step - loss: 0.6302 - acc: 0.8592 - val_loss: 0.5701 - val_acc: 0.8781\n",
      "Epoch 150/150\n",
      "596/596 [==============================] - 0s 542us/step - loss: 0.6199 - acc: 0.8608 - val_loss: 0.5710 - val_acc: 0.8781\n"
     ]
    }
   ],
   "source": [
    "history = model.fit(dfinput_nofilter_x, dfinput_nofilter_y, epochs=150, validation_split=0.1)"
   ]
  },
  {
   "cell_type": "code",
   "execution_count": 208,
   "id": "58ea330f",
   "metadata": {},
   "outputs": [
    {
     "data": {
      "image/png": "[encoded data removed]",
      "text/plain": [
       "<Figure size 1000x500 with 2 Axes>"
      ]
     },
     "metadata": {
      "needs_background": "light"
     },
     "output_type": "display_data"
    }
   ],
   "source": [
    "_, ax = plt.subplots(1, 2, figsize=(10, 5), dpi=100)\n",
    "ax[0].plot(history.history['acc'], 'r')\n",
    "ax[0].plot(history.history['val_acc'], 'g')\n",
    "ax[0].set_xlabel(\"Num of Epochs\")\n",
    "ax[0].set_ylabel(\"Accuracy\")\n",
    "ax[0].set_title(\"Training Accuracy vs Validation Accuracy\")\n",
    "ax[0].legend(['train', 'validation'])\n",
    "\n",
    "ax[1].plot(history.history['loss'], 'r')\n",
    "ax[1].plot(history.history['val_loss'], 'g')\n",
    "ax[1].set_xlabel(\"Num of Epochs\")\n",
    "ax[1].set_ylabel(\"Loss\")\n",
    "ax[1].set_title(\"Training Loss vs Validation Loss\")\n",
    "ax[1].legend(['train', 'validation'])\n",
    "\n",
    "plt.tight_layout()"
   ]
  },
  {
   "cell_type": "code",
   "execution_count": 209,
   "id": "f6c4667b",
   "metadata": {},
   "outputs": [
    {
     "name": "stdout",
     "output_type": "stream",
     "text": [
      "WARNING:tensorflow:Model was constructed with shape (None, 1, 2) for input KerasTensor(type_spec=TensorSpec(shape=(None, 1, 2), dtype=tf.float32, name='dense_20_input'), name='dense_20_input', description=\"created by layer 'dense_20_input'\"), but it was called on an input with incompatible shape (None, 2).\n"
     ]
    },
    {
     "data": {
      "text/plain": [
       "array([[1.7672412e-09, 1.1415501e-09, 5.0201206e-03, ..., 1.7865697e-09,\n",
       "        1.7628076e-09, 6.9525762e-04],\n",
       "       [1.7672412e-09, 1.1415501e-09, 5.0201206e-03, ..., 1.7865697e-09,\n",
       "        1.7628076e-09, 6.9525762e-04],\n",
       "       [1.7672412e-09, 1.1415501e-09, 5.0201206e-03, ..., 1.7865697e-09,\n",
       "        1.7628076e-09, 6.9525762e-04],\n",
       "       ...,\n",
       "       [1.7672412e-09, 1.1415501e-09, 5.0201206e-03, ..., 1.7865697e-09,\n",
       "        1.7628076e-09, 6.9525762e-04],\n",
       "       [1.7672412e-09, 1.1415501e-09, 5.0201206e-03, ..., 1.7865697e-09,\n",
       "        1.7628076e-09, 6.9525762e-04],\n",
       "       [1.7672412e-09, 1.1415501e-09, 5.0201206e-03, ..., 1.7865697e-09,\n",
       "        1.7628076e-09, 6.9525762e-04]], dtype=float32)"
      ]
     },
     "execution_count": 209,
     "metadata": {},
     "output_type": "execute_result"
    }
   ],
   "source": [
    "y_hat = model.predict(x=dfinput_nofilter_x)\n",
    "y_hat"
   ]
  },
  {
   "cell_type": "code",
   "execution_count": 210,
   "id": "af39f821",
   "metadata": {},
   "outputs": [],
   "source": [
    "y_pred_label = np.argmax(y_hat, axis = 1)\n",
    "y_true_label = np.argmax(dfinput_nofilter_y, axis = 1)"
   ]
  },
  {
   "cell_type": "code",
   "execution_count": 211,
   "id": "91017e70",
   "metadata": {},
   "outputs": [
    {
     "data": {
      "text/plain": [
       "array([9, 9, 9, ..., 9, 9, 9])"
      ]
     },
     "execution_count": 211,
     "metadata": {},
     "output_type": "execute_result"
    }
   ],
   "source": [
    "y_pred_label"
   ]
  },
  {
   "cell_type": "code",
   "execution_count": 212,
   "id": "0c6f3722",
   "metadata": {},
   "outputs": [
    {
     "data": {
      "text/plain": [
       "array([[    9, 21168]])"
      ]
     },
     "execution_count": 212,
     "metadata": {},
     "output_type": "execute_result"
    }
   ],
   "source": [
    "unique, counts = np.unique(y_pred_label, return_counts=True)\n",
    "result = np.column_stack((unique, counts))\n",
    "result"
   ]
  },
  {
   "cell_type": "code",
   "execution_count": 213,
   "id": "d6eee257",
   "metadata": {},
   "outputs": [
    {
     "data": {
      "text/plain": [
       "array([9, 9, 9, ..., 9, 7, 7])"
      ]
     },
     "execution_count": 213,
     "metadata": {},
     "output_type": "execute_result"
    }
   ],
   "source": [
    "y_true_label"
   ]
  },
  {
   "cell_type": "code",
   "execution_count": 214,
   "id": "c86828c4",
   "metadata": {},
   "outputs": [
    {
     "data": {
      "text/plain": [
       "array([[    2,   108],\n",
       "       [    4,   876],\n",
       "       [    7,   858],\n",
       "       [    9, 18337],\n",
       "       [   14,   571],\n",
       "       [   17,     6],\n",
       "       [   19,   335],\n",
       "       [   22,    22],\n",
       "       [   24,    41],\n",
       "       [   27,    14]])"
      ]
     },
     "execution_count": 214,
     "metadata": {},
     "output_type": "execute_result"
    }
   ],
   "source": [
    "unique, counts = np.unique(y_true_label, return_counts=True)\n",
    "result = np.column_stack((unique, counts))\n",
    "result"
   ]
  },
  {
   "cell_type": "code",
   "execution_count": 215,
   "id": "9aaf8539",
   "metadata": {},
   "outputs": [
    {
     "data": {
      "text/html": [
       "<div>\n",
       "<style scoped>\n",
       "    .dataframe tbody tr th:only-of-type {\n",
       "        vertical-align: middle;\n",
       "    }\n",
       "\n",
       "    .dataframe tbody tr th {\n",
       "        vertical-align: top;\n",
       "    }\n",
       "\n",
       "    .dataframe thead th {\n",
       "        text-align: right;\n",
       "    }\n",
       "</style>\n",
       "<table border=\"1\" class=\"dataframe\">\n",
       "  <thead>\n",
       "    <tr style=\"text-align: right;\">\n",
       "      <th>col_0</th>\n",
       "      <th>2</th>\n",
       "      <th>4</th>\n",
       "      <th>7</th>\n",
       "      <th>9</th>\n",
       "      <th>14</th>\n",
       "      <th>17</th>\n",
       "      <th>19</th>\n",
       "      <th>22</th>\n",
       "      <th>24</th>\n",
       "      <th>27</th>\n",
       "    </tr>\n",
       "    <tr>\n",
       "      <th>row_0</th>\n",
       "      <th></th>\n",
       "      <th></th>\n",
       "      <th></th>\n",
       "      <th></th>\n",
       "      <th></th>\n",
       "      <th></th>\n",
       "      <th></th>\n",
       "      <th></th>\n",
       "      <th></th>\n",
       "      <th></th>\n",
       "    </tr>\n",
       "  </thead>\n",
       "  <tbody>\n",
       "    <tr>\n",
       "      <th>9</th>\n",
       "      <td>108</td>\n",
       "      <td>876</td>\n",
       "      <td>858</td>\n",
       "      <td>18337</td>\n",
       "      <td>571</td>\n",
       "      <td>6</td>\n",
       "      <td>335</td>\n",
       "      <td>22</td>\n",
       "      <td>41</td>\n",
       "      <td>14</td>\n",
       "    </tr>\n",
       "  </tbody>\n",
       "</table>\n",
       "</div>"
      ],
      "text/plain": [
       "col_0   2    4    7      9    14  17   19  22  24  27\n",
       "row_0                                                \n",
       "9      108  876  858  18337  571   6  335  22  41  14"
      ]
     },
     "execution_count": 215,
     "metadata": {},
     "output_type": "execute_result"
    }
   ],
   "source": [
    "tabla = pd.crosstab(y_pred_label, y_true_label)\n",
    "tabla"
   ]
  },
  {
   "cell_type": "markdown",
   "id": "7c6f3f04",
   "metadata": {},
   "source": [
    "La misma conclusión para las NN con shuffle y bitshuffle.\n",
    "Supongo que es porque de los inputs, el input_x (cratio y speed del entropy correspondiente) sí que cambian,\n",
    " pero el input_y (mejores categorías) es el mismo, ya que en ese cálculo el entropy no entra en juego."
   ]
  },
  {
   "cell_type": "markdown",
   "id": "2d384ed2",
   "metadata": {},
   "source": [
    "# PRUEBAS (A PARTIR DE AQUÍ NO MIRAR)"
   ]
  },
  {
   "cell_type": "code",
   "execution_count": 215,
   "id": "903b8760",
   "metadata": {},
   "outputs": [],
   "source": [
    "df = pd.DataFrame()\n",
    "df = pd.concat([df0, df1, df2, df3, df4, df5, df6, df7, df8, df9, df10, df11, df12, df13, df14, df15, df16, df17, \n",
    "                df18, df19, df20, df21, df22, df23, df24, df25, df26, df27, df28, df29,\n",
    "               dfentropy_nofilter, dfentropy_shuffle, dfentropy_bitshuffle], axis=1)"
   ]
  },
  {
   "cell_type": "code",
   "execution_count": 216,
   "id": "902bb362",
   "metadata": {},
   "outputs": [],
   "source": [
    "def delete_final(delete0, delete1, delete2, delete3, delete4, delete5, delete6, delete7, delete8, delete9, \n",
    "                delete10, delete11, delete12, delete13, delete14, delete15, delete16, delete17, delete18,\n",
    "                delete19, delete20, delete21, delete22, delete23, delete24, delete25, delete26, delete27,\n",
    "                 delete28, delete29, delete31, delete32, delete33):\n",
    "    return 1 if delete0 == 1 or delete1 == 1 or delete2 == 1 or delete3 == 1 or delete4 == 1 or delete5 == 1 or delete6 == 1 or delete7 == 1 or delete8 == 1 or delete9 == 1 or delete10 == 1 or delete11 == 1 or delete12 == 1 or delete13 == 1 or delete14 == 1 or delete15 == 1 or delete16 == 1 or delete17 == 1 or delete18 == 1 or delete19 == 1 or delete20 == 1 or delete21 == 1 or delete22 == 1 or delete23 == 1 or delete24 == 1 or delete25 == 1 or delete26 == 1 or delete27 == 1 or delete28 == 1 or delete29 == 1 or delete31 == 1 or delete32 == 1 or delete33 == 1 else 0"
   ]
  },
  {
   "cell_type": "code",
   "execution_count": 217,
   "id": "4673d343",
   "metadata": {},
   "outputs": [],
   "source": [
    "df[\"delete_f\"] = df.apply(lambda x: delete_final(x[1], x[3], x[5], x[7], x[9], x[11], x[13], x[15], x[17], \n",
    "                                                     x[19], x[21], x[23], x[25], x[27], x[29], x[31], x[33], x[35], \n",
    "                                                     x[37], x[39], x[41], x[43], x[45], x[47], x[49], x[51], x[53], \n",
    "                                                     x[55], x[57], x[59], x[61], x[63], x[65]), axis=1)"
   ]
  },
  {
   "cell_type": "markdown",
   "id": "dd4a2e1f",
   "metadata": {},
   "source": [
    "Elimino los splits en los que alguna de las 33 combinaciones (entropy y no entropy) sea un special_val"
   ]
  },
  {
   "cell_type": "code",
   "execution_count": 218,
   "id": "7d8aec62",
   "metadata": {},
   "outputs": [],
   "source": [
    "df = df[df['delete_f'] == 0]\n",
    "df = df.drop(['delete0', 'delete1', 'delete2', 'delete3', 'delete4', 'delete5', 'delete6', 'delete7', 'delete8', \n",
    "              'delete9', 'delete10', 'delete11', 'delete12', 'delete13', 'delete14', 'delete15', 'delete16', \n",
    "              'delete17', 'delete18', 'delete19', 'delete20', 'delete21', 'delete22', 'delete23', 'delete24', \n",
    "              'delete25', 'delete26', 'delete27', 'delete28', 'delete29', 'delete_f', 'delete31',\n",
    "             'delete32', 'delete33'], axis = 1)"
   ]
  },
  {
   "cell_type": "markdown",
   "id": "95505a45",
   "metadata": {},
   "source": [
    "Para calcular la mejor categoría, no tengo en cuenta los datos de las 3 combinaciones de entropy, por lo que las elimino"
   ]
  },
  {
   "cell_type": "code",
   "execution_count": 219,
   "id": "8f9cfaa8",
   "metadata": {},
   "outputs": [],
   "source": [
    "df = df.drop(['-1', '-2', '-3'], axis = 1)"
   ]
  },
  {
   "cell_type": "code",
   "execution_count": 221,
   "id": "3878c0e6",
   "metadata": {},
   "outputs": [],
   "source": [
    "pos_min = df.idxmin(axis=1)\n",
    "pos_min = pd.DataFrame(pos_min, columns=['pos_min'])\n",
    "\n",
    "df = pd.concat([df, pos_min], axis=1)"
   ]
  },
  {
   "cell_type": "code",
   "execution_count": 232,
   "id": "19bf16bd",
   "metadata": {},
   "outputs": [
    {
     "data": {
      "text/plain": [
       "array(['9', '14', '7', '4', '2', '19', '17', '24', '22', '27'],\n",
       "      dtype=object)"
      ]
     },
     "execution_count": 232,
     "metadata": {},
     "output_type": "execute_result"
    }
   ],
   "source": [
    "df['pos_min'].unique()"
   ]
  },
  {
   "cell_type": "code",
   "execution_count": 98,
   "id": "84338199",
   "metadata": {},
   "outputs": [],
   "source": [
    "df_input_nofilter = pd.concat([filtered_df_entropy_nofitler[['cratio', 'speed']], pos_min], axis=1)\n",
    "df_input_shuffle = pd.concat([filtered_df_entropy_shuffle[['cratio', 'speed']], pos_min], axis=1)\n",
    "df_input_bitshuffle = pd.concat([filtered_df_entropy_bitshuffle[['cratio', 'speed']], pos_min], axis=1)"
   ]
  },
  {
   "cell_type": "code",
   "execution_count": 238,
   "id": "47ea4f71",
   "metadata": {},
   "outputs": [
    {
     "data": {
      "text/plain": [
       "(55296, 7)"
      ]
     },
     "execution_count": 238,
     "metadata": {},
     "output_type": "execute_result"
    }
   ],
   "source": [
    "filtered_df_entropy_nofitler.shape"
   ]
  },
  {
   "cell_type": "code",
   "execution_count": 241,
   "id": "62ce59b1",
   "metadata": {},
   "outputs": [
    {
     "data": {
      "text/plain": [
       "(21168, 1)"
      ]
     },
     "execution_count": 241,
     "metadata": {},
     "output_type": "execute_result"
    }
   ],
   "source": [
    "pos_min.shape"
   ]
  },
  {
   "cell_type": "code",
   "execution_count": 234,
   "id": "62bc1f33",
   "metadata": {},
   "outputs": [],
   "source": [
    "dfinput = df_input_shuffle\n",
    "\n",
    "dfinput_x = dfinput[['cratio', 'speed']]\n",
    "dfinput_y = dfinput[['pos_min']]"
   ]
  },
  {
   "cell_type": "code",
   "execution_count": 235,
   "id": "cb93ec79",
   "metadata": {},
   "outputs": [
    {
     "data": {
      "text/html": [
       "<div>\n",
       "<style scoped>\n",
       "    .dataframe tbody tr th:only-of-type {\n",
       "        vertical-align: middle;\n",
       "    }\n",
       "\n",
       "    .dataframe tbody tr th {\n",
       "        vertical-align: top;\n",
       "    }\n",
       "\n",
       "    .dataframe thead th {\n",
       "        text-align: right;\n",
       "    }\n",
       "</style>\n",
       "<table border=\"1\" class=\"dataframe\">\n",
       "  <thead>\n",
       "    <tr style=\"text-align: right;\">\n",
       "      <th></th>\n",
       "      <th>cratio</th>\n",
       "      <th>speed</th>\n",
       "      <th>pos_min</th>\n",
       "    </tr>\n",
       "  </thead>\n",
       "  <tbody>\n",
       "    <tr>\n",
       "      <th>0</th>\n",
       "      <td>16400.0</td>\n",
       "      <td>7.560000e+09</td>\n",
       "      <td>NaN</td>\n",
       "    </tr>\n",
       "    <tr>\n",
       "      <th>1</th>\n",
       "      <td>16400.0</td>\n",
       "      <td>7.670000e+09</td>\n",
       "      <td>NaN</td>\n",
       "    </tr>\n",
       "    <tr>\n",
       "      <th>2</th>\n",
       "      <td>39.7</td>\n",
       "      <td>1.510000e+10</td>\n",
       "      <td>9</td>\n",
       "    </tr>\n",
       "    <tr>\n",
       "      <th>3</th>\n",
       "      <td>36.5</td>\n",
       "      <td>1.970000e+10</td>\n",
       "      <td>9</td>\n",
       "    </tr>\n",
       "    <tr>\n",
       "      <th>4</th>\n",
       "      <td>16400.0</td>\n",
       "      <td>7.640000e+09</td>\n",
       "      <td>NaN</td>\n",
       "    </tr>\n",
       "    <tr>\n",
       "      <th>...</th>\n",
       "      <td>...</td>\n",
       "      <td>...</td>\n",
       "      <td>...</td>\n",
       "    </tr>\n",
       "    <tr>\n",
       "      <th>55291</th>\n",
       "      <td>16400.0</td>\n",
       "      <td>7.750000e+09</td>\n",
       "      <td>NaN</td>\n",
       "    </tr>\n",
       "    <tr>\n",
       "      <th>55292</th>\n",
       "      <td>16400.0</td>\n",
       "      <td>7.390000e+09</td>\n",
       "      <td>NaN</td>\n",
       "    </tr>\n",
       "    <tr>\n",
       "      <th>55293</th>\n",
       "      <td>16400.0</td>\n",
       "      <td>7.420000e+09</td>\n",
       "      <td>NaN</td>\n",
       "    </tr>\n",
       "    <tr>\n",
       "      <th>55294</th>\n",
       "      <td>16400.0</td>\n",
       "      <td>7.530000e+09</td>\n",
       "      <td>NaN</td>\n",
       "    </tr>\n",
       "    <tr>\n",
       "      <th>55295</th>\n",
       "      <td>16400.0</td>\n",
       "      <td>7.490000e+09</td>\n",
       "      <td>NaN</td>\n",
       "    </tr>\n",
       "  </tbody>\n",
       "</table>\n",
       "<p>55296 rows × 3 columns</p>\n",
       "</div>"
      ],
      "text/plain": [
       "        cratio         speed pos_min\n",
       "0      16400.0  7.560000e+09     NaN\n",
       "1      16400.0  7.670000e+09     NaN\n",
       "2         39.7  1.510000e+10       9\n",
       "3         36.5  1.970000e+10       9\n",
       "4      16400.0  7.640000e+09     NaN\n",
       "...        ...           ...     ...\n",
       "55291  16400.0  7.750000e+09     NaN\n",
       "55292  16400.0  7.390000e+09     NaN\n",
       "55293  16400.0  7.420000e+09     NaN\n",
       "55294  16400.0  7.530000e+09     NaN\n",
       "55295  16400.0  7.490000e+09     NaN\n",
       "\n",
       "[55296 rows x 3 columns]"
      ]
     },
     "execution_count": 235,
     "metadata": {},
     "output_type": "execute_result"
    }
   ],
   "source": [
    "dfinput"
   ]
  },
  {
   "cell_type": "code",
   "execution_count": 544,
   "id": "ae70675a",
   "metadata": {},
   "outputs": [],
   "source": [
    "from keras.utils import to_categorical\n",
    "dfinput_y = to_categorical(dfinput_y)"
   ]
  },
  {
   "cell_type": "code",
   "execution_count": 545,
   "id": "ef78254f",
   "metadata": {},
   "outputs": [],
   "source": [
    "from keras import models, layers\n",
    "\n",
    "model = models.Sequential()\n",
    "model.add(layers.Dense(2, activation='relu', input_shape=(1,2)))\n",
    "model.add(layers.Dense(15, activation='relu'))\n",
    "model.add(layers.Dense(20, activation='relu'))\n",
    "model.add(layers.Dense(22, activation='relu'))\n",
    "model.add(layers.Dense(25, activation='softmax'))"
   ]
  },
  {
   "cell_type": "code",
   "execution_count": 546,
   "id": "43b20265",
   "metadata": {},
   "outputs": [],
   "source": [
    "model.compile(optimizer='adam',\n",
    "              loss='categorical_crossentropy',\n",
    "              metrics=['acc'])"
   ]
  },
  {
   "cell_type": "code",
   "execution_count": 571,
   "id": "3dfd7a53",
   "metadata": {},
   "outputs": [
    {
     "name": "stdout",
     "output_type": "stream",
     "text": [
      "Epoch 1/150\n",
      "8/8 [==============================] - 0s 7ms/step - loss: 1.7597 - acc: 0.3739 - val_loss: 1.6638 - val_acc: 0.4615\n",
      "Epoch 2/150\n",
      "8/8 [==============================] - 0s 3ms/step - loss: 1.7597 - acc: 0.3739 - val_loss: 1.6636 - val_acc: 0.4615\n",
      "Epoch 3/150\n",
      "8/8 [==============================] - 0s 4ms/step - loss: 1.7597 - acc: 0.3739 - val_loss: 1.6634 - val_acc: 0.4615\n",
      "Epoch 4/150\n",
      "8/8 [==============================] - 0s 4ms/step - loss: 1.7597 - acc: 0.3739 - val_loss: 1.6634 - val_acc: 0.4615\n",
      "Epoch 5/150\n",
      "8/8 [==============================] - 0s 3ms/step - loss: 1.7596 - acc: 0.3739 - val_loss: 1.6635 - val_acc: 0.4615\n",
      "Epoch 6/150\n",
      "8/8 [==============================] - 0s 4ms/step - loss: 1.7597 - acc: 0.3739 - val_loss: 1.6634 - val_acc: 0.4615\n",
      "Epoch 7/150\n",
      "8/8 [==============================] - 0s 4ms/step - loss: 1.7597 - acc: 0.3739 - val_loss: 1.6633 - val_acc: 0.4615\n",
      "Epoch 8/150\n",
      "8/8 [==============================] - 0s 3ms/step - loss: 1.7597 - acc: 0.3739 - val_loss: 1.6630 - val_acc: 0.4615\n",
      "Epoch 9/150\n",
      "8/8 [==============================] - 0s 4ms/step - loss: 1.7596 - acc: 0.3739 - val_loss: 1.6631 - val_acc: 0.4615\n",
      "Epoch 10/150\n",
      "8/8 [==============================] - 0s 4ms/step - loss: 1.7596 - acc: 0.3739 - val_loss: 1.6631 - val_acc: 0.4615\n",
      "Epoch 11/150\n",
      "8/8 [==============================] - 0s 4ms/step - loss: 1.7596 - acc: 0.3739 - val_loss: 1.6628 - val_acc: 0.4615\n",
      "Epoch 12/150\n",
      "8/8 [==============================] - 0s 3ms/step - loss: 1.7596 - acc: 0.3739 - val_loss: 1.6625 - val_acc: 0.4615\n",
      "Epoch 13/150\n",
      "8/8 [==============================] - 0s 3ms/step - loss: 1.7596 - acc: 0.3739 - val_loss: 1.6624 - val_acc: 0.4615\n",
      "Epoch 14/150\n",
      "8/8 [==============================] - 0s 3ms/step - loss: 1.7596 - acc: 0.3739 - val_loss: 1.6625 - val_acc: 0.4615\n",
      "Epoch 15/150\n",
      "8/8 [==============================] - 0s 4ms/step - loss: 1.7596 - acc: 0.3739 - val_loss: 1.6625 - val_acc: 0.4615\n",
      "Epoch 16/150\n",
      "8/8 [==============================] - 0s 4ms/step - loss: 1.7597 - acc: 0.3739 - val_loss: 1.6624 - val_acc: 0.4615\n",
      "Epoch 17/150\n",
      "8/8 [==============================] - 0s 4ms/step - loss: 1.7596 - acc: 0.3739 - val_loss: 1.6625 - val_acc: 0.4615\n",
      "Epoch 18/150\n",
      "8/8 [==============================] - 0s 4ms/step - loss: 1.7596 - acc: 0.3739 - val_loss: 1.6624 - val_acc: 0.4615\n",
      "Epoch 19/150\n",
      "8/8 [==============================] - 0s 3ms/step - loss: 1.7596 - acc: 0.3739 - val_loss: 1.6625 - val_acc: 0.4615\n",
      "Epoch 20/150\n",
      "8/8 [==============================] - 0s 4ms/step - loss: 1.7596 - acc: 0.3739 - val_loss: 1.6625 - val_acc: 0.4615\n",
      "Epoch 21/150\n",
      "8/8 [==============================] - 0s 3ms/step - loss: 1.7596 - acc: 0.3739 - val_loss: 1.6622 - val_acc: 0.4615\n",
      "Epoch 22/150\n",
      "8/8 [==============================] - 0s 4ms/step - loss: 1.7596 - acc: 0.3739 - val_loss: 1.6620 - val_acc: 0.4615\n",
      "Epoch 23/150\n",
      "8/8 [==============================] - 0s 3ms/step - loss: 1.7596 - acc: 0.3739 - val_loss: 1.6620 - val_acc: 0.4615\n",
      "Epoch 24/150\n",
      "8/8 [==============================] - 0s 3ms/step - loss: 1.7596 - acc: 0.3739 - val_loss: 1.6618 - val_acc: 0.4615\n",
      "Epoch 25/150\n",
      "8/8 [==============================] - 0s 4ms/step - loss: 1.7596 - acc: 0.3739 - val_loss: 1.6619 - val_acc: 0.4615\n",
      "Epoch 26/150\n",
      "8/8 [==============================] - 0s 4ms/step - loss: 1.7596 - acc: 0.3739 - val_loss: 1.6618 - val_acc: 0.4615\n",
      "Epoch 27/150\n",
      "8/8 [==============================] - 0s 3ms/step - loss: 1.7596 - acc: 0.3739 - val_loss: 1.6616 - val_acc: 0.4615\n",
      "Epoch 28/150\n",
      "8/8 [==============================] - 0s 3ms/step - loss: 1.7596 - acc: 0.3739 - val_loss: 1.6619 - val_acc: 0.4615\n",
      "Epoch 29/150\n",
      "8/8 [==============================] - 0s 3ms/step - loss: 1.7596 - acc: 0.3739 - val_loss: 1.6619 - val_acc: 0.4615\n",
      "Epoch 30/150\n",
      "8/8 [==============================] - 0s 4ms/step - loss: 1.7596 - acc: 0.3739 - val_loss: 1.6619 - val_acc: 0.4615\n",
      "Epoch 31/150\n",
      "8/8 [==============================] - 0s 4ms/step - loss: 1.7596 - acc: 0.3739 - val_loss: 1.6621 - val_acc: 0.4615\n",
      "Epoch 32/150\n",
      "8/8 [==============================] - 0s 4ms/step - loss: 1.7597 - acc: 0.3739 - val_loss: 1.6625 - val_acc: 0.4615\n",
      "Epoch 33/150\n",
      "8/8 [==============================] - 0s 4ms/step - loss: 1.7596 - acc: 0.3739 - val_loss: 1.6627 - val_acc: 0.4615\n",
      "Epoch 34/150\n",
      "8/8 [==============================] - 0s 4ms/step - loss: 1.7596 - acc: 0.3739 - val_loss: 1.6630 - val_acc: 0.4615\n",
      "Epoch 35/150\n",
      "8/8 [==============================] - 0s 4ms/step - loss: 1.7596 - acc: 0.3739 - val_loss: 1.6634 - val_acc: 0.4615\n",
      "Epoch 36/150\n",
      "8/8 [==============================] - 0s 3ms/step - loss: 1.7596 - acc: 0.3739 - val_loss: 1.6636 - val_acc: 0.4615\n",
      "Epoch 37/150\n",
      "8/8 [==============================] - 0s 3ms/step - loss: 1.7596 - acc: 0.3739 - val_loss: 1.6634 - val_acc: 0.4615\n",
      "Epoch 38/150\n",
      "8/8 [==============================] - 0s 3ms/step - loss: 1.7596 - acc: 0.3739 - val_loss: 1.6635 - val_acc: 0.4615\n",
      "Epoch 39/150\n",
      "8/8 [==============================] - 0s 4ms/step - loss: 1.7596 - acc: 0.3739 - val_loss: 1.6636 - val_acc: 0.4615\n",
      "Epoch 40/150\n",
      "8/8 [==============================] - 0s 3ms/step - loss: 1.7596 - acc: 0.3739 - val_loss: 1.6635 - val_acc: 0.4615\n",
      "Epoch 41/150\n",
      "8/8 [==============================] - 0s 4ms/step - loss: 1.7595 - acc: 0.3739 - val_loss: 1.6633 - val_acc: 0.4615\n",
      "Epoch 42/150\n",
      "8/8 [==============================] - 0s 4ms/step - loss: 1.7596 - acc: 0.3739 - val_loss: 1.6630 - val_acc: 0.4615\n",
      "Epoch 43/150\n",
      "8/8 [==============================] - 0s 4ms/step - loss: 1.7596 - acc: 0.3739 - val_loss: 1.6627 - val_acc: 0.4615\n",
      "Epoch 44/150\n",
      "8/8 [==============================] - 0s 4ms/step - loss: 1.7596 - acc: 0.3739 - val_loss: 1.6626 - val_acc: 0.4615\n",
      "Epoch 45/150\n",
      "8/8 [==============================] - 0s 4ms/step - loss: 1.7596 - acc: 0.3739 - val_loss: 1.6624 - val_acc: 0.4615\n",
      "Epoch 46/150\n",
      "8/8 [==============================] - 0s 4ms/step - loss: 1.7596 - acc: 0.3739 - val_loss: 1.6624 - val_acc: 0.4615\n",
      "Epoch 47/150\n",
      "8/8 [==============================] - 0s 4ms/step - loss: 1.7596 - acc: 0.3739 - val_loss: 1.6624 - val_acc: 0.4615\n",
      "Epoch 48/150\n",
      "8/8 [==============================] - 0s 4ms/step - loss: 1.7595 - acc: 0.3739 - val_loss: 1.6625 - val_acc: 0.4615\n",
      "Epoch 49/150\n",
      "8/8 [==============================] - 0s 4ms/step - loss: 1.7596 - acc: 0.3739 - val_loss: 1.6625 - val_acc: 0.4615\n",
      "Epoch 50/150\n",
      "8/8 [==============================] - 0s 3ms/step - loss: 1.7596 - acc: 0.3739 - val_loss: 1.6626 - val_acc: 0.4615\n",
      "Epoch 51/150\n",
      "8/8 [==============================] - 0s 4ms/step - loss: 1.7596 - acc: 0.3739 - val_loss: 1.6627 - val_acc: 0.4615\n",
      "Epoch 52/150\n",
      "8/8 [==============================] - 0s 3ms/step - loss: 1.7595 - acc: 0.3739 - val_loss: 1.6627 - val_acc: 0.4615\n",
      "Epoch 53/150\n",
      "8/8 [==============================] - 0s 3ms/step - loss: 1.7595 - acc: 0.3739 - val_loss: 1.6626 - val_acc: 0.4615\n",
      "Epoch 54/150\n",
      "8/8 [==============================] - 0s 3ms/step - loss: 1.7595 - acc: 0.3739 - val_loss: 1.6623 - val_acc: 0.4615\n",
      "Epoch 55/150\n",
      "8/8 [==============================] - 0s 3ms/step - loss: 1.7596 - acc: 0.3739 - val_loss: 1.6622 - val_acc: 0.4615\n",
      "Epoch 56/150\n",
      "8/8 [==============================] - 0s 3ms/step - loss: 1.7596 - acc: 0.3739 - val_loss: 1.6624 - val_acc: 0.4615\n",
      "Epoch 57/150\n",
      "8/8 [==============================] - 0s 4ms/step - loss: 1.7596 - acc: 0.3739 - val_loss: 1.6624 - val_acc: 0.4615\n",
      "Epoch 58/150\n",
      "8/8 [==============================] - 0s 3ms/step - loss: 1.7595 - acc: 0.3739 - val_loss: 1.6626 - val_acc: 0.4615\n",
      "Epoch 59/150\n",
      "8/8 [==============================] - 0s 3ms/step - loss: 1.7596 - acc: 0.3739 - val_loss: 1.6627 - val_acc: 0.4615\n",
      "Epoch 60/150\n",
      "8/8 [==============================] - 0s 3ms/step - loss: 1.7596 - acc: 0.3739 - val_loss: 1.6630 - val_acc: 0.4615\n",
      "Epoch 61/150\n",
      "8/8 [==============================] - 0s 3ms/step - loss: 1.7595 - acc: 0.3739 - val_loss: 1.6631 - val_acc: 0.4615\n",
      "Epoch 62/150\n",
      "8/8 [==============================] - 0s 3ms/step - loss: 1.7595 - acc: 0.3739 - val_loss: 1.6630 - val_acc: 0.4615\n",
      "Epoch 63/150\n",
      "8/8 [==============================] - 0s 3ms/step - loss: 1.7595 - acc: 0.3739 - val_loss: 1.6630 - val_acc: 0.4615\n",
      "Epoch 64/150\n"
     ]
    },
    {
     "name": "stdout",
     "output_type": "stream",
     "text": [
      "8/8 [==============================] - 0s 3ms/step - loss: 1.7596 - acc: 0.3739 - val_loss: 1.6630 - val_acc: 0.4615\n",
      "Epoch 65/150\n",
      "8/8 [==============================] - 0s 3ms/step - loss: 1.7596 - acc: 0.3739 - val_loss: 1.6627 - val_acc: 0.4615\n",
      "Epoch 66/150\n",
      "8/8 [==============================] - 0s 3ms/step - loss: 1.7596 - acc: 0.3739 - val_loss: 1.6624 - val_acc: 0.4615\n",
      "Epoch 67/150\n",
      "8/8 [==============================] - 0s 3ms/step - loss: 1.7596 - acc: 0.3739 - val_loss: 1.6625 - val_acc: 0.4615\n",
      "Epoch 68/150\n",
      "8/8 [==============================] - 0s 3ms/step - loss: 1.7595 - acc: 0.3739 - val_loss: 1.6626 - val_acc: 0.4615\n",
      "Epoch 69/150\n",
      "8/8 [==============================] - 0s 3ms/step - loss: 1.7595 - acc: 0.3739 - val_loss: 1.6626 - val_acc: 0.4615\n",
      "Epoch 70/150\n",
      "8/8 [==============================] - 0s 3ms/step - loss: 1.7596 - acc: 0.3739 - val_loss: 1.6627 - val_acc: 0.4615\n",
      "Epoch 71/150\n",
      "8/8 [==============================] - 0s 3ms/step - loss: 1.7595 - acc: 0.3739 - val_loss: 1.6625 - val_acc: 0.4615\n",
      "Epoch 72/150\n",
      "8/8 [==============================] - 0s 3ms/step - loss: 1.7595 - acc: 0.3739 - val_loss: 1.6627 - val_acc: 0.4615\n",
      "Epoch 73/150\n",
      "8/8 [==============================] - 0s 3ms/step - loss: 1.7596 - acc: 0.3739 - val_loss: 1.6628 - val_acc: 0.4615\n",
      "Epoch 74/150\n",
      "8/8 [==============================] - 0s 3ms/step - loss: 1.7595 - acc: 0.3739 - val_loss: 1.6627 - val_acc: 0.4615\n",
      "Epoch 75/150\n",
      "8/8 [==============================] - 0s 3ms/step - loss: 1.7595 - acc: 0.3739 - val_loss: 1.6626 - val_acc: 0.4615\n",
      "Epoch 76/150\n",
      "8/8 [==============================] - 0s 4ms/step - loss: 1.7595 - acc: 0.3739 - val_loss: 1.6626 - val_acc: 0.4615\n",
      "Epoch 77/150\n",
      "8/8 [==============================] - 0s 3ms/step - loss: 1.7595 - acc: 0.3739 - val_loss: 1.6624 - val_acc: 0.4615\n",
      "Epoch 78/150\n",
      "8/8 [==============================] - 0s 3ms/step - loss: 1.7596 - acc: 0.3739 - val_loss: 1.6620 - val_acc: 0.4615\n",
      "Epoch 79/150\n",
      "8/8 [==============================] - 0s 3ms/step - loss: 1.7595 - acc: 0.3739 - val_loss: 1.6620 - val_acc: 0.4615\n",
      "Epoch 80/150\n",
      "8/8 [==============================] - 0s 3ms/step - loss: 1.7595 - acc: 0.3739 - val_loss: 1.6621 - val_acc: 0.4615\n",
      "Epoch 81/150\n",
      "8/8 [==============================] - 0s 3ms/step - loss: 1.7595 - acc: 0.3739 - val_loss: 1.6620 - val_acc: 0.4615\n",
      "Epoch 82/150\n",
      "8/8 [==============================] - 0s 4ms/step - loss: 1.7595 - acc: 0.3739 - val_loss: 1.6618 - val_acc: 0.4615\n",
      "Epoch 83/150\n",
      "8/8 [==============================] - 0s 3ms/step - loss: 1.7595 - acc: 0.3739 - val_loss: 1.6617 - val_acc: 0.4615\n",
      "Epoch 84/150\n",
      "8/8 [==============================] - 0s 3ms/step - loss: 1.7595 - acc: 0.3739 - val_loss: 1.6618 - val_acc: 0.4615\n",
      "Epoch 85/150\n",
      "8/8 [==============================] - 0s 3ms/step - loss: 1.7595 - acc: 0.3739 - val_loss: 1.6618 - val_acc: 0.4615\n",
      "Epoch 86/150\n",
      "8/8 [==============================] - 0s 3ms/step - loss: 1.7595 - acc: 0.3739 - val_loss: 1.6618 - val_acc: 0.4615\n",
      "Epoch 87/150\n",
      "8/8 [==============================] - 0s 3ms/step - loss: 1.7595 - acc: 0.3739 - val_loss: 1.6618 - val_acc: 0.4615\n",
      "Epoch 88/150\n",
      "8/8 [==============================] - 0s 3ms/step - loss: 1.7595 - acc: 0.3739 - val_loss: 1.6616 - val_acc: 0.4615\n",
      "Epoch 89/150\n",
      "8/8 [==============================] - 0s 3ms/step - loss: 1.7595 - acc: 0.3739 - val_loss: 1.6617 - val_acc: 0.4615\n",
      "Epoch 90/150\n",
      "8/8 [==============================] - 0s 3ms/step - loss: 1.7595 - acc: 0.3739 - val_loss: 1.6616 - val_acc: 0.4615\n",
      "Epoch 91/150\n",
      "8/8 [==============================] - 0s 3ms/step - loss: 1.7595 - acc: 0.3739 - val_loss: 1.6615 - val_acc: 0.4615\n",
      "Epoch 92/150\n",
      "8/8 [==============================] - 0s 3ms/step - loss: 1.7595 - acc: 0.3739 - val_loss: 1.6614 - val_acc: 0.4615\n",
      "Epoch 93/150\n",
      "8/8 [==============================] - 0s 3ms/step - loss: 1.7596 - acc: 0.3739 - val_loss: 1.6613 - val_acc: 0.4615\n",
      "Epoch 94/150\n",
      "8/8 [==============================] - 0s 3ms/step - loss: 1.7596 - acc: 0.3739 - val_loss: 1.6612 - val_acc: 0.4615\n",
      "Epoch 95/150\n",
      "8/8 [==============================] - 0s 3ms/step - loss: 1.7595 - acc: 0.3739 - val_loss: 1.6611 - val_acc: 0.4615\n",
      "Epoch 96/150\n",
      "8/8 [==============================] - 0s 3ms/step - loss: 1.7595 - acc: 0.3739 - val_loss: 1.6610 - val_acc: 0.4615\n",
      "Epoch 97/150\n",
      "8/8 [==============================] - 0s 3ms/step - loss: 1.7595 - acc: 0.3739 - val_loss: 1.6613 - val_acc: 0.4615\n",
      "Epoch 98/150\n",
      "8/8 [==============================] - 0s 4ms/step - loss: 1.7595 - acc: 0.3739 - val_loss: 1.6613 - val_acc: 0.4615\n",
      "Epoch 99/150\n",
      "8/8 [==============================] - 0s 4ms/step - loss: 1.7595 - acc: 0.3739 - val_loss: 1.6612 - val_acc: 0.4615\n",
      "Epoch 100/150\n",
      "8/8 [==============================] - 0s 3ms/step - loss: 1.7595 - acc: 0.3739 - val_loss: 1.6613 - val_acc: 0.4615\n",
      "Epoch 101/150\n",
      "8/8 [==============================] - 0s 4ms/step - loss: 1.7595 - acc: 0.3739 - val_loss: 1.6612 - val_acc: 0.4615\n",
      "Epoch 102/150\n",
      "8/8 [==============================] - 0s 3ms/step - loss: 1.7595 - acc: 0.3739 - val_loss: 1.6610 - val_acc: 0.4615\n",
      "Epoch 103/150\n",
      "8/8 [==============================] - 0s 3ms/step - loss: 1.7595 - acc: 0.3739 - val_loss: 1.6612 - val_acc: 0.4615\n",
      "Epoch 104/150\n",
      "8/8 [==============================] - 0s 4ms/step - loss: 1.7595 - acc: 0.3739 - val_loss: 1.6615 - val_acc: 0.4615\n",
      "Epoch 105/150\n",
      "8/8 [==============================] - 0s 3ms/step - loss: 1.7595 - acc: 0.3739 - val_loss: 1.6615 - val_acc: 0.4615\n",
      "Epoch 106/150\n",
      "8/8 [==============================] - 0s 3ms/step - loss: 1.7595 - acc: 0.3739 - val_loss: 1.6616 - val_acc: 0.4615\n",
      "Epoch 107/150\n",
      "8/8 [==============================] - 0s 4ms/step - loss: 1.7595 - acc: 0.3739 - val_loss: 1.6617 - val_acc: 0.4615\n",
      "Epoch 108/150\n",
      "8/8 [==============================] - 0s 3ms/step - loss: 1.7595 - acc: 0.3739 - val_loss: 1.6617 - val_acc: 0.4615\n",
      "Epoch 109/150\n",
      "8/8 [==============================] - 0s 4ms/step - loss: 1.7595 - acc: 0.3739 - val_loss: 1.6617 - val_acc: 0.4615\n",
      "Epoch 110/150\n",
      "8/8 [==============================] - 0s 4ms/step - loss: 1.7595 - acc: 0.3739 - val_loss: 1.6616 - val_acc: 0.4615\n",
      "Epoch 111/150\n",
      "8/8 [==============================] - 0s 4ms/step - loss: 1.7595 - acc: 0.3739 - val_loss: 1.6617 - val_acc: 0.4615\n",
      "Epoch 112/150\n",
      "8/8 [==============================] - 0s 3ms/step - loss: 1.7595 - acc: 0.3739 - val_loss: 1.6615 - val_acc: 0.4615\n",
      "Epoch 113/150\n",
      "8/8 [==============================] - 0s 3ms/step - loss: 1.7595 - acc: 0.3739 - val_loss: 1.6613 - val_acc: 0.4615\n",
      "Epoch 114/150\n",
      "8/8 [==============================] - 0s 4ms/step - loss: 1.7595 - acc: 0.3739 - val_loss: 1.6611 - val_acc: 0.4615\n",
      "Epoch 115/150\n",
      "8/8 [==============================] - 0s 3ms/step - loss: 1.7595 - acc: 0.3739 - val_loss: 1.6609 - val_acc: 0.4615\n",
      "Epoch 116/150\n",
      "8/8 [==============================] - 0s 3ms/step - loss: 1.7595 - acc: 0.3739 - val_loss: 1.6608 - val_acc: 0.4615\n",
      "Epoch 117/150\n",
      "8/8 [==============================] - 0s 3ms/step - loss: 1.7594 - acc: 0.3739 - val_loss: 1.6608 - val_acc: 0.4615\n",
      "Epoch 118/150\n",
      "8/8 [==============================] - 0s 3ms/step - loss: 1.7595 - acc: 0.3739 - val_loss: 1.6609 - val_acc: 0.4615\n",
      "Epoch 119/150\n",
      "8/8 [==============================] - 0s 3ms/step - loss: 1.7595 - acc: 0.3739 - val_loss: 1.6609 - val_acc: 0.4615\n",
      "Epoch 120/150\n",
      "8/8 [==============================] - 0s 3ms/step - loss: 1.7595 - acc: 0.3739 - val_loss: 1.6612 - val_acc: 0.4615\n",
      "Epoch 121/150\n",
      "8/8 [==============================] - 0s 3ms/step - loss: 1.7594 - acc: 0.3739 - val_loss: 1.6609 - val_acc: 0.4615\n",
      "Epoch 122/150\n",
      "8/8 [==============================] - 0s 4ms/step - loss: 1.7594 - acc: 0.3739 - val_loss: 1.6607 - val_acc: 0.4615\n",
      "Epoch 123/150\n",
      "8/8 [==============================] - 0s 4ms/step - loss: 1.7595 - acc: 0.3739 - val_loss: 1.6603 - val_acc: 0.4615\n",
      "Epoch 124/150\n",
      "8/8 [==============================] - 0s 4ms/step - loss: 1.7594 - acc: 0.3739 - val_loss: 1.6602 - val_acc: 0.4615\n",
      "Epoch 125/150\n",
      "8/8 [==============================] - 0s 3ms/step - loss: 1.7595 - acc: 0.3739 - val_loss: 1.6602 - val_acc: 0.4615\n",
      "Epoch 126/150\n",
      "8/8 [==============================] - 0s 3ms/step - loss: 1.7595 - acc: 0.3739 - val_loss: 1.6601 - val_acc: 0.4615\n"
     ]
    },
    {
     "name": "stdout",
     "output_type": "stream",
     "text": [
      "Epoch 127/150\n",
      "8/8 [==============================] - 0s 4ms/step - loss: 1.7595 - acc: 0.3739 - val_loss: 1.6603 - val_acc: 0.4615\n",
      "Epoch 128/150\n",
      "8/8 [==============================] - 0s 4ms/step - loss: 1.7595 - acc: 0.3739 - val_loss: 1.6603 - val_acc: 0.4615\n",
      "Epoch 129/150\n",
      "8/8 [==============================] - 0s 4ms/step - loss: 1.7595 - acc: 0.3739 - val_loss: 1.6601 - val_acc: 0.4615\n",
      "Epoch 130/150\n",
      "8/8 [==============================] - 0s 3ms/step - loss: 1.7594 - acc: 0.3739 - val_loss: 1.6598 - val_acc: 0.4615\n",
      "Epoch 131/150\n",
      "8/8 [==============================] - 0s 4ms/step - loss: 1.7594 - acc: 0.3739 - val_loss: 1.6597 - val_acc: 0.4615\n",
      "Epoch 132/150\n",
      "8/8 [==============================] - 0s 3ms/step - loss: 1.7594 - acc: 0.3739 - val_loss: 1.6597 - val_acc: 0.4615\n",
      "Epoch 133/150\n",
      "8/8 [==============================] - 0s 3ms/step - loss: 1.7594 - acc: 0.3739 - val_loss: 1.6599 - val_acc: 0.4615\n",
      "Epoch 134/150\n",
      "8/8 [==============================] - 0s 3ms/step - loss: 1.7595 - acc: 0.3739 - val_loss: 1.6598 - val_acc: 0.4615\n",
      "Epoch 135/150\n",
      "8/8 [==============================] - 0s 4ms/step - loss: 1.7595 - acc: 0.3739 - val_loss: 1.6597 - val_acc: 0.4615\n",
      "Epoch 136/150\n",
      "8/8 [==============================] - 0s 4ms/step - loss: 1.7595 - acc: 0.3739 - val_loss: 1.6596 - val_acc: 0.4615\n",
      "Epoch 137/150\n",
      "8/8 [==============================] - 0s 3ms/step - loss: 1.7595 - acc: 0.3739 - val_loss: 1.6597 - val_acc: 0.4615\n",
      "Epoch 138/150\n",
      "8/8 [==============================] - 0s 3ms/step - loss: 1.7595 - acc: 0.3739 - val_loss: 1.6600 - val_acc: 0.4615\n",
      "Epoch 139/150\n",
      "8/8 [==============================] - 0s 3ms/step - loss: 1.7595 - acc: 0.3739 - val_loss: 1.6601 - val_acc: 0.4615\n",
      "Epoch 140/150\n",
      "8/8 [==============================] - 0s 4ms/step - loss: 1.7595 - acc: 0.3739 - val_loss: 1.6603 - val_acc: 0.4615\n",
      "Epoch 141/150\n",
      "8/8 [==============================] - 0s 3ms/step - loss: 1.7595 - acc: 0.3739 - val_loss: 1.6606 - val_acc: 0.4615\n",
      "Epoch 142/150\n",
      "8/8 [==============================] - 0s 4ms/step - loss: 1.7595 - acc: 0.3739 - val_loss: 1.6608 - val_acc: 0.4615\n",
      "Epoch 143/150\n",
      "8/8 [==============================] - 0s 3ms/step - loss: 1.7595 - acc: 0.3739 - val_loss: 1.6609 - val_acc: 0.4615\n",
      "Epoch 144/150\n",
      "8/8 [==============================] - 0s 3ms/step - loss: 1.7594 - acc: 0.3739 - val_loss: 1.6608 - val_acc: 0.4615\n",
      "Epoch 145/150\n",
      "8/8 [==============================] - 0s 4ms/step - loss: 1.7595 - acc: 0.3739 - val_loss: 1.6611 - val_acc: 0.4615\n",
      "Epoch 146/150\n",
      "8/8 [==============================] - 0s 4ms/step - loss: 1.7595 - acc: 0.3739 - val_loss: 1.6609 - val_acc: 0.4615\n",
      "Epoch 147/150\n",
      "8/8 [==============================] - 0s 3ms/step - loss: 1.7595 - acc: 0.3739 - val_loss: 1.6607 - val_acc: 0.4615\n",
      "Epoch 148/150\n",
      "8/8 [==============================] - 0s 3ms/step - loss: 1.7595 - acc: 0.3739 - val_loss: 1.6605 - val_acc: 0.4615\n",
      "Epoch 149/150\n",
      "8/8 [==============================] - 0s 4ms/step - loss: 1.7594 - acc: 0.3739 - val_loss: 1.6605 - val_acc: 0.4615\n",
      "Epoch 150/150\n",
      "8/8 [==============================] - 0s 3ms/step - loss: 1.7595 - acc: 0.3739 - val_loss: 1.6605 - val_acc: 0.4615\n"
     ]
    }
   ],
   "source": [
    "history = model.fit(dfinput_x, dfinput_y, epochs=150, validation_split=0.1)"
   ]
  },
  {
   "cell_type": "code",
   "execution_count": 572,
   "id": "404f6728",
   "metadata": {},
   "outputs": [
    {
     "data": {
      "image/png": "[encoded data removed]",
      "text/plain": [
       "<Figure size 1000x500 with 2 Axes>"
      ]
     },
     "metadata": {
      "needs_background": "light"
     },
     "output_type": "display_data"
    }
   ],
   "source": [
    "_, ax = plt.subplots(1, 2, figsize=(10, 5), dpi=100)\n",
    "ax[0].plot(history.history['acc'], 'r')\n",
    "ax[0].plot(history.history['val_acc'], 'g')\n",
    "ax[0].set_xlabel(\"Num of Epochs\")\n",
    "ax[0].set_ylabel(\"Accuracy\")\n",
    "ax[0].set_title(\"Training Accuracy vs Validation Accuracy\")\n",
    "ax[0].legend(['train', 'validation'])\n",
    "\n",
    "ax[1].plot(history.history['loss'], 'r')\n",
    "ax[1].plot(history.history['val_loss'], 'g')\n",
    "ax[1].set_xlabel(\"Num of Epochs\")\n",
    "ax[1].set_ylabel(\"Loss\")\n",
    "ax[1].set_title(\"Training Loss vs Validation Loss\")\n",
    "ax[1].legend(['train', 'validation'])\n",
    "\n",
    "plt.tight_layout()"
   ]
  },
  {
   "cell_type": "code",
   "execution_count": 573,
   "id": "774a3fe9",
   "metadata": {},
   "outputs": [
    {
     "data": {
      "text/plain": [
       "array([[2.0201927e-05, 2.0201927e-05, 1.7235108e-02, ..., 6.9412753e-02,\n",
       "        2.0201927e-05, 7.7992953e-02],\n",
       "       [2.0201927e-05, 2.0201927e-05, 1.7235108e-02, ..., 6.9412753e-02,\n",
       "        2.0201927e-05, 7.7992953e-02],\n",
       "       [2.0201927e-05, 2.0201927e-05, 1.7235108e-02, ..., 6.9412753e-02,\n",
       "        2.0201927e-05, 7.7992953e-02],\n",
       "       ...,\n",
       "       [2.0201927e-05, 2.0201927e-05, 1.7235108e-02, ..., 6.9412753e-02,\n",
       "        2.0201927e-05, 7.7992953e-02],\n",
       "       [2.0201927e-05, 2.0201927e-05, 1.7235108e-02, ..., 6.9412753e-02,\n",
       "        2.0201927e-05, 7.7992953e-02],\n",
       "       [2.0201927e-05, 2.0201927e-05, 1.7235108e-02, ..., 6.9412753e-02,\n",
       "        2.0201927e-05, 7.7992953e-02]], dtype=float32)"
      ]
     },
     "execution_count": 573,
     "metadata": {},
     "output_type": "execute_result"
    }
   ],
   "source": [
    "y_hat = model.predict(x=dfinput_x)\n",
    "y_hat"
   ]
  },
  {
   "cell_type": "code",
   "execution_count": 574,
   "id": "2ab00ccc",
   "metadata": {},
   "outputs": [],
   "source": [
    "y_pred_label = np.argmax(y_hat, axis = 1)\n",
    "y_true_label = np.argmax(dfinput_y, axis = 1)"
   ]
  },
  {
   "cell_type": "code",
   "execution_count": 575,
   "id": "95b1ea7f",
   "metadata": {},
   "outputs": [
    {
     "data": {
      "text/plain": [
       "array([9, 9, 9, 9, 9, 9, 9, 9, 9, 9, 9, 9, 9, 9, 9, 9, 9, 9, 9, 9, 9, 9,\n",
       "       9, 9, 9, 9, 9, 9, 9, 9, 9, 9, 9, 9, 9, 9, 9, 9, 9, 9, 9, 9, 9, 9,\n",
       "       9, 9, 9, 9, 9, 9, 9, 9, 9, 9, 9, 9, 9, 9, 9, 9, 9, 9, 9, 9, 9, 9,\n",
       "       9, 9, 9, 9, 9, 9, 9, 9, 9, 9, 9, 9, 9, 9, 9, 9, 9, 9, 9, 9, 9, 9,\n",
       "       9, 9, 9, 9, 9, 9, 9, 9, 9, 9, 9, 9, 9, 9, 9, 9, 9, 9, 9, 9, 9, 9,\n",
       "       9, 9, 9, 9, 9, 9, 9, 9, 9, 9, 9, 9, 9, 9, 9, 9, 9, 9, 9, 9, 9, 9,\n",
       "       9, 9, 9, 9, 9, 9, 9, 9, 9, 9, 9, 9, 9, 9, 9, 9, 9, 9, 9, 9, 9, 9,\n",
       "       9, 9, 9, 9, 9, 9, 9, 9, 9, 9, 9, 9, 9, 9, 9, 9, 9, 9, 9, 9, 9, 9,\n",
       "       9, 9, 9, 9, 9, 9, 9, 9, 9, 9, 9, 9, 9, 9, 9, 9, 9, 9, 9, 9, 9, 9,\n",
       "       9, 9, 9, 9, 9, 9, 9, 9, 9, 9, 9, 9, 9, 9, 9, 9, 9, 9, 9, 9, 9, 9,\n",
       "       9, 9, 9, 9, 9, 9, 9, 9, 9, 9, 9, 9, 9, 9, 9, 9, 9, 9, 9, 9, 9, 9,\n",
       "       9, 9, 9, 9, 9, 9, 9, 9, 9, 9, 9, 9, 9, 9])"
      ]
     },
     "execution_count": 575,
     "metadata": {},
     "output_type": "execute_result"
    }
   ],
   "source": [
    "y_pred_label"
   ]
  },
  {
   "cell_type": "code",
   "execution_count": 576,
   "id": "b77e0cd7",
   "metadata": {},
   "outputs": [
    {
     "data": {
      "text/plain": [
       "array([ 2, 17,  9,  7, 17, 17,  9,  9,  4,  4,  9,  9, 24,  4,  9,  9, 24,\n",
       "       24,  9,  9,  4, 24,  9,  9,  4,  4,  7,  9, 24, 24,  9,  9, 22, 22,\n",
       "        7,  7, 22, 22,  7,  7,  4, 19,  9,  9,  4, 19,  9,  9,  4,  4,  9,\n",
       "        9,  4,  4,  9,  9,  4,  4,  9,  9, 24, 24,  9,  9, 22, 22,  7,  7,\n",
       "       22, 22,  7,  7, 24, 24,  9,  9,  4, 19,  9,  9, 19,  4,  9,  9, 19,\n",
       "       19,  9,  9,  4,  4,  9,  9, 19, 19,  9,  9, 22, 22,  7,  7, 17,  2,\n",
       "        7,  7, 19, 19,  9,  9, 24,  4,  9,  9, 19, 19,  9,  9, 24, 24,  9,\n",
       "        9,  4,  4,  9,  9, 19, 19,  9,  4, 22,  2,  7,  7, 22, 22,  7,  7,\n",
       "       24, 24,  9,  9,  4,  4,  9,  9, 19, 19,  9,  9,  4,  4,  9,  9,  4,\n",
       "        4,  9,  9, 19, 19,  9,  9,  4, 17,  7,  7, 17,  4,  7,  7, 24,  4,\n",
       "        9,  9,  4,  4,  9,  9,  4, 19,  9,  9,  4, 24,  9,  9,  4,  4,  9,\n",
       "        9, 19, 19,  9,  9, 22, 22,  7,  7, 19,  4, 14,  4,  4, 19,  9,  9,\n",
       "        4,  4,  9,  9,  4,  4,  9,  9, 24,  4,  9,  9,  4,  4,  9,  9, 19,\n",
       "       19,  9,  9, 22,  2,  9,  7, 19, 19, 14,  7, 19,  4,  9,  9, 19, 19,\n",
       "        9,  9,  4,  4,  9,  9, 19, 19,  9,  9,  4,  4,  9,  9, 24, 24,  9,\n",
       "        9])"
      ]
     },
     "execution_count": 576,
     "metadata": {},
     "output_type": "execute_result"
    }
   ],
   "source": [
    "y_true_label"
   ]
  },
  {
   "cell_type": "code",
   "execution_count": 465,
   "id": "b941fc04",
   "metadata": {},
   "outputs": [
    {
     "data": {
      "text/html": [
       "<div>\n",
       "<style scoped>\n",
       "    .dataframe tbody tr th:only-of-type {\n",
       "        vertical-align: middle;\n",
       "    }\n",
       "\n",
       "    .dataframe tbody tr th {\n",
       "        vertical-align: top;\n",
       "    }\n",
       "\n",
       "    .dataframe thead th {\n",
       "        text-align: right;\n",
       "    }\n",
       "</style>\n",
       "<table border=\"1\" class=\"dataframe\">\n",
       "  <thead>\n",
       "    <tr style=\"text-align: right;\">\n",
       "      <th>col_0</th>\n",
       "      <th>2</th>\n",
       "      <th>4</th>\n",
       "      <th>7</th>\n",
       "      <th>9</th>\n",
       "      <th>14</th>\n",
       "      <th>17</th>\n",
       "      <th>19</th>\n",
       "      <th>22</th>\n",
       "      <th>24</th>\n",
       "    </tr>\n",
       "    <tr>\n",
       "      <th>row_0</th>\n",
       "      <th></th>\n",
       "      <th></th>\n",
       "      <th></th>\n",
       "      <th></th>\n",
       "      <th></th>\n",
       "      <th></th>\n",
       "      <th></th>\n",
       "      <th></th>\n",
       "      <th></th>\n",
       "    </tr>\n",
       "  </thead>\n",
       "  <tbody>\n",
       "    <tr>\n",
       "      <th>9</th>\n",
       "      <td>4</td>\n",
       "      <td>52</td>\n",
       "      <td>26</td>\n",
       "      <td>98</td>\n",
       "      <td>2</td>\n",
       "      <td>6</td>\n",
       "      <td>32</td>\n",
       "      <td>16</td>\n",
       "      <td>20</td>\n",
       "    </tr>\n",
       "  </tbody>\n",
       "</table>\n",
       "</div>"
      ],
      "text/plain": [
       "col_0  2   4   7   9   14  17  19  22  24\n",
       "row_0                                    \n",
       "9       4  52  26  98   2   6  32  16  20"
      ]
     },
     "execution_count": 465,
     "metadata": {},
     "output_type": "execute_result"
    }
   ],
   "source": [
    "tabla = pd.crosstab(y_pred_label, y_true_label)\n",
    "tabla"
   ]
  },
  {
   "cell_type": "code",
   "execution_count": 464,
   "id": "0b8e6f09",
   "metadata": {},
   "outputs": [
    {
     "data": {
      "text/plain": [
       "(1, 9)"
      ]
     },
     "execution_count": 464,
     "metadata": {},
     "output_type": "execute_result"
    }
   ],
   "source": [
    "pd.crosstab(y_pred_label, y_true_label).shape"
   ]
  },
  {
   "cell_type": "code",
   "execution_count": 471,
   "id": "ea884b99",
   "metadata": {},
   "outputs": [
    {
     "data": {
      "text/plain": [
       "row_0\n",
       "9    98\n",
       "dtype: int64"
      ]
     },
     "execution_count": 471,
     "metadata": {},
     "output_type": "execute_result"
    }
   ],
   "source": [
    "gana = tabla.max(axis = 1)\n",
    "gana"
   ]
  },
  {
   "cell_type": "code",
   "execution_count": null,
   "id": "a2dcf5a5",
   "metadata": {},
   "outputs": [],
   "source": []
  },
  {
   "cell_type": "code",
   "execution_count": 607,
   "id": "49219d1c",
   "metadata": {},
   "outputs": [],
   "source": [
    "dfinput_shuffled = dfinput.sample(frac=1).reset_index(drop=True)\n",
    "p_train = 0.80\n",
    "dfinput_train = dfinput_shuffled[:int((len(dfinput_shuffled))*p_train)]\n",
    "dfinput_test = dfinput_shuffled[int((len(dfinput_shuffled))*p_train):]"
   ]
  },
  {
   "cell_type": "code",
   "execution_count": 608,
   "id": "1b7d73ba",
   "metadata": {},
   "outputs": [],
   "source": [
    "dftrain_x = dfinput_train[['cratio', 'speed']]\n",
    "dftrain_y = dfinput_train[['pos_min']]\n",
    "\n",
    "dftest_x = dfinput_test[['cratio', 'speed']]\n",
    "dftest_y = dfinput_test[['pos_min']]"
   ]
  },
  {
   "cell_type": "code",
   "execution_count": 609,
   "id": "df956533",
   "metadata": {},
   "outputs": [
    {
     "data": {
      "text/plain": [
       "(204, 2)"
      ]
     },
     "execution_count": 609,
     "metadata": {},
     "output_type": "execute_result"
    }
   ],
   "source": [
    "dftrain_x.shape"
   ]
  },
  {
   "cell_type": "code",
   "execution_count": 611,
   "id": "044052fc",
   "metadata": {},
   "outputs": [],
   "source": [
    "from keras.utils import to_categorical\n",
    "dftrain_y = to_categorical(dftrain_y)"
   ]
  },
  {
   "cell_type": "code",
   "execution_count": 612,
   "id": "7b07e190",
   "metadata": {},
   "outputs": [
    {
     "data": {
      "text/plain": [
       "(204, 25)"
      ]
     },
     "execution_count": 612,
     "metadata": {},
     "output_type": "execute_result"
    }
   ],
   "source": [
    "dftrain_y.shape"
   ]
  },
  {
   "cell_type": "code",
   "execution_count": 613,
   "id": "836c4080",
   "metadata": {},
   "outputs": [],
   "source": [
    "from keras import models, layers\n",
    "\n",
    "model = models.Sequential()\n",
    "model.add(layers.Dense(2, activation='relu', input_shape=(1,2)))\n",
    "model.add(layers.Dense(15, activation='relu'))\n",
    "model.add(layers.Dense(20, activation='relu'))\n",
    "model.add(layers.Dense(22, activation='relu'))\n",
    "model.add(layers.Dense(25, activation='softmax'))"
   ]
  },
  {
   "cell_type": "code",
   "execution_count": 614,
   "id": "402eb7fd",
   "metadata": {},
   "outputs": [],
   "source": [
    "model.compile(optimizer='adam',\n",
    "              loss='categorical_crossentropy',\n",
    "              metrics=['acc'])"
   ]
  },
  {
   "cell_type": "code",
   "execution_count": 640,
   "id": "cbabb8e8",
   "metadata": {},
   "outputs": [
    {
     "name": "stdout",
     "output_type": "stream",
     "text": [
      "Epoch 1/200\n",
      "6/6 [==============================] - 0s 10ms/step - loss: 1.8025 - acc: 0.3279 - val_loss: 1.4303 - val_acc: 0.6190\n",
      "Epoch 2/200\n",
      "6/6 [==============================] - 0s 5ms/step - loss: 1.8025 - acc: 0.3279 - val_loss: 1.4317 - val_acc: 0.6190\n",
      "Epoch 3/200\n",
      "6/6 [==============================] - 0s 5ms/step - loss: 1.8028 - acc: 0.3279 - val_loss: 1.4315 - val_acc: 0.6190\n",
      "Epoch 4/200\n",
      "6/6 [==============================] - 0s 5ms/step - loss: 1.8027 - acc: 0.3279 - val_loss: 1.4325 - val_acc: 0.6190\n",
      "Epoch 5/200\n",
      "6/6 [==============================] - 0s 5ms/step - loss: 1.8027 - acc: 0.3279 - val_loss: 1.4327 - val_acc: 0.6190\n",
      "Epoch 6/200\n",
      "6/6 [==============================] - 0s 5ms/step - loss: 1.8027 - acc: 0.3279 - val_loss: 1.4318 - val_acc: 0.6190\n",
      "Epoch 7/200\n",
      "6/6 [==============================] - 0s 5ms/step - loss: 1.8027 - acc: 0.3279 - val_loss: 1.4349 - val_acc: 0.6190\n",
      "Epoch 8/200\n",
      "6/6 [==============================] - 0s 5ms/step - loss: 1.8026 - acc: 0.3279 - val_loss: 1.4354 - val_acc: 0.6190\n",
      "Epoch 9/200\n",
      "6/6 [==============================] - 0s 5ms/step - loss: 1.8027 - acc: 0.3279 - val_loss: 1.4336 - val_acc: 0.6190\n",
      "Epoch 10/200\n",
      "6/6 [==============================] - 0s 5ms/step - loss: 1.8025 - acc: 0.3279 - val_loss: 1.4308 - val_acc: 0.6190\n",
      "Epoch 11/200\n",
      "6/6 [==============================] - 0s 5ms/step - loss: 1.8028 - acc: 0.3279 - val_loss: 1.4304 - val_acc: 0.6190\n",
      "Epoch 12/200\n",
      "6/6 [==============================] - 0s 5ms/step - loss: 1.8025 - acc: 0.3279 - val_loss: 1.4309 - val_acc: 0.6190\n",
      "Epoch 13/200\n",
      "6/6 [==============================] - 0s 5ms/step - loss: 1.8028 - acc: 0.3279 - val_loss: 1.4312 - val_acc: 0.6190\n",
      "Epoch 14/200\n",
      "6/6 [==============================] - 0s 4ms/step - loss: 1.8028 - acc: 0.3279 - val_loss: 1.4301 - val_acc: 0.6190\n",
      "Epoch 15/200\n",
      "6/6 [==============================] - 0s 4ms/step - loss: 1.8027 - acc: 0.3279 - val_loss: 1.4318 - val_acc: 0.6190\n",
      "Epoch 16/200\n",
      "6/6 [==============================] - 0s 5ms/step - loss: 1.8025 - acc: 0.3279 - val_loss: 1.4325 - val_acc: 0.6190\n",
      "Epoch 17/200\n",
      "6/6 [==============================] - 0s 4ms/step - loss: 1.8030 - acc: 0.3279 - val_loss: 1.4334 - val_acc: 0.6190\n",
      "Epoch 18/200\n",
      "6/6 [==============================] - 0s 4ms/step - loss: 1.8026 - acc: 0.3279 - val_loss: 1.4342 - val_acc: 0.6190\n",
      "Epoch 19/200\n",
      "6/6 [==============================] - 0s 5ms/step - loss: 1.8027 - acc: 0.3279 - val_loss: 1.4326 - val_acc: 0.6190\n",
      "Epoch 20/200\n",
      "6/6 [==============================] - 0s 5ms/step - loss: 1.8025 - acc: 0.3279 - val_loss: 1.4321 - val_acc: 0.6190\n",
      "Epoch 21/200\n",
      "6/6 [==============================] - 0s 4ms/step - loss: 1.8034 - acc: 0.3279 - val_loss: 1.4384 - val_acc: 0.6190\n",
      "Epoch 22/200\n",
      "6/6 [==============================] - 0s 5ms/step - loss: 1.8026 - acc: 0.3279 - val_loss: 1.4360 - val_acc: 0.6190\n",
      "Epoch 23/200\n",
      "6/6 [==============================] - 0s 4ms/step - loss: 1.8025 - acc: 0.3279 - val_loss: 1.4334 - val_acc: 0.6190\n",
      "Epoch 24/200\n",
      "6/6 [==============================] - 0s 5ms/step - loss: 1.8024 - acc: 0.3279 - val_loss: 1.4312 - val_acc: 0.6190\n",
      "Epoch 25/200\n",
      "6/6 [==============================] - 0s 5ms/step - loss: 1.8027 - acc: 0.3279 - val_loss: 1.4285 - val_acc: 0.6190\n",
      "Epoch 26/200\n",
      "6/6 [==============================] - 0s 5ms/step - loss: 1.8027 - acc: 0.3279 - val_loss: 1.4302 - val_acc: 0.6190\n",
      "Epoch 27/200\n",
      "6/6 [==============================] - 0s 4ms/step - loss: 1.8025 - acc: 0.3279 - val_loss: 1.4309 - val_acc: 0.6190\n",
      "Epoch 28/200\n",
      "6/6 [==============================] - 0s 4ms/step - loss: 1.8028 - acc: 0.3279 - val_loss: 1.4293 - val_acc: 0.6190\n",
      "Epoch 29/200\n",
      "6/6 [==============================] - 0s 4ms/step - loss: 1.8026 - acc: 0.3279 - val_loss: 1.4301 - val_acc: 0.6190\n",
      "Epoch 30/200\n",
      "6/6 [==============================] - 0s 6ms/step - loss: 1.8027 - acc: 0.3279 - val_loss: 1.4334 - val_acc: 0.6190\n",
      "Epoch 31/200\n",
      "6/6 [==============================] - 0s 5ms/step - loss: 1.8026 - acc: 0.3279 - val_loss: 1.4328 - val_acc: 0.6190\n",
      "Epoch 32/200\n",
      "6/6 [==============================] - 0s 5ms/step - loss: 1.8027 - acc: 0.3279 - val_loss: 1.4324 - val_acc: 0.6190\n",
      "Epoch 33/200\n",
      "6/6 [==============================] - 0s 5ms/step - loss: 1.8025 - acc: 0.3279 - val_loss: 1.4306 - val_acc: 0.6190\n",
      "Epoch 34/200\n",
      "6/6 [==============================] - 0s 5ms/step - loss: 1.8025 - acc: 0.3279 - val_loss: 1.4294 - val_acc: 0.6190\n",
      "Epoch 35/200\n",
      "6/6 [==============================] - 0s 4ms/step - loss: 1.8027 - acc: 0.3279 - val_loss: 1.4300 - val_acc: 0.6190\n",
      "Epoch 36/200\n",
      "6/6 [==============================] - 0s 5ms/step - loss: 1.8025 - acc: 0.3279 - val_loss: 1.4301 - val_acc: 0.6190\n",
      "Epoch 37/200\n",
      "6/6 [==============================] - 0s 5ms/step - loss: 1.8028 - acc: 0.3279 - val_loss: 1.4282 - val_acc: 0.6190\n",
      "Epoch 38/200\n",
      "6/6 [==============================] - 0s 5ms/step - loss: 1.8025 - acc: 0.3279 - val_loss: 1.4291 - val_acc: 0.6190\n",
      "Epoch 39/200\n",
      "6/6 [==============================] - 0s 4ms/step - loss: 1.8025 - acc: 0.3279 - val_loss: 1.4289 - val_acc: 0.6190\n",
      "Epoch 40/200\n",
      "6/6 [==============================] - 0s 5ms/step - loss: 1.8025 - acc: 0.3279 - val_loss: 1.4289 - val_acc: 0.6190\n",
      "Epoch 41/200\n",
      "6/6 [==============================] - 0s 4ms/step - loss: 1.8024 - acc: 0.3279 - val_loss: 1.4310 - val_acc: 0.6190\n",
      "Epoch 42/200\n",
      "6/6 [==============================] - 0s 5ms/step - loss: 1.8026 - acc: 0.3279 - val_loss: 1.4339 - val_acc: 0.6190\n",
      "Epoch 43/200\n",
      "6/6 [==============================] - 0s 5ms/step - loss: 1.8026 - acc: 0.3279 - val_loss: 1.4334 - val_acc: 0.6190\n",
      "Epoch 44/200\n",
      "6/6 [==============================] - 0s 4ms/step - loss: 1.8029 - acc: 0.3279 - val_loss: 1.4329 - val_acc: 0.6190\n",
      "Epoch 45/200\n",
      "6/6 [==============================] - 0s 4ms/step - loss: 1.8023 - acc: 0.3279 - val_loss: 1.4347 - val_acc: 0.6190\n",
      "Epoch 46/200\n",
      "6/6 [==============================] - 0s 4ms/step - loss: 1.8029 - acc: 0.3279 - val_loss: 1.4377 - val_acc: 0.6190\n",
      "Epoch 47/200\n",
      "6/6 [==============================] - 0s 4ms/step - loss: 1.8029 - acc: 0.3279 - val_loss: 1.4395 - val_acc: 0.6190\n",
      "Epoch 48/200\n",
      "6/6 [==============================] - 0s 4ms/step - loss: 1.8029 - acc: 0.3279 - val_loss: 1.4408 - val_acc: 0.6190\n",
      "Epoch 49/200\n",
      "6/6 [==============================] - 0s 4ms/step - loss: 1.8029 - acc: 0.3279 - val_loss: 1.4395 - val_acc: 0.6190\n",
      "Epoch 50/200\n",
      "6/6 [==============================] - 0s 4ms/step - loss: 1.8027 - acc: 0.3279 - val_loss: 1.4360 - val_acc: 0.6190\n",
      "Epoch 51/200\n",
      "6/6 [==============================] - 0s 4ms/step - loss: 1.8025 - acc: 0.3279 - val_loss: 1.4338 - val_acc: 0.6190\n",
      "Epoch 52/200\n",
      "6/6 [==============================] - 0s 4ms/step - loss: 1.8025 - acc: 0.3279 - val_loss: 1.4348 - val_acc: 0.6190\n",
      "Epoch 53/200\n",
      "6/6 [==============================] - 0s 4ms/step - loss: 1.8026 - acc: 0.3279 - val_loss: 1.4379 - val_acc: 0.6190\n",
      "Epoch 54/200\n",
      "6/6 [==============================] - 0s 5ms/step - loss: 1.8027 - acc: 0.3279 - val_loss: 1.4365 - val_acc: 0.6190\n",
      "Epoch 55/200\n",
      "6/6 [==============================] - 0s 4ms/step - loss: 1.8029 - acc: 0.3279 - val_loss: 1.4330 - val_acc: 0.6190\n",
      "Epoch 56/200\n",
      "6/6 [==============================] - 0s 4ms/step - loss: 1.8029 - acc: 0.3279 - val_loss: 1.4362 - val_acc: 0.6190\n",
      "Epoch 57/200\n",
      "6/6 [==============================] - 0s 5ms/step - loss: 1.8024 - acc: 0.3279 - val_loss: 1.4341 - val_acc: 0.6190\n",
      "Epoch 58/200\n",
      "6/6 [==============================] - 0s 4ms/step - loss: 1.8024 - acc: 0.3279 - val_loss: 1.4337 - val_acc: 0.6190\n",
      "Epoch 59/200\n",
      "6/6 [==============================] - 0s 5ms/step - loss: 1.8032 - acc: 0.3279 - val_loss: 1.4342 - val_acc: 0.6190\n",
      "Epoch 60/200\n",
      "6/6 [==============================] - 0s 5ms/step - loss: 1.8028 - acc: 0.3279 - val_loss: 1.4327 - val_acc: 0.6190\n",
      "Epoch 61/200\n",
      "6/6 [==============================] - 0s 4ms/step - loss: 1.8026 - acc: 0.3279 - val_loss: 1.4338 - val_acc: 0.6190\n",
      "Epoch 62/200\n",
      "6/6 [==============================] - 0s 4ms/step - loss: 1.8025 - acc: 0.3279 - val_loss: 1.4360 - val_acc: 0.6190\n",
      "Epoch 63/200\n",
      "6/6 [==============================] - 0s 4ms/step - loss: 1.8027 - acc: 0.3279 - val_loss: 1.4332 - val_acc: 0.6190\n",
      "Epoch 64/200\n"
     ]
    },
    {
     "name": "stdout",
     "output_type": "stream",
     "text": [
      "6/6 [==============================] - 0s 4ms/step - loss: 1.8026 - acc: 0.3279 - val_loss: 1.4343 - val_acc: 0.6190\n",
      "Epoch 65/200\n",
      "6/6 [==============================] - 0s 5ms/step - loss: 1.8025 - acc: 0.3279 - val_loss: 1.4331 - val_acc: 0.6190\n",
      "Epoch 66/200\n",
      "6/6 [==============================] - 0s 5ms/step - loss: 1.8026 - acc: 0.3279 - val_loss: 1.4320 - val_acc: 0.6190\n",
      "Epoch 67/200\n",
      "6/6 [==============================] - 0s 4ms/step - loss: 1.8028 - acc: 0.3279 - val_loss: 1.4287 - val_acc: 0.6190\n",
      "Epoch 68/200\n",
      "6/6 [==============================] - 0s 5ms/step - loss: 1.8026 - acc: 0.3279 - val_loss: 1.4276 - val_acc: 0.6190\n",
      "Epoch 69/200\n",
      "6/6 [==============================] - 0s 5ms/step - loss: 1.8028 - acc: 0.3279 - val_loss: 1.4298 - val_acc: 0.6190\n",
      "Epoch 70/200\n",
      "6/6 [==============================] - 0s 4ms/step - loss: 1.8027 - acc: 0.3279 - val_loss: 1.4273 - val_acc: 0.6190\n",
      "Epoch 71/200\n",
      "6/6 [==============================] - 0s 5ms/step - loss: 1.8030 - acc: 0.3279 - val_loss: 1.4303 - val_acc: 0.6190\n",
      "Epoch 72/200\n",
      "6/6 [==============================] - 0s 5ms/step - loss: 1.8027 - acc: 0.3279 - val_loss: 1.4299 - val_acc: 0.6190\n",
      "Epoch 73/200\n",
      "6/6 [==============================] - 0s 5ms/step - loss: 1.8024 - acc: 0.3279 - val_loss: 1.4314 - val_acc: 0.6190\n",
      "Epoch 74/200\n",
      "6/6 [==============================] - 0s 5ms/step - loss: 1.8028 - acc: 0.3279 - val_loss: 1.4309 - val_acc: 0.6190\n",
      "Epoch 75/200\n",
      "6/6 [==============================] - 0s 5ms/step - loss: 1.8024 - acc: 0.3279 - val_loss: 1.4314 - val_acc: 0.6190\n",
      "Epoch 76/200\n",
      "6/6 [==============================] - 0s 4ms/step - loss: 1.8026 - acc: 0.3279 - val_loss: 1.4300 - val_acc: 0.6190\n",
      "Epoch 77/200\n",
      "6/6 [==============================] - 0s 5ms/step - loss: 1.8023 - acc: 0.3279 - val_loss: 1.4297 - val_acc: 0.6190\n",
      "Epoch 78/200\n",
      "6/6 [==============================] - 0s 5ms/step - loss: 1.8025 - acc: 0.3279 - val_loss: 1.4304 - val_acc: 0.6190\n",
      "Epoch 79/200\n",
      "6/6 [==============================] - 0s 5ms/step - loss: 1.8029 - acc: 0.3279 - val_loss: 1.4308 - val_acc: 0.6190\n",
      "Epoch 80/200\n",
      "6/6 [==============================] - 0s 4ms/step - loss: 1.8025 - acc: 0.3279 - val_loss: 1.4291 - val_acc: 0.6190\n",
      "Epoch 81/200\n",
      "6/6 [==============================] - 0s 4ms/step - loss: 1.8027 - acc: 0.3279 - val_loss: 1.4263 - val_acc: 0.6190\n",
      "Epoch 82/200\n",
      "6/6 [==============================] - 0s 5ms/step - loss: 1.8030 - acc: 0.3279 - val_loss: 1.4295 - val_acc: 0.6190\n",
      "Epoch 83/200\n",
      "6/6 [==============================] - 0s 5ms/step - loss: 1.8025 - acc: 0.3279 - val_loss: 1.4282 - val_acc: 0.6190\n",
      "Epoch 84/200\n",
      "6/6 [==============================] - 0s 5ms/step - loss: 1.8025 - acc: 0.3279 - val_loss: 1.4287 - val_acc: 0.6190\n",
      "Epoch 85/200\n",
      "6/6 [==============================] - 0s 4ms/step - loss: 1.8034 - acc: 0.3279 - val_loss: 1.4342 - val_acc: 0.6190\n",
      "Epoch 86/200\n",
      "6/6 [==============================] - 0s 4ms/step - loss: 1.8027 - acc: 0.3279 - val_loss: 1.4312 - val_acc: 0.6190\n",
      "Epoch 87/200\n",
      "6/6 [==============================] - 0s 5ms/step - loss: 1.8026 - acc: 0.3279 - val_loss: 1.4345 - val_acc: 0.6190\n",
      "Epoch 88/200\n",
      "6/6 [==============================] - 0s 4ms/step - loss: 1.8027 - acc: 0.3279 - val_loss: 1.4312 - val_acc: 0.6190\n",
      "Epoch 89/200\n",
      "6/6 [==============================] - 0s 4ms/step - loss: 1.8026 - acc: 0.3279 - val_loss: 1.4340 - val_acc: 0.6190\n",
      "Epoch 90/200\n",
      "6/6 [==============================] - 0s 5ms/step - loss: 1.8026 - acc: 0.3279 - val_loss: 1.4352 - val_acc: 0.6190\n",
      "Epoch 91/200\n",
      "6/6 [==============================] - 0s 4ms/step - loss: 1.8025 - acc: 0.3279 - val_loss: 1.4331 - val_acc: 0.6190\n",
      "Epoch 92/200\n",
      "6/6 [==============================] - 0s 5ms/step - loss: 1.8026 - acc: 0.3279 - val_loss: 1.4301 - val_acc: 0.6190\n",
      "Epoch 93/200\n",
      "6/6 [==============================] - 0s 4ms/step - loss: 1.8029 - acc: 0.3279 - val_loss: 1.4299 - val_acc: 0.6190\n",
      "Epoch 94/200\n",
      "6/6 [==============================] - 0s 4ms/step - loss: 1.8028 - acc: 0.3279 - val_loss: 1.4292 - val_acc: 0.6190\n",
      "Epoch 95/200\n",
      "6/6 [==============================] - 0s 4ms/step - loss: 1.8027 - acc: 0.3279 - val_loss: 1.4304 - val_acc: 0.6190\n",
      "Epoch 96/200\n",
      "6/6 [==============================] - 0s 4ms/step - loss: 1.8023 - acc: 0.3279 - val_loss: 1.4321 - val_acc: 0.6190\n",
      "Epoch 97/200\n",
      "6/6 [==============================] - 0s 5ms/step - loss: 1.8025 - acc: 0.3279 - val_loss: 1.4327 - val_acc: 0.6190\n",
      "Epoch 98/200\n",
      "6/6 [==============================] - 0s 5ms/step - loss: 1.8028 - acc: 0.3279 - val_loss: 1.4305 - val_acc: 0.6190\n",
      "Epoch 99/200\n",
      "6/6 [==============================] - 0s 4ms/step - loss: 1.8025 - acc: 0.3279 - val_loss: 1.4330 - val_acc: 0.6190\n",
      "Epoch 100/200\n",
      "6/6 [==============================] - 0s 4ms/step - loss: 1.8028 - acc: 0.3279 - val_loss: 1.4299 - val_acc: 0.6190\n",
      "Epoch 101/200\n",
      "6/6 [==============================] - 0s 4ms/step - loss: 1.8028 - acc: 0.3279 - val_loss: 1.4314 - val_acc: 0.6190\n",
      "Epoch 102/200\n",
      "6/6 [==============================] - 0s 5ms/step - loss: 1.8025 - acc: 0.3279 - val_loss: 1.4297 - val_acc: 0.6190\n",
      "Epoch 103/200\n",
      "6/6 [==============================] - 0s 4ms/step - loss: 1.8024 - acc: 0.3279 - val_loss: 1.4304 - val_acc: 0.6190\n",
      "Epoch 104/200\n",
      "6/6 [==============================] - 0s 5ms/step - loss: 1.8032 - acc: 0.3279 - val_loss: 1.4320 - val_acc: 0.6190\n",
      "Epoch 105/200\n",
      "6/6 [==============================] - 0s 4ms/step - loss: 1.8026 - acc: 0.3279 - val_loss: 1.4335 - val_acc: 0.6190\n",
      "Epoch 106/200\n",
      "6/6 [==============================] - 0s 4ms/step - loss: 1.8025 - acc: 0.3279 - val_loss: 1.4313 - val_acc: 0.6190\n",
      "Epoch 107/200\n",
      "6/6 [==============================] - 0s 4ms/step - loss: 1.8024 - acc: 0.3279 - val_loss: 1.4304 - val_acc: 0.6190\n",
      "Epoch 108/200\n",
      "6/6 [==============================] - 0s 4ms/step - loss: 1.8027 - acc: 0.3279 - val_loss: 1.4293 - val_acc: 0.6190\n",
      "Epoch 109/200\n",
      "6/6 [==============================] - 0s 5ms/step - loss: 1.8024 - acc: 0.3279 - val_loss: 1.4295 - val_acc: 0.6190\n",
      "Epoch 110/200\n",
      "6/6 [==============================] - 0s 4ms/step - loss: 1.8027 - acc: 0.3279 - val_loss: 1.4285 - val_acc: 0.6190\n",
      "Epoch 111/200\n",
      "6/6 [==============================] - 0s 4ms/step - loss: 1.8029 - acc: 0.3279 - val_loss: 1.4241 - val_acc: 0.6190\n",
      "Epoch 112/200\n",
      "6/6 [==============================] - 0s 4ms/step - loss: 1.8028 - acc: 0.3279 - val_loss: 1.4273 - val_acc: 0.6190\n",
      "Epoch 113/200\n",
      "6/6 [==============================] - 0s 5ms/step - loss: 1.8030 - acc: 0.3279 - val_loss: 1.4274 - val_acc: 0.6190\n",
      "Epoch 114/200\n",
      "6/6 [==============================] - 0s 4ms/step - loss: 1.8028 - acc: 0.3279 - val_loss: 1.4276 - val_acc: 0.6190\n",
      "Epoch 115/200\n",
      "6/6 [==============================] - 0s 4ms/step - loss: 1.8025 - acc: 0.3279 - val_loss: 1.4307 - val_acc: 0.6190\n",
      "Epoch 116/200\n",
      "6/6 [==============================] - 0s 4ms/step - loss: 1.8029 - acc: 0.3279 - val_loss: 1.4300 - val_acc: 0.6190\n",
      "Epoch 117/200\n",
      "6/6 [==============================] - 0s 5ms/step - loss: 1.8025 - acc: 0.3279 - val_loss: 1.4315 - val_acc: 0.6190\n",
      "Epoch 118/200\n",
      "6/6 [==============================] - 0s 4ms/step - loss: 1.8025 - acc: 0.3279 - val_loss: 1.4349 - val_acc: 0.6190\n",
      "Epoch 119/200\n",
      "6/6 [==============================] - 0s 4ms/step - loss: 1.8027 - acc: 0.3279 - val_loss: 1.4329 - val_acc: 0.6190\n",
      "Epoch 120/200\n",
      "6/6 [==============================] - 0s 4ms/step - loss: 1.8026 - acc: 0.3279 - val_loss: 1.4322 - val_acc: 0.6190\n",
      "Epoch 121/200\n",
      "6/6 [==============================] - 0s 4ms/step - loss: 1.8025 - acc: 0.3279 - val_loss: 1.4328 - val_acc: 0.6190\n",
      "Epoch 122/200\n",
      "6/6 [==============================] - 0s 4ms/step - loss: 1.8027 - acc: 0.3279 - val_loss: 1.4331 - val_acc: 0.6190\n",
      "Epoch 123/200\n",
      "6/6 [==============================] - 0s 4ms/step - loss: 1.8028 - acc: 0.3279 - val_loss: 1.4292 - val_acc: 0.6190\n",
      "Epoch 124/200\n",
      "6/6 [==============================] - 0s 4ms/step - loss: 1.8027 - acc: 0.3279 - val_loss: 1.4298 - val_acc: 0.6190\n",
      "Epoch 125/200\n",
      "6/6 [==============================] - 0s 4ms/step - loss: 1.8029 - acc: 0.3279 - val_loss: 1.4265 - val_acc: 0.6190\n",
      "Epoch 126/200\n",
      "6/6 [==============================] - 0s 4ms/step - loss: 1.8027 - acc: 0.3279 - val_loss: 1.4306 - val_acc: 0.6190\n"
     ]
    },
    {
     "name": "stdout",
     "output_type": "stream",
     "text": [
      "Epoch 127/200\n",
      "6/6 [==============================] - 0s 5ms/step - loss: 1.8026 - acc: 0.3279 - val_loss: 1.4302 - val_acc: 0.6190\n",
      "Epoch 128/200\n",
      "6/6 [==============================] - 0s 4ms/step - loss: 1.8026 - acc: 0.3279 - val_loss: 1.4314 - val_acc: 0.6190\n",
      "Epoch 129/200\n",
      "6/6 [==============================] - 0s 4ms/step - loss: 1.8024 - acc: 0.3279 - val_loss: 1.4309 - val_acc: 0.6190\n",
      "Epoch 130/200\n",
      "6/6 [==============================] - 0s 5ms/step - loss: 1.8025 - acc: 0.3279 - val_loss: 1.4309 - val_acc: 0.6190\n",
      "Epoch 131/200\n",
      "6/6 [==============================] - 0s 5ms/step - loss: 1.8030 - acc: 0.3279 - val_loss: 1.4290 - val_acc: 0.6190\n",
      "Epoch 132/200\n",
      "6/6 [==============================] - 0s 5ms/step - loss: 1.8026 - acc: 0.3279 - val_loss: 1.4327 - val_acc: 0.6190\n",
      "Epoch 133/200\n",
      "6/6 [==============================] - 0s 5ms/step - loss: 1.8024 - acc: 0.3279 - val_loss: 1.4315 - val_acc: 0.6190\n",
      "Epoch 134/200\n",
      "6/6 [==============================] - 0s 5ms/step - loss: 1.8025 - acc: 0.3279 - val_loss: 1.4295 - val_acc: 0.6190\n",
      "Epoch 135/200\n",
      "6/6 [==============================] - 0s 5ms/step - loss: 1.8031 - acc: 0.3279 - val_loss: 1.4254 - val_acc: 0.6190\n",
      "Epoch 136/200\n",
      "6/6 [==============================] - 0s 5ms/step - loss: 1.8025 - acc: 0.3279 - val_loss: 1.4302 - val_acc: 0.6190\n",
      "Epoch 137/200\n",
      "6/6 [==============================] - 0s 5ms/step - loss: 1.8029 - acc: 0.3279 - val_loss: 1.4286 - val_acc: 0.6190\n",
      "Epoch 138/200\n",
      "6/6 [==============================] - 0s 5ms/step - loss: 1.8025 - acc: 0.3279 - val_loss: 1.4315 - val_acc: 0.6190\n",
      "Epoch 139/200\n",
      "6/6 [==============================] - 0s 5ms/step - loss: 1.8024 - acc: 0.3279 - val_loss: 1.4345 - val_acc: 0.6190\n",
      "Epoch 140/200\n",
      "6/6 [==============================] - 0s 5ms/step - loss: 1.8025 - acc: 0.3279 - val_loss: 1.4356 - val_acc: 0.6190\n",
      "Epoch 141/200\n",
      "6/6 [==============================] - 0s 5ms/step - loss: 1.8026 - acc: 0.3279 - val_loss: 1.4358 - val_acc: 0.6190\n",
      "Epoch 142/200\n",
      "6/6 [==============================] - 0s 4ms/step - loss: 1.8026 - acc: 0.3279 - val_loss: 1.4363 - val_acc: 0.6190\n",
      "Epoch 143/200\n",
      "6/6 [==============================] - 0s 4ms/step - loss: 1.8026 - acc: 0.3279 - val_loss: 1.4339 - val_acc: 0.6190\n",
      "Epoch 144/200\n",
      "6/6 [==============================] - 0s 4ms/step - loss: 1.8025 - acc: 0.3279 - val_loss: 1.4319 - val_acc: 0.6190\n",
      "Epoch 145/200\n",
      "6/6 [==============================] - 0s 5ms/step - loss: 1.8025 - acc: 0.3279 - val_loss: 1.4296 - val_acc: 0.6190\n",
      "Epoch 146/200\n",
      "6/6 [==============================] - 0s 5ms/step - loss: 1.8027 - acc: 0.3279 - val_loss: 1.4280 - val_acc: 0.6190\n",
      "Epoch 147/200\n",
      "6/6 [==============================] - 0s 4ms/step - loss: 1.8026 - acc: 0.3279 - val_loss: 1.4296 - val_acc: 0.6190\n",
      "Epoch 148/200\n",
      "6/6 [==============================] - 0s 5ms/step - loss: 1.8023 - acc: 0.3279 - val_loss: 1.4306 - val_acc: 0.6190\n",
      "Epoch 149/200\n",
      "6/6 [==============================] - 0s 4ms/step - loss: 1.8028 - acc: 0.3279 - val_loss: 1.4304 - val_acc: 0.6190\n",
      "Epoch 150/200\n",
      "6/6 [==============================] - 0s 4ms/step - loss: 1.8025 - acc: 0.3279 - val_loss: 1.4321 - val_acc: 0.6190\n",
      "Epoch 151/200\n",
      "6/6 [==============================] - 0s 5ms/step - loss: 1.8027 - acc: 0.3279 - val_loss: 1.4330 - val_acc: 0.6190\n",
      "Epoch 152/200\n",
      "6/6 [==============================] - 0s 4ms/step - loss: 1.8025 - acc: 0.3279 - val_loss: 1.4330 - val_acc: 0.6190\n",
      "Epoch 153/200\n",
      "6/6 [==============================] - 0s 5ms/step - loss: 1.8025 - acc: 0.3279 - val_loss: 1.4345 - val_acc: 0.6190\n",
      "Epoch 154/200\n",
      "6/6 [==============================] - 0s 4ms/step - loss: 1.8028 - acc: 0.3279 - val_loss: 1.4362 - val_acc: 0.6190\n",
      "Epoch 155/200\n",
      "6/6 [==============================] - 0s 5ms/step - loss: 1.8028 - acc: 0.3279 - val_loss: 1.4376 - val_acc: 0.6190\n",
      "Epoch 156/200\n",
      "6/6 [==============================] - 0s 4ms/step - loss: 1.8028 - acc: 0.3279 - val_loss: 1.4338 - val_acc: 0.6190\n",
      "Epoch 157/200\n",
      "6/6 [==============================] - 0s 5ms/step - loss: 1.8027 - acc: 0.3279 - val_loss: 1.4333 - val_acc: 0.6190\n",
      "Epoch 158/200\n",
      "6/6 [==============================] - 0s 4ms/step - loss: 1.8029 - acc: 0.3279 - val_loss: 1.4288 - val_acc: 0.6190\n",
      "Epoch 159/200\n",
      "6/6 [==============================] - 0s 5ms/step - loss: 1.8029 - acc: 0.3279 - val_loss: 1.4295 - val_acc: 0.6190\n",
      "Epoch 160/200\n",
      "6/6 [==============================] - 0s 4ms/step - loss: 1.8026 - acc: 0.3279 - val_loss: 1.4273 - val_acc: 0.6190\n",
      "Epoch 161/200\n",
      "6/6 [==============================] - 0s 4ms/step - loss: 1.8026 - acc: 0.3279 - val_loss: 1.4288 - val_acc: 0.6190\n",
      "Epoch 162/200\n",
      "6/6 [==============================] - 0s 4ms/step - loss: 1.8025 - acc: 0.3279 - val_loss: 1.4286 - val_acc: 0.6190\n",
      "Epoch 163/200\n",
      "6/6 [==============================] - 0s 5ms/step - loss: 1.8024 - acc: 0.3279 - val_loss: 1.4296 - val_acc: 0.6190\n",
      "Epoch 164/200\n",
      "6/6 [==============================] - 0s 4ms/step - loss: 1.8028 - acc: 0.3279 - val_loss: 1.4273 - val_acc: 0.6190\n",
      "Epoch 165/200\n",
      "6/6 [==============================] - 0s 4ms/step - loss: 1.8030 - acc: 0.3279 - val_loss: 1.4270 - val_acc: 0.6190\n",
      "Epoch 166/200\n",
      "6/6 [==============================] - 0s 5ms/step - loss: 1.8025 - acc: 0.3279 - val_loss: 1.4280 - val_acc: 0.6190\n",
      "Epoch 167/200\n",
      "6/6 [==============================] - 0s 4ms/step - loss: 1.8026 - acc: 0.3279 - val_loss: 1.4301 - val_acc: 0.6190\n",
      "Epoch 168/200\n",
      "6/6 [==============================] - 0s 4ms/step - loss: 1.8024 - acc: 0.3279 - val_loss: 1.4310 - val_acc: 0.6190\n",
      "Epoch 169/200\n",
      "6/6 [==============================] - 0s 5ms/step - loss: 1.8023 - acc: 0.3279 - val_loss: 1.4340 - val_acc: 0.6190\n",
      "Epoch 170/200\n",
      "6/6 [==============================] - 0s 5ms/step - loss: 1.8026 - acc: 0.3279 - val_loss: 1.4361 - val_acc: 0.6190\n",
      "Epoch 171/200\n",
      "6/6 [==============================] - 0s 4ms/step - loss: 1.8031 - acc: 0.3279 - val_loss: 1.4375 - val_acc: 0.6190\n",
      "Epoch 172/200\n",
      "6/6 [==============================] - 0s 4ms/step - loss: 1.8028 - acc: 0.3279 - val_loss: 1.4380 - val_acc: 0.6190\n",
      "Epoch 173/200\n",
      "6/6 [==============================] - 0s 4ms/step - loss: 1.8024 - acc: 0.3279 - val_loss: 1.4351 - val_acc: 0.6190\n",
      "Epoch 174/200\n",
      "6/6 [==============================] - 0s 5ms/step - loss: 1.8025 - acc: 0.3279 - val_loss: 1.4346 - val_acc: 0.6190\n",
      "Epoch 175/200\n",
      "6/6 [==============================] - 0s 5ms/step - loss: 1.8025 - acc: 0.3279 - val_loss: 1.4325 - val_acc: 0.6190\n",
      "Epoch 176/200\n",
      "6/6 [==============================] - 0s 5ms/step - loss: 1.8024 - acc: 0.3279 - val_loss: 1.4287 - val_acc: 0.6190\n",
      "Epoch 177/200\n",
      "6/6 [==============================] - 0s 4ms/step - loss: 1.8029 - acc: 0.3279 - val_loss: 1.4281 - val_acc: 0.6190\n",
      "Epoch 178/200\n",
      "6/6 [==============================] - 0s 4ms/step - loss: 1.8029 - acc: 0.3279 - val_loss: 1.4255 - val_acc: 0.6190\n",
      "Epoch 179/200\n",
      "6/6 [==============================] - 0s 5ms/step - loss: 1.8027 - acc: 0.3279 - val_loss: 1.4277 - val_acc: 0.6190\n",
      "Epoch 180/200\n",
      "6/6 [==============================] - 0s 4ms/step - loss: 1.8026 - acc: 0.3279 - val_loss: 1.4278 - val_acc: 0.6190\n",
      "Epoch 181/200\n",
      "6/6 [==============================] - 0s 4ms/step - loss: 1.8026 - acc: 0.3279 - val_loss: 1.4314 - val_acc: 0.6190\n",
      "Epoch 182/200\n",
      "6/6 [==============================] - 0s 4ms/step - loss: 1.8024 - acc: 0.3279 - val_loss: 1.4329 - val_acc: 0.6190\n",
      "Epoch 183/200\n",
      "6/6 [==============================] - 0s 5ms/step - loss: 1.8034 - acc: 0.3279 - val_loss: 1.4384 - val_acc: 0.6190\n",
      "Epoch 184/200\n",
      "6/6 [==============================] - 0s 4ms/step - loss: 1.8027 - acc: 0.3279 - val_loss: 1.4386 - val_acc: 0.6190\n",
      "Epoch 185/200\n",
      "6/6 [==============================] - 0s 5ms/step - loss: 1.8027 - acc: 0.3279 - val_loss: 1.4331 - val_acc: 0.6190\n",
      "Epoch 186/200\n",
      "6/6 [==============================] - 0s 5ms/step - loss: 1.8034 - acc: 0.3279 - val_loss: 1.4345 - val_acc: 0.6190\n",
      "Epoch 187/200\n",
      "6/6 [==============================] - 0s 5ms/step - loss: 1.8026 - acc: 0.3279 - val_loss: 1.4317 - val_acc: 0.6190\n",
      "Epoch 188/200\n",
      "6/6 [==============================] - 0s 4ms/step - loss: 1.8025 - acc: 0.3279 - val_loss: 1.4286 - val_acc: 0.6190\n",
      "Epoch 189/200\n",
      "6/6 [==============================] - 0s 4ms/step - loss: 1.8024 - acc: 0.3279 - val_loss: 1.4291 - val_acc: 0.6190\n",
      "Epoch 190/200\n",
      "6/6 [==============================] - 0s 5ms/step - loss: 1.8027 - acc: 0.3279 - val_loss: 1.4317 - val_acc: 0.6190\n",
      "Epoch 191/200\n",
      "6/6 [==============================] - 0s 5ms/step - loss: 1.8025 - acc: 0.3279 - val_loss: 1.4302 - val_acc: 0.6190\n",
      "Epoch 192/200\n",
      "6/6 [==============================] - 0s 4ms/step - loss: 1.8026 - acc: 0.3279 - val_loss: 1.4287 - val_acc: 0.6190\n",
      "Epoch 193/200\n",
      "6/6 [==============================] - 0s 4ms/step - loss: 1.8027 - acc: 0.3279 - val_loss: 1.4278 - val_acc: 0.6190\n",
      "Epoch 194/200\n",
      "6/6 [==============================] - 0s 5ms/step - loss: 1.8030 - acc: 0.3279 - val_loss: 1.4312 - val_acc: 0.6190\n",
      "Epoch 195/200\n",
      "6/6 [==============================] - 0s 5ms/step - loss: 1.8030 - acc: 0.3279 - val_loss: 1.4314 - val_acc: 0.6190\n",
      "Epoch 196/200\n",
      "6/6 [==============================] - 0s 5ms/step - loss: 1.8027 - acc: 0.3279 - val_loss: 1.4344 - val_acc: 0.6190\n",
      "Epoch 197/200\n",
      "6/6 [==============================] - 0s 5ms/step - loss: 1.8028 - acc: 0.3279 - val_loss: 1.4357 - val_acc: 0.6190\n",
      "Epoch 198/200\n",
      "6/6 [==============================] - 0s 5ms/step - loss: 1.8028 - acc: 0.3279 - val_loss: 1.4294 - val_acc: 0.6190\n",
      "Epoch 199/200\n",
      "6/6 [==============================] - 0s 5ms/step - loss: 1.8024 - acc: 0.3279 - val_loss: 1.4294 - val_acc: 0.6190\n",
      "Epoch 200/200\n",
      "6/6 [==============================] - 0s 5ms/step - loss: 1.8025 - acc: 0.3279 - val_loss: 1.4293 - val_acc: 0.6190\n"
     ]
    }
   ],
   "source": [
    "history = model.fit(dftrain_x, dftrain_y, epochs=200, validation_split=0.1)"
   ]
  },
  {
   "cell_type": "code",
   "execution_count": 641,
   "id": "fc21eff9",
   "metadata": {},
   "outputs": [
    {
     "data": {
      "image/png": "[encoded data removed]",
      "text/plain": [
       "<Figure size 1000x500 with 2 Axes>"
      ]
     },
     "metadata": {
      "needs_background": "light"
     },
     "output_type": "display_data"
    }
   ],
   "source": [
    "_, ax = plt.subplots(1, 2, figsize=(10, 5), dpi=100)\n",
    "ax[0].plot(history.history['acc'], 'r')\n",
    "ax[0].plot(history.history['val_acc'], 'g')\n",
    "ax[0].set_xlabel(\"Num of Epochs\")\n",
    "ax[0].set_ylabel(\"Accuracy\")\n",
    "ax[0].set_title(\"Training Accuracy vs Validation Accuracy\")\n",
    "ax[0].legend(['train', 'validation'])\n",
    "\n",
    "ax[1].plot(history.history['loss'], 'r')\n",
    "ax[1].plot(history.history['val_loss'], 'g')\n",
    "ax[1].set_xlabel(\"Num of Epochs\")\n",
    "ax[1].set_ylabel(\"Loss\")\n",
    "ax[1].set_title(\"Training Loss vs Validation Loss\")\n",
    "ax[1].legend(['train', 'validation'])\n",
    "\n",
    "plt.tight_layout()"
   ]
  },
  {
   "cell_type": "code",
   "execution_count": 646,
   "id": "fd348730",
   "metadata": {},
   "outputs": [
    {
     "data": {
      "text/plain": [
       "array([[3.6373747e-06, 1.8711837e-06, 1.6273966e-02, ..., 6.5651961e-02,\n",
       "        4.3788295e-06, 8.7345883e-02],\n",
       "       [3.6373747e-06, 1.8711837e-06, 1.6273966e-02, ..., 6.5651961e-02,\n",
       "        4.3788295e-06, 8.7345883e-02],\n",
       "       [3.6373747e-06, 1.8711837e-06, 1.6273966e-02, ..., 6.5651961e-02,\n",
       "        4.3788295e-06, 8.7345883e-02],\n",
       "       ...,\n",
       "       [3.6373747e-06, 1.8711837e-06, 1.6273966e-02, ..., 6.5651961e-02,\n",
       "        4.3788295e-06, 8.7345883e-02],\n",
       "       [3.6373747e-06, 1.8711837e-06, 1.6273966e-02, ..., 6.5651961e-02,\n",
       "        4.3788295e-06, 8.7345883e-02],\n",
       "       [3.6373747e-06, 1.8711837e-06, 1.6273966e-02, ..., 6.5651961e-02,\n",
       "        4.3788295e-06, 8.7345883e-02]], dtype=float32)"
      ]
     },
     "execution_count": 646,
     "metadata": {},
     "output_type": "execute_result"
    }
   ],
   "source": [
    "y_hat = model.predict(x=dfinput_x)\n",
    "y_hat"
   ]
  },
  {
   "cell_type": "code",
   "execution_count": 647,
   "id": "58f97955",
   "metadata": {},
   "outputs": [],
   "source": [
    "y_pred_label = np.argmax(y_hat, axis = 1)\n",
    "y_true_label = np.argmax(dfinput_y, axis = 1)"
   ]
  },
  {
   "cell_type": "code",
   "execution_count": 648,
   "id": "97c7f4e5",
   "metadata": {},
   "outputs": [
    {
     "data": {
      "text/plain": [
       "array([9, 9, 9, 9, 9, 9, 9, 9, 9, 9, 9, 9, 9, 9, 9, 9, 9, 9, 9, 9, 9, 9,\n",
       "       9, 9, 9, 9, 9, 9, 9, 9, 9, 9, 9, 9, 9, 9, 9, 9, 9, 9, 9, 9, 9, 9,\n",
       "       9, 9, 9, 9, 9, 9, 9, 9, 9, 9, 9, 9, 9, 9, 9, 9, 9, 9, 9, 9, 9, 9,\n",
       "       9, 9, 9, 9, 9, 9, 9, 9, 9, 9, 9, 9, 9, 9, 9, 9, 9, 9, 9, 9, 9, 9,\n",
       "       9, 9, 9, 9, 9, 9, 9, 9, 9, 9, 9, 9, 9, 9, 9, 9, 9, 9, 9, 9, 9, 9,\n",
       "       9, 9, 9, 9, 9, 9, 9, 9, 9, 9, 9, 9, 9, 9, 9, 9, 9, 9, 9, 9, 9, 9,\n",
       "       9, 9, 9, 9, 9, 9, 9, 9, 9, 9, 9, 9, 9, 9, 9, 9, 9, 9, 9, 9, 9, 9,\n",
       "       9, 9, 9, 9, 9, 9, 9, 9, 9, 9, 9, 9, 9, 9, 9, 9, 9, 9, 9, 9, 9, 9,\n",
       "       9, 9, 9, 9, 9, 9, 9, 9, 9, 9, 9, 9, 9, 9, 9, 9, 9, 9, 9, 9, 9, 9,\n",
       "       9, 9, 9, 9, 9, 9, 9, 9, 9, 9, 9, 9, 9, 9, 9, 9, 9, 9, 9, 9, 9, 9,\n",
       "       9, 9, 9, 9, 9, 9, 9, 9, 9, 9, 9, 9, 9, 9, 9, 9, 9, 9, 9, 9, 9, 9,\n",
       "       9, 9, 9, 9, 9, 9, 9, 9, 9, 9, 9, 9, 9, 9])"
      ]
     },
     "execution_count": 648,
     "metadata": {},
     "output_type": "execute_result"
    }
   ],
   "source": [
    "y_pred_label"
   ]
  },
  {
   "cell_type": "code",
   "execution_count": 649,
   "id": "745e845e",
   "metadata": {},
   "outputs": [
    {
     "data": {
      "text/plain": [
       "array([[ 0,  2],\n",
       "       [ 0, 17],\n",
       "       [ 0,  9],\n",
       "       [ 0,  7],\n",
       "       [ 0, 17],\n",
       "       [ 0, 17],\n",
       "       [ 0,  9],\n",
       "       [ 0,  9],\n",
       "       [ 0,  4],\n",
       "       [ 0,  4],\n",
       "       [ 0,  9],\n",
       "       [ 0,  9],\n",
       "       [ 0, 24],\n",
       "       [ 0,  4],\n",
       "       [ 0,  9],\n",
       "       [ 0,  9],\n",
       "       [ 0, 24],\n",
       "       [ 0, 24],\n",
       "       [ 0,  9],\n",
       "       [ 0,  9],\n",
       "       [ 0,  4],\n",
       "       [ 0, 24],\n",
       "       [ 0,  9],\n",
       "       [ 0,  9],\n",
       "       [ 0,  4],\n",
       "       [ 0,  4],\n",
       "       [ 0,  7],\n",
       "       [ 0,  9],\n",
       "       [ 0, 24],\n",
       "       [ 0, 24],\n",
       "       [ 0,  9],\n",
       "       [ 0,  9],\n",
       "       [ 0, 22],\n",
       "       [ 0, 22],\n",
       "       [ 0,  7],\n",
       "       [ 0,  7],\n",
       "       [ 0, 22],\n",
       "       [ 0, 22],\n",
       "       [ 0,  7],\n",
       "       [ 0,  7],\n",
       "       [ 0,  4],\n",
       "       [ 0, 19],\n",
       "       [ 0,  9],\n",
       "       [ 0,  9],\n",
       "       [ 0,  4],\n",
       "       [ 0, 19],\n",
       "       [ 0,  9],\n",
       "       [ 0,  9],\n",
       "       [ 0,  4],\n",
       "       [ 0,  4],\n",
       "       [ 0,  9],\n",
       "       [ 0,  9],\n",
       "       [ 0,  4],\n",
       "       [ 0,  4],\n",
       "       [ 0,  9],\n",
       "       [ 0,  9],\n",
       "       [ 0,  4],\n",
       "       [ 0,  4],\n",
       "       [ 0,  9],\n",
       "       [ 0,  9],\n",
       "       [ 0, 24],\n",
       "       [ 0, 24],\n",
       "       [ 0,  9],\n",
       "       [ 0,  9],\n",
       "       [ 0, 22],\n",
       "       [ 0, 22],\n",
       "       [ 0,  7],\n",
       "       [ 0,  7],\n",
       "       [ 0, 22],\n",
       "       [ 0, 22],\n",
       "       [ 0,  7],\n",
       "       [ 0,  7],\n",
       "       [ 0, 24],\n",
       "       [ 0, 24],\n",
       "       [ 0,  9],\n",
       "       [ 0,  9],\n",
       "       [ 0,  4],\n",
       "       [ 0, 19],\n",
       "       [ 0,  9],\n",
       "       [ 0,  9],\n",
       "       [ 0, 19],\n",
       "       [ 0,  4],\n",
       "       [ 0,  9],\n",
       "       [ 0,  9],\n",
       "       [ 0, 19],\n",
       "       [ 0, 19],\n",
       "       [ 0,  9],\n",
       "       [ 0,  9],\n",
       "       [ 0,  4],\n",
       "       [ 0,  4],\n",
       "       [ 0,  9],\n",
       "       [ 0,  9],\n",
       "       [ 0, 19],\n",
       "       [ 0, 19],\n",
       "       [ 0,  9],\n",
       "       [ 0,  9],\n",
       "       [ 0, 22],\n",
       "       [ 0, 22],\n",
       "       [ 0,  7],\n",
       "       [ 0,  7],\n",
       "       [ 0, 17],\n",
       "       [ 0,  2],\n",
       "       [ 0,  7],\n",
       "       [ 0,  7],\n",
       "       [ 0, 19],\n",
       "       [ 0, 19],\n",
       "       [ 0,  9],\n",
       "       [ 0,  9],\n",
       "       [ 0, 24],\n",
       "       [ 0,  4],\n",
       "       [ 0,  9],\n",
       "       [ 0,  9],\n",
       "       [ 0, 19],\n",
       "       [ 0, 19],\n",
       "       [ 0,  9],\n",
       "       [ 0,  9],\n",
       "       [ 0, 24],\n",
       "       [ 0, 24],\n",
       "       [ 0,  9],\n",
       "       [ 0,  9],\n",
       "       [ 0,  4],\n",
       "       [ 0,  4],\n",
       "       [ 0,  9],\n",
       "       [ 0,  9],\n",
       "       [ 0, 19],\n",
       "       [ 0, 19],\n",
       "       [ 0,  9],\n",
       "       [ 0,  4],\n",
       "       [ 0, 22],\n",
       "       [ 0,  2],\n",
       "       [ 0,  7],\n",
       "       [ 0,  7],\n",
       "       [ 0, 22],\n",
       "       [ 0, 22],\n",
       "       [ 0,  7],\n",
       "       [ 0,  7],\n",
       "       [ 0, 24],\n",
       "       [ 0, 24],\n",
       "       [ 0,  9],\n",
       "       [ 0,  9],\n",
       "       [ 0,  4],\n",
       "       [ 0,  4],\n",
       "       [ 0,  9],\n",
       "       [ 0,  9],\n",
       "       [ 0, 19],\n",
       "       [ 0, 19],\n",
       "       [ 0,  9],\n",
       "       [ 0,  9],\n",
       "       [ 0,  4],\n",
       "       [ 0,  4],\n",
       "       [ 0,  9],\n",
       "       [ 0,  9],\n",
       "       [ 0,  4],\n",
       "       [ 0,  4],\n",
       "       [ 0,  9],\n",
       "       [ 0,  9],\n",
       "       [ 0, 19],\n",
       "       [ 0, 19],\n",
       "       [ 0,  9],\n",
       "       [ 0,  9],\n",
       "       [ 0,  4],\n",
       "       [ 0, 17],\n",
       "       [ 0,  7],\n",
       "       [ 0,  7],\n",
       "       [ 0, 17],\n",
       "       [ 0,  4],\n",
       "       [ 0,  7],\n",
       "       [ 0,  7],\n",
       "       [ 0, 24],\n",
       "       [ 0,  4],\n",
       "       [ 0,  9],\n",
       "       [ 0,  9],\n",
       "       [ 0,  4],\n",
       "       [ 0,  4],\n",
       "       [ 0,  9],\n",
       "       [ 0,  9],\n",
       "       [ 0,  4],\n",
       "       [ 0, 19],\n",
       "       [ 0,  9],\n",
       "       [ 0,  9],\n",
       "       [ 0,  4],\n",
       "       [ 0, 24],\n",
       "       [ 0,  9],\n",
       "       [ 0,  9],\n",
       "       [ 0,  4],\n",
       "       [ 0,  4],\n",
       "       [ 0,  9],\n",
       "       [ 0,  9],\n",
       "       [ 0, 19],\n",
       "       [ 0, 19],\n",
       "       [ 0,  9],\n",
       "       [ 0,  9],\n",
       "       [ 0, 22],\n",
       "       [ 0, 22],\n",
       "       [ 0,  7],\n",
       "       [ 0,  7],\n",
       "       [ 0, 19],\n",
       "       [ 0,  4],\n",
       "       [ 0, 14],\n",
       "       [ 0,  4],\n",
       "       [ 0,  4],\n",
       "       [ 0, 19],\n",
       "       [ 0,  9],\n",
       "       [ 0,  9],\n",
       "       [ 0,  4],\n",
       "       [ 0,  4],\n",
       "       [ 0,  9],\n",
       "       [ 0,  9],\n",
       "       [ 0,  4],\n",
       "       [ 0,  4],\n",
       "       [ 0,  9],\n",
       "       [ 0,  9],\n",
       "       [ 0, 24],\n",
       "       [ 0,  4],\n",
       "       [ 0,  9],\n",
       "       [ 0,  9],\n",
       "       [ 0,  4],\n",
       "       [ 0,  4],\n",
       "       [ 0,  9],\n",
       "       [ 0,  9],\n",
       "       [ 0, 19],\n",
       "       [ 0, 19],\n",
       "       [ 0,  9],\n",
       "       [ 0,  9],\n",
       "       [ 0, 22],\n",
       "       [ 0,  2],\n",
       "       [ 0,  9],\n",
       "       [ 0,  7],\n",
       "       [ 0, 19],\n",
       "       [ 0, 19],\n",
       "       [ 0, 14],\n",
       "       [ 0,  7],\n",
       "       [ 0, 19],\n",
       "       [ 0,  4],\n",
       "       [ 0,  9],\n",
       "       [ 0,  9],\n",
       "       [ 0, 19],\n",
       "       [ 0, 19],\n",
       "       [ 0,  9],\n",
       "       [ 0,  9],\n",
       "       [ 0,  4],\n",
       "       [ 0,  4],\n",
       "       [ 0,  9],\n",
       "       [ 0,  9],\n",
       "       [ 0, 19],\n",
       "       [ 0, 19],\n",
       "       [ 0,  9],\n",
       "       [ 0,  9],\n",
       "       [ 0,  4],\n",
       "       [ 0,  4],\n",
       "       [ 0,  9],\n",
       "       [ 0,  9],\n",
       "       [ 0, 24],\n",
       "       [ 0, 24],\n",
       "       [ 0,  9],\n",
       "       [ 0,  9]])"
      ]
     },
     "execution_count": 649,
     "metadata": {},
     "output_type": "execute_result"
    }
   ],
   "source": [
    "y_true_label"
   ]
  },
  {
   "cell_type": "code",
   "execution_count": null,
   "id": "309b61f6",
   "metadata": {},
   "outputs": [],
   "source": []
  },
  {
   "cell_type": "markdown",
   "id": "ed8c5dad",
   "metadata": {},
   "source": [
    "# DEEP LEARNING - RED NEURONAL"
   ]
  },
  {
   "cell_type": "code",
   "execution_count": 548,
   "id": "97925df3",
   "metadata": {},
   "outputs": [],
   "source": [
    "#(solo las categorías sin split: 0-14)\n",
    "data_real = pd.DataFrame()\n",
    "data_real = pd.concat([data_real, filtered_df_blosclz_nofilter_split, \n",
    "                      filtered_df_lz4_nofilter_split, \n",
    "                      filtered_df_lz4hc_nofilter_split, \n",
    "                      filtered_df_zlib_nofilter_split, \n",
    "                      filtered_df_zstd_nofilter_split, \n",
    "                      \n",
    "                      filtered_df_blosclz_shuffle_split, \n",
    "                      filtered_df_lz4_shuffle_split, \n",
    "                      filtered_df_lz4hc_shuffle_split, \n",
    "                      filtered_df_zlib_shuffle_split, \n",
    "                      filtered_df_zstd_shuffle_split, \n",
    "                      \n",
    "                      filtered_df_blosclz_bitshuffle_split, \n",
    "                      filtered_df_lz4_bitshuffle_split, \n",
    "                      filtered_df_lz4hc_bitshuffle_split, \n",
    "                      filtered_df_zlib_bitshuffle_split, \n",
    "                      filtered_df_zstd_bitshuffle_split], axis = 0)\n",
    "\n",
    "labels_real = pd.Series(data_real['category'])\n",
    "\n",
    "data_real = data_real.drop(['special_vals', 'nchunk', 'codec_filter'], axis = 1)"
   ]
  },
  {
   "cell_type": "code",
   "execution_count": 549,
   "id": "50a7fd68",
   "metadata": {},
   "outputs": [],
   "source": [
    "data_entropy = pd.DataFrame()\n",
    "data_entropy = pd.concat([data_entropy, filtered_df_entropy_nofitler, \n",
    "                         filtered_df_entropy_shuffle, \n",
    "                          filtered_df_entropy_bitshuffle], axis = 0)"
   ]
  },
  {
   "cell_type": "markdown",
   "id": "309d0910",
   "metadata": {},
   "source": [
    "Quiero la mayor cratio/mean(cratio) + speed/mean(speed) para cada bloque (split en este caso).\n"
   ]
  },
  {
   "cell_type": "code",
   "execution_count": 550,
   "id": "ea85c6ec",
   "metadata": {},
   "outputs": [],
   "source": [
    "mean_speed = data_real['speed'].mean()\n",
    "mean_cratio = data_real['cratio'].mean()"
   ]
  },
  {
   "cell_type": "code",
   "execution_count": 555,
   "id": "63cf5f58",
   "metadata": {},
   "outputs": [],
   "source": [
    "#Me quedo con las columnas cratio y speed\n",
    "df0 = pd.DataFrame()\n",
    "df0 = pd.concat([df0, filtered_df_blosclz_nofilter_split], axis = 0)\n",
    "\n",
    "df0 = df0.drop(['special_vals', 'nchunk', 'category', 'codec_filter'], axis = 1)\n",
    "\n",
    "#Añado la columna que contiene la suma de cratio y speed\n",
    "#df1.insert(2, \"0\", df1.sum(axis=1))\n",
    "df0.insert(2, \"0\", df0['cratio']/mean_cratio + df0['speed']/mean_speed)\n",
    "\n",
    "#Me quedo solo con la columna suma\n",
    "df0 = df0.drop(['cratio', 'speed'], axis = 1)\n",
    "\n",
    "#Este dataframe contiene la función que queremos maximizar para cada bloque \n",
    "#(en este caso para la combinación blosclz - nofilter - split)"
   ]
  },
  {
   "cell_type": "code",
   "execution_count": 556,
   "id": "75d055b9",
   "metadata": {},
   "outputs": [],
   "source": [
    "df1 = pd.DataFrame()\n",
    "df1 = pd.concat([df1, filtered_df_lz4_nofilter_split], axis = 0)\n",
    "df1 = df1.drop(['special_vals', 'nchunk', 'category', 'codec_filter'], axis = 1)\n",
    "\n",
    "df1.insert(2, \"1\", df1['cratio']/mean_cratio + df1['speed']/mean_speed)\n",
    "df1 = df1.drop(['cratio', 'speed'], axis = 1)"
   ]
  },
  {
   "cell_type": "code",
   "execution_count": 557,
   "id": "e040f543",
   "metadata": {},
   "outputs": [],
   "source": [
    "df2 = pd.DataFrame()\n",
    "df2 = pd.concat([df2, filtered_df_lz4hc_nofilter_split], axis = 0)\n",
    "df2 = df2.drop(['special_vals', 'nchunk', 'category', 'codec_filter'], axis = 1)\n",
    "\n",
    "df2.insert(2, \"2\", df2['cratio']/mean_cratio + df2['speed']/mean_speed)\n",
    "df2 = df2.drop(['cratio', 'speed'], axis = 1)"
   ]
  },
  {
   "cell_type": "code",
   "execution_count": 558,
   "id": "34034751",
   "metadata": {},
   "outputs": [],
   "source": [
    "df3 = pd.DataFrame()\n",
    "df3 = pd.concat([df3, filtered_df_zlib_nofilter_split], axis = 0)\n",
    "df3 = df3.drop(['special_vals', 'nchunk', 'category', 'codec_filter'], axis = 1)\n",
    "\n",
    "df3.insert(2, \"3\", df3['cratio']/mean_cratio + df3['speed']/mean_speed)\n",
    "df3 = df3.drop(['cratio', 'speed'], axis = 1)"
   ]
  },
  {
   "cell_type": "code",
   "execution_count": 559,
   "id": "2a8cfa5e",
   "metadata": {},
   "outputs": [],
   "source": [
    "df4 = pd.DataFrame()\n",
    "df4 = pd.concat([df4, filtered_df_zstd_nofilter_split], axis = 0)\n",
    "df4 = df4.drop(['special_vals', 'nchunk', 'category', 'codec_filter'], axis = 1)\n",
    "\n",
    "df4.insert(2, \"4\", df4['cratio']/mean_cratio + df4['speed']/mean_speed)\n",
    "df4 = df4.drop(['cratio', 'speed'], axis = 1)"
   ]
  },
  {
   "cell_type": "code",
   "execution_count": 560,
   "id": "cb720c35",
   "metadata": {},
   "outputs": [],
   "source": [
    "df5 = pd.DataFrame()\n",
    "df5 = pd.concat([df5, filtered_df_blosclz_shuffle_split], axis = 0)\n",
    "df5 = df5.drop(['special_vals', 'nchunk', 'category', 'codec_filter'], axis = 1)\n",
    "\n",
    "df5.insert(2, \"5\", df5['cratio']/mean_cratio + df5['speed']/mean_speed)\n",
    "df5 = df5.drop(['cratio', 'speed'], axis = 1)"
   ]
  },
  {
   "cell_type": "code",
   "execution_count": 561,
   "id": "19b3caec",
   "metadata": {},
   "outputs": [],
   "source": [
    "df6 = pd.DataFrame()\n",
    "df6 = pd.concat([df6, filtered_df_lz4_shuffle_split], axis = 0)\n",
    "df6 = df6.drop(['special_vals', 'nchunk', 'category', 'codec_filter'], axis = 1)\n",
    "\n",
    "df6.insert(2, \"6\", df6['cratio']/mean_cratio + df6['speed']/mean_speed)\n",
    "df6 = df6.drop(['cratio', 'speed'], axis = 1)"
   ]
  },
  {
   "cell_type": "code",
   "execution_count": 562,
   "id": "bccdcb67",
   "metadata": {},
   "outputs": [],
   "source": [
    "df7 = pd.DataFrame()\n",
    "df7 = pd.concat([df7, filtered_df_lz4hc_shuffle_split], axis = 0)\n",
    "df7 = df7.drop(['special_vals', 'nchunk', 'category', 'codec_filter'], axis = 1)\n",
    "\n",
    "df7.insert(2, \"7\", df7['cratio']/mean_cratio + df7['speed']/mean_speed)\n",
    "df7 = df7.drop(['cratio', 'speed'], axis = 1)"
   ]
  },
  {
   "cell_type": "code",
   "execution_count": 563,
   "id": "4d94eb19",
   "metadata": {},
   "outputs": [],
   "source": [
    "df8 = pd.DataFrame()\n",
    "df8 = pd.concat([df8, filtered_df_zlib_shuffle_split], axis = 0)\n",
    "df8 = df8.drop(['special_vals', 'nchunk', 'category', 'codec_filter'], axis = 1)\n",
    "\n",
    "df8.insert(2, \"8\", df8['cratio']/mean_cratio + df8['speed']/mean_speed)\n",
    "df8 = df8.drop(['cratio', 'speed'], axis = 1)"
   ]
  },
  {
   "cell_type": "code",
   "execution_count": 564,
   "id": "409fb13d",
   "metadata": {},
   "outputs": [],
   "source": [
    "df9 = pd.DataFrame()\n",
    "df9 = pd.concat([df9, filtered_df_zstd_shuffle_split], axis = 0)\n",
    "df9 = df9.drop(['special_vals', 'nchunk', 'category', 'codec_filter'], axis = 1)\n",
    "\n",
    "df9.insert(2, \"9\", df9['cratio']/mean_cratio + df9['speed']/mean_speed)\n",
    "df9 = df9.drop(['cratio', 'speed'], axis = 1)"
   ]
  },
  {
   "cell_type": "code",
   "execution_count": 565,
   "id": "96fccf8e",
   "metadata": {},
   "outputs": [],
   "source": [
    "df10 = pd.DataFrame()\n",
    "df10 = pd.concat([df10, filtered_df_blosclz_bitshuffle_split], axis = 0)\n",
    "df10 = df10.drop(['special_vals', 'nchunk', 'category', 'codec_filter'], axis = 1)\n",
    "\n",
    "df10.insert(2, \"10\", df10['cratio']/mean_cratio + df10['speed']/mean_speed)\n",
    "df10 = df10.drop(['cratio', 'speed'], axis = 1)"
   ]
  },
  {
   "cell_type": "code",
   "execution_count": 566,
   "id": "be3636f8",
   "metadata": {},
   "outputs": [],
   "source": [
    "df11 = pd.DataFrame()\n",
    "df11 = pd.concat([df11, filtered_df_lz4_bitshuffle_split], axis = 0)\n",
    "df11 = df11.drop(['special_vals', 'nchunk', 'category', 'codec_filter'], axis = 1)\n",
    "\n",
    "df11.insert(2, \"11\", df11['cratio']/mean_cratio + df11['speed']/mean_speed)\n",
    "df11 = df11.drop(['cratio', 'speed'], axis = 1)"
   ]
  },
  {
   "cell_type": "code",
   "execution_count": 567,
   "id": "d83b014c",
   "metadata": {},
   "outputs": [],
   "source": [
    "df12 = pd.DataFrame()\n",
    "df12 = pd.concat([df12, filtered_df_lz4_bitshuffle_split], axis = 0)\n",
    "df12 = df12.drop(['special_vals', 'nchunk', 'category', 'codec_filter'], axis = 1)\n",
    "\n",
    "df12.insert(2, \"12\", df12['cratio']/mean_cratio + df12['speed']/mean_speed)\n",
    "df12 = df12.drop(['cratio', 'speed'], axis = 1)"
   ]
  },
  {
   "cell_type": "code",
   "execution_count": 568,
   "id": "6b3a75dd",
   "metadata": {},
   "outputs": [],
   "source": [
    "df13 = pd.DataFrame()\n",
    "df13 = pd.concat([df13, filtered_df_zlib_bitshuffle_split], axis = 0)\n",
    "df13 = df13.drop(['special_vals', 'nchunk', 'category', 'codec_filter'], axis = 1)\n",
    "\n",
    "df13.insert(2, \"13\", df13['cratio']/mean_cratio + df13['speed']/mean_speed)\n",
    "df13 = df13.drop(['cratio', 'speed'], axis = 1)"
   ]
  },
  {
   "cell_type": "code",
   "execution_count": 569,
   "id": "d5751af2",
   "metadata": {},
   "outputs": [],
   "source": [
    "df14 = pd.DataFrame()\n",
    "df14 = pd.concat([df14, filtered_df_zstd_bitshuffle_split], axis = 0)\n",
    "df14 = df14.drop(['special_vals', 'nchunk', 'category', 'codec_filter'], axis = 1)\n",
    "\n",
    "df14.insert(2, \"14\", df14['cratio']/mean_cratio + df14['speed']/mean_speed)\n",
    "df14 = df14.drop(['cratio', 'speed'], axis = 1)"
   ]
  },
  {
   "cell_type": "code",
   "execution_count": 899,
   "id": "f1c65766",
   "metadata": {},
   "outputs": [],
   "source": [
    "df = pd.DataFrame()\n",
    "df = pd.concat([df0, df1, df2, df3, df4, df5, df6, df7, df8, df9, df10, df11, df12, df13, df14], axis=1)"
   ]
  },
  {
   "cell_type": "code",
   "execution_count": 900,
   "id": "341a211e",
   "metadata": {},
   "outputs": [
    {
     "data": {
      "text/html": [
       "<div>\n",
       "<style scoped>\n",
       "    .dataframe tbody tr th:only-of-type {\n",
       "        vertical-align: middle;\n",
       "    }\n",
       "\n",
       "    .dataframe tbody tr th {\n",
       "        vertical-align: top;\n",
       "    }\n",
       "\n",
       "    .dataframe thead th {\n",
       "        text-align: right;\n",
       "    }\n",
       "</style>\n",
       "<table border=\"1\" class=\"dataframe\">\n",
       "  <thead>\n",
       "    <tr style=\"text-align: right;\">\n",
       "      <th></th>\n",
       "      <th>pos_min</th>\n",
       "    </tr>\n",
       "  </thead>\n",
       "  <tbody>\n",
       "    <tr>\n",
       "      <th>0</th>\n",
       "      <td>2</td>\n",
       "    </tr>\n",
       "    <tr>\n",
       "      <th>1</th>\n",
       "      <td>2</td>\n",
       "    </tr>\n",
       "    <tr>\n",
       "      <th>2</th>\n",
       "      <td>9</td>\n",
       "    </tr>\n",
       "    <tr>\n",
       "      <th>3</th>\n",
       "      <td>7</td>\n",
       "    </tr>\n",
       "    <tr>\n",
       "      <th>4</th>\n",
       "      <td>2</td>\n",
       "    </tr>\n",
       "    <tr>\n",
       "      <th>...</th>\n",
       "      <td>...</td>\n",
       "    </tr>\n",
       "    <tr>\n",
       "      <th>251</th>\n",
       "      <td>9</td>\n",
       "    </tr>\n",
       "    <tr>\n",
       "      <th>252</th>\n",
       "      <td>2</td>\n",
       "    </tr>\n",
       "    <tr>\n",
       "      <th>253</th>\n",
       "      <td>4</td>\n",
       "    </tr>\n",
       "    <tr>\n",
       "      <th>254</th>\n",
       "      <td>9</td>\n",
       "    </tr>\n",
       "    <tr>\n",
       "      <th>255</th>\n",
       "      <td>9</td>\n",
       "    </tr>\n",
       "  </tbody>\n",
       "</table>\n",
       "<p>256 rows × 1 columns</p>\n",
       "</div>"
      ],
      "text/plain": [
       "    pos_min\n",
       "0         2\n",
       "1         2\n",
       "2         9\n",
       "3         7\n",
       "4         2\n",
       "..      ...\n",
       "251       9\n",
       "252       2\n",
       "253       4\n",
       "254       9\n",
       "255       9\n",
       "\n",
       "[256 rows x 1 columns]"
      ]
     },
     "execution_count": 900,
     "metadata": {},
     "output_type": "execute_result"
    }
   ],
   "source": [
    "pos_min = df.idxmin(axis=1)\n",
    "pos_min = pd.DataFrame(pos_min, columns=['pos_min'])\n",
    "\n",
    "df_ = pd.concat([df, pos_min], axis=1)"
   ]
  },
  {
   "cell_type": "code",
   "execution_count": 572,
   "id": "9de22d6a",
   "metadata": {},
   "outputs": [],
   "source": [
    "#df_cratio_speed = data_entropy[['cratio', 'speed']]\n",
    "#df_cratio_speed"
   ]
  },
  {
   "cell_type": "code",
   "execution_count": 573,
   "id": "1dcd5c5b",
   "metadata": {},
   "outputs": [],
   "source": [
    "df_nofilter = pd.DataFrame()\n",
    "df_nofilter = pd.concat([df0, df1, df2, df3, df4], axis=1)\n",
    "df_shuffle = pd.DataFrame()\n",
    "df_shuffle = pd.concat([df5, df6, df7, df8, df9], axis=1)\n",
    "df_bitshuffle = pd.DataFrame()\n",
    "df_bitshuffle = pd.concat([df10, df11, df12, df13, df14], axis=1)"
   ]
  },
  {
   "cell_type": "markdown",
   "id": "134a6d28",
   "metadata": {},
   "source": [
    "INPUT: entropy cratio - entropy speed - millor combinació (entre las 15 categ.)"
   ]
  },
  {
   "cell_type": "markdown",
   "id": "d0127e42",
   "metadata": {},
   "source": [
    "Classificar per filtre del entropy"
   ]
  },
  {
   "cell_type": "code",
   "execution_count": 576,
   "id": "3aabe9a2",
   "metadata": {},
   "outputs": [],
   "source": [
    "df_input_nofilter = pd.concat([filtered_df_entropy_nofitler[['cratio', 'speed']], pos_min], axis=1)\n",
    "df_input_shuffle = pd.concat([filtered_df_entropy_shuffle[['cratio', 'speed']], pos_min], axis=1)\n",
    "df_input_bitshuffle = pd.concat([filtered_df_entropy_bitshuffle[['cratio', 'speed']], pos_min], axis=1)"
   ]
  },
  {
   "cell_type": "markdown",
   "id": "cea6f10a",
   "metadata": {},
   "source": [
    "INPUT QUE USO EN NN"
   ]
  },
  {
   "cell_type": "code",
   "execution_count": 754,
   "id": "7b37967a",
   "metadata": {},
   "outputs": [],
   "source": [
    "dfinput = df_input_shuffle\n",
    "\n",
    "dfinput_x = dfinput[['cratio', 'speed']]\n",
    "dfinput_y = dfinput[['pos_min']]\n",
    "\n",
    "from keras.utils import to_categorical\n",
    "dfinput_y = to_categorical(dfinput_y)"
   ]
  },
  {
   "cell_type": "markdown",
   "id": "835b4a23",
   "metadata": {},
   "source": [
    "Construir el modelo"
   ]
  },
  {
   "cell_type": "code",
   "execution_count": 698,
   "id": "d7b6b145",
   "metadata": {},
   "outputs": [],
   "source": [
    "from keras import models, layers\n",
    "\n",
    "model = models.Sequential()\n",
    "model.add(layers.Dense(2, activation='relu', input_shape=(1,2)))\n",
    "model.add(layers.Dense(20, activation='relu'))\n",
    "model.add(layers.Dense(18, activation='relu'))\n",
    "model.add(layers.Dense(16, activation='relu'))\n",
    "model.add(layers.Dense(15, activation='softmax'))"
   ]
  },
  {
   "cell_type": "markdown",
   "id": "10bfef2c",
   "metadata": {},
   "source": [
    "Compilar el modelo"
   ]
  },
  {
   "cell_type": "code",
   "execution_count": 699,
   "id": "0cc21ac5",
   "metadata": {},
   "outputs": [],
   "source": [
    "model.compile(optimizer='adam',\n",
    "              loss='categorical_crossentropy',\n",
    "              metrics=['acc'])"
   ]
  },
  {
   "cell_type": "code",
   "execution_count": 702,
   "id": "01973d7d",
   "metadata": {},
   "outputs": [
    {
     "name": "stdout",
     "output_type": "stream",
     "text": [
      "Epoch 1/40\n",
      "8/8 [==============================] - 0s 7ms/step - loss: 2.4774 - acc: 0.1478 - val_loss: 2.4796 - val_acc: 0.0385\n",
      "Epoch 2/40\n",
      "8/8 [==============================] - 0s 4ms/step - loss: 2.4679 - acc: 0.1478 - val_loss: 2.4700 - val_acc: 0.0385\n",
      "Epoch 3/40\n",
      "8/8 [==============================] - 0s 3ms/step - loss: 2.4586 - acc: 0.1478 - val_loss: 2.4605 - val_acc: 0.0385\n",
      "Epoch 4/40\n",
      "8/8 [==============================] - 0s 3ms/step - loss: 2.4495 - acc: 0.1478 - val_loss: 2.4511 - val_acc: 0.0385\n",
      "Epoch 5/40\n",
      "8/8 [==============================] - 0s 3ms/step - loss: 2.4404 - acc: 0.1478 - val_loss: 2.4419 - val_acc: 0.0385\n",
      "Epoch 6/40\n",
      "8/8 [==============================] - 0s 3ms/step - loss: 2.4315 - acc: 0.1478 - val_loss: 2.4328 - val_acc: 0.0385\n",
      "Epoch 7/40\n",
      "8/8 [==============================] - 0s 3ms/step - loss: 2.4227 - acc: 0.1478 - val_loss: 2.4238 - val_acc: 0.0385\n",
      "Epoch 8/40\n",
      "8/8 [==============================] - 0s 3ms/step - loss: 2.4139 - acc: 0.1478 - val_loss: 2.4149 - val_acc: 0.0385\n",
      "Epoch 9/40\n",
      "8/8 [==============================] - 0s 3ms/step - loss: 2.4053 - acc: 0.1478 - val_loss: 2.4061 - val_acc: 0.0385\n",
      "Epoch 10/40\n",
      "8/8 [==============================] - 0s 3ms/step - loss: 2.3966 - acc: 0.1478 - val_loss: 2.3974 - val_acc: 0.0385\n",
      "Epoch 11/40\n",
      "8/8 [==============================] - 0s 3ms/step - loss: 2.3881 - acc: 0.1478 - val_loss: 2.3886 - val_acc: 0.0385\n",
      "Epoch 12/40\n",
      "8/8 [==============================] - 0s 4ms/step - loss: 2.3797 - acc: 0.1478 - val_loss: 2.3800 - val_acc: 0.0385\n",
      "Epoch 13/40\n",
      "8/8 [==============================] - 0s 3ms/step - loss: 2.3713 - acc: 0.1478 - val_loss: 2.3714 - val_acc: 0.0385\n",
      "Epoch 14/40\n",
      "8/8 [==============================] - 0s 3ms/step - loss: 2.3630 - acc: 0.1478 - val_loss: 2.3627 - val_acc: 0.0385\n",
      "Epoch 15/40\n",
      "8/8 [==============================] - 0s 3ms/step - loss: 2.3546 - acc: 0.1478 - val_loss: 2.3540 - val_acc: 0.0385\n",
      "Epoch 16/40\n",
      "8/8 [==============================] - 0s 3ms/step - loss: 2.3464 - acc: 0.1478 - val_loss: 2.3454 - val_acc: 0.0385\n",
      "Epoch 17/40\n",
      "8/8 [==============================] - 0s 4ms/step - loss: 2.3383 - acc: 0.1478 - val_loss: 2.3367 - val_acc: 0.0385\n",
      "Epoch 18/40\n",
      "8/8 [==============================] - 0s 3ms/step - loss: 2.3301 - acc: 0.1478 - val_loss: 2.3282 - val_acc: 0.0385\n",
      "Epoch 19/40\n",
      "8/8 [==============================] - 0s 3ms/step - loss: 2.3222 - acc: 0.1478 - val_loss: 2.3199 - val_acc: 0.0385\n",
      "Epoch 20/40\n",
      "8/8 [==============================] - 0s 4ms/step - loss: 2.3142 - acc: 0.1478 - val_loss: 2.3116 - val_acc: 0.0385\n",
      "Epoch 21/40\n",
      "8/8 [==============================] - 0s 3ms/step - loss: 2.3063 - acc: 0.1478 - val_loss: 2.3033 - val_acc: 0.0385\n",
      "Epoch 22/40\n",
      "8/8 [==============================] - 0s 4ms/step - loss: 2.2984 - acc: 0.1478 - val_loss: 2.2953 - val_acc: 0.0385\n",
      "Epoch 23/40\n",
      "8/8 [==============================] - 0s 3ms/step - loss: 2.2908 - acc: 0.1478 - val_loss: 2.2870 - val_acc: 0.0385\n",
      "Epoch 24/40\n",
      "8/8 [==============================] - 0s 3ms/step - loss: 2.2831 - acc: 0.1478 - val_loss: 2.2791 - val_acc: 0.0385\n",
      "Epoch 25/40\n",
      "8/8 [==============================] - 0s 3ms/step - loss: 2.2754 - acc: 0.1478 - val_loss: 2.2712 - val_acc: 0.0385\n",
      "Epoch 26/40\n",
      "8/8 [==============================] - 0s 3ms/step - loss: 2.2678 - acc: 0.2174 - val_loss: 2.2633 - val_acc: 0.4231\n",
      "Epoch 27/40\n",
      "8/8 [==============================] - 0s 3ms/step - loss: 2.2604 - acc: 0.3652 - val_loss: 2.2553 - val_acc: 0.4231\n",
      "Epoch 28/40\n",
      "8/8 [==============================] - 0s 4ms/step - loss: 2.2529 - acc: 0.3652 - val_loss: 2.2473 - val_acc: 0.4231\n",
      "Epoch 29/40\n",
      "8/8 [==============================] - 0s 3ms/step - loss: 2.2454 - acc: 0.3652 - val_loss: 2.2393 - val_acc: 0.4231\n",
      "Epoch 30/40\n",
      "8/8 [==============================] - 0s 3ms/step - loss: 2.2380 - acc: 0.3652 - val_loss: 2.2317 - val_acc: 0.4231\n",
      "Epoch 31/40\n",
      "8/8 [==============================] - 0s 4ms/step - loss: 2.2306 - acc: 0.3652 - val_loss: 2.2239 - val_acc: 0.4231\n",
      "Epoch 32/40\n",
      "8/8 [==============================] - 0s 4ms/step - loss: 2.2233 - acc: 0.3652 - val_loss: 2.2162 - val_acc: 0.4231\n",
      "Epoch 33/40\n",
      "8/8 [==============================] - 0s 3ms/step - loss: 2.2160 - acc: 0.3652 - val_loss: 2.2087 - val_acc: 0.4231\n",
      "Epoch 34/40\n",
      "8/8 [==============================] - 0s 4ms/step - loss: 2.2089 - acc: 0.3652 - val_loss: 2.2012 - val_acc: 0.4231\n",
      "Epoch 35/40\n",
      "8/8 [==============================] - 0s 3ms/step - loss: 2.2019 - acc: 0.3652 - val_loss: 2.1939 - val_acc: 0.4231\n",
      "Epoch 36/40\n",
      "8/8 [==============================] - 0s 4ms/step - loss: 2.1949 - acc: 0.3652 - val_loss: 2.1868 - val_acc: 0.4231\n",
      "Epoch 37/40\n",
      "8/8 [==============================] - 0s 4ms/step - loss: 2.1880 - acc: 0.3652 - val_loss: 2.1794 - val_acc: 0.4231\n",
      "Epoch 38/40\n",
      "8/8 [==============================] - 0s 4ms/step - loss: 2.1811 - acc: 0.3652 - val_loss: 2.1724 - val_acc: 0.4231\n",
      "Epoch 39/40\n",
      "8/8 [==============================] - 0s 3ms/step - loss: 2.1744 - acc: 0.3652 - val_loss: 2.1652 - val_acc: 0.4231\n",
      "Epoch 40/40\n",
      "8/8 [==============================] - 0s 3ms/step - loss: 2.1675 - acc: 0.3652 - val_loss: 2.1579 - val_acc: 0.4231\n"
     ]
    }
   ],
   "source": [
    "history = model.fit(dfinput_x, dfinput_y, epochs=40, validation_split=0.1)"
   ]
  },
  {
   "cell_type": "code",
   "execution_count": 703,
   "id": "ccdca8b1",
   "metadata": {},
   "outputs": [
    {
     "data": {
      "image/png": "[encoded data removed]",
      "text/plain": [
       "<Figure size 1000x500 with 2 Axes>"
      ]
     },
     "metadata": {
      "needs_background": "light"
     },
     "output_type": "display_data"
    }
   ],
   "source": [
    "_, ax = plt.subplots(1, 2, figsize=(10, 5), dpi=100)\n",
    "ax[0].plot(history.history['acc'], 'r')\n",
    "ax[0].plot(history.history['val_acc'], 'g')\n",
    "ax[0].set_xlabel(\"Num of Epochs\")\n",
    "ax[0].set_ylabel(\"Accuracy\")\n",
    "ax[0].set_title(\"Training Accuracy vs Validation Accuracy\")\n",
    "ax[0].legend(['train', 'validation'])\n",
    "\n",
    "ax[1].plot(history.history['loss'], 'r')\n",
    "ax[1].plot(history.history['val_loss'], 'g')\n",
    "ax[1].set_xlabel(\"Num of Epochs\")\n",
    "ax[1].set_ylabel(\"Loss\")\n",
    "ax[1].set_title(\"Training Loss vs Validation Loss\")\n",
    "ax[1].legend(['train', 'validation'])\n",
    "\n",
    "plt.tight_layout()"
   ]
  },
  {
   "cell_type": "code",
   "execution_count": 727,
   "id": "83343557",
   "metadata": {},
   "outputs": [
    {
     "data": {
      "text/plain": [
       "<AxesSubplot:>"
      ]
     },
     "execution_count": 727,
     "metadata": {},
     "output_type": "execute_result"
    },
    {
     "data": {
      "image/png": "[encoded data removed]",
      "text/plain": [
       "<Figure size 432x288 with 1 Axes>"
      ]
     },
     "metadata": {
      "needs_background": "light"
     },
     "output_type": "display_data"
    }
   ],
   "source": [
    "history_df = pd.DataFrame(history.history)\n",
    "history_df.plot()"
   ]
  },
  {
   "cell_type": "markdown",
   "id": "d2da3357",
   "metadata": {},
   "source": [
    "Divido datos en 75% para entrenamiento y 25% para test"
   ]
  },
  {
   "cell_type": "code",
   "execution_count": 101,
   "id": "60c77ba6",
   "metadata": {},
   "outputs": [],
   "source": [
    "df_train = dfinput.sample(frac = 0.75) \n",
    "df_test = dfinput.drop(df_train.index)"
   ]
  },
  {
   "cell_type": "code",
   "execution_count": 102,
   "id": "b3ba4f60",
   "metadata": {},
   "outputs": [],
   "source": [
    "df_trainx = df_train[['cratio', 'speed']]\n",
    "df_trainy = df_train[['pos_min']]\n",
    "\n",
    "df_testx = df_test[['cratio', 'speed']]\n",
    "df_testy = df_test[['pos_min']]"
   ]
  },
  {
   "cell_type": "code",
   "execution_count": 103,
   "id": "6cce44c2",
   "metadata": {},
   "outputs": [
    {
     "data": {
      "text/plain": [
       "(192, 2)"
      ]
     },
     "execution_count": 103,
     "metadata": {},
     "output_type": "execute_result"
    }
   ],
   "source": [
    "df_trainx.shape"
   ]
  },
  {
   "cell_type": "code",
   "execution_count": 104,
   "id": "028f0774",
   "metadata": {},
   "outputs": [],
   "source": [
    "from keras.utils import to_categorical\n",
    "df_trainy = to_categorical(df_trainy)\n",
    "df_testy = to_categorical(df_testy)"
   ]
  },
  {
   "cell_type": "code",
   "execution_count": 105,
   "id": "9b94b8e3",
   "metadata": {},
   "outputs": [
    {
     "data": {
      "text/plain": [
       "(192, 25)"
      ]
     },
     "execution_count": 105,
     "metadata": {},
     "output_type": "execute_result"
    }
   ],
   "source": [
    "df_trainy.shape"
   ]
  },
  {
   "cell_type": "code",
   "execution_count": 106,
   "id": "893a4135",
   "metadata": {},
   "outputs": [
    {
     "data": {
      "text/plain": [
       "(64, 25)"
      ]
     },
     "execution_count": 106,
     "metadata": {},
     "output_type": "execute_result"
    }
   ],
   "source": [
    "df_testy.shape"
   ]
  },
  {
   "cell_type": "code",
   "execution_count": 107,
   "id": "11174169",
   "metadata": {},
   "outputs": [],
   "source": [
    "from keras import models, layers\n",
    "\n",
    "model2 = models.Sequential()\n",
    "model2.add(layers.Dense(2, activation='relu', input_shape=(1,2)))\n",
    "model.add(layers.Dense(20, activation='relu'))\n",
    "model.add(layers.Dense(18, activation='relu'))\n",
    "model.add(layers.Dense(16, activation='relu'))\n",
    "model2.add(layers.Dense(25, activation='softmax'))"
   ]
  },
  {
   "cell_type": "code",
   "execution_count": 108,
   "id": "21f07245",
   "metadata": {},
   "outputs": [],
   "source": [
    "model2.compile(optimizer='adam',\n",
    "              loss='categorical_crossentropy',  #poner función especial\n",
    "              metrics=['acc'])"
   ]
  },
  {
   "cell_type": "code",
   "execution_count": 111,
   "id": "22b9ab59",
   "metadata": {},
   "outputs": [
    {
     "name": "stdout",
     "output_type": "stream",
     "text": [
      "Epoch 1/50\n",
      "6/6 [==============================] - 0s 8ms/step - loss: 46690956.0000 - acc: 0.2917 - val_loss: 75199736.0000 - val_acc: 0.2656\n",
      "Epoch 2/50\n",
      "6/6 [==============================] - 0s 4ms/step - loss: 45376532.0000 - acc: 0.1198 - val_loss: 75006328.0000 - val_acc: 0.2344\n",
      "Epoch 3/50\n",
      "6/6 [==============================] - 0s 4ms/step - loss: 45072972.0000 - acc: 0.2708 - val_loss: 75417800.0000 - val_acc: 0.2656\n",
      "Epoch 4/50\n",
      "6/6 [==============================] - 0s 4ms/step - loss: 44353244.0000 - acc: 0.2083 - val_loss: 74978200.0000 - val_acc: 0.2656\n",
      "Epoch 5/50\n",
      "6/6 [==============================] - 0s 4ms/step - loss: 44019924.0000 - acc: 0.2656 - val_loss: 75347784.0000 - val_acc: 0.2656\n",
      "Epoch 6/50\n",
      "6/6 [==============================] - 0s 4ms/step - loss: 43919348.0000 - acc: 0.2708 - val_loss: 72663280.0000 - val_acc: 0.1562\n",
      "Epoch 7/50\n",
      "6/6 [==============================] - 0s 4ms/step - loss: 42942288.0000 - acc: 0.0781 - val_loss: 72011312.0000 - val_acc: 0.2344\n",
      "Epoch 8/50\n",
      "6/6 [==============================] - 0s 4ms/step - loss: 42321980.0000 - acc: 0.3854 - val_loss: 71769216.0000 - val_acc: 0.1094\n",
      "Epoch 9/50\n",
      "6/6 [==============================] - 0s 4ms/step - loss: 42388512.0000 - acc: 0.1354 - val_loss: 69160880.0000 - val_acc: 0.2344\n",
      "Epoch 10/50\n",
      "6/6 [==============================] - 0s 4ms/step - loss: 41387920.0000 - acc: 0.2604 - val_loss: 70819456.0000 - val_acc: 0.2656\n",
      "Epoch 11/50\n",
      "6/6 [==============================] - 0s 4ms/step - loss: 40716492.0000 - acc: 0.1771 - val_loss: 67788296.0000 - val_acc: 0.2656\n",
      "Epoch 12/50\n",
      "6/6 [==============================] - 0s 4ms/step - loss: 39182748.0000 - acc: 0.2448 - val_loss: 68027752.0000 - val_acc: 0.1094\n",
      "Epoch 13/50\n",
      "6/6 [==============================] - 0s 4ms/step - loss: 39626600.0000 - acc: 0.1771 - val_loss: 67908192.0000 - val_acc: 0.2656\n",
      "Epoch 14/50\n",
      "6/6 [==============================] - 0s 4ms/step - loss: 38423768.0000 - acc: 0.3594 - val_loss: 65213428.0000 - val_acc: 0.1094\n",
      "Epoch 15/50\n",
      "6/6 [==============================] - 0s 4ms/step - loss: 38388304.0000 - acc: 0.0885 - val_loss: 65005524.0000 - val_acc: 0.2656\n",
      "Epoch 16/50\n",
      "6/6 [==============================] - 0s 4ms/step - loss: 37719508.0000 - acc: 0.3698 - val_loss: 63156736.0000 - val_acc: 0.2344\n",
      "Epoch 17/50\n",
      "6/6 [==============================] - 0s 4ms/step - loss: 37694876.0000 - acc: 0.2083 - val_loss: 64288212.0000 - val_acc: 0.2656\n",
      "Epoch 18/50\n",
      "6/6 [==============================] - 0s 4ms/step - loss: 36428900.0000 - acc: 0.1458 - val_loss: 60371212.0000 - val_acc: 0.0938\n",
      "Epoch 19/50\n",
      "6/6 [==============================] - 0s 4ms/step - loss: 33895804.0000 - acc: 0.2344 - val_loss: 59118656.0000 - val_acc: 0.1094\n",
      "Epoch 20/50\n",
      "6/6 [==============================] - 0s 4ms/step - loss: 33845424.0000 - acc: 0.2604 - val_loss: 59210724.0000 - val_acc: 0.1562\n",
      "Epoch 21/50\n",
      "6/6 [==============================] - 0s 4ms/step - loss: 33516478.0000 - acc: 0.1719 - val_loss: 59962864.0000 - val_acc: 0.2656\n",
      "Epoch 22/50\n",
      "6/6 [==============================] - 0s 4ms/step - loss: 32907242.0000 - acc: 0.2448 - val_loss: 56821984.0000 - val_acc: 0.1562\n",
      "Epoch 23/50\n",
      "6/6 [==============================] - 0s 4ms/step - loss: 31431498.0000 - acc: 0.2812 - val_loss: 55780056.0000 - val_acc: 0.1094\n",
      "Epoch 24/50\n",
      "6/6 [==============================] - 0s 4ms/step - loss: 30956742.0000 - acc: 0.2031 - val_loss: 54523608.0000 - val_acc: 0.2656\n",
      "Epoch 25/50\n",
      "6/6 [==============================] - 0s 4ms/step - loss: 30826182.0000 - acc: 0.2083 - val_loss: 53362504.0000 - val_acc: 0.1562\n",
      "Epoch 26/50\n",
      "6/6 [==============================] - 0s 4ms/step - loss: 29317970.0000 - acc: 0.2865 - val_loss: 52737160.0000 - val_acc: 0.0781\n",
      "Epoch 27/50\n",
      "6/6 [==============================] - 0s 4ms/step - loss: 28910710.0000 - acc: 0.1927 - val_loss: 52530244.0000 - val_acc: 0.2656\n",
      "Epoch 28/50\n",
      "6/6 [==============================] - 0s 4ms/step - loss: 28245638.0000 - acc: 0.2969 - val_loss: 50222968.0000 - val_acc: 0.0781\n",
      "Epoch 29/50\n",
      "6/6 [==============================] - 0s 4ms/step - loss: 28316666.0000 - acc: 0.1302 - val_loss: 50260680.0000 - val_acc: 0.2656\n",
      "Epoch 30/50\n",
      "6/6 [==============================] - 0s 4ms/step - loss: 27414498.0000 - acc: 0.2865 - val_loss: 49925304.0000 - val_acc: 0.2656\n",
      "Epoch 31/50\n",
      "6/6 [==============================] - 0s 4ms/step - loss: 27143448.0000 - acc: 0.2396 - val_loss: 47914500.0000 - val_acc: 0.2344\n",
      "Epoch 32/50\n",
      "6/6 [==============================] - 0s 4ms/step - loss: 26390432.0000 - acc: 0.2083 - val_loss: 48097360.0000 - val_acc: 0.1094\n",
      "Epoch 33/50\n",
      "6/6 [==============================] - 0s 4ms/step - loss: 26146256.0000 - acc: 0.2083 - val_loss: 47298824.0000 - val_acc: 0.2656\n",
      "Epoch 34/50\n",
      "6/6 [==============================] - 0s 5ms/step - loss: 26008866.0000 - acc: 0.3229 - val_loss: 47238060.0000 - val_acc: 0.2656\n",
      "Epoch 35/50\n",
      "6/6 [==============================] - 0s 5ms/step - loss: 25316864.0000 - acc: 0.2396 - val_loss: 46063840.0000 - val_acc: 0.2656\n",
      "Epoch 36/50\n",
      "6/6 [==============================] - 0s 4ms/step - loss: 24879182.0000 - acc: 0.2188 - val_loss: 44878568.0000 - val_acc: 0.2656\n",
      "Epoch 37/50\n",
      "6/6 [==============================] - 0s 4ms/step - loss: 24674848.0000 - acc: 0.2500 - val_loss: 44177688.0000 - val_acc: 0.1562\n",
      "Epoch 38/50\n",
      "6/6 [==============================] - 0s 4ms/step - loss: 23932174.0000 - acc: 0.2448 - val_loss: 43697788.0000 - val_acc: 0.2656\n",
      "Epoch 39/50\n",
      "6/6 [==============================] - 0s 4ms/step - loss: 23832486.0000 - acc: 0.2292 - val_loss: 42863260.0000 - val_acc: 0.2344\n",
      "Epoch 40/50\n",
      "6/6 [==============================] - 0s 4ms/step - loss: 22981242.0000 - acc: 0.1875 - val_loss: 41827016.0000 - val_acc: 0.2344\n",
      "Epoch 41/50\n",
      "6/6 [==============================] - 0s 4ms/step - loss: 23479210.0000 - acc: 0.1771 - val_loss: 44701712.0000 - val_acc: 0.0781\n",
      "Epoch 42/50\n",
      "6/6 [==============================] - 0s 4ms/step - loss: 23790960.0000 - acc: 0.1510 - val_loss: 40834412.0000 - val_acc: 0.1562\n",
      "Epoch 43/50\n",
      "6/6 [==============================] - 0s 4ms/step - loss: 22366180.0000 - acc: 0.2500 - val_loss: 41211128.0000 - val_acc: 0.1562\n",
      "Epoch 44/50\n",
      "6/6 [==============================] - 0s 4ms/step - loss: 22459930.0000 - acc: 0.2448 - val_loss: 41077920.0000 - val_acc: 0.2344\n",
      "Epoch 45/50\n",
      "6/6 [==============================] - 0s 4ms/step - loss: 23042922.0000 - acc: 0.2656 - val_loss: 42131880.0000 - val_acc: 0.1562\n",
      "Epoch 46/50\n",
      "6/6 [==============================] - 0s 4ms/step - loss: 22203366.0000 - acc: 0.2448 - val_loss: 39788712.0000 - val_acc: 0.2344\n",
      "Epoch 47/50\n",
      "6/6 [==============================] - 0s 4ms/step - loss: 21019142.0000 - acc: 0.2083 - val_loss: 38639208.0000 - val_acc: 0.2656\n",
      "Epoch 48/50\n",
      "6/6 [==============================] - 0s 4ms/step - loss: 20354318.0000 - acc: 0.2656 - val_loss: 36691596.0000 - val_acc: 0.0781\n",
      "Epoch 49/50\n",
      "6/6 [==============================] - 0s 4ms/step - loss: 19013622.0000 - acc: 0.2917 - val_loss: 36848640.0000 - val_acc: 0.1562\n",
      "Epoch 50/50\n",
      "6/6 [==============================] - 0s 4ms/step - loss: 19780758.0000 - acc: 0.3021 - val_loss: 34705624.0000 - val_acc: 0.2344\n"
     ]
    }
   ],
   "source": [
    "history2 = model2.fit(df_trainx, df_trainy, validation_data=(df_testx, df_testy), epochs=50)"
   ]
  },
  {
   "cell_type": "code",
   "execution_count": 112,
   "id": "63b2e822",
   "metadata": {},
   "outputs": [
    {
     "data": {
      "text/plain": [
       "<AxesSubplot:>"
      ]
     },
     "execution_count": 112,
     "metadata": {},
     "output_type": "execute_result"
    },
    {
     "data": {
      "image/png": "[encoded data removed]",
      "text/plain": [
       "<Figure size 432x288 with 1 Axes>"
      ]
     },
     "metadata": {
      "needs_background": "light"
     },
     "output_type": "display_data"
    }
   ],
   "source": [
    "history_df = pd.DataFrame(history2.history)\n",
    "history_df.plot()"
   ]
  },
  {
   "cell_type": "code",
   "execution_count": 723,
   "id": "b699478e",
   "metadata": {},
   "outputs": [
    {
     "name": "stdout",
     "output_type": "stream",
     "text": [
      "Minimum Validation Loss: 14790549.0000\n"
     ]
    },
    {
     "data": {
      "image/png": "[encoded data removed]",
      "text/plain": [
       "<Figure size 432x288 with 1 Axes>"
      ]
     },
     "metadata": {
      "needs_background": "light"
     },
     "output_type": "display_data"
    }
   ],
   "source": [
    "history_df = pd.DataFrame(history2.history)\n",
    "history_df.loc[0:, ['loss', 'val_loss']].plot()\n",
    "print(\"Minimum Validation Loss: {:0.4f}\".format(history_df['val_loss'].min()));"
   ]
  },
  {
   "cell_type": "markdown",
   "id": "03378b31",
   "metadata": {},
   "source": [
    "ShuffleSplit"
   ]
  },
  {
   "cell_type": "code",
   "execution_count": 472,
   "id": "37285cad",
   "metadata": {},
   "outputs": [],
   "source": [
    "from sklearn.model_selection import ShuffleSplit"
   ]
  },
  {
   "cell_type": "code",
   "execution_count": 473,
   "id": "4b4f88b4",
   "metadata": {},
   "outputs": [],
   "source": [
    "ss = ShuffleSplit(n_splits=5, test_size=0.20, random_state=0)"
   ]
  },
  {
   "cell_type": "code",
   "execution_count": 476,
   "id": "fe3b1258",
   "metadata": {},
   "outputs": [
    {
     "ename": "TypeError",
     "evalue": "cannot concatenate object of type '<class 'numpy.ndarray'>'; only Series and DataFrame objs are valid",
     "output_type": "error",
     "traceback": [
      "\u001b[0;31m---------------------------------------------------------------------------\u001b[0m",
      "\u001b[0;31mTypeError\u001b[0m                                 Traceback (most recent call last)",
      "Input \u001b[0;32mIn [476]\u001b[0m, in \u001b[0;36m<cell line: 4>\u001b[0;34m()\u001b[0m\n\u001b[1;32m      2\u001b[0m data_test \u001b[38;5;241m=\u001b[39m pd\u001b[38;5;241m.\u001b[39mDataFrame()\n\u001b[1;32m      4\u001b[0m \u001b[38;5;28;01mfor\u001b[39;00m train_index, test_index \u001b[38;5;129;01min\u001b[39;00m ss\u001b[38;5;241m.\u001b[39msplit(dfinput):\n\u001b[1;32m      5\u001b[0m     \u001b[38;5;66;03m#m = train_index.shape\u001b[39;00m\n\u001b[1;32m      6\u001b[0m     \u001b[38;5;66;03m#n = type(train_index)\u001b[39;00m\n\u001b[0;32m----> 7\u001b[0m     data_train \u001b[38;5;241m=\u001b[39m \u001b[43mpd\u001b[49m\u001b[38;5;241;43m.\u001b[39;49m\u001b[43mconcat\u001b[49m\u001b[43m(\u001b[49m\u001b[43m[\u001b[49m\u001b[43mdata_train\u001b[49m\u001b[43m,\u001b[49m\u001b[43m \u001b[49m\u001b[43mtrain_index\u001b[49m\u001b[43m]\u001b[49m\u001b[43m,\u001b[49m\u001b[43m \u001b[49m\u001b[43maxis\u001b[49m\u001b[38;5;241;43m=\u001b[39;49m\u001b[38;5;241;43m1\u001b[39;49m\u001b[43m)\u001b[49m\n\u001b[1;32m      8\u001b[0m     data_test \u001b[38;5;241m=\u001b[39m pd\u001b[38;5;241m.\u001b[39mconcat([data_test, test_index], axis\u001b[38;5;241m=\u001b[39m\u001b[38;5;241m1\u001b[39m)\n",
      "File \u001b[0;32m~/miniconda3/lib/python3.9/site-packages/pandas/util/_decorators.py:311\u001b[0m, in \u001b[0;36mdeprecate_nonkeyword_arguments.<locals>.decorate.<locals>.wrapper\u001b[0;34m(*args, **kwargs)\u001b[0m\n\u001b[1;32m    305\u001b[0m \u001b[38;5;28;01mif\u001b[39;00m \u001b[38;5;28mlen\u001b[39m(args) \u001b[38;5;241m>\u001b[39m num_allow_args:\n\u001b[1;32m    306\u001b[0m     warnings\u001b[38;5;241m.\u001b[39mwarn(\n\u001b[1;32m    307\u001b[0m         msg\u001b[38;5;241m.\u001b[39mformat(arguments\u001b[38;5;241m=\u001b[39marguments),\n\u001b[1;32m    308\u001b[0m         \u001b[38;5;167;01mFutureWarning\u001b[39;00m,\n\u001b[1;32m    309\u001b[0m         stacklevel\u001b[38;5;241m=\u001b[39mstacklevel,\n\u001b[1;32m    310\u001b[0m     )\n\u001b[0;32m--> 311\u001b[0m \u001b[38;5;28;01mreturn\u001b[39;00m \u001b[43mfunc\u001b[49m\u001b[43m(\u001b[49m\u001b[38;5;241;43m*\u001b[39;49m\u001b[43margs\u001b[49m\u001b[43m,\u001b[49m\u001b[43m \u001b[49m\u001b[38;5;241;43m*\u001b[39;49m\u001b[38;5;241;43m*\u001b[39;49m\u001b[43mkwargs\u001b[49m\u001b[43m)\u001b[49m\n",
      "File \u001b[0;32m~/miniconda3/lib/python3.9/site-packages/pandas/core/reshape/concat.py:346\u001b[0m, in \u001b[0;36mconcat\u001b[0;34m(objs, axis, join, ignore_index, keys, levels, names, verify_integrity, sort, copy)\u001b[0m\n\u001b[1;32m    142\u001b[0m \u001b[38;5;129m@deprecate_nonkeyword_arguments\u001b[39m(version\u001b[38;5;241m=\u001b[39m\u001b[38;5;28;01mNone\u001b[39;00m, allowed_args\u001b[38;5;241m=\u001b[39m[\u001b[38;5;124m\"\u001b[39m\u001b[38;5;124mobjs\u001b[39m\u001b[38;5;124m\"\u001b[39m])\n\u001b[1;32m    143\u001b[0m \u001b[38;5;28;01mdef\u001b[39;00m \u001b[38;5;21mconcat\u001b[39m(\n\u001b[1;32m    144\u001b[0m     objs: Iterable[NDFrame] \u001b[38;5;241m|\u001b[39m Mapping[Hashable, NDFrame],\n\u001b[0;32m   (...)\u001b[0m\n\u001b[1;32m    153\u001b[0m     copy: \u001b[38;5;28mbool\u001b[39m \u001b[38;5;241m=\u001b[39m \u001b[38;5;28;01mTrue\u001b[39;00m,\n\u001b[1;32m    154\u001b[0m ) \u001b[38;5;241m-\u001b[39m\u001b[38;5;241m>\u001b[39m DataFrame \u001b[38;5;241m|\u001b[39m Series:\n\u001b[1;32m    155\u001b[0m     \u001b[38;5;124;03m\"\"\"\u001b[39;00m\n\u001b[1;32m    156\u001b[0m \u001b[38;5;124;03m    Concatenate pandas objects along a particular axis with optional set logic\u001b[39;00m\n\u001b[1;32m    157\u001b[0m \u001b[38;5;124;03m    along the other axes.\u001b[39;00m\n\u001b[0;32m   (...)\u001b[0m\n\u001b[1;32m    344\u001b[0m \u001b[38;5;124;03m    ValueError: Indexes have overlapping values: ['a']\u001b[39;00m\n\u001b[1;32m    345\u001b[0m \u001b[38;5;124;03m    \"\"\"\u001b[39;00m\n\u001b[0;32m--> 346\u001b[0m     op \u001b[38;5;241m=\u001b[39m \u001b[43m_Concatenator\u001b[49m\u001b[43m(\u001b[49m\n\u001b[1;32m    347\u001b[0m \u001b[43m        \u001b[49m\u001b[43mobjs\u001b[49m\u001b[43m,\u001b[49m\n\u001b[1;32m    348\u001b[0m \u001b[43m        \u001b[49m\u001b[43maxis\u001b[49m\u001b[38;5;241;43m=\u001b[39;49m\u001b[43maxis\u001b[49m\u001b[43m,\u001b[49m\n\u001b[1;32m    349\u001b[0m \u001b[43m        \u001b[49m\u001b[43mignore_index\u001b[49m\u001b[38;5;241;43m=\u001b[39;49m\u001b[43mignore_index\u001b[49m\u001b[43m,\u001b[49m\n\u001b[1;32m    350\u001b[0m \u001b[43m        \u001b[49m\u001b[43mjoin\u001b[49m\u001b[38;5;241;43m=\u001b[39;49m\u001b[43mjoin\u001b[49m\u001b[43m,\u001b[49m\n\u001b[1;32m    351\u001b[0m \u001b[43m        \u001b[49m\u001b[43mkeys\u001b[49m\u001b[38;5;241;43m=\u001b[39;49m\u001b[43mkeys\u001b[49m\u001b[43m,\u001b[49m\n\u001b[1;32m    352\u001b[0m \u001b[43m        \u001b[49m\u001b[43mlevels\u001b[49m\u001b[38;5;241;43m=\u001b[39;49m\u001b[43mlevels\u001b[49m\u001b[43m,\u001b[49m\n\u001b[1;32m    353\u001b[0m \u001b[43m        \u001b[49m\u001b[43mnames\u001b[49m\u001b[38;5;241;43m=\u001b[39;49m\u001b[43mnames\u001b[49m\u001b[43m,\u001b[49m\n\u001b[1;32m    354\u001b[0m \u001b[43m        \u001b[49m\u001b[43mverify_integrity\u001b[49m\u001b[38;5;241;43m=\u001b[39;49m\u001b[43mverify_integrity\u001b[49m\u001b[43m,\u001b[49m\n\u001b[1;32m    355\u001b[0m \u001b[43m        \u001b[49m\u001b[43mcopy\u001b[49m\u001b[38;5;241;43m=\u001b[39;49m\u001b[43mcopy\u001b[49m\u001b[43m,\u001b[49m\n\u001b[1;32m    356\u001b[0m \u001b[43m        \u001b[49m\u001b[43msort\u001b[49m\u001b[38;5;241;43m=\u001b[39;49m\u001b[43msort\u001b[49m\u001b[43m,\u001b[49m\n\u001b[1;32m    357\u001b[0m \u001b[43m    \u001b[49m\u001b[43m)\u001b[49m\n\u001b[1;32m    359\u001b[0m     \u001b[38;5;28;01mreturn\u001b[39;00m op\u001b[38;5;241m.\u001b[39mget_result()\n",
      "File \u001b[0;32m~/miniconda3/lib/python3.9/site-packages/pandas/core/reshape/concat.py:436\u001b[0m, in \u001b[0;36m_Concatenator.__init__\u001b[0;34m(self, objs, axis, join, keys, levels, names, ignore_index, verify_integrity, copy, sort)\u001b[0m\n\u001b[1;32m    431\u001b[0m     \u001b[38;5;28;01mif\u001b[39;00m \u001b[38;5;129;01mnot\u001b[39;00m \u001b[38;5;28misinstance\u001b[39m(obj, (ABCSeries, ABCDataFrame)):\n\u001b[1;32m    432\u001b[0m         msg \u001b[38;5;241m=\u001b[39m (\n\u001b[1;32m    433\u001b[0m             \u001b[38;5;124mf\u001b[39m\u001b[38;5;124m\"\u001b[39m\u001b[38;5;124mcannot concatenate object of type \u001b[39m\u001b[38;5;124m'\u001b[39m\u001b[38;5;132;01m{\u001b[39;00m\u001b[38;5;28mtype\u001b[39m(obj)\u001b[38;5;132;01m}\u001b[39;00m\u001b[38;5;124m'\u001b[39m\u001b[38;5;124m; \u001b[39m\u001b[38;5;124m\"\u001b[39m\n\u001b[1;32m    434\u001b[0m             \u001b[38;5;124m\"\u001b[39m\u001b[38;5;124monly Series and DataFrame objs are valid\u001b[39m\u001b[38;5;124m\"\u001b[39m\n\u001b[1;32m    435\u001b[0m         )\n\u001b[0;32m--> 436\u001b[0m         \u001b[38;5;28;01mraise\u001b[39;00m \u001b[38;5;167;01mTypeError\u001b[39;00m(msg)\n\u001b[1;32m    438\u001b[0m     ndims\u001b[38;5;241m.\u001b[39madd(obj\u001b[38;5;241m.\u001b[39mndim)\n\u001b[1;32m    440\u001b[0m \u001b[38;5;66;03m# get the sample\u001b[39;00m\n\u001b[1;32m    441\u001b[0m \u001b[38;5;66;03m# want the highest ndim that we have, and must be non-empty\u001b[39;00m\n\u001b[1;32m    442\u001b[0m \u001b[38;5;66;03m# unless all objs are empty\u001b[39;00m\n",
      "\u001b[0;31mTypeError\u001b[0m: cannot concatenate object of type '<class 'numpy.ndarray'>'; only Series and DataFrame objs are valid"
     ]
    }
   ],
   "source": [
    "data_train = pd.DataFrame()\n",
    "data_test = pd.DataFrame()\n",
    "\n",
    "for train_index, test_index in ss.split(dfinput):\n",
    "    #m = train_index.shape\n",
    "    #n = type(train_index)\n",
    "    data_train = pd.concat([data_train, train_index], axis=1)\n",
    "    data_test = pd.concat([data_test, test_index], axis=1)"
   ]
  },
  {
   "cell_type": "code",
   "execution_count": 749,
   "id": "3d1f62ca",
   "metadata": {},
   "outputs": [
    {
     "data": {
      "text/plain": [
       "(204,)"
      ]
     },
     "execution_count": 749,
     "metadata": {},
     "output_type": "execute_result"
    }
   ],
   "source": [
    "m"
   ]
  },
  {
   "cell_type": "code",
   "execution_count": 750,
   "id": "ae397de1",
   "metadata": {},
   "outputs": [
    {
     "data": {
      "text/plain": [
       "numpy.ndarray"
      ]
     },
     "execution_count": 750,
     "metadata": {},
     "output_type": "execute_result"
    }
   ],
   "source": [
    "n"
   ]
  },
  {
   "cell_type": "code",
   "execution_count": 478,
   "id": "1e839a95",
   "metadata": {},
   "outputs": [],
   "source": [
    "import numpy as np\n",
    "from sklearn.model_selection import ShuffleSplit"
   ]
  },
  {
   "cell_type": "code",
   "execution_count": 491,
   "id": "8c466cdc",
   "metadata": {},
   "outputs": [
    {
     "data": {
      "text/plain": [
       "numpy.ndarray"
      ]
     },
     "execution_count": 491,
     "metadata": {},
     "output_type": "execute_result"
    }
   ],
   "source": [
    "X = np.array([[1, 2], [3, 4], [5, 6], [7, 8], [3, 4], [5, 6]])\n",
    "y = np.array([1, 2, 1, 2, 1, 2])\n",
    "X.shape\n",
    "type(X)"
   ]
  },
  {
   "cell_type": "code",
   "execution_count": 493,
   "id": "2e2a3d74",
   "metadata": {},
   "outputs": [
    {
     "data": {
      "text/plain": [
       "array([[1, 2],\n",
       "       [3, 4],\n",
       "       [5, 6],\n",
       "       [7, 8],\n",
       "       [3, 4],\n",
       "       [5, 6]])"
      ]
     },
     "execution_count": 493,
     "metadata": {},
     "output_type": "execute_result"
    }
   ],
   "source": [
    "X"
   ]
  },
  {
   "cell_type": "code",
   "execution_count": 494,
   "id": "ef188c4f",
   "metadata": {},
   "outputs": [
    {
     "data": {
      "text/plain": [
       "array([1, 2, 1, 2, 1, 2])"
      ]
     },
     "execution_count": 494,
     "metadata": {},
     "output_type": "execute_result"
    }
   ],
   "source": [
    "y"
   ]
  },
  {
   "cell_type": "code",
   "execution_count": 486,
   "id": "f68e3acd",
   "metadata": {},
   "outputs": [
    {
     "name": "stdout",
     "output_type": "stream",
     "text": [
      "TRAIN: [1 3 0] TEST: [5 2]\n",
      "TRAIN: [4 0 2] TEST: [1 3]\n",
      "TRAIN: [1 2 4] TEST: [3 5]\n",
      "TRAIN: [3 4 1] TEST: [5 2]\n",
      "TRAIN: [3 5 1] TEST: [2 4]\n"
     ]
    }
   ],
   "source": [
    "cv = ShuffleSplit(n_splits=5, train_size=0.5, test_size=.25, random_state=0)\n",
    "\n",
    "for train_index, test_index in cv.split(X):\n",
    "    print(\"TRAIN:\", train_index, \"TEST:\", test_index)"
   ]
  },
  {
   "cell_type": "code",
   "execution_count": 488,
   "id": "f85b027d",
   "metadata": {},
   "outputs": [],
   "source": [
    "df_trainx = df_trainx.to_numpy()"
   ]
  },
  {
   "cell_type": "code",
   "execution_count": 489,
   "id": "ab16c19e",
   "metadata": {},
   "outputs": [
    {
     "data": {
      "text/plain": [
       "(192, 2)"
      ]
     },
     "execution_count": 489,
     "metadata": {},
     "output_type": "execute_result"
    }
   ],
   "source": [
    "df_trainx.shape"
   ]
  },
  {
   "cell_type": "code",
   "execution_count": 490,
   "id": "f4f856ed",
   "metadata": {},
   "outputs": [
    {
     "data": {
      "text/plain": [
       "numpy.ndarray"
      ]
     },
     "execution_count": 490,
     "metadata": {},
     "output_type": "execute_result"
    }
   ],
   "source": [
    "type(df_trainx)"
   ]
  },
  {
   "cell_type": "code",
   "execution_count": 492,
   "id": "5b7ba116",
   "metadata": {},
   "outputs": [
    {
     "name": "stdout",
     "output_type": "stream",
     "text": [
      "TRAIN: [112  61 177 123  19 146  83  54 156  16  51  86 143  40 176  22 131 130\n",
      " 137  80 108  14  27  92 109  46 188  98  62   2  59 106 107  43  10  93\n",
      "  73 185 171 124 189 134 154 184  50   0  94 153  95  64 135  41  69  49\n",
      "  48  85  13 144  23 179 129  20  15  78 104  52 100  76   3 116 190 125\n",
      "   6  68  75  84 141 121  12 168 164 149  91 173  11 119 102  35  57  65\n",
      "   1 120 155  42 105 132] TEST: [110  74 163  97 126  71  18 157 145   7   5 139 158 170 160 167  37  66\n",
      " 138 122  56 187 136 182 191 152  63  60 161  33   4  55  96  44  45  26\n",
      " 178 180 113   8 101  89  90 118 175 111  24  30]\n",
      "TRAIN: [ 15 170 109   5  90  77   7  74 140  62   4 100  20 146 105  14  42 106\n",
      " 130  82  64  55  86  13 176  72  19 181  56   8 169 163 117 186 159  16\n",
      "  63 142  58  81  28 110  89 162  21 158 189 161  49  83 182  92 134  71\n",
      "  70 119 127  22  75 157 164 150 144  66 168  12 101  69 173  84 191  17\n",
      "  18 145 113 167  30 114 135 124 103 166  25 143 116  91 120 177 112 190\n",
      " 136  80 126 147   0  36] TEST: [ 47  79 132  78  45 121  37 174  57  94 153 139  50  87  98  60  96  54\n",
      " 115  65  52 122 154 155 128 175  68 123  40 149  99  95   6   1  23  38\n",
      " 179 141  59  76 152  10  26 160 107 102 180  48]\n",
      "TRAIN: [116 167  15  12  22 181 103 147 176  34  23 123 135  13 143 184 107  62\n",
      " 132 185  75 156  66  35  17  77 186  45  50  57  59  44  70  32  78 122\n",
      " 180 140  38 118 139  46 149   8  21 170 177 173 182 106   5   0  95 191\n",
      "  71 110 102 108 146  85  67 136  84  72  94 168 125 130 171  73  51 109\n",
      " 163  96  26 154  28  33  60  40 121 160  69  99 175 187  39 165 141 129\n",
      "  58 131  74 113  18  76] TEST: [189  79 133 190  37  48  41 172 145  25  19  92 158 166 178 174  82  80\n",
      "  90 183  31 152  27  81  64  52  98  14 162   2  55   1 124 134 142 157\n",
      "  47   6 159  93  61  11  10  88 127  16  89 169]\n",
      "TRAIN: [ 63  43 164  38  53 174 162  19  60 150 170  27   6 175  98   0  54 154\n",
      "  44 116 104  75 151  24 147 128 155  93  96  50 181  33 130  39 177 183\n",
      "  10  68   2   9 182 108 121 169  26 185  42  80  20  65  84 158 112  29\n",
      " 120 172  71  49  51 146 111  37 117  48   3   7   4  18 176  76  64 110\n",
      " 105  52 107 114 145 168 124  87 184  34  32 191 137 118  12 190 163  46\n",
      " 135  97  58  69 187  94] TEST: [113 141  61 160 166 173 178  40  13  85 157  22  30  16  99  14 126 188\n",
      " 152  95 103 122   8  59  91 106 189  55 179  31 167  67  11 142  56 156\n",
      "   1   5 143  23 180  15  83  79  86  41 139  36]\n",
      "TRAIN: [ 58  50  38 108  10 115   2  21 142  18 174 185 129 136  82 152  76 167\n",
      "  33 121 134 104 106 123  43  17  94   6  26  63  97 163  72 191  65  87\n",
      "  39  16 122 125 124 187  51 188 166 105  41 181  60  86 159 162  20   4\n",
      " 177 176 139  40 102 137 171  29   1 100  69 128 186   8 107  19 101  13\n",
      "  53  68 190 164 189 109 151  35  81  54  34 178  30  78  11 114  47 165\n",
      "  98  22   7 110  91  23] TEST: [ 12 126  85 155  25  57 146 120 168 148  88 160  14  42 169  46  66  28\n",
      "  44  27  52 156  55 130  89  75 180  73 175  31 183 119   3  70 170 103\n",
      "  99 118 149 111  15  24 172  49  45 161  77 141]\n"
     ]
    }
   ],
   "source": [
    "cv = ShuffleSplit(n_splits=5, train_size=0.5, test_size=.25, random_state=0)\n",
    "\n",
    "for train_index, test_index in cv.split(df_trainx):\n",
    "    print(\"TRAIN:\", train_index, \"TEST:\", test_index)"
   ]
  },
  {
   "cell_type": "code",
   "execution_count": null,
   "id": "b80ff21f",
   "metadata": {},
   "outputs": [],
   "source": []
  }
 ],
 "metadata": {
  "kernelspec": {
   "display_name": "Python 3 (ipykernel)",
   "language": "python",
   "name": "python3"
  },
  "language_info": {
   "codemirror_mode": {
    "name": "ipython",
    "version": 3
   },
   "file_extension": ".py",
   "mimetype": "text/x-python",
   "name": "python",
   "nbconvert_exporter": "python",
   "pygments_lexer": "ipython3",
   "version": "3.9.7"
  }
 },
 "nbformat": 4,
 "nbformat_minor": 5
}
