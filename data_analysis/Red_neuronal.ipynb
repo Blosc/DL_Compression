{
 "cells": [
  {
   "cell_type": "code",
   "execution_count": 362,
   "id": "b807026c",
   "metadata": {},
   "outputs": [],
   "source": [
    "import pandas as pd\n",
    "import matplotlib.pyplot as plt\n",
    "import plotly.graph_objects as go\n",
    "import plotly.express as px\n",
    "import numpy as np"
   ]
  },
  {
   "cell_type": "markdown",
   "id": "efe34fa0",
   "metadata": {},
   "source": [
    "Archivos entropy (siempre split)"
   ]
  },
  {
   "cell_type": "code",
   "execution_count": 363,
   "id": "28dfedb7",
   "metadata": {},
   "outputs": [],
   "source": [
    "from pathlib import Path\n",
    "path = Path('../data_inputs')"
   ]
  },
  {
   "cell_type": "code",
   "execution_count": null,
   "id": "16a5e681",
   "metadata": {},
   "outputs": [],
   "source": [
    "ficheros = ['entropy-nofilter', 'entropy-shuffle', 'entropy-bitshuffle', \n",
    "                'blosclz-nofilter-split', 'blosclz-shuffle-split', 'blosclz-bitshuffle-split', \n",
    "                'lz4-nofilter-split', 'lz4-shuffle-split', 'lz4-bitshuffle-split', \n",
    "                'lz4hc-nofilter-split', 'lz4hc-bitshuffle-spli', 'lz4hc-shuffle-split', \n",
    "                'zlib-nofilter-split', 'zlib-shuffle-split', 'zlib-bitshuffle-split', \n",
    "                'zstd-nofilter-split', 'zstd-shuffle-split', 'zstd-bitshuffle-split']\n",
    "\n",
    "dataframes = ['df_entropy_nofilters']\n",
    "\n",
    "for i in range(0, 1):\n",
    "    dataframes[i] = pd.read_csv(path/'entropy-nofilter.csv.gz', delimiter=',')\n",
    "\n",
    "#dataframes[i]\n",
    "df_entropy_nofilters"
   ]
  },
  {
   "cell_type": "code",
   "execution_count": 364,
   "id": "8b92f6b9",
   "metadata": {},
   "outputs": [],
   "source": [
    "df_entropy_nofilter = pd.read_csv(path/'entropy-nofilter.csv.gz', delimiter=',')\n",
    "codec_filter = np.repeat('entropy-nofilter', 55296)\n",
    "df_entropy_nofilter['codec_filter'] = codec_filter\n",
    "\n",
    "\n",
    "df_entropy_nofilter.rename(columns = {'cratio':'cratio', ' speed':'speed', ' special_vals':'special_vals', ' nchunk':'nchunk', ' category':'category'}, inplace = True)\n",
    "value_nchunk = [0,0]\n",
    "filtered_df_entropy_nofitler = df_entropy_nofilter[df_entropy_nofilter.nchunk.isin(value_nchunk)]"
   ]
  },
  {
   "cell_type": "code",
   "execution_count": 365,
   "id": "c3a18873",
   "metadata": {},
   "outputs": [],
   "source": [
    "df_entropy_shuffle = pd.read_csv(path/'entropy-shuffle.csv.gz', delimiter=',')\n",
    "codec_filter = np.repeat('entropy-shuffle', 55296)\n",
    "df_entropy_shuffle['codec_filter'] = codec_filter\n",
    "\n",
    "\n",
    "df_entropy_shuffle.rename(columns = {'cratio':'cratio', ' speed':'speed', ' special_vals':'special_vals', ' nchunk':'nchunk', ' category':'category'}, inplace = True)\n",
    "value_nchunk = [0,0]\n",
    "filtered_df_entropy_shuffle = df_entropy_shuffle[df_entropy_shuffle.nchunk.isin(value_nchunk)]"
   ]
  },
  {
   "cell_type": "code",
   "execution_count": 366,
   "id": "b807a9ac",
   "metadata": {},
   "outputs": [],
   "source": [
    "df_entropy_bitshuffle = pd.read_csv(path/'entropy-bitshuffle.csv.gz', delimiter=',')\n",
    "codec_filter = np.repeat('entropy-bitshuffle', 55296)\n",
    "df_entropy_bitshuffle['codec_filter'] = codec_filter\n",
    "\n",
    "df_entropy_bitshuffle.rename(columns = {'cratio':'cratio', ' speed':'speed', ' special_vals':'special_vals', ' nchunk':'nchunk', ' category':'category'}, inplace = True)\n",
    "value_nchunk = [0,0]\n",
    "filtered_df_entropy_bitshuffle = df_entropy_bitshuffle[df_entropy_bitshuffle.nchunk.isin(value_nchunk)]"
   ]
  },
  {
   "cell_type": "markdown",
   "id": "3818a427",
   "metadata": {},
   "source": [
    "Archivos códecs-split"
   ]
  },
  {
   "cell_type": "code",
   "execution_count": 367,
   "id": "5756e3b4",
   "metadata": {},
   "outputs": [],
   "source": [
    "df_blosclz_nofilter_split = pd.read_csv(path/'blosclz-nofilter-split.csv.gz', delimiter=',')\n",
    "codec_filter = np.repeat('blosclz-nofilter-split', 55296)\n",
    "df_blosclz_nofilter_split['codec_filter'] = codec_filter\n",
    "\n",
    "df_blosclz_nofilter_split.rename(columns = {'cratio':'cratio', ' speed':'speed', ' special_vals':'special_vals', ' nchunk':'nchunk', ' category':'category'}, inplace = True)\n",
    "value_nchunk = [0,0]\n",
    "filtered_df_blosclz_nofilter_split = df_blosclz_nofilter_split[df_blosclz_nofilter_split.nchunk.isin(value_nchunk)]"
   ]
  },
  {
   "cell_type": "code",
   "execution_count": 368,
   "id": "c6221909",
   "metadata": {},
   "outputs": [],
   "source": [
    "df_blosclz_shuffle_split = pd.read_csv(path/'blosclz-shuffle-split.csv.gz', delimiter=',')\n",
    "codec_filter = np.repeat('blosclz-shuffle-split', 55296)\n",
    "df_blosclz_shuffle_split['codec_filter'] = codec_filter\n",
    "\n",
    "df_blosclz_shuffle_split.rename(columns = {'cratio':'cratio', ' speed':'speed', ' special_vals':'special_vals', ' nchunk':'nchunk', ' category':'category'}, inplace = True)\n",
    "value_nchunk = [0,0]\n",
    "filtered_df_blosclz_shuffle_split = df_blosclz_shuffle_split[df_blosclz_shuffle_split.nchunk.isin(value_nchunk)]"
   ]
  },
  {
   "cell_type": "code",
   "execution_count": 369,
   "id": "b0ffaa42",
   "metadata": {},
   "outputs": [],
   "source": [
    "df_blosclz_bitshuffle_split = pd.read_csv(path/'blosclz-bitshuffle-split.csv.gz', delimiter=',')\n",
    "codec_filter = np.repeat('blosclz-bitshuffle-split', 55296)\n",
    "df_blosclz_bitshuffle_split['codec_filter'] = codec_filter\n",
    "\n",
    "df_blosclz_bitshuffle_split.rename(columns = {'cratio':'cratio', ' speed':'speed', ' special_vals':'special_vals', ' nchunk':'nchunk', ' category':'category'}, inplace = True)\n",
    "value_nchunk = [0,0]\n",
    "filtered_df_blosclz_bitshuffle_split = df_blosclz_bitshuffle_split[df_blosclz_bitshuffle_split.nchunk.isin(value_nchunk)]"
   ]
  },
  {
   "cell_type": "code",
   "execution_count": 370,
   "id": "00cc2a26",
   "metadata": {},
   "outputs": [],
   "source": [
    "df_lz4_nofilter_split = pd.read_csv(path/'lz4-nofilter-split.csv.gz', delimiter=',')\n",
    "codec_filter = np.repeat('lz4-nofilter-split', 55296)\n",
    "df_lz4_nofilter_split['codec_filter'] = codec_filter\n",
    "\n",
    "df_lz4_nofilter_split.rename(columns = {'cratio':'cratio', ' speed':'speed', ' special_vals':'special_vals', ' nchunk':'nchunk', ' category':'category'}, inplace = True)\n",
    "value_nchunk = [0,0]\n",
    "filtered_df_lz4_nofilter_split = df_lz4_nofilter_split[df_lz4_nofilter_split.nchunk.isin(value_nchunk)]"
   ]
  },
  {
   "cell_type": "code",
   "execution_count": 371,
   "id": "b7c2ecfe",
   "metadata": {},
   "outputs": [],
   "source": [
    "df_lz4_shuffle_split = pd.read_csv(path/'lz4-shuffle-split.csv.gz', delimiter=',')\n",
    "codec_filter = np.repeat('lz4-shuffle-split', 55296)\n",
    "df_lz4_shuffle_split['codec_filter'] = codec_filter\n",
    "\n",
    "df_lz4_shuffle_split.rename(columns = {'cratio':'cratio', ' speed':'speed', ' special_vals':'special_vals', ' nchunk':'nchunk', ' category':'category'}, inplace = True)\n",
    "value_nchunk = [0,0]\n",
    "filtered_df_lz4_shuffle_split = df_lz4_shuffle_split[df_lz4_shuffle_split.nchunk.isin(value_nchunk)]"
   ]
  },
  {
   "cell_type": "code",
   "execution_count": 372,
   "id": "8c5dff87",
   "metadata": {},
   "outputs": [],
   "source": [
    "df_lz4_bitshuffle_split = pd.read_csv(path/'lz4-bitshuffle-split.csv.gz', delimiter=',')\n",
    "codec_filter = np.repeat('lz4-bitshuffle-split', 55296)\n",
    "df_lz4_bitshuffle_split['codec_filter'] = codec_filter\n",
    "\n",
    "df_lz4_bitshuffle_split.rename(columns = {'cratio':'cratio', ' speed':'speed', ' special_vals':'special_vals', ' nchunk':'nchunk', ' category':'category'}, inplace = True)\n",
    "value_nchunk = [0,0]\n",
    "filtered_df_lz4_bitshuffle_split = df_lz4_bitshuffle_split[df_lz4_bitshuffle_split.nchunk.isin(value_nchunk)]"
   ]
  },
  {
   "cell_type": "code",
   "execution_count": 373,
   "id": "c20e6a6b",
   "metadata": {},
   "outputs": [],
   "source": [
    "df_lz4hc_nofilter_split = pd.read_csv(path/'lz4hc-nofilter-split.csv.gz', delimiter=',')\n",
    "codec_filter = np.repeat('lz4hc-nofilter-split', 55296)\n",
    "df_lz4hc_nofilter_split['codec_filter'] = codec_filter\n",
    "\n",
    "df_lz4hc_nofilter_split.rename(columns = {'cratio':'cratio', ' speed':'speed', ' special_vals':'special_vals', ' nchunk':'nchunk', ' category':'category'}, inplace = True)\n",
    "value_nchunk = [0,0]\n",
    "filtered_df_lz4hc_nofilter_split = df_lz4hc_nofilter_split[df_lz4hc_nofilter_split.nchunk.isin(value_nchunk)]"
   ]
  },
  {
   "cell_type": "code",
   "execution_count": 374,
   "id": "a5344a24",
   "metadata": {},
   "outputs": [],
   "source": [
    "df_lz4hc_bitshuffle_split = pd.read_csv(path/'lz4hc-bitshuffle-split.csv.gz', delimiter=',')\n",
    "codec_filter = np.repeat('lz4hc-bitshuffle-split', 55296)\n",
    "df_lz4hc_bitshuffle_split['codec_filter'] = codec_filter\n",
    "\n",
    "df_lz4hc_bitshuffle_split.rename(columns = {'cratio':'cratio', ' speed':'speed', ' special_vals':'special_vals', ' nchunk':'nchunk', ' category':'category'}, inplace = True)\n",
    "value_nchunk = [0,0]\n",
    "filtered_df_lz4hc_bitshuffle_split = df_lz4hc_bitshuffle_split[df_lz4hc_bitshuffle_split.nchunk.isin(value_nchunk)]"
   ]
  },
  {
   "cell_type": "code",
   "execution_count": 375,
   "id": "030bbfd9",
   "metadata": {},
   "outputs": [],
   "source": [
    "df_lz4hc_shuffle_split = pd.read_csv(path/'lz4hc-shuffle-split.csv.gz', delimiter=',')\n",
    "codec_filter = np.repeat('lz4hc-shuffle-split', 55296)\n",
    "df_lz4hc_shuffle_split['codec_filter'] = codec_filter\n",
    "\n",
    "df_lz4hc_shuffle_split.rename(columns = {'cratio':'cratio', ' speed':'speed', ' special_vals':'special_vals', ' nchunk':'nchunk', ' category':'category'}, inplace = True)\n",
    "value_nchunk = [0,0]\n",
    "filtered_df_lz4hc_shuffle_split = df_lz4hc_shuffle_split[df_lz4hc_shuffle_split.nchunk.isin(value_nchunk)]"
   ]
  },
  {
   "cell_type": "code",
   "execution_count": 376,
   "id": "12ef92be",
   "metadata": {},
   "outputs": [],
   "source": [
    "df_zlib_nofilter_split = pd.read_csv(path/'zlib-nofilter-split.csv.gz', delimiter=',')\n",
    "codec_filter = np.repeat('zlib-nofilter-split', 55296)\n",
    "df_zlib_nofilter_split['codec_filter'] = codec_filter\n",
    "\n",
    "df_zlib_nofilter_split.rename(columns = {'cratio':'cratio', ' speed':'speed', ' special_vals':'special_vals', ' nchunk':'nchunk', ' category':'category'}, inplace = True)\n",
    "value_nchunk = [0,0]\n",
    "filtered_df_zlib_nofilter_split = df_zlib_nofilter_split[df_zlib_nofilter_split.nchunk.isin(value_nchunk)]"
   ]
  },
  {
   "cell_type": "code",
   "execution_count": 377,
   "id": "46e7bf46",
   "metadata": {},
   "outputs": [],
   "source": [
    "df_zlib_shuffle_split = pd.read_csv(path/'zlib-shuffle-split.csv.gz', delimiter=',')\n",
    "codec_filter = np.repeat('zlib-shuffle-split', 55296)\n",
    "df_zlib_shuffle_split['codec_filter'] = codec_filter\n",
    "\n",
    "df_zlib_shuffle_split.rename(columns = {'cratio':'cratio', ' speed':'speed', ' special_vals':'special_vals', ' nchunk':'nchunk', ' category':'category'}, inplace = True)\n",
    "value_nchunk = [0,0]\n",
    "filtered_df_zlib_shuffle_split = df_zlib_shuffle_split[df_zlib_shuffle_split.nchunk.isin(value_nchunk)]"
   ]
  },
  {
   "cell_type": "code",
   "execution_count": 378,
   "id": "72cec673",
   "metadata": {},
   "outputs": [],
   "source": [
    "df_zlib_bitshuffle_split = pd.read_csv(path/'zlib-bitshuffle-split.csv.gz', delimiter=',')\n",
    "codec_filter = np.repeat('zlib-bitshuffle-split', 55296)\n",
    "df_zlib_bitshuffle_split['codec_filter'] = codec_filter\n",
    "\n",
    "df_zlib_bitshuffle_split.rename(columns = {'cratio':'cratio', ' speed':'speed', ' special_vals':'special_vals', ' nchunk':'nchunk', ' category':'category'}, inplace = True)\n",
    "value_nchunk = [0,0]\n",
    "filtered_df_zlib_bitshuffle_split = df_zlib_bitshuffle_split[df_zlib_bitshuffle_split.nchunk.isin(value_nchunk)]"
   ]
  },
  {
   "cell_type": "code",
   "execution_count": 379,
   "id": "3f8489e3",
   "metadata": {},
   "outputs": [],
   "source": [
    "df_zstd_nofilter_split = pd.read_csv(path/'zstd-nofilter-split.csv.gz', delimiter=',')\n",
    "codec_filter = np.repeat('zstd-nofilter-split', 55296)\n",
    "df_zstd_nofilter_split['codec_filter'] = codec_filter\n",
    "\n",
    "df_zstd_nofilter_split.rename(columns = {'cratio':'cratio', ' speed':'speed', ' special_vals':'special_vals', ' nchunk':'nchunk', ' category':'category'}, inplace = True)\n",
    "value_nchunk = [0,0]\n",
    "filtered_df_zstd_nofilter_split = df_zstd_nofilter_split[df_zstd_nofilter_split.nchunk.isin(value_nchunk)]"
   ]
  },
  {
   "cell_type": "code",
   "execution_count": 380,
   "id": "2b5a4e23",
   "metadata": {},
   "outputs": [],
   "source": [
    "df_zstd_shuffle_split = pd.read_csv(path/'zstd-shuffle-split.csv.gz', delimiter=',')\n",
    "codec_filter = np.repeat('zstd-shuffle-split', 55296)\n",
    "df_zstd_shuffle_split['codec_filter'] = codec_filter\n",
    "\n",
    "df_zstd_shuffle_split.rename(columns = {'cratio':'cratio', ' speed':'speed', ' special_vals':'special_vals', ' nchunk':'nchunk', ' category':'category'}, inplace = True)\n",
    "value_nchunk = [0,0]\n",
    "filtered_df_zstd_shuffle_split = df_zstd_shuffle_split[df_zstd_shuffle_split.nchunk.isin(value_nchunk)]"
   ]
  },
  {
   "cell_type": "code",
   "execution_count": 381,
   "id": "dd24e4d3",
   "metadata": {},
   "outputs": [],
   "source": [
    "df_zstd_bitshuffle_split = pd.read_csv(path/'zstd-bitshuffle-split.csv.gz', delimiter=',')\n",
    "codec_filter = np.repeat('zstd-bitshuffle-split', 55296)\n",
    "df_zstd_bitshuffle_split['codec_filter'] = codec_filter\n",
    "\n",
    "df_zstd_bitshuffle_split.rename(columns = {'cratio':'cratio', ' speed':'speed', ' special_vals':'special_vals', ' nchunk':'nchunk', ' category':'category'}, inplace = True)\n",
    "value_nchunk = [0,0]\n",
    "filtered_df_zstd_bitshuffle_split = df_zstd_bitshuffle_split[df_zstd_bitshuffle_split.nchunk.isin(value_nchunk)]"
   ]
  },
  {
   "cell_type": "markdown",
   "id": "555e881a",
   "metadata": {},
   "source": [
    "Archivos códecs-nosplit"
   ]
  },
  {
   "cell_type": "code",
   "execution_count": 382,
   "id": "19fe9ab7",
   "metadata": {},
   "outputs": [],
   "source": [
    "df_blosclz_nofilter_nosplit = pd.read_csv(path/'blosclz-nofilter-nosplit.csv.gz', delimiter=',')\n",
    "codec_filter = np.repeat('blosclz-nofilter-nosplit', 13824)\n",
    "df_blosclz_nofilter_nosplit['codec_filter'] = codec_filter\n",
    "\n",
    "df_blosclz_nofilter_nosplit.rename(columns = {'cratio':'cratio', ' speed':'speed', ' special_vals':'special_vals', ' nchunk':'nchunk', ' category':'category'}, inplace = True)\n",
    "value_nchunk = [0,0]\n",
    "filtered_df_blosclz_nofilter_nosplit = df_blosclz_nofilter_nosplit[df_blosclz_nofilter_nosplit.nchunk.isin(value_nchunk)]"
   ]
  },
  {
   "cell_type": "code",
   "execution_count": 383,
   "id": "3bb906b1",
   "metadata": {},
   "outputs": [],
   "source": [
    "df_blosclz_shuffle_nosplit = pd.read_csv(path/'blosclz-shuffle-nosplit.csv.gz', delimiter=',')\n",
    "codec_filter = np.repeat('blosclz-shuffle-nosplit', 13824)\n",
    "df_blosclz_shuffle_nosplit['codec_filter'] = codec_filter\n",
    "\n",
    "df_blosclz_shuffle_nosplit.rename(columns = {'cratio':'cratio', ' speed':'speed', ' special_vals':'special_vals', ' nchunk':'nchunk', ' category':'category'}, inplace = True)\n",
    "value_nchunk = [0,0]\n",
    "filtered_df_blosclz_shuffle_nosplit = df_blosclz_shuffle_nosplit[df_blosclz_shuffle_nosplit.nchunk.isin(value_nchunk)]"
   ]
  },
  {
   "cell_type": "code",
   "execution_count": 384,
   "id": "7d31ebf8",
   "metadata": {},
   "outputs": [],
   "source": [
    "df_blosclz_bitshuffle_nosplit = pd.read_csv(path/'blosclz-bitshuffle-nosplit.csv.gz', delimiter=',')\n",
    "codec_filter = np.repeat('blosclz-bitshuffle-nosplit', 13824)\n",
    "df_blosclz_bitshuffle_nosplit['codec_filter'] = codec_filter\n",
    "\n",
    "df_blosclz_bitshuffle_nosplit.rename(columns = {'cratio':'cratio', ' speed':'speed', ' special_vals':'special_vals', ' nchunk':'nchunk', ' category':'category'}, inplace = True)\n",
    "value_nchunk = [0,0]\n",
    "filtered_df_blosclz_bitshuffle_nosplit = df_blosclz_bitshuffle_nosplit[df_blosclz_bitshuffle_nosplit.nchunk.isin(value_nchunk)]"
   ]
  },
  {
   "cell_type": "code",
   "execution_count": 385,
   "id": "da8a5232",
   "metadata": {},
   "outputs": [],
   "source": [
    "df_lz4_nofilter_nosplit = pd.read_csv(path/'lz4-nofilter-nosplit.csv.gz', delimiter=',')\n",
    "codec_filter = np.repeat('lz4-nofilter-nosplit', 13824)\n",
    "df_lz4_nofilter_nosplit['codec_filter'] = codec_filter\n",
    "\n",
    "df_lz4_nofilter_nosplit.rename(columns = {'cratio':'cratio', ' speed':'speed', ' special_vals':'special_vals', ' nchunk':'nchunk', ' category':'category'}, inplace = True)\n",
    "value_nchunk = [0,0]\n",
    "filtered_df_lz4_nofilter_nosplit = df_lz4_nofilter_nosplit[df_lz4_nofilter_nosplit.nchunk.isin(value_nchunk)]"
   ]
  },
  {
   "cell_type": "code",
   "execution_count": 386,
   "id": "d2b81e74",
   "metadata": {},
   "outputs": [],
   "source": [
    "df_lz4_shuffle_nosplit = pd.read_csv(path/'lz4-shuffle-nosplit.csv.gz', delimiter=',')\n",
    "codec_filter = np.repeat('lz4-shuffle-nosplit', 13824)\n",
    "df_lz4_shuffle_nosplit['codec_filter'] = codec_filter\n",
    "\n",
    "df_lz4_shuffle_nosplit.rename(columns = {'cratio':'cratio', ' speed':'speed', ' special_vals':'special_vals', ' nchunk':'nchunk', ' category':'category'}, inplace = True)\n",
    "value_nchunk = [0,0]\n",
    "filtered_df_lz4_shuffle_nosplit = df_lz4_shuffle_nosplit[df_lz4_shuffle_nosplit.nchunk.isin(value_nchunk)]"
   ]
  },
  {
   "cell_type": "code",
   "execution_count": 387,
   "id": "ae13490a",
   "metadata": {},
   "outputs": [],
   "source": [
    "df_lz4_bitshuffle_nosplit = pd.read_csv(path/'lz4-bitshuffle-nosplit.csv.gz', delimiter=',')\n",
    "codec_filter = np.repeat('lz4-bitshuffle-nosplit', 13824)\n",
    "df_lz4_bitshuffle_nosplit['codec_filter'] = codec_filter\n",
    "\n",
    "df_lz4_bitshuffle_nosplit.rename(columns = {'cratio':'cratio', ' speed':'speed', ' special_vals':'special_vals', ' nchunk':'nchunk', ' category':'category'}, inplace = True)\n",
    "value_nchunk = [0,0]\n",
    "filtered_df_lz4_bitshuffle_nosplit = df_lz4_bitshuffle_nosplit[df_lz4_bitshuffle_nosplit.nchunk.isin(value_nchunk)]"
   ]
  },
  {
   "cell_type": "code",
   "execution_count": 388,
   "id": "d85fc3e8",
   "metadata": {},
   "outputs": [],
   "source": [
    "df_lz4hc_nofilter_nosplit = pd.read_csv(path/'lz4hc-nofilter-nosplit.csv.gz', delimiter=',')\n",
    "codec_filter = np.repeat('lz4hc-nofilter-nosplit', 13824)\n",
    "df_lz4hc_nofilter_nosplit['codec_filter'] = codec_filter\n",
    "\n",
    "df_lz4hc_nofilter_nosplit.rename(columns = {'cratio':'cratio', ' speed':'speed', ' special_vals':'special_vals', ' nchunk':'nchunk', ' category':'category'}, inplace = True)\n",
    "value_nchunk = [0,0]\n",
    "filtered_df_lz4hc_nofilter_nosplit = df_lz4hc_nofilter_nosplit[df_lz4hc_nofilter_nosplit.nchunk.isin(value_nchunk)]"
   ]
  },
  {
   "cell_type": "code",
   "execution_count": 389,
   "id": "e27873b2",
   "metadata": {},
   "outputs": [],
   "source": [
    "df_lz4hc_shuffle_nosplit = pd.read_csv(path/'lz4hc-shuffle-nosplit.csv.gz', delimiter=',')\n",
    "codec_filter = np.repeat('lz4hc-shuffle-nosplit', 13824)\n",
    "df_lz4hc_shuffle_nosplit['codec_filter'] = codec_filter\n",
    "\n",
    "df_lz4hc_shuffle_nosplit.rename(columns = {'cratio':'cratio', ' speed':'speed', ' special_vals':'special_vals', ' nchunk':'nchunk', ' category':'category'}, inplace = True)\n",
    "value_nchunk = [0,0]\n",
    "filtered_df_lz4hc_shuffle_nosplit = df_lz4hc_shuffle_nosplit[df_lz4hc_shuffle_nosplit.nchunk.isin(value_nchunk)]"
   ]
  },
  {
   "cell_type": "code",
   "execution_count": 390,
   "id": "099fb952",
   "metadata": {},
   "outputs": [],
   "source": [
    "df_lz4hc_bitshuffle_nosplit = pd.read_csv(path/'lz4hc-bitshuffle-nosplit.csv.gz', delimiter=',')\n",
    "codec_filter = np.repeat('lz4hc-bitshuffle-nosplit', 13824)\n",
    "df_lz4hc_bitshuffle_nosplit['codec_filter'] = codec_filter\n",
    "\n",
    "df_lz4hc_bitshuffle_nosplit.rename(columns = {'cratio':'cratio', ' speed':'speed', ' special_vals':'special_vals', ' nchunk':'nchunk', ' category':'category'}, inplace = True)\n",
    "value_nchunk = [0,0]\n",
    "filtered_df_lz4hc_bitshuffle_nosplit = df_lz4hc_bitshuffle_nosplit[df_lz4hc_bitshuffle_nosplit.nchunk.isin(value_nchunk)]"
   ]
  },
  {
   "cell_type": "code",
   "execution_count": 391,
   "id": "2484f18d",
   "metadata": {},
   "outputs": [],
   "source": [
    "df_zlib_nofilter_nosplit = pd.read_csv(path/'zlib-nofilter-nosplit.csv.gz', delimiter=',')\n",
    "codec_filter = np.repeat('zlib-nofilter-nosplit', 13824)\n",
    "df_zlib_nofilter_nosplit['codec_filter'] = codec_filter\n",
    "\n",
    "df_zlib_nofilter_nosplit.rename(columns = {'cratio':'cratio', ' speed':'speed', ' special_vals':'special_vals', ' nchunk':'nchunk', ' category':'category'}, inplace = True)\n",
    "value_nchunk = [0,0]\n",
    "filtered_df_zlib_nofilter_nosplit = df_zlib_nofilter_nosplit[df_zlib_nofilter_nosplit.nchunk.isin(value_nchunk)]"
   ]
  },
  {
   "cell_type": "code",
   "execution_count": 392,
   "id": "3a1c4900",
   "metadata": {},
   "outputs": [],
   "source": [
    "df_zlib_shuffle_nosplit = pd.read_csv(path/'zlib-shuffle-nosplit.csv.gz', delimiter=',')\n",
    "codec_filter = np.repeat('zlib-shuffle-nosplit', 13824)\n",
    "df_zlib_shuffle_nosplit['codec_filter'] = codec_filter\n",
    "\n",
    "df_zlib_shuffle_nosplit.rename(columns = {'cratio':'cratio', ' speed':'speed', ' special_vals':'special_vals', ' nchunk':'nchunk', ' category':'category'}, inplace = True)\n",
    "value_nchunk = [0,0]\n",
    "filtered_df_zlib_shuffle_nosplit = df_zlib_shuffle_nosplit[df_zlib_shuffle_nosplit.nchunk.isin(value_nchunk)]"
   ]
  },
  {
   "cell_type": "code",
   "execution_count": 393,
   "id": "58c74d33",
   "metadata": {},
   "outputs": [],
   "source": [
    "df_zlib_bitshuffle_nosplit = pd.read_csv(path/'zlib-bitshuffle-nosplit.csv.gz', delimiter=',')\n",
    "codec_filter = np.repeat('zlib-bitshuffle-nosplit', 13824)\n",
    "df_zlib_bitshuffle_nosplit['codec_filter'] = codec_filter\n",
    "\n",
    "df_zlib_bitshuffle_nosplit.rename(columns = {'cratio':'cratio', ' speed':'speed', ' special_vals':'special_vals', ' nchunk':'nchunk', ' category':'category'}, inplace = True)\n",
    "value_nchunk = [0,0]\n",
    "filtered_df_zlib_bitshuffle_nosplit = df_zlib_bitshuffle_nosplit[df_zlib_bitshuffle_nosplit.nchunk.isin(value_nchunk)]"
   ]
  },
  {
   "cell_type": "code",
   "execution_count": 394,
   "id": "13c6b548",
   "metadata": {},
   "outputs": [],
   "source": [
    "df_zstd_nofilter_nosplit = pd.read_csv(path/'zstd-nofilter-nosplit.csv.gz', delimiter=',')\n",
    "codec_filter = np.repeat('zstd-nofilter-nosplit', 13824)\n",
    "df_zstd_nofilter_nosplit['codec_filter'] = codec_filter\n",
    "\n",
    "df_zstd_nofilter_nosplit.rename(columns = {'cratio':'cratio', ' speed':'speed', ' special_vals':'special_vals', ' nchunk':'nchunk', ' category':'category'}, inplace = True)\n",
    "value_nchunk = [0,0]\n",
    "filtered_df_zstd_nofilter_nosplit = df_zstd_nofilter_nosplit[df_zstd_nofilter_nosplit.nchunk.isin(value_nchunk)]"
   ]
  },
  {
   "cell_type": "code",
   "execution_count": 395,
   "id": "e9a588e2",
   "metadata": {},
   "outputs": [],
   "source": [
    "df_zstd_shuffle_nosplit = pd.read_csv(path/'zstd-shuffle-nosplit.csv.gz', delimiter=',')\n",
    "codec_filter = np.repeat('zstd-shuffle-nosplit', 13824)\n",
    "df_zstd_shuffle_nosplit['codec_filter'] = codec_filter\n",
    "\n",
    "df_zstd_shuffle_nosplit.rename(columns = {'cratio':'cratio', ' speed':'speed', ' special_vals':'special_vals', ' nchunk':'nchunk', ' category':'category'}, inplace = True)\n",
    "value_nchunk = [0,0]\n",
    "filtered_df_zstd_shuffle_nosplit = df_zstd_shuffle_nosplit[df_zstd_shuffle_nosplit.nchunk.isin(value_nchunk)]"
   ]
  },
  {
   "cell_type": "code",
   "execution_count": 396,
   "id": "437d5b00",
   "metadata": {},
   "outputs": [],
   "source": [
    "df_zstd_bitshuffle_nosplit = pd.read_csv(path/'zstd-bitshuffle-nosplit.csv.gz', delimiter=',')\n",
    "codec_filter = np.repeat('zstd-bitshuffle-nosplit', 13824)\n",
    "df_zstd_bitshuffle_nosplit['codec_filter'] = codec_filter\n",
    "\n",
    "df_zstd_bitshuffle_nosplit.rename(columns = {'cratio':'cratio', ' speed':'speed', ' special_vals':'special_vals', ' nchunk':'nchunk', ' category':'category'}, inplace = True)\n",
    "value_nchunk = [0,0]\n",
    "filtered_df_zstd_bitshuffle_nosplit = df_zstd_bitshuffle_nosplit[df_zstd_bitshuffle_nosplit.nchunk.isin(value_nchunk)]"
   ]
  },
  {
   "cell_type": "code",
   "execution_count": 397,
   "id": "c1c9a801",
   "metadata": {},
   "outputs": [
    {
     "data": {
      "text/plain": [
       "(256, 6)"
      ]
     },
     "execution_count": 397,
     "metadata": {},
     "output_type": "execute_result"
    }
   ],
   "source": [
    "filtered_df_blosclz_nofilter_split.shape"
   ]
  },
  {
   "cell_type": "code",
   "execution_count": 398,
   "id": "bea03db9",
   "metadata": {},
   "outputs": [
    {
     "data": {
      "text/plain": [
       "(64, 6)"
      ]
     },
     "execution_count": 398,
     "metadata": {},
     "output_type": "execute_result"
    }
   ],
   "source": [
    "filtered_df_blosclz_nofilter_nosplit.shape"
   ]
  },
  {
   "cell_type": "code",
   "execution_count": 399,
   "id": "54c6de1c",
   "metadata": {},
   "outputs": [
    {
     "data": {
      "text/plain": [
       "4.0"
      ]
     },
     "execution_count": 399,
     "metadata": {},
     "output_type": "execute_result"
    }
   ],
   "source": [
    "256/64"
   ]
  },
  {
   "cell_type": "code",
   "execution_count": 400,
   "id": "03261d32",
   "metadata": {},
   "outputs": [],
   "source": [
    "filtered_df_blosclz_nofilter_nosplit = filtered_df_blosclz_nofilter_nosplit.loc[np.repeat(filtered_df_blosclz_nofilter_nosplit.index.values, 4)]\n",
    "filtered_df_lz4_nofilter_nosplit = filtered_df_lz4_nofilter_nosplit.loc[np.repeat(filtered_df_lz4_nofilter_nosplit.index.values, 4)]\n",
    "filtered_df_lz4hc_nofilter_nosplit = filtered_df_lz4hc_nofilter_nosplit.loc[np.repeat(filtered_df_lz4hc_nofilter_nosplit.index.values, 4)]\n",
    "filtered_df_zlib_nofilter_nosplit = filtered_df_zlib_nofilter_nosplit.loc[np.repeat(filtered_df_zlib_nofilter_nosplit.index.values, 4)]\n",
    "filtered_df_zstd_nofilter_nosplit = filtered_df_zstd_nofilter_nosplit.loc[np.repeat(filtered_df_zstd_nofilter_nosplit.index.values, 4)]"
   ]
  },
  {
   "cell_type": "code",
   "execution_count": 401,
   "id": "a5004067",
   "metadata": {},
   "outputs": [],
   "source": [
    "filtered_df_blosclz_shuffle_nosplit = filtered_df_blosclz_shuffle_nosplit.loc[np.repeat(filtered_df_blosclz_shuffle_nosplit.index.values, 4)]\n",
    "filtered_df_lz4_shuffle_nosplit = filtered_df_lz4_shuffle_nosplit.loc[np.repeat(filtered_df_lz4_shuffle_nosplit.index.values, 4)]\n",
    "filtered_df_lz4hc_shuffle_nosplit = filtered_df_lz4hc_shuffle_nosplit.loc[np.repeat(filtered_df_lz4hc_shuffle_nosplit.index.values, 4)]\n",
    "filtered_df_zlib_shuffle_nosplit = filtered_df_zlib_shuffle_nosplit.loc[np.repeat(filtered_df_zlib_shuffle_nosplit.index.values, 4)]\n",
    "filtered_df_zstd_shuffle_nosplit = filtered_df_zstd_shuffle_nosplit.loc[np.repeat(filtered_df_zstd_shuffle_nosplit.index.values, 4)]"
   ]
  },
  {
   "cell_type": "code",
   "execution_count": 402,
   "id": "d911a79f",
   "metadata": {},
   "outputs": [],
   "source": [
    "filtered_df_blosclz_bitshuffle_nosplit = filtered_df_blosclz_bitshuffle_nosplit.loc[np.repeat(filtered_df_blosclz_bitshuffle_nosplit.index.values, 4)]\n",
    "filtered_df_lz4_bitshuffle_nosplit = filtered_df_lz4_bitshuffle_nosplit.loc[np.repeat(filtered_df_lz4_bitshuffle_nosplit.index.values, 4)]\n",
    "filtered_df_lz4hc_bitshuffle_nosplit = filtered_df_lz4hc_bitshuffle_nosplit.loc[np.repeat(filtered_df_lz4hc_bitshuffle_nosplit.index.values, 4)]\n",
    "filtered_df_zlib_bitshuffle_nosplit = filtered_df_zlib_bitshuffle_nosplit.loc[np.repeat(filtered_df_zlib_bitshuffle_nosplit.index.values, 4)]\n",
    "filtered_df_zstd_bitshuffle_nosplit = filtered_df_zstd_bitshuffle_nosplit.loc[np.repeat(filtered_df_zstd_bitshuffle_nosplit.index.values, 4)]"
   ]
  },
  {
   "cell_type": "markdown",
   "id": "361a029b",
   "metadata": {},
   "source": [
    "# DEEP LEARNING - RED NEURONAL (con las 30 categorías)"
   ]
  },
  {
   "cell_type": "code",
   "execution_count": 403,
   "id": "69898290",
   "metadata": {},
   "outputs": [],
   "source": [
    "data_real = pd.DataFrame()\n",
    "data_real = pd.concat([data_real, filtered_df_blosclz_nofilter_split, \n",
    "                      filtered_df_lz4_nofilter_split, \n",
    "                      filtered_df_lz4hc_nofilter_split, \n",
    "                      filtered_df_zlib_nofilter_split, \n",
    "                      filtered_df_zstd_nofilter_split, \n",
    "                      \n",
    "                      filtered_df_blosclz_shuffle_split, \n",
    "                      filtered_df_lz4_shuffle_split, \n",
    "                      filtered_df_lz4hc_shuffle_split, \n",
    "                      filtered_df_zlib_shuffle_split, \n",
    "                      filtered_df_zstd_shuffle_split, \n",
    "                      \n",
    "                      filtered_df_blosclz_bitshuffle_split, \n",
    "                      filtered_df_lz4_bitshuffle_split, \n",
    "                      filtered_df_lz4hc_bitshuffle_split, \n",
    "                      filtered_df_zlib_bitshuffle_split, \n",
    "                      filtered_df_zstd_bitshuffle_split,\n",
    "                       \n",
    "                      filtered_df_blosclz_nofilter_nosplit, \n",
    "                      filtered_df_lz4_nofilter_nosplit, \n",
    "                      filtered_df_lz4hc_nofilter_nosplit, \n",
    "                      filtered_df_zlib_nofilter_nosplit, \n",
    "                      filtered_df_zstd_nofilter_nosplit, \n",
    "                      \n",
    "                      filtered_df_blosclz_shuffle_nosplit, \n",
    "                      filtered_df_lz4_shuffle_nosplit, \n",
    "                      filtered_df_lz4hc_shuffle_nosplit, \n",
    "                      filtered_df_zlib_shuffle_nosplit, \n",
    "                      filtered_df_zstd_shuffle_nosplit, \n",
    "                      \n",
    "                      filtered_df_blosclz_bitshuffle_nosplit, \n",
    "                      filtered_df_lz4_bitshuffle_nosplit, \n",
    "                      filtered_df_lz4hc_bitshuffle_nosplit, \n",
    "                      filtered_df_zlib_bitshuffle_nosplit, \n",
    "                      filtered_df_zstd_bitshuffle_nosplit\n",
    "                      ], axis = 0)\n",
    "\n",
    "labels_real = pd.Series(data_real['category'])\n",
    "\n",
    "data_real = data_real.drop(['special_vals', 'nchunk', 'codec_filter'], axis = 1)"
   ]
  },
  {
   "cell_type": "code",
   "execution_count": 404,
   "id": "d265ee15",
   "metadata": {},
   "outputs": [],
   "source": [
    "data_entropy = pd.DataFrame()\n",
    "data_entropy = pd.concat([data_entropy, filtered_df_entropy_nofitler, \n",
    "                         filtered_df_entropy_shuffle, \n",
    "                          filtered_df_entropy_bitshuffle], axis = 0)"
   ]
  },
  {
   "cell_type": "code",
   "execution_count": 405,
   "id": "7b63ef41",
   "metadata": {},
   "outputs": [],
   "source": [
    "mean_speed = data_real['speed'].mean()\n",
    "mean_cratio = data_real['cratio'].mean()"
   ]
  },
  {
   "cell_type": "code",
   "execution_count": 406,
   "id": "2789d01f",
   "metadata": {},
   "outputs": [],
   "source": [
    "df0 = pd.DataFrame()\n",
    "df0 = pd.concat([df0, filtered_df_blosclz_nofilter_split], axis = 0)\n",
    "df0 = df0.drop(['special_vals', 'nchunk', 'category', 'codec_filter'], axis = 1)\n",
    "\n",
    "df0.insert(2, \"0\", df0['cratio']/mean_cratio + df0['speed']/mean_speed)\n",
    "df0 = df0.drop(['cratio', 'speed'], axis = 1)"
   ]
  },
  {
   "cell_type": "code",
   "execution_count": 407,
   "id": "02c6c64c",
   "metadata": {},
   "outputs": [],
   "source": [
    "df1 = pd.DataFrame()\n",
    "df1 = pd.concat([df1, filtered_df_lz4_nofilter_split], axis = 0)\n",
    "df1 = df1.drop(['special_vals', 'nchunk', 'category', 'codec_filter'], axis = 1)\n",
    "\n",
    "df1.insert(2, \"1\", df1['cratio']/mean_cratio + df1['speed']/mean_speed)\n",
    "df1 = df1.drop(['cratio', 'speed'], axis = 1)"
   ]
  },
  {
   "cell_type": "code",
   "execution_count": 408,
   "id": "240c1e61",
   "metadata": {},
   "outputs": [],
   "source": [
    "df2 = pd.DataFrame()\n",
    "df2 = pd.concat([df2, filtered_df_lz4hc_nofilter_split], axis = 0)\n",
    "df2 = df2.drop(['special_vals', 'nchunk', 'category', 'codec_filter'], axis = 1)\n",
    "\n",
    "df2.insert(2, \"2\", df2['cratio']/mean_cratio + df2['speed']/mean_speed)\n",
    "df2 = df2.drop(['cratio', 'speed'], axis = 1)"
   ]
  },
  {
   "cell_type": "code",
   "execution_count": 409,
   "id": "74d4b9ea",
   "metadata": {},
   "outputs": [],
   "source": [
    "df3 = pd.DataFrame()\n",
    "df3 = pd.concat([df3, filtered_df_zlib_nofilter_split], axis = 0)\n",
    "df3 = df3.drop(['special_vals', 'nchunk', 'category', 'codec_filter'], axis = 1)\n",
    "\n",
    "df3.insert(2, \"3\", df3['cratio']/mean_cratio + df3['speed']/mean_speed)\n",
    "df3 = df3.drop(['cratio', 'speed'], axis = 1)"
   ]
  },
  {
   "cell_type": "code",
   "execution_count": 410,
   "id": "bd09fb2c",
   "metadata": {},
   "outputs": [],
   "source": [
    "df4 = pd.DataFrame()\n",
    "df4 = pd.concat([df4, filtered_df_zstd_nofilter_split], axis = 0)\n",
    "df4 = df4.drop(['special_vals', 'nchunk', 'category', 'codec_filter'], axis = 1)\n",
    "\n",
    "df4.insert(2, \"4\", df4['cratio']/mean_cratio + df4['speed']/mean_speed)\n",
    "df4 = df4.drop(['cratio', 'speed'], axis = 1)"
   ]
  },
  {
   "cell_type": "code",
   "execution_count": 411,
   "id": "2e81dc45",
   "metadata": {},
   "outputs": [],
   "source": [
    "df5 = pd.DataFrame()\n",
    "df5 = pd.concat([df5, filtered_df_blosclz_shuffle_split], axis = 0)\n",
    "df5 = df5.drop(['special_vals', 'nchunk', 'category', 'codec_filter'], axis = 1)\n",
    "\n",
    "df5.insert(2, \"5\", df5['cratio']/mean_cratio + df5['speed']/mean_speed)\n",
    "df5 = df5.drop(['cratio', 'speed'], axis = 1)"
   ]
  },
  {
   "cell_type": "code",
   "execution_count": 412,
   "id": "87ba708b",
   "metadata": {},
   "outputs": [],
   "source": [
    "df6 = pd.DataFrame()\n",
    "df6 = pd.concat([df6, filtered_df_lz4_shuffle_split], axis = 0)\n",
    "df6 = df6.drop(['special_vals', 'nchunk', 'category', 'codec_filter'], axis = 1)\n",
    "\n",
    "df6.insert(2, \"6\", df6['cratio']/mean_cratio + df6['speed']/mean_speed)\n",
    "df6 = df6.drop(['cratio', 'speed'], axis = 1)"
   ]
  },
  {
   "cell_type": "code",
   "execution_count": 413,
   "id": "097b1070",
   "metadata": {},
   "outputs": [],
   "source": [
    "df7 = pd.DataFrame()\n",
    "df7 = pd.concat([df7, filtered_df_lz4hc_shuffle_split], axis = 0)\n",
    "df7 = df7.drop(['special_vals', 'nchunk', 'category', 'codec_filter'], axis = 1)\n",
    "\n",
    "df7.insert(2, \"7\", df7['cratio']/mean_cratio + df7['speed']/mean_speed)\n",
    "df7 = df7.drop(['cratio', 'speed'], axis = 1)"
   ]
  },
  {
   "cell_type": "code",
   "execution_count": 414,
   "id": "15981dd1",
   "metadata": {},
   "outputs": [],
   "source": [
    "df8 = pd.DataFrame()\n",
    "df8 = pd.concat([df8, filtered_df_zlib_shuffle_split], axis = 0)\n",
    "df8 = df8.drop(['special_vals', 'nchunk', 'category', 'codec_filter'], axis = 1)\n",
    "\n",
    "df8.insert(2, \"8\", df8['cratio']/mean_cratio + df8['speed']/mean_speed)\n",
    "df8 = df8.drop(['cratio', 'speed'], axis = 1)"
   ]
  },
  {
   "cell_type": "code",
   "execution_count": 415,
   "id": "c43e3a71",
   "metadata": {},
   "outputs": [],
   "source": [
    "df9 = pd.DataFrame()\n",
    "df9 = pd.concat([df9, filtered_df_zstd_shuffle_split], axis = 0)\n",
    "df9 = df9.drop(['special_vals', 'nchunk', 'category', 'codec_filter'], axis = 1)\n",
    "\n",
    "df9.insert(2, \"9\", df9['cratio']/mean_cratio + df9['speed']/mean_speed)\n",
    "df9 = df9.drop(['cratio', 'speed'], axis = 1)"
   ]
  },
  {
   "cell_type": "code",
   "execution_count": 416,
   "id": "91d559c8",
   "metadata": {},
   "outputs": [],
   "source": [
    "df10 = pd.DataFrame()\n",
    "df10 = pd.concat([df10, filtered_df_blosclz_bitshuffle_split], axis = 0)\n",
    "df10 = df10.drop(['special_vals', 'nchunk', 'category', 'codec_filter'], axis = 1)\n",
    "\n",
    "df10.insert(2, \"10\", df10['cratio']/mean_cratio + df10['speed']/mean_speed)\n",
    "df10 = df10.drop(['cratio', 'speed'], axis = 1)"
   ]
  },
  {
   "cell_type": "code",
   "execution_count": 417,
   "id": "8557ad65",
   "metadata": {},
   "outputs": [],
   "source": [
    "df11 = pd.DataFrame()\n",
    "df11 = pd.concat([df11, filtered_df_lz4_bitshuffle_split], axis = 0)\n",
    "df11 = df11.drop(['special_vals', 'nchunk', 'category', 'codec_filter'], axis = 1)\n",
    "\n",
    "df11.insert(2, \"11\", df11['cratio']/mean_cratio + df11['speed']/mean_speed)\n",
    "df11 = df11.drop(['cratio', 'speed'], axis = 1)"
   ]
  },
  {
   "cell_type": "code",
   "execution_count": 418,
   "id": "3f72410f",
   "metadata": {},
   "outputs": [],
   "source": [
    "df12 = pd.DataFrame()\n",
    "df12 = pd.concat([df12, filtered_df_lz4_bitshuffle_split], axis = 0)\n",
    "df12 = df12.drop(['special_vals', 'nchunk', 'category', 'codec_filter'], axis = 1)\n",
    "\n",
    "df12.insert(2, \"12\", df12['cratio']/mean_cratio + df12['speed']/mean_speed)\n",
    "df12 = df12.drop(['cratio', 'speed'], axis = 1)"
   ]
  },
  {
   "cell_type": "code",
   "execution_count": 419,
   "id": "6725e306",
   "metadata": {},
   "outputs": [],
   "source": [
    "df13 = pd.DataFrame()\n",
    "df13 = pd.concat([df13, filtered_df_zlib_bitshuffle_split], axis = 0)\n",
    "df13 = df13.drop(['special_vals', 'nchunk', 'category', 'codec_filter'], axis = 1)\n",
    "\n",
    "df13.insert(2, \"13\", df13['cratio']/mean_cratio + df13['speed']/mean_speed)\n",
    "df13 = df13.drop(['cratio', 'speed'], axis = 1)"
   ]
  },
  {
   "cell_type": "code",
   "execution_count": 420,
   "id": "3967fa96",
   "metadata": {},
   "outputs": [],
   "source": [
    "df14 = pd.DataFrame()\n",
    "df14 = pd.concat([df14, filtered_df_zstd_bitshuffle_split], axis = 0)\n",
    "df14 = df14.drop(['special_vals', 'nchunk', 'category', 'codec_filter'], axis = 1)\n",
    "\n",
    "df14.insert(2, \"14\", df14['cratio']/mean_cratio + df14['speed']/mean_speed)\n",
    "df14 = df14.drop(['cratio', 'speed'], axis = 1)"
   ]
  },
  {
   "cell_type": "code",
   "execution_count": 421,
   "id": "a95ec60c",
   "metadata": {},
   "outputs": [],
   "source": [
    "df15 = pd.DataFrame()\n",
    "df15 = pd.concat([df15, filtered_df_blosclz_nofilter_nosplit], axis = 0)\n",
    "df15 = df15.drop(['special_vals', 'nchunk', 'category', 'codec_filter'], axis = 1)\n",
    "\n",
    "df15.insert(2, \"15\", df15['cratio']/mean_cratio + df15['speed']/mean_speed)\n",
    "df15 = df15.drop(['cratio', 'speed'], axis = 1)\n",
    "df15 = df15.reset_index()\n",
    "df15 = df15.drop(['index'], axis = 1)"
   ]
  },
  {
   "cell_type": "code",
   "execution_count": 422,
   "id": "98526368",
   "metadata": {},
   "outputs": [],
   "source": [
    "df16 = pd.DataFrame()\n",
    "df16 = pd.concat([df16, filtered_df_lz4_nofilter_nosplit], axis = 0)\n",
    "df16 = df16.drop(['special_vals', 'nchunk', 'category', 'codec_filter'], axis = 1)\n",
    "\n",
    "df16.insert(2, \"16\", df16['cratio']/mean_cratio + df16['speed']/mean_speed)\n",
    "df16 = df16.drop(['cratio', 'speed'], axis = 1)\n",
    "df16 = df16.reset_index()\n",
    "df16 = df16.drop(['index'], axis = 1)"
   ]
  },
  {
   "cell_type": "code",
   "execution_count": 423,
   "id": "9e112ea4",
   "metadata": {},
   "outputs": [],
   "source": [
    "df17 = pd.DataFrame()\n",
    "df17 = pd.concat([df17, filtered_df_lz4hc_nofilter_nosplit], axis = 0)\n",
    "df17 = df17.drop(['special_vals', 'nchunk', 'category', 'codec_filter'], axis = 1)\n",
    "\n",
    "df17.insert(2, \"17\", df17['cratio']/mean_cratio + df17['speed']/mean_speed)\n",
    "df17 = df17.drop(['cratio', 'speed'], axis = 1)\n",
    "df17 = df17.reset_index()\n",
    "df17 = df17.drop(['index'], axis = 1)"
   ]
  },
  {
   "cell_type": "code",
   "execution_count": 424,
   "id": "4cc1844f",
   "metadata": {},
   "outputs": [],
   "source": [
    "df18 = pd.DataFrame()\n",
    "df18 = pd.concat([df18, filtered_df_zlib_nofilter_nosplit], axis = 0)\n",
    "df18 = df18.drop(['special_vals', 'nchunk', 'category', 'codec_filter'], axis = 1)\n",
    "\n",
    "df18.insert(2, \"18\", df18['cratio']/mean_cratio + df18['speed']/mean_speed)\n",
    "df18 = df18.drop(['cratio', 'speed'], axis = 1)\n",
    "df18 = df18.reset_index()\n",
    "df18 = df18.drop(['index'], axis = 1)"
   ]
  },
  {
   "cell_type": "code",
   "execution_count": 425,
   "id": "86d7def6",
   "metadata": {},
   "outputs": [],
   "source": [
    "df19 = pd.DataFrame()\n",
    "df19 = pd.concat([df19, filtered_df_zstd_nofilter_nosplit], axis = 0)\n",
    "df19 = df19.drop(['special_vals', 'nchunk', 'category', 'codec_filter'], axis = 1)\n",
    "\n",
    "df19.insert(2, \"19\", df19['cratio']/mean_cratio + df19['speed']/mean_speed)\n",
    "df19 = df19.drop(['cratio', 'speed'], axis = 1)\n",
    "df19 = df19.reset_index()\n",
    "df19 = df19.drop(['index'], axis = 1)"
   ]
  },
  {
   "cell_type": "code",
   "execution_count": 426,
   "id": "51e22a3c",
   "metadata": {},
   "outputs": [],
   "source": [
    "df20 = pd.DataFrame()\n",
    "df20 = pd.concat([df20, filtered_df_blosclz_shuffle_nosplit], axis = 0)\n",
    "df20 = df20.drop(['special_vals', 'nchunk', 'category', 'codec_filter'], axis = 1)\n",
    "\n",
    "df20.insert(2, \"20\", df20['cratio']/mean_cratio + df20['speed']/mean_speed)\n",
    "df20 = df20.drop(['cratio', 'speed'], axis = 1)\n",
    "df20 = df20.reset_index()\n",
    "df20 = df20.drop(['index'], axis = 1)"
   ]
  },
  {
   "cell_type": "code",
   "execution_count": 427,
   "id": "9affff0b",
   "metadata": {},
   "outputs": [],
   "source": [
    "df21 = pd.DataFrame()\n",
    "df21 = pd.concat([df21, filtered_df_lz4_shuffle_nosplit], axis = 0)\n",
    "df21 = df21.drop(['special_vals', 'nchunk', 'category', 'codec_filter'], axis = 1)\n",
    "\n",
    "df21.insert(2, \"21\", df21['cratio']/mean_cratio + df21['speed']/mean_speed)\n",
    "df21 = df21.drop(['cratio', 'speed'], axis = 1)\n",
    "df21 = df21.reset_index()\n",
    "df21 = df21.drop(['index'], axis = 1)"
   ]
  },
  {
   "cell_type": "code",
   "execution_count": 428,
   "id": "1fb09c2d",
   "metadata": {},
   "outputs": [],
   "source": [
    "df22 = pd.DataFrame()\n",
    "df22 = pd.concat([df22, filtered_df_lz4hc_shuffle_nosplit], axis = 0)\n",
    "df22 = df22.drop(['special_vals', 'nchunk', 'category', 'codec_filter'], axis = 1)\n",
    "\n",
    "df22.insert(2, \"22\", df22['cratio']/mean_cratio + df22['speed']/mean_speed)\n",
    "df22 = df22.drop(['cratio', 'speed'], axis = 1)\n",
    "df22 = df22.reset_index()\n",
    "df22 = df22.drop(['index'], axis = 1)"
   ]
  },
  {
   "cell_type": "code",
   "execution_count": 429,
   "id": "48690b62",
   "metadata": {},
   "outputs": [],
   "source": [
    "df23 = pd.DataFrame()\n",
    "df23 = pd.concat([df23, filtered_df_zlib_shuffle_nosplit], axis = 0)\n",
    "df23 = df23.drop(['special_vals', 'nchunk', 'category', 'codec_filter'], axis = 1)\n",
    "\n",
    "df23.insert(2, \"23\", df23['cratio']/mean_cratio + df23['speed']/mean_speed)\n",
    "df23 = df23.drop(['cratio', 'speed'], axis = 1)\n",
    "df23 = df23.reset_index()\n",
    "df23 = df23.drop(['index'], axis = 1)"
   ]
  },
  {
   "cell_type": "code",
   "execution_count": 430,
   "id": "86eabd2c",
   "metadata": {},
   "outputs": [],
   "source": [
    "df24 = pd.DataFrame()\n",
    "df24 = pd.concat([df24, filtered_df_zstd_shuffle_nosplit], axis = 0)\n",
    "df24 = df24.drop(['special_vals', 'nchunk', 'category', 'codec_filter'], axis = 1)\n",
    "\n",
    "df24.insert(2, \"24\", df24['cratio']/mean_cratio + df24['speed']/mean_speed)\n",
    "df24 = df24.drop(['cratio', 'speed'], axis = 1)\n",
    "df24 = df24.reset_index()\n",
    "df24 = df24.drop(['index'], axis = 1)"
   ]
  },
  {
   "cell_type": "code",
   "execution_count": 431,
   "id": "22820068",
   "metadata": {},
   "outputs": [],
   "source": [
    "df25 = pd.DataFrame()\n",
    "df25 = pd.concat([df25, filtered_df_blosclz_bitshuffle_nosplit], axis = 0)\n",
    "df25 = df25.drop(['special_vals', 'nchunk', 'category', 'codec_filter'], axis = 1)\n",
    "\n",
    "df25.insert(2, \"25\", df25['cratio']/mean_cratio + df25['speed']/mean_speed)\n",
    "df25 = df25.drop(['cratio', 'speed'], axis = 1)\n",
    "df25 = df25.reset_index()\n",
    "df25 = df25.drop(['index'], axis = 1)"
   ]
  },
  {
   "cell_type": "code",
   "execution_count": 432,
   "id": "ed9beec3",
   "metadata": {},
   "outputs": [],
   "source": [
    "df26 = pd.DataFrame()\n",
    "df26 = pd.concat([df26, filtered_df_lz4_bitshuffle_nosplit], axis = 0)\n",
    "df26 = df26.drop(['special_vals', 'nchunk', 'category', 'codec_filter'], axis = 1)\n",
    "\n",
    "df26.insert(2, \"26\", df26['cratio']/mean_cratio + df26['speed']/mean_speed)\n",
    "df26 = df26.drop(['cratio', 'speed'], axis = 1)\n",
    "df26 = df26.reset_index()\n",
    "df26 = df26.drop(['index'], axis = 1)"
   ]
  },
  {
   "cell_type": "code",
   "execution_count": 433,
   "id": "d6c30dcb",
   "metadata": {},
   "outputs": [],
   "source": [
    "df27 = pd.DataFrame()\n",
    "df27 = pd.concat([df27, filtered_df_lz4hc_bitshuffle_nosplit], axis = 0)\n",
    "df27 = df27.drop(['special_vals', 'nchunk', 'category', 'codec_filter'], axis = 1)\n",
    "\n",
    "df27.insert(2, \"27\", df27['cratio']/mean_cratio + df27['speed']/mean_speed)\n",
    "df27 = df27.drop(['cratio', 'speed'], axis = 1)\n",
    "df27 = df27.reset_index()\n",
    "df27 = df27.drop(['index'], axis = 1)"
   ]
  },
  {
   "cell_type": "code",
   "execution_count": 434,
   "id": "800e4814",
   "metadata": {},
   "outputs": [],
   "source": [
    "df28 = pd.DataFrame()\n",
    "df28 = pd.concat([df28, filtered_df_zlib_bitshuffle_nosplit], axis = 0)\n",
    "df28 = df28.drop(['special_vals', 'nchunk', 'category', 'codec_filter'], axis = 1)\n",
    "\n",
    "df28.insert(2, \"28\", df28['cratio']/mean_cratio + df28['speed']/mean_speed)\n",
    "df28 = df28.drop(['cratio', 'speed'], axis = 1)\n",
    "df28 = df28.reset_index()\n",
    "df28 = df28.drop(['index'], axis = 1)"
   ]
  },
  {
   "cell_type": "code",
   "execution_count": 435,
   "id": "879a742f",
   "metadata": {},
   "outputs": [],
   "source": [
    "df29 = pd.DataFrame()\n",
    "df29 = pd.concat([df29, filtered_df_zstd_bitshuffle_nosplit], axis = 0)\n",
    "df29 = df29.drop(['special_vals', 'nchunk', 'category', 'codec_filter'], axis = 1)\n",
    "\n",
    "df29.insert(2, \"29\", df29['cratio']/mean_cratio + df29['speed']/mean_speed)\n",
    "df29 = df29.drop(['cratio', 'speed'], axis = 1)\n",
    "df29 = df29.reset_index()\n",
    "df29 = df29.drop(['index'], axis = 1)"
   ]
  },
  {
   "cell_type": "code",
   "execution_count": 436,
   "id": "33fa24df",
   "metadata": {},
   "outputs": [],
   "source": [
    "df = pd.DataFrame()\n",
    "df = pd.concat([df0, df1, df2, df3, df4, df5, df6, df7, df8, df9, df10, df11, df12, df13, df14,\n",
    "               df15, df16, df17, df18, df19, df20, df21, df22, df23, df24, df25, df26, df27, df28, df29], axis=1)"
   ]
  },
  {
   "cell_type": "code",
   "execution_count": 437,
   "id": "afd3c9f0",
   "metadata": {},
   "outputs": [],
   "source": [
    "pos_min = df.idxmin(axis=1)\n",
    "pos_min = pd.DataFrame(pos_min, columns=['pos_min'])"
   ]
  },
  {
   "cell_type": "code",
   "execution_count": 438,
   "id": "e45bc646",
   "metadata": {},
   "outputs": [],
   "source": [
    "df_nofilter = pd.DataFrame()\n",
    "df_nofilter = pd.concat([df0, df1, df2, df3, df4, df15, df16, df17, df18, df19], axis=1)\n",
    "df_shuffle = pd.DataFrame()\n",
    "df_shuffle = pd.concat([df5, df6, df7, df8, df9, df20, df21, df22, df23, df24], axis=1)\n",
    "df_bitshuffle = pd.DataFrame()\n",
    "df_bitshuffle = pd.concat([df10, df11, df12, df13, df14, df25, df26, df27, df28, df29], axis=1)"
   ]
  },
  {
   "cell_type": "code",
   "execution_count": 439,
   "id": "fafa53bb",
   "metadata": {},
   "outputs": [],
   "source": [
    "df_input_nofilter = pd.concat([filtered_df_entropy_nofitler[['cratio', 'speed']], pos_min], axis=1)\n",
    "df_input_shuffle = pd.concat([filtered_df_entropy_shuffle[['cratio', 'speed']], pos_min], axis=1)\n",
    "df_input_bitshuffle = pd.concat([filtered_df_entropy_bitshuffle[['cratio', 'speed']], pos_min], axis=1)"
   ]
  },
  {
   "cell_type": "code",
   "execution_count": 440,
   "id": "b9b0a8cb",
   "metadata": {},
   "outputs": [],
   "source": [
    "dfinput = df_input_shuffle\n",
    "\n",
    "dfinput_x = dfinput[['cratio', 'speed']]\n",
    "dfinput_y = dfinput[['pos_min']]"
   ]
  },
  {
   "cell_type": "code",
   "execution_count": 441,
   "id": "8e7a7444",
   "metadata": {},
   "outputs": [],
   "source": [
    "#dfinput[dfinput['pos_min']=='29']"
   ]
  },
  {
   "cell_type": "code",
   "execution_count": 442,
   "id": "7935ec26",
   "metadata": {},
   "outputs": [],
   "source": [
    "from keras.utils import to_categorical\n",
    "dfinput_y = to_categorical(dfinput_y)"
   ]
  },
  {
   "cell_type": "code",
   "execution_count": 443,
   "id": "3a77e9be",
   "metadata": {},
   "outputs": [],
   "source": [
    "from keras import models, layers\n",
    "\n",
    "model = models.Sequential()\n",
    "model.add(layers.Dense(2, activation='relu', input_shape=(1,2)))\n",
    "model.add(layers.Dense(15, activation='relu'))\n",
    "model.add(layers.Dense(20, activation='relu'))\n",
    "model.add(layers.Dense(22, activation='relu'))\n",
    "model.add(layers.Dense(25, activation='softmax'))"
   ]
  },
  {
   "cell_type": "code",
   "execution_count": 444,
   "id": "09a20394",
   "metadata": {},
   "outputs": [],
   "source": [
    "model.compile(optimizer='adam',\n",
    "              loss='categorical_crossentropy',\n",
    "              metrics=['acc'])"
   ]
  },
  {
   "cell_type": "code",
   "execution_count": 453,
   "id": "036951e1",
   "metadata": {},
   "outputs": [
    {
     "name": "stdout",
     "output_type": "stream",
     "text": [
      "Epoch 1/40\n",
      "8/8 [==============================] - 0s 6ms/step - loss: 1.8677 - acc: 0.3739 - val_loss: 1.8272 - val_acc: 0.4615\n",
      "Epoch 2/40\n",
      "8/8 [==============================] - 0s 3ms/step - loss: 1.8664 - acc: 0.3739 - val_loss: 1.8254 - val_acc: 0.4615\n",
      "Epoch 3/40\n",
      "8/8 [==============================] - 0s 3ms/step - loss: 1.8652 - acc: 0.3739 - val_loss: 1.8237 - val_acc: 0.4615\n",
      "Epoch 4/40\n",
      "8/8 [==============================] - 0s 3ms/step - loss: 1.8640 - acc: 0.3739 - val_loss: 1.8221 - val_acc: 0.4615\n",
      "Epoch 5/40\n",
      "8/8 [==============================] - 0s 3ms/step - loss: 1.8629 - acc: 0.3739 - val_loss: 1.8206 - val_acc: 0.4615\n",
      "Epoch 6/40\n",
      "8/8 [==============================] - 0s 3ms/step - loss: 1.8617 - acc: 0.3739 - val_loss: 1.8190 - val_acc: 0.4615\n",
      "Epoch 7/40\n",
      "8/8 [==============================] - 0s 3ms/step - loss: 1.8605 - acc: 0.3739 - val_loss: 1.8174 - val_acc: 0.4615\n",
      "Epoch 8/40\n",
      "8/8 [==============================] - 0s 3ms/step - loss: 1.8594 - acc: 0.3739 - val_loss: 1.8156 - val_acc: 0.4615\n",
      "Epoch 9/40\n",
      "8/8 [==============================] - 0s 3ms/step - loss: 1.8582 - acc: 0.3739 - val_loss: 1.8139 - val_acc: 0.4615\n",
      "Epoch 10/40\n",
      "8/8 [==============================] - 0s 3ms/step - loss: 1.8570 - acc: 0.3739 - val_loss: 1.8128 - val_acc: 0.4615\n",
      "Epoch 11/40\n",
      "8/8 [==============================] - 0s 3ms/step - loss: 1.8560 - acc: 0.3739 - val_loss: 1.8116 - val_acc: 0.4615\n",
      "Epoch 12/40\n",
      "8/8 [==============================] - 0s 3ms/step - loss: 1.8550 - acc: 0.3739 - val_loss: 1.8105 - val_acc: 0.4615\n",
      "Epoch 13/40\n",
      "8/8 [==============================] - 0s 3ms/step - loss: 1.8539 - acc: 0.3739 - val_loss: 1.8091 - val_acc: 0.4615\n",
      "Epoch 14/40\n",
      "8/8 [==============================] - 0s 3ms/step - loss: 1.8528 - acc: 0.3739 - val_loss: 1.8074 - val_acc: 0.4615\n",
      "Epoch 15/40\n",
      "8/8 [==============================] - 0s 3ms/step - loss: 1.8517 - acc: 0.3739 - val_loss: 1.8056 - val_acc: 0.4615\n",
      "Epoch 16/40\n",
      "8/8 [==============================] - 0s 3ms/step - loss: 1.8506 - acc: 0.3739 - val_loss: 1.8041 - val_acc: 0.4615\n",
      "Epoch 17/40\n",
      "8/8 [==============================] - 0s 3ms/step - loss: 1.8494 - acc: 0.3739 - val_loss: 1.8026 - val_acc: 0.4615\n",
      "Epoch 18/40\n",
      "8/8 [==============================] - 0s 3ms/step - loss: 1.8484 - acc: 0.3739 - val_loss: 1.8009 - val_acc: 0.4615\n",
      "Epoch 19/40\n",
      "8/8 [==============================] - 0s 3ms/step - loss: 1.8473 - acc: 0.3739 - val_loss: 1.7997 - val_acc: 0.4615\n",
      "Epoch 20/40\n",
      "8/8 [==============================] - 0s 3ms/step - loss: 1.8463 - acc: 0.3739 - val_loss: 1.7981 - val_acc: 0.4615\n",
      "Epoch 21/40\n",
      "8/8 [==============================] - 0s 3ms/step - loss: 1.8454 - acc: 0.3739 - val_loss: 1.7966 - val_acc: 0.4615\n",
      "Epoch 22/40\n",
      "8/8 [==============================] - 0s 3ms/step - loss: 1.8444 - acc: 0.3739 - val_loss: 1.7952 - val_acc: 0.4615\n",
      "Epoch 23/40\n",
      "8/8 [==============================] - 0s 3ms/step - loss: 1.8436 - acc: 0.3739 - val_loss: 1.7939 - val_acc: 0.4615\n",
      "Epoch 24/40\n",
      "8/8 [==============================] - 0s 3ms/step - loss: 1.8427 - acc: 0.3739 - val_loss: 1.7927 - val_acc: 0.4615\n",
      "Epoch 25/40\n",
      "8/8 [==============================] - 0s 3ms/step - loss: 1.8419 - acc: 0.3739 - val_loss: 1.7915 - val_acc: 0.4615\n",
      "Epoch 26/40\n",
      "8/8 [==============================] - 0s 3ms/step - loss: 1.8410 - acc: 0.3739 - val_loss: 1.7905 - val_acc: 0.4615\n",
      "Epoch 27/40\n",
      "8/8 [==============================] - 0s 3ms/step - loss: 1.8401 - acc: 0.3739 - val_loss: 1.7895 - val_acc: 0.4615\n",
      "Epoch 28/40\n",
      "8/8 [==============================] - 0s 3ms/step - loss: 1.8393 - acc: 0.3739 - val_loss: 1.7882 - val_acc: 0.4615\n",
      "Epoch 29/40\n",
      "8/8 [==============================] - 0s 3ms/step - loss: 1.8383 - acc: 0.3739 - val_loss: 1.7870 - val_acc: 0.4615\n",
      "Epoch 30/40\n",
      "8/8 [==============================] - 0s 3ms/step - loss: 1.8374 - acc: 0.3739 - val_loss: 1.7857 - val_acc: 0.4615\n",
      "Epoch 31/40\n",
      "8/8 [==============================] - 0s 3ms/step - loss: 1.8365 - acc: 0.3739 - val_loss: 1.7846 - val_acc: 0.4615\n",
      "Epoch 32/40\n",
      "8/8 [==============================] - 0s 3ms/step - loss: 1.8357 - acc: 0.3739 - val_loss: 1.7837 - val_acc: 0.4615\n",
      "Epoch 33/40\n",
      "8/8 [==============================] - 0s 3ms/step - loss: 1.8349 - acc: 0.3739 - val_loss: 1.7826 - val_acc: 0.4615\n",
      "Epoch 34/40\n",
      "8/8 [==============================] - 0s 3ms/step - loss: 1.8341 - acc: 0.3739 - val_loss: 1.7814 - val_acc: 0.4615\n",
      "Epoch 35/40\n",
      "8/8 [==============================] - 0s 3ms/step - loss: 1.8333 - acc: 0.3739 - val_loss: 1.7805 - val_acc: 0.4615\n",
      "Epoch 36/40\n",
      "8/8 [==============================] - 0s 4ms/step - loss: 1.8325 - acc: 0.3739 - val_loss: 1.7796 - val_acc: 0.4615\n",
      "Epoch 37/40\n",
      "8/8 [==============================] - 0s 3ms/step - loss: 1.8318 - acc: 0.3739 - val_loss: 1.7783 - val_acc: 0.4615\n",
      "Epoch 38/40\n",
      "8/8 [==============================] - 0s 3ms/step - loss: 1.8309 - acc: 0.3739 - val_loss: 1.7773 - val_acc: 0.4615\n",
      "Epoch 39/40\n",
      "8/8 [==============================] - 0s 3ms/step - loss: 1.8301 - acc: 0.3739 - val_loss: 1.7763 - val_acc: 0.4615\n",
      "Epoch 40/40\n",
      "8/8 [==============================] - 0s 3ms/step - loss: 1.8294 - acc: 0.3739 - val_loss: 1.7751 - val_acc: 0.4615\n"
     ]
    }
   ],
   "source": [
    "history = model.fit(dfinput_x, dfinput_y, epochs=40, validation_split=0.1)"
   ]
  },
  {
   "cell_type": "code",
   "execution_count": 454,
   "id": "b8acf9dc",
   "metadata": {},
   "outputs": [
    {
     "data": {
      "image/png": "[encoded data removed]",
      "text/plain": [
       "<Figure size 1000x500 with 2 Axes>"
      ]
     },
     "metadata": {
      "needs_background": "light"
     },
     "output_type": "display_data"
    }
   ],
   "source": [
    "_, ax = plt.subplots(1, 2, figsize=(10, 5), dpi=100)\n",
    "ax[0].plot(history.history['acc'], 'r')\n",
    "ax[0].plot(history.history['val_acc'], 'g')\n",
    "ax[0].set_xlabel(\"Num of Epochs\")\n",
    "ax[0].set_ylabel(\"Accuracy\")\n",
    "ax[0].set_title(\"Training Accuracy vs Validation Accuracy\")\n",
    "ax[0].legend(['train', 'validation'])\n",
    "\n",
    "ax[1].plot(history.history['loss'], 'r')\n",
    "ax[1].plot(history.history['val_loss'], 'g')\n",
    "ax[1].set_xlabel(\"Num of Epochs\")\n",
    "ax[1].set_ylabel(\"Loss\")\n",
    "ax[1].set_title(\"Training Loss vs Validation Loss\")\n",
    "ax[1].legend(['train', 'validation'])\n",
    "\n",
    "plt.tight_layout()"
   ]
  },
  {
   "cell_type": "code",
   "execution_count": 455,
   "id": "624bf514",
   "metadata": {},
   "outputs": [
    {
     "name": "stdout",
     "output_type": "stream",
     "text": [
      "WARNING:tensorflow:Model was constructed with shape (None, 1, 2) for input KerasTensor(type_spec=TensorSpec(shape=(None, 1, 2), dtype=tf.float32, name='dense_110_input'), name='dense_110_input', description=\"created by layer 'dense_110_input'\"), but it was called on an input with incompatible shape (32, 2).\n"
     ]
    },
    {
     "data": {
      "text/plain": [
       "array([[0.00084648, 0.00065231, 0.02227719, ..., 0.07736369, 0.00079084,\n",
       "        0.09823576],\n",
       "       [0.00084648, 0.00065231, 0.02227719, ..., 0.07736369, 0.00079084,\n",
       "        0.09823576],\n",
       "       [0.00084648, 0.00065231, 0.02227719, ..., 0.07736369, 0.00079084,\n",
       "        0.09823576],\n",
       "       ...,\n",
       "       [0.00084648, 0.00065231, 0.02227719, ..., 0.07736369, 0.00079084,\n",
       "        0.09823576],\n",
       "       [0.00084648, 0.00065231, 0.02227719, ..., 0.07736369, 0.00079084,\n",
       "        0.09823576],\n",
       "       [0.00084648, 0.00065231, 0.02227719, ..., 0.07736369, 0.00079084,\n",
       "        0.09823576]], dtype=float32)"
      ]
     },
     "execution_count": 455,
     "metadata": {},
     "output_type": "execute_result"
    }
   ],
   "source": [
    "y_hat = model.predict(x=dfinput_x)\n",
    "y_hat"
   ]
  },
  {
   "cell_type": "code",
   "execution_count": 456,
   "id": "bf39e35f",
   "metadata": {},
   "outputs": [],
   "source": [
    "y_pred_label = np.argmax(y_hat, axis = 1)\n",
    "y_true_label = np.argmax(dfinput_y, axis = 1)"
   ]
  },
  {
   "cell_type": "code",
   "execution_count": 457,
   "id": "b662f163",
   "metadata": {},
   "outputs": [
    {
     "data": {
      "text/plain": [
       "array([9, 9, 9, 9, 9, 9, 9, 9, 9, 9, 9, 9, 9, 9, 9, 9, 9, 9, 9, 9, 9, 9,\n",
       "       9, 9, 9, 9, 9, 9, 9, 9, 9, 9, 9, 9, 9, 9, 9, 9, 9, 9, 9, 9, 9, 9,\n",
       "       9, 9, 9, 9, 9, 9, 9, 9, 9, 9, 9, 9, 9, 9, 9, 9, 9, 9, 9, 9, 9, 9,\n",
       "       9, 9, 9, 9, 9, 9, 9, 9, 9, 9, 9, 9, 9, 9, 9, 9, 9, 9, 9, 9, 9, 9,\n",
       "       9, 9, 9, 9, 9, 9, 9, 9, 9, 9, 9, 9, 9, 9, 9, 9, 9, 9, 9, 9, 9, 9,\n",
       "       9, 9, 9, 9, 9, 9, 9, 9, 9, 9, 9, 9, 9, 9, 9, 9, 9, 9, 9, 9, 9, 9,\n",
       "       9, 9, 9, 9, 9, 9, 9, 9, 9, 9, 9, 9, 9, 9, 9, 9, 9, 9, 9, 9, 9, 9,\n",
       "       9, 9, 9, 9, 9, 9, 9, 9, 9, 9, 9, 9, 9, 9, 9, 9, 9, 9, 9, 9, 9, 9,\n",
       "       9, 9, 9, 9, 9, 9, 9, 9, 9, 9, 9, 9, 9, 9, 9, 9, 9, 9, 9, 9, 9, 9,\n",
       "       9, 9, 9, 9, 9, 9, 9, 9, 9, 9, 9, 9, 9, 9, 9, 9, 9, 9, 9, 9, 9, 9,\n",
       "       9, 9, 9, 9, 9, 9, 9, 9, 9, 9, 9, 9, 9, 9, 9, 9, 9, 9, 9, 9, 9, 9,\n",
       "       9, 9, 9, 9, 9, 9, 9, 9, 9, 9, 9, 9, 9, 9])"
      ]
     },
     "execution_count": 457,
     "metadata": {},
     "output_type": "execute_result"
    }
   ],
   "source": [
    "y_pred_label"
   ]
  },
  {
   "cell_type": "code",
   "execution_count": 458,
   "id": "2cf622ab",
   "metadata": {},
   "outputs": [
    {
     "data": {
      "text/plain": [
       "array([ 2, 17,  9,  7, 17, 17,  9,  9,  4,  4,  9,  9, 24,  4,  9,  9, 24,\n",
       "       24,  9,  9,  4, 24,  9,  9,  4,  4,  7,  9, 24, 24,  9,  9, 22, 22,\n",
       "        7,  7, 22, 22,  7,  7,  4, 19,  9,  9,  4, 19,  9,  9,  4,  4,  9,\n",
       "        9,  4,  4,  9,  9,  4,  4,  9,  9, 24, 24,  9,  9, 22, 22,  7,  7,\n",
       "       22, 22,  7,  7, 24, 24,  9,  9,  4, 19,  9,  9, 19,  4,  9,  9, 19,\n",
       "       19,  9,  9,  4,  4,  9,  9, 19, 19,  9,  9, 22, 22,  7,  7, 17,  2,\n",
       "        7,  7, 19, 19,  9,  9, 24,  4,  9,  9, 19, 19,  9,  9, 24, 24,  9,\n",
       "        9,  4,  4,  9,  9, 19, 19,  9,  4, 22,  2,  7,  7, 22, 22,  7,  7,\n",
       "       24, 24,  9,  9,  4,  4,  9,  9, 19, 19,  9,  9,  4,  4,  9,  9,  4,\n",
       "        4,  9,  9, 19, 19,  9,  9,  4, 17,  7,  7, 17,  4,  7,  7, 24,  4,\n",
       "        9,  9,  4,  4,  9,  9,  4, 19,  9,  9,  4, 24,  9,  9,  4,  4,  9,\n",
       "        9, 19, 19,  9,  9, 22, 22,  7,  7, 19,  4, 14,  4,  4, 19,  9,  9,\n",
       "        4,  4,  9,  9,  4,  4,  9,  9, 24,  4,  9,  9,  4,  4,  9,  9, 19,\n",
       "       19,  9,  9, 22,  2,  9,  7, 19, 19, 14,  7, 19,  4,  9,  9, 19, 19,\n",
       "        9,  9,  4,  4,  9,  9, 19, 19,  9,  9,  4,  4,  9,  9, 24, 24,  9,\n",
       "        9])"
      ]
     },
     "execution_count": 458,
     "metadata": {},
     "output_type": "execute_result"
    }
   ],
   "source": [
    "y_true_label"
   ]
  },
  {
   "cell_type": "code",
   "execution_count": 462,
   "id": "a0226864",
   "metadata": {},
   "outputs": [
    {
     "data": {
      "text/plain": [
       "array([9, 9, 9, 9, 9, 9, 9, 9, 9, 9, 9, 9, 9, 9, 9, 9, 9, 9, 9, 9, 9, 9,\n",
       "       9, 9, 9, 9, 9, 9, 9, 9, 9, 9, 9, 9, 9, 9, 9, 9, 9, 9, 9, 9, 9, 9,\n",
       "       9, 9, 9, 9, 9, 9, 9, 9, 9, 9, 9, 9, 9, 9, 9, 9, 9, 9, 9, 9, 9, 9,\n",
       "       9, 9, 9, 9, 9, 9, 9, 9, 9, 9, 9, 9, 9, 9, 9, 9, 9, 9, 9, 9, 9, 9,\n",
       "       9, 9, 9, 9, 9, 9, 9, 9, 9, 9, 9, 9, 9, 9, 9, 9, 9, 9, 9, 9, 9, 9,\n",
       "       9, 9, 9, 9, 9, 9, 9, 9, 9, 9, 9, 9, 9, 9, 9, 9, 9, 9, 9, 9, 9, 9,\n",
       "       9, 9, 9, 9, 9, 9, 9, 9, 9, 9, 9, 9, 9, 9, 9, 9, 9, 9, 9, 9, 9, 9,\n",
       "       9, 9, 9, 9, 9, 9, 9, 9, 9, 9, 9, 9, 9, 9, 9, 9, 9, 9, 9, 9, 9, 9,\n",
       "       9, 9, 9, 9, 9, 9, 9, 9, 9, 9, 9, 9, 9, 9, 9, 9, 9, 9, 9, 9, 9, 9,\n",
       "       9, 9, 9, 9, 9, 9, 9, 9, 9, 9, 9, 9, 9, 9, 9, 9, 9, 9, 9, 9, 9, 9,\n",
       "       9, 9, 9, 9, 9, 9, 9, 9, 9, 9, 9, 9, 9, 9, 9, 9, 9, 9, 9, 9, 9, 9,\n",
       "       9, 9, 9, 9, 9, 9, 9, 9, 9, 9, 9, 9, 9, 9])"
      ]
     },
     "execution_count": 462,
     "metadata": {},
     "output_type": "execute_result"
    }
   ],
   "source": [
    "y_pred_label"
   ]
  },
  {
   "cell_type": "code",
   "execution_count": 465,
   "id": "e72fb28e",
   "metadata": {},
   "outputs": [
    {
     "data": {
      "text/html": [
       "<div>\n",
       "<style scoped>\n",
       "    .dataframe tbody tr th:only-of-type {\n",
       "        vertical-align: middle;\n",
       "    }\n",
       "\n",
       "    .dataframe tbody tr th {\n",
       "        vertical-align: top;\n",
       "    }\n",
       "\n",
       "    .dataframe thead th {\n",
       "        text-align: right;\n",
       "    }\n",
       "</style>\n",
       "<table border=\"1\" class=\"dataframe\">\n",
       "  <thead>\n",
       "    <tr style=\"text-align: right;\">\n",
       "      <th>col_0</th>\n",
       "      <th>2</th>\n",
       "      <th>4</th>\n",
       "      <th>7</th>\n",
       "      <th>9</th>\n",
       "      <th>14</th>\n",
       "      <th>17</th>\n",
       "      <th>19</th>\n",
       "      <th>22</th>\n",
       "      <th>24</th>\n",
       "    </tr>\n",
       "    <tr>\n",
       "      <th>row_0</th>\n",
       "      <th></th>\n",
       "      <th></th>\n",
       "      <th></th>\n",
       "      <th></th>\n",
       "      <th></th>\n",
       "      <th></th>\n",
       "      <th></th>\n",
       "      <th></th>\n",
       "      <th></th>\n",
       "    </tr>\n",
       "  </thead>\n",
       "  <tbody>\n",
       "    <tr>\n",
       "      <th>9</th>\n",
       "      <td>4</td>\n",
       "      <td>52</td>\n",
       "      <td>26</td>\n",
       "      <td>98</td>\n",
       "      <td>2</td>\n",
       "      <td>6</td>\n",
       "      <td>32</td>\n",
       "      <td>16</td>\n",
       "      <td>20</td>\n",
       "    </tr>\n",
       "  </tbody>\n",
       "</table>\n",
       "</div>"
      ],
      "text/plain": [
       "col_0  2   4   7   9   14  17  19  22  24\n",
       "row_0                                    \n",
       "9       4  52  26  98   2   6  32  16  20"
      ]
     },
     "execution_count": 465,
     "metadata": {},
     "output_type": "execute_result"
    }
   ],
   "source": [
    "tabla = pd.crosstab(y_pred_label, y_true_label)\n",
    "tabla"
   ]
  },
  {
   "cell_type": "code",
   "execution_count": 464,
   "id": "e88a6dba",
   "metadata": {},
   "outputs": [
    {
     "data": {
      "text/plain": [
       "(1, 9)"
      ]
     },
     "execution_count": 464,
     "metadata": {},
     "output_type": "execute_result"
    }
   ],
   "source": [
    "pd.crosstab(y_pred_label, y_true_label).shape"
   ]
  },
  {
   "cell_type": "code",
   "execution_count": 471,
   "id": "b974a0af",
   "metadata": {},
   "outputs": [
    {
     "data": {
      "text/plain": [
       "row_0\n",
       "9    98\n",
       "dtype: int64"
      ]
     },
     "execution_count": 471,
     "metadata": {},
     "output_type": "execute_result"
    }
   ],
   "source": [
    "gana = tabla.max(axis = 1)\n",
    "gana"
   ]
  },
  {
   "cell_type": "markdown",
   "id": "ed8c5dad",
   "metadata": {},
   "source": [
    "# DEEP LEARNING - RED NEURONAL"
   ]
  },
  {
   "cell_type": "code",
   "execution_count": 548,
   "id": "97925df3",
   "metadata": {},
   "outputs": [],
   "source": [
    "#(solo las categorías sin split: 0-14)\n",
    "data_real = pd.DataFrame()\n",
    "data_real = pd.concat([data_real, filtered_df_blosclz_nofilter_split, \n",
    "                      filtered_df_lz4_nofilter_split, \n",
    "                      filtered_df_lz4hc_nofilter_split, \n",
    "                      filtered_df_zlib_nofilter_split, \n",
    "                      filtered_df_zstd_nofilter_split, \n",
    "                      \n",
    "                      filtered_df_blosclz_shuffle_split, \n",
    "                      filtered_df_lz4_shuffle_split, \n",
    "                      filtered_df_lz4hc_shuffle_split, \n",
    "                      filtered_df_zlib_shuffle_split, \n",
    "                      filtered_df_zstd_shuffle_split, \n",
    "                      \n",
    "                      filtered_df_blosclz_bitshuffle_split, \n",
    "                      filtered_df_lz4_bitshuffle_split, \n",
    "                      filtered_df_lz4hc_bitshuffle_split, \n",
    "                      filtered_df_zlib_bitshuffle_split, \n",
    "                      filtered_df_zstd_bitshuffle_split], axis = 0)\n",
    "\n",
    "labels_real = pd.Series(data_real['category'])\n",
    "\n",
    "data_real = data_real.drop(['special_vals', 'nchunk', 'codec_filter'], axis = 1)"
   ]
  },
  {
   "cell_type": "code",
   "execution_count": 549,
   "id": "50a7fd68",
   "metadata": {},
   "outputs": [],
   "source": [
    "data_entropy = pd.DataFrame()\n",
    "data_entropy = pd.concat([data_entropy, filtered_df_entropy_nofitler, \n",
    "                         filtered_df_entropy_shuffle, \n",
    "                          filtered_df_entropy_bitshuffle], axis = 0)"
   ]
  },
  {
   "cell_type": "markdown",
   "id": "309d0910",
   "metadata": {},
   "source": [
    "Quiero la mayor cratio/mean(cratio) + speed/mean(speed) para cada bloque (split en este caso).\n"
   ]
  },
  {
   "cell_type": "code",
   "execution_count": 550,
   "id": "ea85c6ec",
   "metadata": {},
   "outputs": [],
   "source": [
    "mean_speed = data_real['speed'].mean()\n",
    "mean_cratio = data_real['cratio'].mean()"
   ]
  },
  {
   "cell_type": "code",
   "execution_count": 555,
   "id": "63cf5f58",
   "metadata": {},
   "outputs": [],
   "source": [
    "#Me quedo con las columnas cratio y speed\n",
    "df0 = pd.DataFrame()\n",
    "df0 = pd.concat([df0, filtered_df_blosclz_nofilter_split], axis = 0)\n",
    "\n",
    "df0 = df0.drop(['special_vals', 'nchunk', 'category', 'codec_filter'], axis = 1)\n",
    "\n",
    "#Añado la columna que contiene la suma de cratio y speed\n",
    "#df1.insert(2, \"0\", df1.sum(axis=1))\n",
    "df0.insert(2, \"0\", df0['cratio']/mean_cratio + df0['speed']/mean_speed)\n",
    "\n",
    "#Me quedo solo con la columna suma\n",
    "df0 = df0.drop(['cratio', 'speed'], axis = 1)\n",
    "\n",
    "#Este dataframe contiene la función que queremos maximizar para cada bloque \n",
    "#(en este caso para la combinación blosclz - nofilter - split)"
   ]
  },
  {
   "cell_type": "code",
   "execution_count": 556,
   "id": "75d055b9",
   "metadata": {},
   "outputs": [],
   "source": [
    "df1 = pd.DataFrame()\n",
    "df1 = pd.concat([df1, filtered_df_lz4_nofilter_split], axis = 0)\n",
    "df1 = df1.drop(['special_vals', 'nchunk', 'category', 'codec_filter'], axis = 1)\n",
    "\n",
    "df1.insert(2, \"1\", df1['cratio']/mean_cratio + df1['speed']/mean_speed)\n",
    "df1 = df1.drop(['cratio', 'speed'], axis = 1)"
   ]
  },
  {
   "cell_type": "code",
   "execution_count": 557,
   "id": "e040f543",
   "metadata": {},
   "outputs": [],
   "source": [
    "df2 = pd.DataFrame()\n",
    "df2 = pd.concat([df2, filtered_df_lz4hc_nofilter_split], axis = 0)\n",
    "df2 = df2.drop(['special_vals', 'nchunk', 'category', 'codec_filter'], axis = 1)\n",
    "\n",
    "df2.insert(2, \"2\", df2['cratio']/mean_cratio + df2['speed']/mean_speed)\n",
    "df2 = df2.drop(['cratio', 'speed'], axis = 1)"
   ]
  },
  {
   "cell_type": "code",
   "execution_count": 558,
   "id": "34034751",
   "metadata": {},
   "outputs": [],
   "source": [
    "df3 = pd.DataFrame()\n",
    "df3 = pd.concat([df3, filtered_df_zlib_nofilter_split], axis = 0)\n",
    "df3 = df3.drop(['special_vals', 'nchunk', 'category', 'codec_filter'], axis = 1)\n",
    "\n",
    "df3.insert(2, \"3\", df3['cratio']/mean_cratio + df3['speed']/mean_speed)\n",
    "df3 = df3.drop(['cratio', 'speed'], axis = 1)"
   ]
  },
  {
   "cell_type": "code",
   "execution_count": 559,
   "id": "2a8cfa5e",
   "metadata": {},
   "outputs": [],
   "source": [
    "df4 = pd.DataFrame()\n",
    "df4 = pd.concat([df4, filtered_df_zstd_nofilter_split], axis = 0)\n",
    "df4 = df4.drop(['special_vals', 'nchunk', 'category', 'codec_filter'], axis = 1)\n",
    "\n",
    "df4.insert(2, \"4\", df4['cratio']/mean_cratio + df4['speed']/mean_speed)\n",
    "df4 = df4.drop(['cratio', 'speed'], axis = 1)"
   ]
  },
  {
   "cell_type": "code",
   "execution_count": 560,
   "id": "cb720c35",
   "metadata": {},
   "outputs": [],
   "source": [
    "df5 = pd.DataFrame()\n",
    "df5 = pd.concat([df5, filtered_df_blosclz_shuffle_split], axis = 0)\n",
    "df5 = df5.drop(['special_vals', 'nchunk', 'category', 'codec_filter'], axis = 1)\n",
    "\n",
    "df5.insert(2, \"5\", df5['cratio']/mean_cratio + df5['speed']/mean_speed)\n",
    "df5 = df5.drop(['cratio', 'speed'], axis = 1)"
   ]
  },
  {
   "cell_type": "code",
   "execution_count": 561,
   "id": "19b3caec",
   "metadata": {},
   "outputs": [],
   "source": [
    "df6 = pd.DataFrame()\n",
    "df6 = pd.concat([df6, filtered_df_lz4_shuffle_split], axis = 0)\n",
    "df6 = df6.drop(['special_vals', 'nchunk', 'category', 'codec_filter'], axis = 1)\n",
    "\n",
    "df6.insert(2, \"6\", df6['cratio']/mean_cratio + df6['speed']/mean_speed)\n",
    "df6 = df6.drop(['cratio', 'speed'], axis = 1)"
   ]
  },
  {
   "cell_type": "code",
   "execution_count": 562,
   "id": "bccdcb67",
   "metadata": {},
   "outputs": [],
   "source": [
    "df7 = pd.DataFrame()\n",
    "df7 = pd.concat([df7, filtered_df_lz4hc_shuffle_split], axis = 0)\n",
    "df7 = df7.drop(['special_vals', 'nchunk', 'category', 'codec_filter'], axis = 1)\n",
    "\n",
    "df7.insert(2, \"7\", df7['cratio']/mean_cratio + df7['speed']/mean_speed)\n",
    "df7 = df7.drop(['cratio', 'speed'], axis = 1)"
   ]
  },
  {
   "cell_type": "code",
   "execution_count": 563,
   "id": "4d94eb19",
   "metadata": {},
   "outputs": [],
   "source": [
    "df8 = pd.DataFrame()\n",
    "df8 = pd.concat([df8, filtered_df_zlib_shuffle_split], axis = 0)\n",
    "df8 = df8.drop(['special_vals', 'nchunk', 'category', 'codec_filter'], axis = 1)\n",
    "\n",
    "df8.insert(2, \"8\", df8['cratio']/mean_cratio + df8['speed']/mean_speed)\n",
    "df8 = df8.drop(['cratio', 'speed'], axis = 1)"
   ]
  },
  {
   "cell_type": "code",
   "execution_count": 564,
   "id": "409fb13d",
   "metadata": {},
   "outputs": [],
   "source": [
    "df9 = pd.DataFrame()\n",
    "df9 = pd.concat([df9, filtered_df_zstd_shuffle_split], axis = 0)\n",
    "df9 = df9.drop(['special_vals', 'nchunk', 'category', 'codec_filter'], axis = 1)\n",
    "\n",
    "df9.insert(2, \"9\", df9['cratio']/mean_cratio + df9['speed']/mean_speed)\n",
    "df9 = df9.drop(['cratio', 'speed'], axis = 1)"
   ]
  },
  {
   "cell_type": "code",
   "execution_count": 565,
   "id": "96fccf8e",
   "metadata": {},
   "outputs": [],
   "source": [
    "df10 = pd.DataFrame()\n",
    "df10 = pd.concat([df10, filtered_df_blosclz_bitshuffle_split], axis = 0)\n",
    "df10 = df10.drop(['special_vals', 'nchunk', 'category', 'codec_filter'], axis = 1)\n",
    "\n",
    "df10.insert(2, \"10\", df10['cratio']/mean_cratio + df10['speed']/mean_speed)\n",
    "df10 = df10.drop(['cratio', 'speed'], axis = 1)"
   ]
  },
  {
   "cell_type": "code",
   "execution_count": 566,
   "id": "be3636f8",
   "metadata": {},
   "outputs": [],
   "source": [
    "df11 = pd.DataFrame()\n",
    "df11 = pd.concat([df11, filtered_df_lz4_bitshuffle_split], axis = 0)\n",
    "df11 = df11.drop(['special_vals', 'nchunk', 'category', 'codec_filter'], axis = 1)\n",
    "\n",
    "df11.insert(2, \"11\", df11['cratio']/mean_cratio + df11['speed']/mean_speed)\n",
    "df11 = df11.drop(['cratio', 'speed'], axis = 1)"
   ]
  },
  {
   "cell_type": "code",
   "execution_count": 567,
   "id": "d83b014c",
   "metadata": {},
   "outputs": [],
   "source": [
    "df12 = pd.DataFrame()\n",
    "df12 = pd.concat([df12, filtered_df_lz4_bitshuffle_split], axis = 0)\n",
    "df12 = df12.drop(['special_vals', 'nchunk', 'category', 'codec_filter'], axis = 1)\n",
    "\n",
    "df12.insert(2, \"12\", df12['cratio']/mean_cratio + df12['speed']/mean_speed)\n",
    "df12 = df12.drop(['cratio', 'speed'], axis = 1)"
   ]
  },
  {
   "cell_type": "code",
   "execution_count": 568,
   "id": "6b3a75dd",
   "metadata": {},
   "outputs": [],
   "source": [
    "df13 = pd.DataFrame()\n",
    "df13 = pd.concat([df13, filtered_df_zlib_bitshuffle_split], axis = 0)\n",
    "df13 = df13.drop(['special_vals', 'nchunk', 'category', 'codec_filter'], axis = 1)\n",
    "\n",
    "df13.insert(2, \"13\", df13['cratio']/mean_cratio + df13['speed']/mean_speed)\n",
    "df13 = df13.drop(['cratio', 'speed'], axis = 1)"
   ]
  },
  {
   "cell_type": "code",
   "execution_count": 569,
   "id": "d5751af2",
   "metadata": {},
   "outputs": [],
   "source": [
    "df14 = pd.DataFrame()\n",
    "df14 = pd.concat([df14, filtered_df_zstd_bitshuffle_split], axis = 0)\n",
    "df14 = df14.drop(['special_vals', 'nchunk', 'category', 'codec_filter'], axis = 1)\n",
    "\n",
    "df14.insert(2, \"14\", df14['cratio']/mean_cratio + df14['speed']/mean_speed)\n",
    "df14 = df14.drop(['cratio', 'speed'], axis = 1)"
   ]
  },
  {
   "cell_type": "code",
   "execution_count": 899,
   "id": "f1c65766",
   "metadata": {},
   "outputs": [],
   "source": [
    "df = pd.DataFrame()\n",
    "df = pd.concat([df0, df1, df2, df3, df4, df5, df6, df7, df8, df9, df10, df11, df12, df13, df14], axis=1)"
   ]
  },
  {
   "cell_type": "code",
   "execution_count": 900,
   "id": "341a211e",
   "metadata": {},
   "outputs": [
    {
     "data": {
      "text/html": [
       "<div>\n",
       "<style scoped>\n",
       "    .dataframe tbody tr th:only-of-type {\n",
       "        vertical-align: middle;\n",
       "    }\n",
       "\n",
       "    .dataframe tbody tr th {\n",
       "        vertical-align: top;\n",
       "    }\n",
       "\n",
       "    .dataframe thead th {\n",
       "        text-align: right;\n",
       "    }\n",
       "</style>\n",
       "<table border=\"1\" class=\"dataframe\">\n",
       "  <thead>\n",
       "    <tr style=\"text-align: right;\">\n",
       "      <th></th>\n",
       "      <th>pos_min</th>\n",
       "    </tr>\n",
       "  </thead>\n",
       "  <tbody>\n",
       "    <tr>\n",
       "      <th>0</th>\n",
       "      <td>2</td>\n",
       "    </tr>\n",
       "    <tr>\n",
       "      <th>1</th>\n",
       "      <td>2</td>\n",
       "    </tr>\n",
       "    <tr>\n",
       "      <th>2</th>\n",
       "      <td>9</td>\n",
       "    </tr>\n",
       "    <tr>\n",
       "      <th>3</th>\n",
       "      <td>7</td>\n",
       "    </tr>\n",
       "    <tr>\n",
       "      <th>4</th>\n",
       "      <td>2</td>\n",
       "    </tr>\n",
       "    <tr>\n",
       "      <th>...</th>\n",
       "      <td>...</td>\n",
       "    </tr>\n",
       "    <tr>\n",
       "      <th>251</th>\n",
       "      <td>9</td>\n",
       "    </tr>\n",
       "    <tr>\n",
       "      <th>252</th>\n",
       "      <td>2</td>\n",
       "    </tr>\n",
       "    <tr>\n",
       "      <th>253</th>\n",
       "      <td>4</td>\n",
       "    </tr>\n",
       "    <tr>\n",
       "      <th>254</th>\n",
       "      <td>9</td>\n",
       "    </tr>\n",
       "    <tr>\n",
       "      <th>255</th>\n",
       "      <td>9</td>\n",
       "    </tr>\n",
       "  </tbody>\n",
       "</table>\n",
       "<p>256 rows × 1 columns</p>\n",
       "</div>"
      ],
      "text/plain": [
       "    pos_min\n",
       "0         2\n",
       "1         2\n",
       "2         9\n",
       "3         7\n",
       "4         2\n",
       "..      ...\n",
       "251       9\n",
       "252       2\n",
       "253       4\n",
       "254       9\n",
       "255       9\n",
       "\n",
       "[256 rows x 1 columns]"
      ]
     },
     "execution_count": 900,
     "metadata": {},
     "output_type": "execute_result"
    }
   ],
   "source": [
    "pos_min = df.idxmin(axis=1)\n",
    "pos_min = pd.DataFrame(pos_min, columns=['pos_min'])\n",
    "\n",
    "df_ = pd.concat([df, pos_min], axis=1)"
   ]
  },
  {
   "cell_type": "code",
   "execution_count": 572,
   "id": "9de22d6a",
   "metadata": {},
   "outputs": [],
   "source": [
    "#df_cratio_speed = data_entropy[['cratio', 'speed']]\n",
    "#df_cratio_speed"
   ]
  },
  {
   "cell_type": "code",
   "execution_count": 573,
   "id": "1dcd5c5b",
   "metadata": {},
   "outputs": [],
   "source": [
    "df_nofilter = pd.DataFrame()\n",
    "df_nofilter = pd.concat([df0, df1, df2, df3, df4], axis=1)\n",
    "df_shuffle = pd.DataFrame()\n",
    "df_shuffle = pd.concat([df5, df6, df7, df8, df9], axis=1)\n",
    "df_bitshuffle = pd.DataFrame()\n",
    "df_bitshuffle = pd.concat([df10, df11, df12, df13, df14], axis=1)"
   ]
  },
  {
   "cell_type": "markdown",
   "id": "134a6d28",
   "metadata": {},
   "source": [
    "INPUT: entropy cratio - entropy speed - millor combinació (entre las 15 categ.)"
   ]
  },
  {
   "cell_type": "markdown",
   "id": "d0127e42",
   "metadata": {},
   "source": [
    "Classificar per filtre del entropy"
   ]
  },
  {
   "cell_type": "code",
   "execution_count": 576,
   "id": "3aabe9a2",
   "metadata": {},
   "outputs": [],
   "source": [
    "df_input_nofilter = pd.concat([filtered_df_entropy_nofitler[['cratio', 'speed']], pos_min], axis=1)\n",
    "df_input_shuffle = pd.concat([filtered_df_entropy_shuffle[['cratio', 'speed']], pos_min], axis=1)\n",
    "df_input_bitshuffle = pd.concat([filtered_df_entropy_bitshuffle[['cratio', 'speed']], pos_min], axis=1)"
   ]
  },
  {
   "cell_type": "markdown",
   "id": "cea6f10a",
   "metadata": {},
   "source": [
    "INPUT QUE USO EN NN"
   ]
  },
  {
   "cell_type": "code",
   "execution_count": 754,
   "id": "7b37967a",
   "metadata": {},
   "outputs": [],
   "source": [
    "dfinput = df_input_shuffle\n",
    "\n",
    "dfinput_x = dfinput[['cratio', 'speed']]\n",
    "dfinput_y = dfinput[['pos_min']]\n",
    "\n",
    "from keras.utils import to_categorical\n",
    "dfinput_y = to_categorical(dfinput_y)"
   ]
  },
  {
   "cell_type": "markdown",
   "id": "835b4a23",
   "metadata": {},
   "source": [
    "Construir el modelo"
   ]
  },
  {
   "cell_type": "code",
   "execution_count": 698,
   "id": "d7b6b145",
   "metadata": {},
   "outputs": [],
   "source": [
    "from keras import models, layers\n",
    "\n",
    "model = models.Sequential()\n",
    "model.add(layers.Dense(2, activation='relu', input_shape=(1,2)))\n",
    "model.add(layers.Dense(20, activation='relu'))\n",
    "model.add(layers.Dense(18, activation='relu'))\n",
    "model.add(layers.Dense(16, activation='relu'))\n",
    "model.add(layers.Dense(15, activation='softmax'))"
   ]
  },
  {
   "cell_type": "markdown",
   "id": "10bfef2c",
   "metadata": {},
   "source": [
    "Compilar el modelo"
   ]
  },
  {
   "cell_type": "code",
   "execution_count": 699,
   "id": "0cc21ac5",
   "metadata": {},
   "outputs": [],
   "source": [
    "model.compile(optimizer='adam',\n",
    "              loss='categorical_crossentropy',\n",
    "              metrics=['acc'])"
   ]
  },
  {
   "cell_type": "code",
   "execution_count": 702,
   "id": "01973d7d",
   "metadata": {},
   "outputs": [
    {
     "name": "stdout",
     "output_type": "stream",
     "text": [
      "Epoch 1/40\n",
      "8/8 [==============================] - 0s 7ms/step - loss: 2.4774 - acc: 0.1478 - val_loss: 2.4796 - val_acc: 0.0385\n",
      "Epoch 2/40\n",
      "8/8 [==============================] - 0s 4ms/step - loss: 2.4679 - acc: 0.1478 - val_loss: 2.4700 - val_acc: 0.0385\n",
      "Epoch 3/40\n",
      "8/8 [==============================] - 0s 3ms/step - loss: 2.4586 - acc: 0.1478 - val_loss: 2.4605 - val_acc: 0.0385\n",
      "Epoch 4/40\n",
      "8/8 [==============================] - 0s 3ms/step - loss: 2.4495 - acc: 0.1478 - val_loss: 2.4511 - val_acc: 0.0385\n",
      "Epoch 5/40\n",
      "8/8 [==============================] - 0s 3ms/step - loss: 2.4404 - acc: 0.1478 - val_loss: 2.4419 - val_acc: 0.0385\n",
      "Epoch 6/40\n",
      "8/8 [==============================] - 0s 3ms/step - loss: 2.4315 - acc: 0.1478 - val_loss: 2.4328 - val_acc: 0.0385\n",
      "Epoch 7/40\n",
      "8/8 [==============================] - 0s 3ms/step - loss: 2.4227 - acc: 0.1478 - val_loss: 2.4238 - val_acc: 0.0385\n",
      "Epoch 8/40\n",
      "8/8 [==============================] - 0s 3ms/step - loss: 2.4139 - acc: 0.1478 - val_loss: 2.4149 - val_acc: 0.0385\n",
      "Epoch 9/40\n",
      "8/8 [==============================] - 0s 3ms/step - loss: 2.4053 - acc: 0.1478 - val_loss: 2.4061 - val_acc: 0.0385\n",
      "Epoch 10/40\n",
      "8/8 [==============================] - 0s 3ms/step - loss: 2.3966 - acc: 0.1478 - val_loss: 2.3974 - val_acc: 0.0385\n",
      "Epoch 11/40\n",
      "8/8 [==============================] - 0s 3ms/step - loss: 2.3881 - acc: 0.1478 - val_loss: 2.3886 - val_acc: 0.0385\n",
      "Epoch 12/40\n",
      "8/8 [==============================] - 0s 4ms/step - loss: 2.3797 - acc: 0.1478 - val_loss: 2.3800 - val_acc: 0.0385\n",
      "Epoch 13/40\n",
      "8/8 [==============================] - 0s 3ms/step - loss: 2.3713 - acc: 0.1478 - val_loss: 2.3714 - val_acc: 0.0385\n",
      "Epoch 14/40\n",
      "8/8 [==============================] - 0s 3ms/step - loss: 2.3630 - acc: 0.1478 - val_loss: 2.3627 - val_acc: 0.0385\n",
      "Epoch 15/40\n",
      "8/8 [==============================] - 0s 3ms/step - loss: 2.3546 - acc: 0.1478 - val_loss: 2.3540 - val_acc: 0.0385\n",
      "Epoch 16/40\n",
      "8/8 [==============================] - 0s 3ms/step - loss: 2.3464 - acc: 0.1478 - val_loss: 2.3454 - val_acc: 0.0385\n",
      "Epoch 17/40\n",
      "8/8 [==============================] - 0s 4ms/step - loss: 2.3383 - acc: 0.1478 - val_loss: 2.3367 - val_acc: 0.0385\n",
      "Epoch 18/40\n",
      "8/8 [==============================] - 0s 3ms/step - loss: 2.3301 - acc: 0.1478 - val_loss: 2.3282 - val_acc: 0.0385\n",
      "Epoch 19/40\n",
      "8/8 [==============================] - 0s 3ms/step - loss: 2.3222 - acc: 0.1478 - val_loss: 2.3199 - val_acc: 0.0385\n",
      "Epoch 20/40\n",
      "8/8 [==============================] - 0s 4ms/step - loss: 2.3142 - acc: 0.1478 - val_loss: 2.3116 - val_acc: 0.0385\n",
      "Epoch 21/40\n",
      "8/8 [==============================] - 0s 3ms/step - loss: 2.3063 - acc: 0.1478 - val_loss: 2.3033 - val_acc: 0.0385\n",
      "Epoch 22/40\n",
      "8/8 [==============================] - 0s 4ms/step - loss: 2.2984 - acc: 0.1478 - val_loss: 2.2953 - val_acc: 0.0385\n",
      "Epoch 23/40\n",
      "8/8 [==============================] - 0s 3ms/step - loss: 2.2908 - acc: 0.1478 - val_loss: 2.2870 - val_acc: 0.0385\n",
      "Epoch 24/40\n",
      "8/8 [==============================] - 0s 3ms/step - loss: 2.2831 - acc: 0.1478 - val_loss: 2.2791 - val_acc: 0.0385\n",
      "Epoch 25/40\n",
      "8/8 [==============================] - 0s 3ms/step - loss: 2.2754 - acc: 0.1478 - val_loss: 2.2712 - val_acc: 0.0385\n",
      "Epoch 26/40\n",
      "8/8 [==============================] - 0s 3ms/step - loss: 2.2678 - acc: 0.2174 - val_loss: 2.2633 - val_acc: 0.4231\n",
      "Epoch 27/40\n",
      "8/8 [==============================] - 0s 3ms/step - loss: 2.2604 - acc: 0.3652 - val_loss: 2.2553 - val_acc: 0.4231\n",
      "Epoch 28/40\n",
      "8/8 [==============================] - 0s 4ms/step - loss: 2.2529 - acc: 0.3652 - val_loss: 2.2473 - val_acc: 0.4231\n",
      "Epoch 29/40\n",
      "8/8 [==============================] - 0s 3ms/step - loss: 2.2454 - acc: 0.3652 - val_loss: 2.2393 - val_acc: 0.4231\n",
      "Epoch 30/40\n",
      "8/8 [==============================] - 0s 3ms/step - loss: 2.2380 - acc: 0.3652 - val_loss: 2.2317 - val_acc: 0.4231\n",
      "Epoch 31/40\n",
      "8/8 [==============================] - 0s 4ms/step - loss: 2.2306 - acc: 0.3652 - val_loss: 2.2239 - val_acc: 0.4231\n",
      "Epoch 32/40\n",
      "8/8 [==============================] - 0s 4ms/step - loss: 2.2233 - acc: 0.3652 - val_loss: 2.2162 - val_acc: 0.4231\n",
      "Epoch 33/40\n",
      "8/8 [==============================] - 0s 3ms/step - loss: 2.2160 - acc: 0.3652 - val_loss: 2.2087 - val_acc: 0.4231\n",
      "Epoch 34/40\n",
      "8/8 [==============================] - 0s 4ms/step - loss: 2.2089 - acc: 0.3652 - val_loss: 2.2012 - val_acc: 0.4231\n",
      "Epoch 35/40\n",
      "8/8 [==============================] - 0s 3ms/step - loss: 2.2019 - acc: 0.3652 - val_loss: 2.1939 - val_acc: 0.4231\n",
      "Epoch 36/40\n",
      "8/8 [==============================] - 0s 4ms/step - loss: 2.1949 - acc: 0.3652 - val_loss: 2.1868 - val_acc: 0.4231\n",
      "Epoch 37/40\n",
      "8/8 [==============================] - 0s 4ms/step - loss: 2.1880 - acc: 0.3652 - val_loss: 2.1794 - val_acc: 0.4231\n",
      "Epoch 38/40\n",
      "8/8 [==============================] - 0s 4ms/step - loss: 2.1811 - acc: 0.3652 - val_loss: 2.1724 - val_acc: 0.4231\n",
      "Epoch 39/40\n",
      "8/8 [==============================] - 0s 3ms/step - loss: 2.1744 - acc: 0.3652 - val_loss: 2.1652 - val_acc: 0.4231\n",
      "Epoch 40/40\n",
      "8/8 [==============================] - 0s 3ms/step - loss: 2.1675 - acc: 0.3652 - val_loss: 2.1579 - val_acc: 0.4231\n"
     ]
    }
   ],
   "source": [
    "history = model.fit(dfinput_x, dfinput_y, epochs=40, validation_split=0.1)"
   ]
  },
  {
   "cell_type": "code",
   "execution_count": 703,
   "id": "ccdca8b1",
   "metadata": {},
   "outputs": [
    {
     "data": {
      "image/png": "[encoded data removed]",
      "text/plain": [
       "<Figure size 1000x500 with 2 Axes>"
      ]
     },
     "metadata": {
      "needs_background": "light"
     },
     "output_type": "display_data"
    }
   ],
   "source": [
    "_, ax = plt.subplots(1, 2, figsize=(10, 5), dpi=100)\n",
    "ax[0].plot(history.history['acc'], 'r')\n",
    "ax[0].plot(history.history['val_acc'], 'g')\n",
    "ax[0].set_xlabel(\"Num of Epochs\")\n",
    "ax[0].set_ylabel(\"Accuracy\")\n",
    "ax[0].set_title(\"Training Accuracy vs Validation Accuracy\")\n",
    "ax[0].legend(['train', 'validation'])\n",
    "\n",
    "ax[1].plot(history.history['loss'], 'r')\n",
    "ax[1].plot(history.history['val_loss'], 'g')\n",
    "ax[1].set_xlabel(\"Num of Epochs\")\n",
    "ax[1].set_ylabel(\"Loss\")\n",
    "ax[1].set_title(\"Training Loss vs Validation Loss\")\n",
    "ax[1].legend(['train', 'validation'])\n",
    "\n",
    "plt.tight_layout()"
   ]
  },
  {
   "cell_type": "code",
   "execution_count": 758,
   "id": "9befff16",
   "metadata": {},
   "outputs": [
    {
     "name": "stdout",
     "output_type": "stream",
     "text": [
      "WARNING:tensorflow:Model was constructed with shape (None, 1, 2) for input KerasTensor(type_spec=TensorSpec(shape=(None, 1, 2), dtype=tf.float32, name='dense_163_input'), name='dense_163_input', description=\"created by layer 'dense_163_input'\"), but it was called on an input with incompatible shape (32, 2).\n"
     ]
    }
   ],
   "source": [
    "y_hat = model.predict(x=dfinput_x)\n",
    "y_hat"
   ]
  },
  {
   "cell_type": "code",
   "execution_count": 759,
   "id": "a53cd9fd",
   "metadata": {},
   "outputs": [
    {
     "data": {
      "text/plain": [
       "array([[0.        , 0.01034163, 0.03205326, ..., 0.        , 0.        ,\n",
       "        0.        ],\n",
       "       [0.        , 0.01034163, 0.03205326, ..., 0.        , 0.        ,\n",
       "        0.        ],\n",
       "       [0.        , 0.01034163, 0.03205326, ..., 0.        , 0.        ,\n",
       "        0.        ],\n",
       "       ...,\n",
       "       [0.        , 0.01034163, 0.03205326, ..., 0.        , 0.        ,\n",
       "        0.        ],\n",
       "       [0.        , 0.01034163, 0.03205326, ..., 0.        , 0.        ,\n",
       "        0.        ],\n",
       "       [0.        , 0.01034163, 0.03205326, ..., 0.        , 0.        ,\n",
       "        0.        ]], dtype=float32)"
      ]
     },
     "execution_count": 759,
     "metadata": {},
     "output_type": "execute_result"
    }
   ],
   "source": [
    "y_hat"
   ]
  },
  {
   "cell_type": "code",
   "execution_count": 815,
   "id": "6d4c7f7a",
   "metadata": {},
   "outputs": [
    {
     "data": {
      "text/plain": [
       "array([3, 3, 3, 3, 3, 3, 3, 3, 3, 3, 3, 3, 3, 3, 3, 3, 3, 3, 3, 3, 3, 3,\n",
       "       3, 3, 3, 3, 3, 3, 3, 3, 3, 3, 3, 3, 3, 3, 3, 3, 3, 3, 3, 3, 3, 3,\n",
       "       3, 3, 3, 3, 3, 3, 3, 3, 3, 3, 3, 3, 3, 3, 3, 3, 3, 3, 3, 3, 3, 3,\n",
       "       3, 3, 3, 3, 3, 3, 3, 3, 3, 3, 3, 3, 3, 3, 3, 3, 3, 3, 3, 3, 3, 3,\n",
       "       3, 3, 3, 3, 3, 3, 3, 3, 3, 3, 3, 3, 3, 3, 3, 3, 3, 3, 3, 3, 3, 3,\n",
       "       3, 3, 3, 3, 3, 3, 3, 3, 3, 3, 3, 3, 3, 3, 3, 3, 3, 3, 3, 3, 3, 3,\n",
       "       3, 3, 3, 3, 3, 3, 3, 3, 3, 3, 3, 3, 3, 3, 3, 3, 3, 3, 3, 3, 3, 3,\n",
       "       3, 3, 3, 3, 3, 3, 3, 3, 3, 3, 3, 3, 3, 3, 3, 3, 3, 3, 3, 3, 3, 3,\n",
       "       3, 3, 3, 3, 3, 3, 3, 3, 3, 3, 3, 3, 3, 3, 3, 3, 3, 3, 3, 3, 3, 3,\n",
       "       3, 3, 3, 3, 3, 3, 3, 3, 3, 3, 3, 3, 3, 3, 3, 3, 3, 3, 3, 3, 3, 3,\n",
       "       3, 3, 3, 3, 3, 3, 3, 3, 3, 3, 3, 3, 3, 3, 3, 3, 3, 3, 3, 3, 3, 3,\n",
       "       3, 3, 3, 3, 3, 3, 3, 3, 3, 3, 3, 3, 3, 3])"
      ]
     },
     "execution_count": 815,
     "metadata": {},
     "output_type": "execute_result"
    }
   ],
   "source": [
    "y_pred_label = np.argmax(y_hat, axis = 1)\n",
    "y_true_label = np.argmax(dfinput_y, axis = 1)\n",
    "y_pred_label"
   ]
  },
  {
   "cell_type": "code",
   "execution_count": 774,
   "id": "2c96c132",
   "metadata": {},
   "outputs": [
    {
     "data": {
      "text/plain": [
       "(256, 1)"
      ]
     },
     "execution_count": 774,
     "metadata": {},
     "output_type": "execute_result"
    }
   ],
   "source": [
    "dfinput_y.shape"
   ]
  },
  {
   "cell_type": "code",
   "execution_count": 812,
   "id": "e2a543ca",
   "metadata": {},
   "outputs": [],
   "source": [
    "dfinput_y_arr = dfinput_y.to_numpy()"
   ]
  },
  {
   "cell_type": "code",
   "execution_count": 813,
   "id": "18621b5f",
   "metadata": {},
   "outputs": [
    {
     "data": {
      "text/plain": [
       "(256, 1)"
      ]
     },
     "execution_count": 813,
     "metadata": {},
     "output_type": "execute_result"
    }
   ],
   "source": [
    "dfinput_y_arr = dfinput_y_arr.astype(int)\n",
    "\n",
    "type(dfinput_y_arr)\n",
    "dfinput_y_arr.shape"
   ]
  },
  {
   "cell_type": "code",
   "execution_count": 799,
   "id": "6519323c",
   "metadata": {},
   "outputs": [],
   "source": [
    "y_pred_label = np.transpose(y_pred_label)\n",
    "y_pred_label.shape\n",
    "#type(y_pred_label)"
   ]
  },
  {
   "cell_type": "code",
   "execution_count": 800,
   "id": "a7528a05",
   "metadata": {},
   "outputs": [
    {
     "ename": "ValueError",
     "evalue": "Data must be 1-dimensional",
     "output_type": "error",
     "traceback": [
      "\u001b[0;31m---------------------------------------------------------------------------\u001b[0m",
      "\u001b[0;31mValueError\u001b[0m                                Traceback (most recent call last)",
      "Input \u001b[0;32mIn [800]\u001b[0m, in \u001b[0;36m<cell line: 1>\u001b[0;34m()\u001b[0m\n\u001b[0;32m----> 1\u001b[0m \u001b[43mpd\u001b[49m\u001b[38;5;241;43m.\u001b[39;49m\u001b[43mcrosstab\u001b[49m\u001b[43m(\u001b[49m\u001b[43my_pred_label\u001b[49m\u001b[43m,\u001b[49m\u001b[43m \u001b[49m\u001b[43mdfinput_y\u001b[49m\u001b[43m)\u001b[49m\n",
      "File \u001b[0;32m~/miniconda3/lib/python3.9/site-packages/pandas/core/reshape/pivot.py:661\u001b[0m, in \u001b[0;36mcrosstab\u001b[0;34m(index, columns, values, rownames, colnames, aggfunc, margins, margins_name, dropna, normalize)\u001b[0m\n\u001b[1;32m    655\u001b[0m \u001b[38;5;28;01mfrom\u001b[39;00m \u001b[38;5;21;01mpandas\u001b[39;00m \u001b[38;5;28;01mimport\u001b[39;00m DataFrame\n\u001b[1;32m    657\u001b[0m data \u001b[38;5;241m=\u001b[39m {\n\u001b[1;32m    658\u001b[0m     \u001b[38;5;241m*\u001b[39m\u001b[38;5;241m*\u001b[39m\u001b[38;5;28mdict\u001b[39m(\u001b[38;5;28mzip\u001b[39m(unique_rownames, index)),\n\u001b[1;32m    659\u001b[0m     \u001b[38;5;241m*\u001b[39m\u001b[38;5;241m*\u001b[39m\u001b[38;5;28mdict\u001b[39m(\u001b[38;5;28mzip\u001b[39m(unique_colnames, columns)),\n\u001b[1;32m    660\u001b[0m }\n\u001b[0;32m--> 661\u001b[0m df \u001b[38;5;241m=\u001b[39m \u001b[43mDataFrame\u001b[49m\u001b[43m(\u001b[49m\u001b[43mdata\u001b[49m\u001b[43m,\u001b[49m\u001b[43m \u001b[49m\u001b[43mindex\u001b[49m\u001b[38;5;241;43m=\u001b[39;49m\u001b[43mcommon_idx\u001b[49m\u001b[43m)\u001b[49m\n\u001b[1;32m    663\u001b[0m \u001b[38;5;28;01mif\u001b[39;00m values \u001b[38;5;129;01mis\u001b[39;00m \u001b[38;5;28;01mNone\u001b[39;00m:\n\u001b[1;32m    664\u001b[0m     df[\u001b[38;5;124m\"\u001b[39m\u001b[38;5;124m__dummy__\u001b[39m\u001b[38;5;124m\"\u001b[39m] \u001b[38;5;241m=\u001b[39m \u001b[38;5;241m0\u001b[39m\n",
      "File \u001b[0;32m~/miniconda3/lib/python3.9/site-packages/pandas/core/frame.py:636\u001b[0m, in \u001b[0;36mDataFrame.__init__\u001b[0;34m(self, data, index, columns, dtype, copy)\u001b[0m\n\u001b[1;32m    630\u001b[0m     mgr \u001b[38;5;241m=\u001b[39m \u001b[38;5;28mself\u001b[39m\u001b[38;5;241m.\u001b[39m_init_mgr(\n\u001b[1;32m    631\u001b[0m         data, axes\u001b[38;5;241m=\u001b[39m{\u001b[38;5;124m\"\u001b[39m\u001b[38;5;124mindex\u001b[39m\u001b[38;5;124m\"\u001b[39m: index, \u001b[38;5;124m\"\u001b[39m\u001b[38;5;124mcolumns\u001b[39m\u001b[38;5;124m\"\u001b[39m: columns}, dtype\u001b[38;5;241m=\u001b[39mdtype, copy\u001b[38;5;241m=\u001b[39mcopy\n\u001b[1;32m    632\u001b[0m     )\n\u001b[1;32m    634\u001b[0m \u001b[38;5;28;01melif\u001b[39;00m \u001b[38;5;28misinstance\u001b[39m(data, \u001b[38;5;28mdict\u001b[39m):\n\u001b[1;32m    635\u001b[0m     \u001b[38;5;66;03m# GH#38939 de facto copy defaults to False only in non-dict cases\u001b[39;00m\n\u001b[0;32m--> 636\u001b[0m     mgr \u001b[38;5;241m=\u001b[39m \u001b[43mdict_to_mgr\u001b[49m\u001b[43m(\u001b[49m\u001b[43mdata\u001b[49m\u001b[43m,\u001b[49m\u001b[43m \u001b[49m\u001b[43mindex\u001b[49m\u001b[43m,\u001b[49m\u001b[43m \u001b[49m\u001b[43mcolumns\u001b[49m\u001b[43m,\u001b[49m\u001b[43m \u001b[49m\u001b[43mdtype\u001b[49m\u001b[38;5;241;43m=\u001b[39;49m\u001b[43mdtype\u001b[49m\u001b[43m,\u001b[49m\u001b[43m \u001b[49m\u001b[43mcopy\u001b[49m\u001b[38;5;241;43m=\u001b[39;49m\u001b[43mcopy\u001b[49m\u001b[43m,\u001b[49m\u001b[43m \u001b[49m\u001b[43mtyp\u001b[49m\u001b[38;5;241;43m=\u001b[39;49m\u001b[43mmanager\u001b[49m\u001b[43m)\u001b[49m\n\u001b[1;32m    637\u001b[0m \u001b[38;5;28;01melif\u001b[39;00m \u001b[38;5;28misinstance\u001b[39m(data, ma\u001b[38;5;241m.\u001b[39mMaskedArray):\n\u001b[1;32m    638\u001b[0m     \u001b[38;5;28;01mimport\u001b[39;00m \u001b[38;5;21;01mnumpy\u001b[39;00m\u001b[38;5;21;01m.\u001b[39;00m\u001b[38;5;21;01mma\u001b[39;00m\u001b[38;5;21;01m.\u001b[39;00m\u001b[38;5;21;01mmrecords\u001b[39;00m \u001b[38;5;28;01mas\u001b[39;00m \u001b[38;5;21;01mmrecords\u001b[39;00m\n",
      "File \u001b[0;32m~/miniconda3/lib/python3.9/site-packages/pandas/core/internals/construction.py:502\u001b[0m, in \u001b[0;36mdict_to_mgr\u001b[0;34m(data, index, columns, dtype, typ, copy)\u001b[0m\n\u001b[1;32m    494\u001b[0m     arrays \u001b[38;5;241m=\u001b[39m [\n\u001b[1;32m    495\u001b[0m         x\n\u001b[1;32m    496\u001b[0m         \u001b[38;5;28;01mif\u001b[39;00m \u001b[38;5;129;01mnot\u001b[39;00m \u001b[38;5;28mhasattr\u001b[39m(x, \u001b[38;5;124m\"\u001b[39m\u001b[38;5;124mdtype\u001b[39m\u001b[38;5;124m\"\u001b[39m) \u001b[38;5;129;01mor\u001b[39;00m \u001b[38;5;129;01mnot\u001b[39;00m \u001b[38;5;28misinstance\u001b[39m(x\u001b[38;5;241m.\u001b[39mdtype, ExtensionDtype)\n\u001b[1;32m    497\u001b[0m         \u001b[38;5;28;01melse\u001b[39;00m x\u001b[38;5;241m.\u001b[39mcopy()\n\u001b[1;32m    498\u001b[0m         \u001b[38;5;28;01mfor\u001b[39;00m x \u001b[38;5;129;01min\u001b[39;00m arrays\n\u001b[1;32m    499\u001b[0m     ]\n\u001b[1;32m    500\u001b[0m     \u001b[38;5;66;03m# TODO: can we get rid of the dt64tz special case above?\u001b[39;00m\n\u001b[0;32m--> 502\u001b[0m \u001b[38;5;28;01mreturn\u001b[39;00m \u001b[43marrays_to_mgr\u001b[49m\u001b[43m(\u001b[49m\u001b[43marrays\u001b[49m\u001b[43m,\u001b[49m\u001b[43m \u001b[49m\u001b[43mcolumns\u001b[49m\u001b[43m,\u001b[49m\u001b[43m \u001b[49m\u001b[43mindex\u001b[49m\u001b[43m,\u001b[49m\u001b[43m \u001b[49m\u001b[43mdtype\u001b[49m\u001b[38;5;241;43m=\u001b[39;49m\u001b[43mdtype\u001b[49m\u001b[43m,\u001b[49m\u001b[43m \u001b[49m\u001b[43mtyp\u001b[49m\u001b[38;5;241;43m=\u001b[39;49m\u001b[43mtyp\u001b[49m\u001b[43m,\u001b[49m\u001b[43m \u001b[49m\u001b[43mconsolidate\u001b[49m\u001b[38;5;241;43m=\u001b[39;49m\u001b[43mcopy\u001b[49m\u001b[43m)\u001b[49m\n",
      "File \u001b[0;32m~/miniconda3/lib/python3.9/site-packages/pandas/core/internals/construction.py:125\u001b[0m, in \u001b[0;36marrays_to_mgr\u001b[0;34m(arrays, columns, index, dtype, verify_integrity, typ, consolidate)\u001b[0m\n\u001b[1;32m    122\u001b[0m         index \u001b[38;5;241m=\u001b[39m ensure_index(index)\n\u001b[1;32m    124\u001b[0m     \u001b[38;5;66;03m# don't force copy because getting jammed in an ndarray anyway\u001b[39;00m\n\u001b[0;32m--> 125\u001b[0m     arrays \u001b[38;5;241m=\u001b[39m \u001b[43m_homogenize\u001b[49m\u001b[43m(\u001b[49m\u001b[43marrays\u001b[49m\u001b[43m,\u001b[49m\u001b[43m \u001b[49m\u001b[43mindex\u001b[49m\u001b[43m,\u001b[49m\u001b[43m \u001b[49m\u001b[43mdtype\u001b[49m\u001b[43m)\u001b[49m\n\u001b[1;32m    126\u001b[0m     \u001b[38;5;66;03m# _homogenize ensures\u001b[39;00m\n\u001b[1;32m    127\u001b[0m     \u001b[38;5;66;03m#  - all(len(x) == len(index) for x in arrays)\u001b[39;00m\n\u001b[1;32m    128\u001b[0m     \u001b[38;5;66;03m#  - all(x.ndim == 1 for x in arrays)\u001b[39;00m\n\u001b[0;32m   (...)\u001b[0m\n\u001b[1;32m    131\u001b[0m \n\u001b[1;32m    132\u001b[0m \u001b[38;5;28;01melse\u001b[39;00m:\n\u001b[1;32m    133\u001b[0m     index \u001b[38;5;241m=\u001b[39m ensure_index(index)\n",
      "File \u001b[0;32m~/miniconda3/lib/python3.9/site-packages/pandas/core/internals/construction.py:625\u001b[0m, in \u001b[0;36m_homogenize\u001b[0;34m(data, index, dtype)\u001b[0m\n\u001b[1;32m    622\u001b[0m             val \u001b[38;5;241m=\u001b[39m \u001b[38;5;28mdict\u001b[39m(val)\n\u001b[1;32m    623\u001b[0m         val \u001b[38;5;241m=\u001b[39m lib\u001b[38;5;241m.\u001b[39mfast_multiget(val, oindex\u001b[38;5;241m.\u001b[39m_values, default\u001b[38;5;241m=\u001b[39mnp\u001b[38;5;241m.\u001b[39mnan)\n\u001b[0;32m--> 625\u001b[0m     val \u001b[38;5;241m=\u001b[39m \u001b[43msanitize_array\u001b[49m\u001b[43m(\u001b[49m\n\u001b[1;32m    626\u001b[0m \u001b[43m        \u001b[49m\u001b[43mval\u001b[49m\u001b[43m,\u001b[49m\u001b[43m \u001b[49m\u001b[43mindex\u001b[49m\u001b[43m,\u001b[49m\u001b[43m \u001b[49m\u001b[43mdtype\u001b[49m\u001b[38;5;241;43m=\u001b[39;49m\u001b[43mdtype\u001b[49m\u001b[43m,\u001b[49m\u001b[43m \u001b[49m\u001b[43mcopy\u001b[49m\u001b[38;5;241;43m=\u001b[39;49m\u001b[38;5;28;43;01mFalse\u001b[39;49;00m\u001b[43m,\u001b[49m\u001b[43m \u001b[49m\u001b[43mraise_cast_failure\u001b[49m\u001b[38;5;241;43m=\u001b[39;49m\u001b[38;5;28;43;01mFalse\u001b[39;49;00m\n\u001b[1;32m    627\u001b[0m \u001b[43m    \u001b[49m\u001b[43m)\u001b[49m\n\u001b[1;32m    628\u001b[0m     com\u001b[38;5;241m.\u001b[39mrequire_length_match(val, index)\n\u001b[1;32m    630\u001b[0m homogenized\u001b[38;5;241m.\u001b[39mappend(val)\n",
      "File \u001b[0;32m~/miniconda3/lib/python3.9/site-packages/pandas/core/construction.py:598\u001b[0m, in \u001b[0;36msanitize_array\u001b[0;34m(data, index, dtype, copy, raise_cast_failure, allow_2d)\u001b[0m\n\u001b[1;32m    595\u001b[0m             subarr \u001b[38;5;241m=\u001b[39m cast(np\u001b[38;5;241m.\u001b[39mndarray, subarr)\n\u001b[1;32m    596\u001b[0m             subarr \u001b[38;5;241m=\u001b[39m maybe_infer_to_datetimelike(subarr)\n\u001b[0;32m--> 598\u001b[0m subarr \u001b[38;5;241m=\u001b[39m \u001b[43m_sanitize_ndim\u001b[49m\u001b[43m(\u001b[49m\u001b[43msubarr\u001b[49m\u001b[43m,\u001b[49m\u001b[43m \u001b[49m\u001b[43mdata\u001b[49m\u001b[43m,\u001b[49m\u001b[43m \u001b[49m\u001b[43mdtype\u001b[49m\u001b[43m,\u001b[49m\u001b[43m \u001b[49m\u001b[43mindex\u001b[49m\u001b[43m,\u001b[49m\u001b[43m \u001b[49m\u001b[43mallow_2d\u001b[49m\u001b[38;5;241;43m=\u001b[39;49m\u001b[43mallow_2d\u001b[49m\u001b[43m)\u001b[49m\n\u001b[1;32m    600\u001b[0m \u001b[38;5;28;01mif\u001b[39;00m \u001b[38;5;28misinstance\u001b[39m(subarr, np\u001b[38;5;241m.\u001b[39mndarray):\n\u001b[1;32m    601\u001b[0m     \u001b[38;5;66;03m# at this point we should have dtype be None or subarr.dtype == dtype\u001b[39;00m\n\u001b[1;32m    602\u001b[0m     dtype \u001b[38;5;241m=\u001b[39m cast(np\u001b[38;5;241m.\u001b[39mdtype, dtype)\n",
      "File \u001b[0;32m~/miniconda3/lib/python3.9/site-packages/pandas/core/construction.py:649\u001b[0m, in \u001b[0;36m_sanitize_ndim\u001b[0;34m(result, data, dtype, index, allow_2d)\u001b[0m\n\u001b[1;32m    647\u001b[0m     \u001b[38;5;28;01mif\u001b[39;00m allow_2d:\n\u001b[1;32m    648\u001b[0m         \u001b[38;5;28;01mreturn\u001b[39;00m result\n\u001b[0;32m--> 649\u001b[0m     \u001b[38;5;28;01mraise\u001b[39;00m \u001b[38;5;167;01mValueError\u001b[39;00m(\u001b[38;5;124m\"\u001b[39m\u001b[38;5;124mData must be 1-dimensional\u001b[39m\u001b[38;5;124m\"\u001b[39m)\n\u001b[1;32m    650\u001b[0m \u001b[38;5;28;01mif\u001b[39;00m is_object_dtype(dtype) \u001b[38;5;129;01mand\u001b[39;00m \u001b[38;5;28misinstance\u001b[39m(dtype, ExtensionDtype):\n\u001b[1;32m    651\u001b[0m     \u001b[38;5;66;03m# i.e. PandasDtype(\"O\")\u001b[39;00m\n\u001b[1;32m    653\u001b[0m     result \u001b[38;5;241m=\u001b[39m com\u001b[38;5;241m.\u001b[39masarray_tuplesafe(data, dtype\u001b[38;5;241m=\u001b[39mnp\u001b[38;5;241m.\u001b[39mdtype(\u001b[38;5;124m\"\u001b[39m\u001b[38;5;124mobject\u001b[39m\u001b[38;5;124m\"\u001b[39m))\n",
      "\u001b[0;31mValueError\u001b[0m: Data must be 1-dimensional"
     ]
    }
   ],
   "source": [
    "pd.crosstab(y_pred_label, dfinput_y)"
   ]
  },
  {
   "cell_type": "code",
   "execution_count": 727,
   "id": "59239676",
   "metadata": {},
   "outputs": [
    {
     "data": {
      "text/plain": [
       "<AxesSubplot:>"
      ]
     },
     "execution_count": 727,
     "metadata": {},
     "output_type": "execute_result"
    },
    {
     "data": {
      "image/png": "[encoded data removed]",
      "text/plain": [
       "<Figure size 432x288 with 1 Axes>"
      ]
     },
     "metadata": {
      "needs_background": "light"
     },
     "output_type": "display_data"
    }
   ],
   "source": [
    "history_df = pd.DataFrame(history.history)\n",
    "history_df.plot()"
   ]
  },
  {
   "cell_type": "markdown",
   "id": "f06f7a92",
   "metadata": {},
   "source": [
    "Divido datos en 75% para entrenamiento y 25% para test"
   ]
  },
  {
   "cell_type": "code",
   "execution_count": 101,
   "id": "ca080c5b",
   "metadata": {},
   "outputs": [],
   "source": [
    "df_train = dfinput.sample(frac = 0.75) \n",
    "  \n",
    "df_test = dfinput.drop(df_train.index)"
   ]
  },
  {
   "cell_type": "code",
   "execution_count": 102,
   "id": "975f357c",
   "metadata": {},
   "outputs": [],
   "source": [
    "df_trainx = df_train[['cratio', 'speed']]\n",
    "df_trainy = df_train[['pos_min']]\n",
    "\n",
    "df_testx = df_test[['cratio', 'speed']]\n",
    "df_testy = df_test[['pos_min']]"
   ]
  },
  {
   "cell_type": "code",
   "execution_count": 103,
   "id": "60a1ce9b",
   "metadata": {},
   "outputs": [
    {
     "data": {
      "text/plain": [
       "(192, 2)"
      ]
     },
     "execution_count": 103,
     "metadata": {},
     "output_type": "execute_result"
    }
   ],
   "source": [
    "df_trainx.shape"
   ]
  },
  {
   "cell_type": "code",
   "execution_count": 104,
   "id": "beb324f2",
   "metadata": {},
   "outputs": [],
   "source": [
    "from keras.utils import to_categorical\n",
    "df_trainy = to_categorical(df_trainy)\n",
    "df_testy = to_categorical(df_testy)"
   ]
  },
  {
   "cell_type": "code",
   "execution_count": 105,
   "id": "2d178f5b",
   "metadata": {},
   "outputs": [
    {
     "data": {
      "text/plain": [
       "(192, 25)"
      ]
     },
     "execution_count": 105,
     "metadata": {},
     "output_type": "execute_result"
    }
   ],
   "source": [
    "df_trainy.shape"
   ]
  },
  {
   "cell_type": "code",
   "execution_count": 106,
   "id": "50ef1370",
   "metadata": {},
   "outputs": [
    {
     "data": {
      "text/plain": [
       "(64, 25)"
      ]
     },
     "execution_count": 106,
     "metadata": {},
     "output_type": "execute_result"
    }
   ],
   "source": [
    "df_testy.shape"
   ]
  },
  {
   "cell_type": "code",
   "execution_count": 107,
   "id": "f0cd7547",
   "metadata": {},
   "outputs": [],
   "source": [
    "from keras import models, layers\n",
    "\n",
    "model2 = models.Sequential()\n",
    "model2.add(layers.Dense(2, activation='relu', input_shape=(1,2)))\n",
    "model.add(layers.Dense(20, activation='relu'))\n",
    "model.add(layers.Dense(18, activation='relu'))\n",
    "model.add(layers.Dense(16, activation='relu'))\n",
    "model2.add(layers.Dense(25, activation='softmax'))"
   ]
  },
  {
   "cell_type": "code",
   "execution_count": 108,
   "id": "8f4b58d2",
   "metadata": {},
   "outputs": [],
   "source": [
    "model2.compile(optimizer='adam',\n",
    "              loss='categorical_crossentropy',  #poner función especial\n",
    "              metrics=['acc'])"
   ]
  },
  {
   "cell_type": "code",
   "execution_count": 111,
   "id": "e85ce564",
   "metadata": {},
   "outputs": [
    {
     "name": "stdout",
     "output_type": "stream",
     "text": [
      "Epoch 1/50\n",
      "6/6 [==============================] - 0s 8ms/step - loss: 46690956.0000 - acc: 0.2917 - val_loss: 75199736.0000 - val_acc: 0.2656\n",
      "Epoch 2/50\n",
      "6/6 [==============================] - 0s 4ms/step - loss: 45376532.0000 - acc: 0.1198 - val_loss: 75006328.0000 - val_acc: 0.2344\n",
      "Epoch 3/50\n",
      "6/6 [==============================] - 0s 4ms/step - loss: 45072972.0000 - acc: 0.2708 - val_loss: 75417800.0000 - val_acc: 0.2656\n",
      "Epoch 4/50\n",
      "6/6 [==============================] - 0s 4ms/step - loss: 44353244.0000 - acc: 0.2083 - val_loss: 74978200.0000 - val_acc: 0.2656\n",
      "Epoch 5/50\n",
      "6/6 [==============================] - 0s 4ms/step - loss: 44019924.0000 - acc: 0.2656 - val_loss: 75347784.0000 - val_acc: 0.2656\n",
      "Epoch 6/50\n",
      "6/6 [==============================] - 0s 4ms/step - loss: 43919348.0000 - acc: 0.2708 - val_loss: 72663280.0000 - val_acc: 0.1562\n",
      "Epoch 7/50\n",
      "6/6 [==============================] - 0s 4ms/step - loss: 42942288.0000 - acc: 0.0781 - val_loss: 72011312.0000 - val_acc: 0.2344\n",
      "Epoch 8/50\n",
      "6/6 [==============================] - 0s 4ms/step - loss: 42321980.0000 - acc: 0.3854 - val_loss: 71769216.0000 - val_acc: 0.1094\n",
      "Epoch 9/50\n",
      "6/6 [==============================] - 0s 4ms/step - loss: 42388512.0000 - acc: 0.1354 - val_loss: 69160880.0000 - val_acc: 0.2344\n",
      "Epoch 10/50\n",
      "6/6 [==============================] - 0s 4ms/step - loss: 41387920.0000 - acc: 0.2604 - val_loss: 70819456.0000 - val_acc: 0.2656\n",
      "Epoch 11/50\n",
      "6/6 [==============================] - 0s 4ms/step - loss: 40716492.0000 - acc: 0.1771 - val_loss: 67788296.0000 - val_acc: 0.2656\n",
      "Epoch 12/50\n",
      "6/6 [==============================] - 0s 4ms/step - loss: 39182748.0000 - acc: 0.2448 - val_loss: 68027752.0000 - val_acc: 0.1094\n",
      "Epoch 13/50\n",
      "6/6 [==============================] - 0s 4ms/step - loss: 39626600.0000 - acc: 0.1771 - val_loss: 67908192.0000 - val_acc: 0.2656\n",
      "Epoch 14/50\n",
      "6/6 [==============================] - 0s 4ms/step - loss: 38423768.0000 - acc: 0.3594 - val_loss: 65213428.0000 - val_acc: 0.1094\n",
      "Epoch 15/50\n",
      "6/6 [==============================] - 0s 4ms/step - loss: 38388304.0000 - acc: 0.0885 - val_loss: 65005524.0000 - val_acc: 0.2656\n",
      "Epoch 16/50\n",
      "6/6 [==============================] - 0s 4ms/step - loss: 37719508.0000 - acc: 0.3698 - val_loss: 63156736.0000 - val_acc: 0.2344\n",
      "Epoch 17/50\n",
      "6/6 [==============================] - 0s 4ms/step - loss: 37694876.0000 - acc: 0.2083 - val_loss: 64288212.0000 - val_acc: 0.2656\n",
      "Epoch 18/50\n",
      "6/6 [==============================] - 0s 4ms/step - loss: 36428900.0000 - acc: 0.1458 - val_loss: 60371212.0000 - val_acc: 0.0938\n",
      "Epoch 19/50\n",
      "6/6 [==============================] - 0s 4ms/step - loss: 33895804.0000 - acc: 0.2344 - val_loss: 59118656.0000 - val_acc: 0.1094\n",
      "Epoch 20/50\n",
      "6/6 [==============================] - 0s 4ms/step - loss: 33845424.0000 - acc: 0.2604 - val_loss: 59210724.0000 - val_acc: 0.1562\n",
      "Epoch 21/50\n",
      "6/6 [==============================] - 0s 4ms/step - loss: 33516478.0000 - acc: 0.1719 - val_loss: 59962864.0000 - val_acc: 0.2656\n",
      "Epoch 22/50\n",
      "6/6 [==============================] - 0s 4ms/step - loss: 32907242.0000 - acc: 0.2448 - val_loss: 56821984.0000 - val_acc: 0.1562\n",
      "Epoch 23/50\n",
      "6/6 [==============================] - 0s 4ms/step - loss: 31431498.0000 - acc: 0.2812 - val_loss: 55780056.0000 - val_acc: 0.1094\n",
      "Epoch 24/50\n",
      "6/6 [==============================] - 0s 4ms/step - loss: 30956742.0000 - acc: 0.2031 - val_loss: 54523608.0000 - val_acc: 0.2656\n",
      "Epoch 25/50\n",
      "6/6 [==============================] - 0s 4ms/step - loss: 30826182.0000 - acc: 0.2083 - val_loss: 53362504.0000 - val_acc: 0.1562\n",
      "Epoch 26/50\n",
      "6/6 [==============================] - 0s 4ms/step - loss: 29317970.0000 - acc: 0.2865 - val_loss: 52737160.0000 - val_acc: 0.0781\n",
      "Epoch 27/50\n",
      "6/6 [==============================] - 0s 4ms/step - loss: 28910710.0000 - acc: 0.1927 - val_loss: 52530244.0000 - val_acc: 0.2656\n",
      "Epoch 28/50\n",
      "6/6 [==============================] - 0s 4ms/step - loss: 28245638.0000 - acc: 0.2969 - val_loss: 50222968.0000 - val_acc: 0.0781\n",
      "Epoch 29/50\n",
      "6/6 [==============================] - 0s 4ms/step - loss: 28316666.0000 - acc: 0.1302 - val_loss: 50260680.0000 - val_acc: 0.2656\n",
      "Epoch 30/50\n",
      "6/6 [==============================] - 0s 4ms/step - loss: 27414498.0000 - acc: 0.2865 - val_loss: 49925304.0000 - val_acc: 0.2656\n",
      "Epoch 31/50\n",
      "6/6 [==============================] - 0s 4ms/step - loss: 27143448.0000 - acc: 0.2396 - val_loss: 47914500.0000 - val_acc: 0.2344\n",
      "Epoch 32/50\n",
      "6/6 [==============================] - 0s 4ms/step - loss: 26390432.0000 - acc: 0.2083 - val_loss: 48097360.0000 - val_acc: 0.1094\n",
      "Epoch 33/50\n",
      "6/6 [==============================] - 0s 4ms/step - loss: 26146256.0000 - acc: 0.2083 - val_loss: 47298824.0000 - val_acc: 0.2656\n",
      "Epoch 34/50\n",
      "6/6 [==============================] - 0s 5ms/step - loss: 26008866.0000 - acc: 0.3229 - val_loss: 47238060.0000 - val_acc: 0.2656\n",
      "Epoch 35/50\n",
      "6/6 [==============================] - 0s 5ms/step - loss: 25316864.0000 - acc: 0.2396 - val_loss: 46063840.0000 - val_acc: 0.2656\n",
      "Epoch 36/50\n",
      "6/6 [==============================] - 0s 4ms/step - loss: 24879182.0000 - acc: 0.2188 - val_loss: 44878568.0000 - val_acc: 0.2656\n",
      "Epoch 37/50\n",
      "6/6 [==============================] - 0s 4ms/step - loss: 24674848.0000 - acc: 0.2500 - val_loss: 44177688.0000 - val_acc: 0.1562\n",
      "Epoch 38/50\n",
      "6/6 [==============================] - 0s 4ms/step - loss: 23932174.0000 - acc: 0.2448 - val_loss: 43697788.0000 - val_acc: 0.2656\n",
      "Epoch 39/50\n",
      "6/6 [==============================] - 0s 4ms/step - loss: 23832486.0000 - acc: 0.2292 - val_loss: 42863260.0000 - val_acc: 0.2344\n",
      "Epoch 40/50\n",
      "6/6 [==============================] - 0s 4ms/step - loss: 22981242.0000 - acc: 0.1875 - val_loss: 41827016.0000 - val_acc: 0.2344\n",
      "Epoch 41/50\n",
      "6/6 [==============================] - 0s 4ms/step - loss: 23479210.0000 - acc: 0.1771 - val_loss: 44701712.0000 - val_acc: 0.0781\n",
      "Epoch 42/50\n",
      "6/6 [==============================] - 0s 4ms/step - loss: 23790960.0000 - acc: 0.1510 - val_loss: 40834412.0000 - val_acc: 0.1562\n",
      "Epoch 43/50\n",
      "6/6 [==============================] - 0s 4ms/step - loss: 22366180.0000 - acc: 0.2500 - val_loss: 41211128.0000 - val_acc: 0.1562\n",
      "Epoch 44/50\n",
      "6/6 [==============================] - 0s 4ms/step - loss: 22459930.0000 - acc: 0.2448 - val_loss: 41077920.0000 - val_acc: 0.2344\n",
      "Epoch 45/50\n",
      "6/6 [==============================] - 0s 4ms/step - loss: 23042922.0000 - acc: 0.2656 - val_loss: 42131880.0000 - val_acc: 0.1562\n",
      "Epoch 46/50\n",
      "6/6 [==============================] - 0s 4ms/step - loss: 22203366.0000 - acc: 0.2448 - val_loss: 39788712.0000 - val_acc: 0.2344\n",
      "Epoch 47/50\n",
      "6/6 [==============================] - 0s 4ms/step - loss: 21019142.0000 - acc: 0.2083 - val_loss: 38639208.0000 - val_acc: 0.2656\n",
      "Epoch 48/50\n",
      "6/6 [==============================] - 0s 4ms/step - loss: 20354318.0000 - acc: 0.2656 - val_loss: 36691596.0000 - val_acc: 0.0781\n",
      "Epoch 49/50\n",
      "6/6 [==============================] - 0s 4ms/step - loss: 19013622.0000 - acc: 0.2917 - val_loss: 36848640.0000 - val_acc: 0.1562\n",
      "Epoch 50/50\n",
      "6/6 [==============================] - 0s 4ms/step - loss: 19780758.0000 - acc: 0.3021 - val_loss: 34705624.0000 - val_acc: 0.2344\n"
     ]
    }
   ],
   "source": [
    "history2 = model2.fit(df_trainx, df_trainy, validation_data=(df_testx, df_testy), epochs=50)"
   ]
  },
  {
   "cell_type": "code",
   "execution_count": 112,
   "id": "32256109",
   "metadata": {},
   "outputs": [
    {
     "data": {
      "text/plain": [
       "<AxesSubplot:>"
      ]
     },
     "execution_count": 112,
     "metadata": {},
     "output_type": "execute_result"
    },
    {
     "data": {
      "image/png": "[encoded data removed]",
      "text/plain": [
       "<Figure size 432x288 with 1 Axes>"
      ]
     },
     "metadata": {
      "needs_background": "light"
     },
     "output_type": "display_data"
    }
   ],
   "source": [
    "history_df = pd.DataFrame(history2.history)\n",
    "history_df.plot()"
   ]
  },
  {
   "cell_type": "code",
   "execution_count": 723,
   "id": "c10509d9",
   "metadata": {},
   "outputs": [
    {
     "name": "stdout",
     "output_type": "stream",
     "text": [
      "Minimum Validation Loss: 14790549.0000\n"
     ]
    },
    {
     "data": {
      "image/png": "[encoded data removed]",
      "text/plain": [
       "<Figure size 432x288 with 1 Axes>"
      ]
     },
     "metadata": {
      "needs_background": "light"
     },
     "output_type": "display_data"
    }
   ],
   "source": [
    "history_df = pd.DataFrame(history2.history)\n",
    "history_df.loc[0:, ['loss', 'val_loss']].plot()\n",
    "print(\"Minimum Validation Loss: {:0.4f}\".format(history_df['val_loss'].min()));"
   ]
  },
  {
   "cell_type": "markdown",
   "id": "ca16cf46",
   "metadata": {},
   "source": [
    "ShuffleSplit"
   ]
  },
  {
   "cell_type": "code",
   "execution_count": 472,
   "id": "80c21ba7",
   "metadata": {},
   "outputs": [],
   "source": [
    "from sklearn.model_selection import ShuffleSplit"
   ]
  },
  {
   "cell_type": "code",
   "execution_count": 473,
   "id": "fda6a55d",
   "metadata": {},
   "outputs": [],
   "source": [
    "ss = ShuffleSplit(n_splits=5, test_size=0.20, random_state=0)"
   ]
  },
  {
   "cell_type": "code",
   "execution_count": 476,
   "id": "82938b3c",
   "metadata": {},
   "outputs": [
    {
     "ename": "TypeError",
     "evalue": "cannot concatenate object of type '<class 'numpy.ndarray'>'; only Series and DataFrame objs are valid",
     "output_type": "error",
     "traceback": [
      "\u001b[0;31m---------------------------------------------------------------------------\u001b[0m",
      "\u001b[0;31mTypeError\u001b[0m                                 Traceback (most recent call last)",
      "Input \u001b[0;32mIn [476]\u001b[0m, in \u001b[0;36m<cell line: 4>\u001b[0;34m()\u001b[0m\n\u001b[1;32m      2\u001b[0m data_test \u001b[38;5;241m=\u001b[39m pd\u001b[38;5;241m.\u001b[39mDataFrame()\n\u001b[1;32m      4\u001b[0m \u001b[38;5;28;01mfor\u001b[39;00m train_index, test_index \u001b[38;5;129;01min\u001b[39;00m ss\u001b[38;5;241m.\u001b[39msplit(dfinput):\n\u001b[1;32m      5\u001b[0m     \u001b[38;5;66;03m#m = train_index.shape\u001b[39;00m\n\u001b[1;32m      6\u001b[0m     \u001b[38;5;66;03m#n = type(train_index)\u001b[39;00m\n\u001b[0;32m----> 7\u001b[0m     data_train \u001b[38;5;241m=\u001b[39m \u001b[43mpd\u001b[49m\u001b[38;5;241;43m.\u001b[39;49m\u001b[43mconcat\u001b[49m\u001b[43m(\u001b[49m\u001b[43m[\u001b[49m\u001b[43mdata_train\u001b[49m\u001b[43m,\u001b[49m\u001b[43m \u001b[49m\u001b[43mtrain_index\u001b[49m\u001b[43m]\u001b[49m\u001b[43m,\u001b[49m\u001b[43m \u001b[49m\u001b[43maxis\u001b[49m\u001b[38;5;241;43m=\u001b[39;49m\u001b[38;5;241;43m1\u001b[39;49m\u001b[43m)\u001b[49m\n\u001b[1;32m      8\u001b[0m     data_test \u001b[38;5;241m=\u001b[39m pd\u001b[38;5;241m.\u001b[39mconcat([data_test, test_index], axis\u001b[38;5;241m=\u001b[39m\u001b[38;5;241m1\u001b[39m)\n",
      "File \u001b[0;32m~/miniconda3/lib/python3.9/site-packages/pandas/util/_decorators.py:311\u001b[0m, in \u001b[0;36mdeprecate_nonkeyword_arguments.<locals>.decorate.<locals>.wrapper\u001b[0;34m(*args, **kwargs)\u001b[0m\n\u001b[1;32m    305\u001b[0m \u001b[38;5;28;01mif\u001b[39;00m \u001b[38;5;28mlen\u001b[39m(args) \u001b[38;5;241m>\u001b[39m num_allow_args:\n\u001b[1;32m    306\u001b[0m     warnings\u001b[38;5;241m.\u001b[39mwarn(\n\u001b[1;32m    307\u001b[0m         msg\u001b[38;5;241m.\u001b[39mformat(arguments\u001b[38;5;241m=\u001b[39marguments),\n\u001b[1;32m    308\u001b[0m         \u001b[38;5;167;01mFutureWarning\u001b[39;00m,\n\u001b[1;32m    309\u001b[0m         stacklevel\u001b[38;5;241m=\u001b[39mstacklevel,\n\u001b[1;32m    310\u001b[0m     )\n\u001b[0;32m--> 311\u001b[0m \u001b[38;5;28;01mreturn\u001b[39;00m \u001b[43mfunc\u001b[49m\u001b[43m(\u001b[49m\u001b[38;5;241;43m*\u001b[39;49m\u001b[43margs\u001b[49m\u001b[43m,\u001b[49m\u001b[43m \u001b[49m\u001b[38;5;241;43m*\u001b[39;49m\u001b[38;5;241;43m*\u001b[39;49m\u001b[43mkwargs\u001b[49m\u001b[43m)\u001b[49m\n",
      "File \u001b[0;32m~/miniconda3/lib/python3.9/site-packages/pandas/core/reshape/concat.py:346\u001b[0m, in \u001b[0;36mconcat\u001b[0;34m(objs, axis, join, ignore_index, keys, levels, names, verify_integrity, sort, copy)\u001b[0m\n\u001b[1;32m    142\u001b[0m \u001b[38;5;129m@deprecate_nonkeyword_arguments\u001b[39m(version\u001b[38;5;241m=\u001b[39m\u001b[38;5;28;01mNone\u001b[39;00m, allowed_args\u001b[38;5;241m=\u001b[39m[\u001b[38;5;124m\"\u001b[39m\u001b[38;5;124mobjs\u001b[39m\u001b[38;5;124m\"\u001b[39m])\n\u001b[1;32m    143\u001b[0m \u001b[38;5;28;01mdef\u001b[39;00m \u001b[38;5;21mconcat\u001b[39m(\n\u001b[1;32m    144\u001b[0m     objs: Iterable[NDFrame] \u001b[38;5;241m|\u001b[39m Mapping[Hashable, NDFrame],\n\u001b[0;32m   (...)\u001b[0m\n\u001b[1;32m    153\u001b[0m     copy: \u001b[38;5;28mbool\u001b[39m \u001b[38;5;241m=\u001b[39m \u001b[38;5;28;01mTrue\u001b[39;00m,\n\u001b[1;32m    154\u001b[0m ) \u001b[38;5;241m-\u001b[39m\u001b[38;5;241m>\u001b[39m DataFrame \u001b[38;5;241m|\u001b[39m Series:\n\u001b[1;32m    155\u001b[0m     \u001b[38;5;124;03m\"\"\"\u001b[39;00m\n\u001b[1;32m    156\u001b[0m \u001b[38;5;124;03m    Concatenate pandas objects along a particular axis with optional set logic\u001b[39;00m\n\u001b[1;32m    157\u001b[0m \u001b[38;5;124;03m    along the other axes.\u001b[39;00m\n\u001b[0;32m   (...)\u001b[0m\n\u001b[1;32m    344\u001b[0m \u001b[38;5;124;03m    ValueError: Indexes have overlapping values: ['a']\u001b[39;00m\n\u001b[1;32m    345\u001b[0m \u001b[38;5;124;03m    \"\"\"\u001b[39;00m\n\u001b[0;32m--> 346\u001b[0m     op \u001b[38;5;241m=\u001b[39m \u001b[43m_Concatenator\u001b[49m\u001b[43m(\u001b[49m\n\u001b[1;32m    347\u001b[0m \u001b[43m        \u001b[49m\u001b[43mobjs\u001b[49m\u001b[43m,\u001b[49m\n\u001b[1;32m    348\u001b[0m \u001b[43m        \u001b[49m\u001b[43maxis\u001b[49m\u001b[38;5;241;43m=\u001b[39;49m\u001b[43maxis\u001b[49m\u001b[43m,\u001b[49m\n\u001b[1;32m    349\u001b[0m \u001b[43m        \u001b[49m\u001b[43mignore_index\u001b[49m\u001b[38;5;241;43m=\u001b[39;49m\u001b[43mignore_index\u001b[49m\u001b[43m,\u001b[49m\n\u001b[1;32m    350\u001b[0m \u001b[43m        \u001b[49m\u001b[43mjoin\u001b[49m\u001b[38;5;241;43m=\u001b[39;49m\u001b[43mjoin\u001b[49m\u001b[43m,\u001b[49m\n\u001b[1;32m    351\u001b[0m \u001b[43m        \u001b[49m\u001b[43mkeys\u001b[49m\u001b[38;5;241;43m=\u001b[39;49m\u001b[43mkeys\u001b[49m\u001b[43m,\u001b[49m\n\u001b[1;32m    352\u001b[0m \u001b[43m        \u001b[49m\u001b[43mlevels\u001b[49m\u001b[38;5;241;43m=\u001b[39;49m\u001b[43mlevels\u001b[49m\u001b[43m,\u001b[49m\n\u001b[1;32m    353\u001b[0m \u001b[43m        \u001b[49m\u001b[43mnames\u001b[49m\u001b[38;5;241;43m=\u001b[39;49m\u001b[43mnames\u001b[49m\u001b[43m,\u001b[49m\n\u001b[1;32m    354\u001b[0m \u001b[43m        \u001b[49m\u001b[43mverify_integrity\u001b[49m\u001b[38;5;241;43m=\u001b[39;49m\u001b[43mverify_integrity\u001b[49m\u001b[43m,\u001b[49m\n\u001b[1;32m    355\u001b[0m \u001b[43m        \u001b[49m\u001b[43mcopy\u001b[49m\u001b[38;5;241;43m=\u001b[39;49m\u001b[43mcopy\u001b[49m\u001b[43m,\u001b[49m\n\u001b[1;32m    356\u001b[0m \u001b[43m        \u001b[49m\u001b[43msort\u001b[49m\u001b[38;5;241;43m=\u001b[39;49m\u001b[43msort\u001b[49m\u001b[43m,\u001b[49m\n\u001b[1;32m    357\u001b[0m \u001b[43m    \u001b[49m\u001b[43m)\u001b[49m\n\u001b[1;32m    359\u001b[0m     \u001b[38;5;28;01mreturn\u001b[39;00m op\u001b[38;5;241m.\u001b[39mget_result()\n",
      "File \u001b[0;32m~/miniconda3/lib/python3.9/site-packages/pandas/core/reshape/concat.py:436\u001b[0m, in \u001b[0;36m_Concatenator.__init__\u001b[0;34m(self, objs, axis, join, keys, levels, names, ignore_index, verify_integrity, copy, sort)\u001b[0m\n\u001b[1;32m    431\u001b[0m     \u001b[38;5;28;01mif\u001b[39;00m \u001b[38;5;129;01mnot\u001b[39;00m \u001b[38;5;28misinstance\u001b[39m(obj, (ABCSeries, ABCDataFrame)):\n\u001b[1;32m    432\u001b[0m         msg \u001b[38;5;241m=\u001b[39m (\n\u001b[1;32m    433\u001b[0m             \u001b[38;5;124mf\u001b[39m\u001b[38;5;124m\"\u001b[39m\u001b[38;5;124mcannot concatenate object of type \u001b[39m\u001b[38;5;124m'\u001b[39m\u001b[38;5;132;01m{\u001b[39;00m\u001b[38;5;28mtype\u001b[39m(obj)\u001b[38;5;132;01m}\u001b[39;00m\u001b[38;5;124m'\u001b[39m\u001b[38;5;124m; \u001b[39m\u001b[38;5;124m\"\u001b[39m\n\u001b[1;32m    434\u001b[0m             \u001b[38;5;124m\"\u001b[39m\u001b[38;5;124monly Series and DataFrame objs are valid\u001b[39m\u001b[38;5;124m\"\u001b[39m\n\u001b[1;32m    435\u001b[0m         )\n\u001b[0;32m--> 436\u001b[0m         \u001b[38;5;28;01mraise\u001b[39;00m \u001b[38;5;167;01mTypeError\u001b[39;00m(msg)\n\u001b[1;32m    438\u001b[0m     ndims\u001b[38;5;241m.\u001b[39madd(obj\u001b[38;5;241m.\u001b[39mndim)\n\u001b[1;32m    440\u001b[0m \u001b[38;5;66;03m# get the sample\u001b[39;00m\n\u001b[1;32m    441\u001b[0m \u001b[38;5;66;03m# want the highest ndim that we have, and must be non-empty\u001b[39;00m\n\u001b[1;32m    442\u001b[0m \u001b[38;5;66;03m# unless all objs are empty\u001b[39;00m\n",
      "\u001b[0;31mTypeError\u001b[0m: cannot concatenate object of type '<class 'numpy.ndarray'>'; only Series and DataFrame objs are valid"
     ]
    }
   ],
   "source": [
    "data_train = pd.DataFrame()\n",
    "data_test = pd.DataFrame()\n",
    "\n",
    "for train_index, test_index in ss.split(dfinput):\n",
    "    #m = train_index.shape\n",
    "    #n = type(train_index)\n",
    "    data_train = pd.concat([data_train, train_index], axis=1)\n",
    "    data_test = pd.concat([data_test, test_index], axis=1)"
   ]
  },
  {
   "cell_type": "code",
   "execution_count": 749,
   "id": "2a49e4a8",
   "metadata": {},
   "outputs": [
    {
     "data": {
      "text/plain": [
       "(204,)"
      ]
     },
     "execution_count": 749,
     "metadata": {},
     "output_type": "execute_result"
    }
   ],
   "source": [
    "m"
   ]
  },
  {
   "cell_type": "code",
   "execution_count": 750,
   "id": "1c4d7fa4",
   "metadata": {},
   "outputs": [
    {
     "data": {
      "text/plain": [
       "numpy.ndarray"
      ]
     },
     "execution_count": 750,
     "metadata": {},
     "output_type": "execute_result"
    }
   ],
   "source": [
    "n"
   ]
  },
  {
   "cell_type": "code",
   "execution_count": 478,
   "id": "416613be",
   "metadata": {},
   "outputs": [],
   "source": [
    "import numpy as np\n",
    "from sklearn.model_selection import ShuffleSplit"
   ]
  },
  {
   "cell_type": "code",
   "execution_count": 491,
   "id": "16a6a87f",
   "metadata": {},
   "outputs": [
    {
     "data": {
      "text/plain": [
       "numpy.ndarray"
      ]
     },
     "execution_count": 491,
     "metadata": {},
     "output_type": "execute_result"
    }
   ],
   "source": [
    "X = np.array([[1, 2], [3, 4], [5, 6], [7, 8], [3, 4], [5, 6]])\n",
    "y = np.array([1, 2, 1, 2, 1, 2])\n",
    "X.shape\n",
    "type(X)"
   ]
  },
  {
   "cell_type": "code",
   "execution_count": 493,
   "id": "9d3f699c",
   "metadata": {},
   "outputs": [
    {
     "data": {
      "text/plain": [
       "array([[1, 2],\n",
       "       [3, 4],\n",
       "       [5, 6],\n",
       "       [7, 8],\n",
       "       [3, 4],\n",
       "       [5, 6]])"
      ]
     },
     "execution_count": 493,
     "metadata": {},
     "output_type": "execute_result"
    }
   ],
   "source": [
    "X"
   ]
  },
  {
   "cell_type": "code",
   "execution_count": 494,
   "id": "99e4e738",
   "metadata": {},
   "outputs": [
    {
     "data": {
      "text/plain": [
       "array([1, 2, 1, 2, 1, 2])"
      ]
     },
     "execution_count": 494,
     "metadata": {},
     "output_type": "execute_result"
    }
   ],
   "source": [
    "y"
   ]
  },
  {
   "cell_type": "code",
   "execution_count": 486,
   "id": "28ef61a1",
   "metadata": {},
   "outputs": [
    {
     "name": "stdout",
     "output_type": "stream",
     "text": [
      "TRAIN: [1 3 0] TEST: [5 2]\n",
      "TRAIN: [4 0 2] TEST: [1 3]\n",
      "TRAIN: [1 2 4] TEST: [3 5]\n",
      "TRAIN: [3 4 1] TEST: [5 2]\n",
      "TRAIN: [3 5 1] TEST: [2 4]\n"
     ]
    }
   ],
   "source": [
    "cv = ShuffleSplit(n_splits=5, train_size=0.5, test_size=.25, random_state=0)\n",
    "\n",
    "for train_index, test_index in cv.split(X):\n",
    "    print(\"TRAIN:\", train_index, \"TEST:\", test_index)"
   ]
  },
  {
   "cell_type": "code",
   "execution_count": 488,
   "id": "5dbabb45",
   "metadata": {},
   "outputs": [],
   "source": [
    "df_trainx = df_trainx.to_numpy()"
   ]
  },
  {
   "cell_type": "code",
   "execution_count": 489,
   "id": "cd8e52cf",
   "metadata": {},
   "outputs": [
    {
     "data": {
      "text/plain": [
       "(192, 2)"
      ]
     },
     "execution_count": 489,
     "metadata": {},
     "output_type": "execute_result"
    }
   ],
   "source": [
    "df_trainx.shape"
   ]
  },
  {
   "cell_type": "code",
   "execution_count": 490,
   "id": "82aab08d",
   "metadata": {},
   "outputs": [
    {
     "data": {
      "text/plain": [
       "numpy.ndarray"
      ]
     },
     "execution_count": 490,
     "metadata": {},
     "output_type": "execute_result"
    }
   ],
   "source": [
    "type(df_trainx)"
   ]
  },
  {
   "cell_type": "code",
   "execution_count": 492,
   "id": "0111c269",
   "metadata": {},
   "outputs": [
    {
     "name": "stdout",
     "output_type": "stream",
     "text": [
      "TRAIN: [112  61 177 123  19 146  83  54 156  16  51  86 143  40 176  22 131 130\n",
      " 137  80 108  14  27  92 109  46 188  98  62   2  59 106 107  43  10  93\n",
      "  73 185 171 124 189 134 154 184  50   0  94 153  95  64 135  41  69  49\n",
      "  48  85  13 144  23 179 129  20  15  78 104  52 100  76   3 116 190 125\n",
      "   6  68  75  84 141 121  12 168 164 149  91 173  11 119 102  35  57  65\n",
      "   1 120 155  42 105 132] TEST: [110  74 163  97 126  71  18 157 145   7   5 139 158 170 160 167  37  66\n",
      " 138 122  56 187 136 182 191 152  63  60 161  33   4  55  96  44  45  26\n",
      " 178 180 113   8 101  89  90 118 175 111  24  30]\n",
      "TRAIN: [ 15 170 109   5  90  77   7  74 140  62   4 100  20 146 105  14  42 106\n",
      " 130  82  64  55  86  13 176  72  19 181  56   8 169 163 117 186 159  16\n",
      "  63 142  58  81  28 110  89 162  21 158 189 161  49  83 182  92 134  71\n",
      "  70 119 127  22  75 157 164 150 144  66 168  12 101  69 173  84 191  17\n",
      "  18 145 113 167  30 114 135 124 103 166  25 143 116  91 120 177 112 190\n",
      " 136  80 126 147   0  36] TEST: [ 47  79 132  78  45 121  37 174  57  94 153 139  50  87  98  60  96  54\n",
      " 115  65  52 122 154 155 128 175  68 123  40 149  99  95   6   1  23  38\n",
      " 179 141  59  76 152  10  26 160 107 102 180  48]\n",
      "TRAIN: [116 167  15  12  22 181 103 147 176  34  23 123 135  13 143 184 107  62\n",
      " 132 185  75 156  66  35  17  77 186  45  50  57  59  44  70  32  78 122\n",
      " 180 140  38 118 139  46 149   8  21 170 177 173 182 106   5   0  95 191\n",
      "  71 110 102 108 146  85  67 136  84  72  94 168 125 130 171  73  51 109\n",
      " 163  96  26 154  28  33  60  40 121 160  69  99 175 187  39 165 141 129\n",
      "  58 131  74 113  18  76] TEST: [189  79 133 190  37  48  41 172 145  25  19  92 158 166 178 174  82  80\n",
      "  90 183  31 152  27  81  64  52  98  14 162   2  55   1 124 134 142 157\n",
      "  47   6 159  93  61  11  10  88 127  16  89 169]\n",
      "TRAIN: [ 63  43 164  38  53 174 162  19  60 150 170  27   6 175  98   0  54 154\n",
      "  44 116 104  75 151  24 147 128 155  93  96  50 181  33 130  39 177 183\n",
      "  10  68   2   9 182 108 121 169  26 185  42  80  20  65  84 158 112  29\n",
      " 120 172  71  49  51 146 111  37 117  48   3   7   4  18 176  76  64 110\n",
      " 105  52 107 114 145 168 124  87 184  34  32 191 137 118  12 190 163  46\n",
      " 135  97  58  69 187  94] TEST: [113 141  61 160 166 173 178  40  13  85 157  22  30  16  99  14 126 188\n",
      " 152  95 103 122   8  59  91 106 189  55 179  31 167  67  11 142  56 156\n",
      "   1   5 143  23 180  15  83  79  86  41 139  36]\n",
      "TRAIN: [ 58  50  38 108  10 115   2  21 142  18 174 185 129 136  82 152  76 167\n",
      "  33 121 134 104 106 123  43  17  94   6  26  63  97 163  72 191  65  87\n",
      "  39  16 122 125 124 187  51 188 166 105  41 181  60  86 159 162  20   4\n",
      " 177 176 139  40 102 137 171  29   1 100  69 128 186   8 107  19 101  13\n",
      "  53  68 190 164 189 109 151  35  81  54  34 178  30  78  11 114  47 165\n",
      "  98  22   7 110  91  23] TEST: [ 12 126  85 155  25  57 146 120 168 148  88 160  14  42 169  46  66  28\n",
      "  44  27  52 156  55 130  89  75 180  73 175  31 183 119   3  70 170 103\n",
      "  99 118 149 111  15  24 172  49  45 161  77 141]\n"
     ]
    }
   ],
   "source": [
    "cv = ShuffleSplit(n_splits=5, train_size=0.5, test_size=.25, random_state=0)\n",
    "\n",
    "for train_index, test_index in cv.split(df_trainx):\n",
    "    print(\"TRAIN:\", train_index, \"TEST:\", test_index)"
   ]
  },
  {
   "cell_type": "code",
   "execution_count": null,
   "id": "77d76a9c",
   "metadata": {},
   "outputs": [],
   "source": []
  }
 ],
 "metadata": {
  "kernelspec": {
   "display_name": "Python 3 (ipykernel)",
   "language": "python",
   "name": "python3"
  },
  "language_info": {
   "codemirror_mode": {
    "name": "ipython",
    "version": 3
   },
   "file_extension": ".py",
   "mimetype": "text/x-python",
   "name": "python",
   "nbconvert_exporter": "python",
   "pygments_lexer": "ipython3",
   "version": "3.9.7"
  }
 },
 "nbformat": 4,
 "nbformat_minor": 5
}
